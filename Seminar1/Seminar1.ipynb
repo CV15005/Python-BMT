{
  "nbformat": 4,
  "nbformat_minor": 0,
  "metadata": {
    "colab": {
      "provenance": []
    },
    "kernelspec": {
      "name": "python3",
      "display_name": "Python 3"
    },
    "language_info": {
      "name": "python"
    }
  },
  "cells": [
    {
      "cell_type": "markdown",
      "source": [
        "#Семинар №1"
      ],
      "metadata": {
        "id": "R8cgaqjEA6nU"
      }
    },
    {
      "cell_type": "code",
      "execution_count": null,
      "metadata": {
        "id": "aX4NEsXK8E7Z",
        "outputId": "63ef2ff9-16f6-4997-ced4-834c7f38e709",
        "colab": {
          "base_uri": "https://localhost:8080/"
        }
      },
      "outputs": [
        {
          "output_type": "stream",
          "name": "stdout",
          "text": [
            "3 0.2 Hello\n"
          ]
        }
      ],
      "source": [
        "a = 3 # создаем переменную a и присваиваем ей значение 3\n",
        "b = 0.2\n",
        "\n",
        "# комментарий 1\n",
        "# комментарий 2\n",
        "'''\n",
        "блок комментариев\n",
        "'''\n",
        "\n",
        "print(a, b, 'Hello') # выводим на экран значения переменных A и B"
      ]
    },
    {
      "cell_type": "code",
      "source": [
        "print('Hello')"
      ],
      "metadata": {
        "colab": {
          "base_uri": "https://localhost:8080/"
        },
        "id": "T9JJB24QSgFG",
        "outputId": "700e9e1f-d9fc-4559-fe52-20b6023bf1ee"
      },
      "execution_count": null,
      "outputs": [
        {
          "output_type": "stream",
          "name": "stdout",
          "text": [
            "Hello\n"
          ]
        }
      ]
    },
    {
      "cell_type": "code",
      "source": [
        "type(b)"
      ],
      "metadata": {
        "colab": {
          "base_uri": "https://localhost:8080/"
        },
        "id": "6bBDYs8QTIQC",
        "outputId": "0aaa012e-dfa2-4f75-fd6e-07eba4302a10"
      },
      "execution_count": null,
      "outputs": [
        {
          "output_type": "execute_result",
          "data": {
            "text/plain": [
              "float"
            ]
          },
          "metadata": {},
          "execution_count": 8
        }
      ]
    },
    {
      "cell_type": "markdown",
      "metadata": {
        "id": "JsydgLQW8E7n"
      },
      "source": [
        "### Что можно делать с помощью Markdown?\n",
        "\n",
        "Выделять заголовки разных уровней.\n",
        "\n",
        "На входе:\n",
        "\n",
        "    # Заголовок 1\n",
        "    ## Заголовок 2\n",
        "    ### Заголовок 3\n",
        "    \n",
        "На выходе:"
      ]
    },
    {
      "cell_type": "markdown",
      "metadata": {
        "id": "lbtobfgL8E7q"
      },
      "source": [
        "# Заголовок 1\n",
        "## Заголовок 2\n",
        "### Заголовок 3"
      ]
    },
    {
      "cell_type": "markdown",
      "metadata": {
        "id": "FKZLslLn8E7u"
      },
      "source": [
        "Выделять части текста с помощью *курсива* или **полужирного начертания**. Или даже <s>зачеркивать</s>. Вот так этот текст выглядит в размеченном виде:\n",
        "\n",
        "       Выделять части текста с помощью *курсива* или **полужирного начертания**. Или даже <s>зачеркивать</s>."
      ]
    },
    {
      "cell_type": "markdown",
      "metadata": {
        "id": "2maz1nlD8E7x"
      },
      "source": [
        "Добавлять списки разного вида.\n",
        "\n",
        "**Ненумерованный список.**\n",
        "\n",
        "На входе:\n",
        "\n",
        "    * пункт 1\n",
        "    * пункт 2\n",
        "    * пункт 3\n",
        "\n",
        "На выходе:\n",
        "\n",
        "* пункт 1\n",
        "* пункт 2\n",
        "* пункт 3"
      ]
    },
    {
      "cell_type": "markdown",
      "metadata": {
        "id": "wMyV9WZB8E71"
      },
      "source": [
        "**Нумерованный список:**\n",
        "\n",
        "На входе:\n",
        "\n",
        "    1. Во-первых,...\n",
        "    2. Во-вторых,...\n",
        "    3. В-третьих,...\n",
        "    \n",
        "На выходе:\n",
        "\n",
        "1. Во-первых,...\n",
        "2. Во-вторых,...\n",
        "3. В-третьих,...\n"
      ]
    },
    {
      "cell_type": "markdown",
      "metadata": {
        "id": "_Bf7tvGF8E73"
      },
      "source": [
        "оформлять формулы, используя синтаксис, принятый в LaTeX:\n",
        "\n",
        "$$(x+y)^2 = x^2 + 2xy + y^2$$\n",
        "\n",
        "$$\\Delta = I_{2018} - I_{2017}$$\n",
        "\n",
        "$$P(A|B) = \\frac{P(A \\cap B)}{P(B)}$$\n",
        "\n",
        "$$\\sin(\\alpha)^2 + cos(\\alpha)^2 = 1$$\n",
        "\n",
        "Формулы были получены таким образом:\n",
        "\n",
        "    $$(x+y)^2 = x^2 + 2xy + y^2$$\n",
        "\n",
        "    $$\\Delta = I_{2018} - I_{2017}$$\n",
        "\n",
        "    $$P(A|B) = \\frac{P(A \\cap B)}{P(B)}$$\n",
        "\n",
        "    $$\\sin(\\alpha)^2 + cos(\\alpha)^2 = 1$$"
      ]
    },
    {
      "cell_type": "markdown",
      "metadata": {
        "id": "fCAQ05MS8E76"
      },
      "source": [
        "Еще можно добавлять **ссылки**. Либо текст ссылки и саму ссылку: текст `[Jupyter](http://jupyter.org)` даст ссылку [Jupyter](http://jupyter.org). Либо саму ссылку как есть: текст `<http://jupyter.org/>` вернет ссылку <http://jupyter.org/>."
      ]
    },
    {
      "cell_type": "markdown",
      "metadata": {
        "id": "cgUwybC7Bgl8"
      },
      "source": [
        "## Python как калькулятор, переменные и типы переменных"
      ]
    },
    {
      "cell_type": "markdown",
      "metadata": {
        "id": "PmcJ4dsfBgmB"
      },
      "source": [
        "### Python как калькулятор"
      ]
    },
    {
      "cell_type": "markdown",
      "metadata": {
        "id": "ti82yi6ABgmE"
      },
      "source": [
        "Привычные арифметические действия (сложение, вычитание, умножение, деление) в Python выглядят так же, как и в обычных калькуляторах:"
      ]
    },
    {
      "cell_type": "code",
      "execution_count": null,
      "metadata": {
        "id": "tEfAixlcBgmH",
        "outputId": "24d1e130-be7f-4f9a-92c3-b31589f87e4e",
        "colab": {
          "base_uri": "https://localhost:8080/"
        }
      },
      "outputs": [
        {
          "output_type": "execute_result",
          "data": {
            "text/plain": [
              "5"
            ]
          },
          "metadata": {},
          "execution_count": 9
        }
      ],
      "source": [
        "1 + 4 # сложение"
      ]
    },
    {
      "cell_type": "code",
      "execution_count": null,
      "metadata": {
        "id": "bfTmh8rfBgmQ",
        "outputId": "07439a9b-354c-435f-c256-aa084ef51995",
        "colab": {
          "base_uri": "https://localhost:8080/"
        }
      },
      "outputs": [
        {
          "output_type": "execute_result",
          "data": {
            "text/plain": [
              "11"
            ]
          },
          "metadata": {},
          "execution_count": 10
        }
      ],
      "source": [
        "5 * 4 - 9 # умножение и вычитание"
      ]
    },
    {
      "cell_type": "code",
      "execution_count": null,
      "metadata": {
        "id": "03j0geHeBgmW",
        "outputId": "88d05b34-4feb-463b-e2a6-06f945c14951",
        "colab": {
          "base_uri": "https://localhost:8080/"
        }
      },
      "outputs": [
        {
          "output_type": "execute_result",
          "data": {
            "text/plain": [
              "3.5"
            ]
          },
          "metadata": {},
          "execution_count": 3
        }
      ],
      "source": [
        "7 / 2 # деление"
      ]
    },
    {
      "cell_type": "markdown",
      "metadata": {
        "id": "0b5mJtWDBgmc"
      },
      "source": [
        "Однако с делением всё не так просто: Python 3 всегда будет выдавать результат в виде числа с плавающей точкой (*float*), даже тогда, когда ожидается целочисленный ответ. Например:"
      ]
    },
    {
      "cell_type": "code",
      "execution_count": null,
      "metadata": {
        "id": "kQkw87clBgmf",
        "outputId": "2f39373b-8075-4004-8ac4-09f2b976b930",
        "colab": {
          "base_uri": "https://localhost:8080/"
        }
      },
      "outputs": [
        {
          "output_type": "execute_result",
          "data": {
            "text/plain": [
              "4.0"
            ]
          },
          "metadata": {},
          "execution_count": 4
        }
      ],
      "source": [
        "8 / 2 # не 4"
      ]
    },
    {
      "cell_type": "markdown",
      "metadata": {
        "id": "M8SI1D_WBgmj"
      },
      "source": [
        "Получился дробный результат, где дробная часть равна 0. Как быть, если нужен ответ в виде целого числа? Можно воспользоваться целочисленным делением."
      ]
    },
    {
      "cell_type": "code",
      "execution_count": null,
      "metadata": {
        "id": "KJGL2XfgBgmm",
        "outputId": "52e2d62e-2bb1-4b18-9eb1-dda868950045",
        "colab": {
          "base_uri": "https://localhost:8080/"
        }
      },
      "outputs": [
        {
          "output_type": "execute_result",
          "data": {
            "text/plain": [
              "4"
            ]
          },
          "metadata": {},
          "execution_count": 5
        }
      ],
      "source": [
        "8 // 2 # теперь 4"
      ]
    },
    {
      "cell_type": "markdown",
      "metadata": {
        "id": "wmigGuO0Bgmp"
      },
      "source": [
        "Тут важно помнить, что при использовании оператора `//` дробная часть всегда будет просто отбрасываться – никакого округления происходить не будет. Для округления (обычное арифметическое, в большую и в меньшую сторону) существуют специальные функции."
      ]
    },
    {
      "cell_type": "code",
      "execution_count": null,
      "metadata": {
        "id": "A2FgchawBgmq",
        "outputId": "2d91ec67-571b-4c2c-ca96-313ba94fe236",
        "colab": {
          "base_uri": "https://localhost:8080/"
        }
      },
      "outputs": [
        {
          "output_type": "execute_result",
          "data": {
            "text/plain": [
              "3"
            ]
          },
          "metadata": {},
          "execution_count": 6
        }
      ],
      "source": [
        "7 // 2 # от 3.5 осталось 3"
      ]
    },
    {
      "cell_type": "markdown",
      "metadata": {
        "id": "Hzn5b2rxBgmz"
      },
      "source": [
        "Для возведения числа в степень используется `**`:  "
      ]
    },
    {
      "cell_type": "code",
      "execution_count": null,
      "metadata": {
        "id": "94djnVtbBgm0",
        "outputId": "27a91bbc-4a80-410d-f9af-6b354d46ae8e",
        "colab": {
          "base_uri": "https://localhost:8080/"
        }
      },
      "outputs": [
        {
          "output_type": "execute_result",
          "data": {
            "text/plain": [
              "36"
            ]
          },
          "metadata": {},
          "execution_count": 7
        }
      ],
      "source": [
        "6 ** 2"
      ]
    },
    {
      "cell_type": "code",
      "execution_count": null,
      "metadata": {
        "id": "YATTudBCBgm3",
        "outputId": "d63c45d1-0cd6-4a50-ae37-58dbad1c2a68",
        "colab": {
          "base_uri": "https://localhost:8080/"
        }
      },
      "outputs": [
        {
          "output_type": "execute_result",
          "data": {
            "text/plain": [
              "216"
            ]
          },
          "metadata": {},
          "execution_count": 8
        }
      ],
      "source": [
        "6 ** 3"
      ]
    },
    {
      "cell_type": "code",
      "execution_count": null,
      "metadata": {
        "id": "VLhmJQIIBgm5",
        "outputId": "40b2c1ff-82fe-47c9-8c45-9240f163ae51",
        "colab": {
          "base_uri": "https://localhost:8080/"
        }
      },
      "outputs": [
        {
          "output_type": "execute_result",
          "data": {
            "text/plain": [
              "1.8171205928321397"
            ]
          },
          "metadata": {},
          "execution_count": 8
        }
      ],
      "source": [
        "6 ** (1/3) # дробная степень - корень 3 степени"
      ]
    },
    {
      "cell_type": "markdown",
      "metadata": {
        "id": "rJrGw0kxBgm7"
      },
      "source": [
        "Теперь попробуем извлечь квадратный корень из числа с помощью привычного `sqrt`."
      ]
    },
    {
      "cell_type": "code",
      "execution_count": null,
      "metadata": {
        "id": "x41izA9MBgm9",
        "outputId": "6ecec589-9193-4531-e559-d50cc21b4873",
        "colab": {
          "base_uri": "https://localhost:8080/",
          "height": 179
        }
      },
      "outputs": [
        {
          "output_type": "error",
          "ename": "NameError",
          "evalue": "ignored",
          "traceback": [
            "\u001b[0;31m---------------------------------------------------------------------------\u001b[0m",
            "\u001b[0;31mNameError\u001b[0m                                 Traceback (most recent call last)",
            "\u001b[0;32m<ipython-input-11-baf0a9e4b790>\u001b[0m in \u001b[0;36m<cell line: 1>\u001b[0;34m()\u001b[0m\n\u001b[0;32m----> 1\u001b[0;31m \u001b[0msqrt\u001b[0m\u001b[0;34m(\u001b[0m\u001b[0;36m9\u001b[0m\u001b[0;34m)\u001b[0m \u001b[0;31m# не получается!\u001b[0m\u001b[0;34m\u001b[0m\u001b[0;34m\u001b[0m\u001b[0m\n\u001b[0m",
            "\u001b[0;31mNameError\u001b[0m: name 'sqrt' is not defined"
          ]
        }
      ],
      "source": [
        "sqrt(9) # не получается!"
      ]
    },
    {
      "cell_type": "markdown",
      "metadata": {
        "id": "4z6h7T6bBgm-"
      },
      "source": [
        "Python пишет, что не знает, что такое `sqrt`. В каких случаях Python может такое писать? Например, если мы опечатались в названии функции (Python не понимает, что мы от него хотим) или если мы пытаемся обратиться к функции, которая не является базовой (Python не знает, откуда её брать). В данном случае мы столкнулись со второй проблемой.  Функция для вычисления квадратного корня из числа хранится в специальном модуле `math`. Этот модуль стандартный, дополнительно устанавливать его не нужно. Но для того чтобы воспользоваться этой функцией, нужно сначала импортировать модуль, а потом вызвать из него функцию `sqrt`."
      ]
    },
    {
      "cell_type": "code",
      "execution_count": null,
      "metadata": {
        "id": "2xwyfUIoBgnB"
      },
      "outputs": [],
      "source": [
        "import math # импортируем модуль math"
      ]
    },
    {
      "cell_type": "code",
      "execution_count": null,
      "metadata": {
        "id": "P9W_YJbpBgnC",
        "colab": {
          "base_uri": "https://localhost:8080/"
        },
        "outputId": "ab1e6234-814e-46aa-f3dc-e150c16fbaf0"
      },
      "outputs": [
        {
          "output_type": "execute_result",
          "data": {
            "text/plain": [
              "3.0"
            ]
          },
          "metadata": {},
          "execution_count": 13
        }
      ],
      "source": [
        "math.sqrt(9) # теперь все работает"
      ]
    },
    {
      "cell_type": "markdown",
      "metadata": {
        "id": "ieTogUZjBgnD"
      },
      "source": [
        "Если из `math` нам нужна только одна функция `sqrt` , можно извлечь только её, и тогда прописывать название модуля перед функцией не понадобится:"
      ]
    },
    {
      "cell_type": "code",
      "execution_count": null,
      "metadata": {
        "id": "sVLGjzi6BgnE",
        "colab": {
          "base_uri": "https://localhost:8080/"
        },
        "outputId": "aa29d30b-a2fe-4115-8d19-8cf7e28e424d"
      },
      "outputs": [
        {
          "output_type": "execute_result",
          "data": {
            "text/plain": [
              "4.0"
            ]
          },
          "metadata": {},
          "execution_count": 14
        }
      ],
      "source": [
        "from math import sqrt\n",
        "sqrt(16) # так тоже работает"
      ]
    },
    {
      "cell_type": "markdown",
      "metadata": {
        "id": "B1grNcPvBgnG"
      },
      "source": [
        "Иногда, если неизвестно, сколько функций потребуется, но каждый раз прописывать полностью название модуля не хочется, можно импортировать его сразу с сокращённым названием:"
      ]
    },
    {
      "cell_type": "code",
      "execution_count": null,
      "metadata": {
        "id": "ZYIbAMCQBgnI",
        "colab": {
          "base_uri": "https://localhost:8080/"
        },
        "outputId": "1c2c8701-e61e-463d-93c6-f27609a447a2"
      },
      "outputs": [
        {
          "output_type": "execute_result",
          "data": {
            "text/plain": [
              "3.0"
            ]
          },
          "metadata": {},
          "execution_count": 15
        }
      ],
      "source": [
        "import math as ma # сократили до ma\n",
        "ma.sqrt(9)"
      ]
    },
    {
      "cell_type": "markdown",
      "metadata": {
        "id": "siniBOsiBgnK"
      },
      "source": [
        "*Примечание:* Модуль – это набор функций, а библиотека – это набор модулей, то есть что-то более сложное по структуре и более насыщенное по функционалу."
      ]
    },
    {
      "cell_type": "markdown",
      "metadata": {
        "id": "cvnaZRDEBgnL"
      },
      "source": [
        "В `math` есть много полезных функций для вычислений. Чтобы посмотреть, какие функции там есть, после импортирования всего модуля через `import math` можно набрать `math.` и нажать на *Tab* (табуляция, кнопка над *Caps Lock*). Помимо квадратного корня этот модуль поможет вычислить логарифм (натуральный и не только), синус, косинус и так далее."
      ]
    },
    {
      "cell_type": "code",
      "execution_count": null,
      "metadata": {
        "id": "Zm8ITszSBgnN",
        "colab": {
          "base_uri": "https://localhost:8080/"
        },
        "outputId": "23010d6e-516a-4c90-e0fe-3557275985e9"
      },
      "outputs": [
        {
          "output_type": "execute_result",
          "data": {
            "text/plain": [
              "0.6931471805599453"
            ]
          },
          "metadata": {},
          "execution_count": 16
        }
      ],
      "source": [
        "math.log(2) # натуральный логарифм"
      ]
    },
    {
      "cell_type": "code",
      "execution_count": null,
      "metadata": {
        "id": "XuRn7VLyBgnP",
        "colab": {
          "base_uri": "https://localhost:8080/"
        },
        "outputId": "aac3c281-f6e0-4adf-80b1-e3c3d09242f7"
      },
      "outputs": [
        {
          "output_type": "execute_result",
          "data": {
            "text/plain": [
              "2.0"
            ]
          },
          "metadata": {},
          "execution_count": 17
        }
      ],
      "source": [
        "math.log10(100) # десятичный логарифм (логарифм по основанию 10)"
      ]
    },
    {
      "cell_type": "code",
      "execution_count": null,
      "metadata": {
        "id": "_IDIBQCUBgnR",
        "colab": {
          "base_uri": "https://localhost:8080/"
        },
        "outputId": "ff51d793-8872-4290-c6d6-6a7c2c91d36c"
      },
      "outputs": [
        {
          "output_type": "execute_result",
          "data": {
            "text/plain": [
              "0.0"
            ]
          },
          "metadata": {},
          "execution_count": 18
        }
      ],
      "source": [
        "math.sin(0) # синус"
      ]
    },
    {
      "cell_type": "markdown",
      "metadata": {
        "id": "lBLkd0fMBgnT"
      },
      "source": [
        "Здесь же хранятся функции для округления в большую или меньшую сторону:"
      ]
    },
    {
      "cell_type": "code",
      "execution_count": null,
      "metadata": {
        "id": "cmzeN1xaBgnU",
        "colab": {
          "base_uri": "https://localhost:8080/"
        },
        "outputId": "97f49379-33bd-4527-d2d8-88657d4d68ae"
      },
      "outputs": [
        {
          "output_type": "execute_result",
          "data": {
            "text/plain": [
              "9"
            ]
          },
          "metadata": {},
          "execution_count": 19
        }
      ],
      "source": [
        "math.ceil(8.7) # ceil - потолок"
      ]
    },
    {
      "cell_type": "code",
      "execution_count": null,
      "metadata": {
        "id": "u0pyl6vyBgnW",
        "colab": {
          "base_uri": "https://localhost:8080/"
        },
        "outputId": "82c36ed4-da9e-4e47-816e-e38c4baff6bb"
      },
      "outputs": [
        {
          "output_type": "execute_result",
          "data": {
            "text/plain": [
              "8"
            ]
          },
          "metadata": {},
          "execution_count": 18
        }
      ],
      "source": [
        "math.floor(8.7) # floor - пол"
      ]
    },
    {
      "cell_type": "code",
      "source": [
        "round(3.723, 2)"
      ],
      "metadata": {
        "colab": {
          "base_uri": "https://localhost:8080/"
        },
        "id": "luOyjWA5ChLP",
        "outputId": "e242ca79-5a24-42a8-a4f6-5dfdab681c27"
      },
      "execution_count": null,
      "outputs": [
        {
          "output_type": "execute_result",
          "data": {
            "text/plain": [
              "3.72"
            ]
          },
          "metadata": {},
          "execution_count": 22
        }
      ]
    },
    {
      "cell_type": "markdown",
      "metadata": {
        "id": "_YC9cSZBBgnY"
      },
      "source": [
        "А ещё из `math` можно импортировать константы $\\pi$ и $e$:"
      ]
    },
    {
      "cell_type": "code",
      "execution_count": null,
      "metadata": {
        "id": "J0NeSaoWBgnZ"
      },
      "outputs": [],
      "source": [
        "from math import pi, exp # можно сразу несколько - перечислить через запятую"
      ]
    },
    {
      "cell_type": "code",
      "execution_count": null,
      "metadata": {
        "id": "gjQiy8r-Bgna",
        "colab": {
          "base_uri": "https://localhost:8080/"
        },
        "outputId": "58e22df8-40d3-49d8-ffe8-fda3d5d5870b"
      },
      "outputs": [
        {
          "output_type": "execute_result",
          "data": {
            "text/plain": [
              "3.141592653589793"
            ]
          },
          "metadata": {},
          "execution_count": 20
        }
      ],
      "source": [
        "pi"
      ]
    },
    {
      "cell_type": "code",
      "execution_count": null,
      "metadata": {
        "id": "4TAZZL6LBgnc",
        "colab": {
          "base_uri": "https://localhost:8080/"
        },
        "outputId": "3d790148-a8f4-4237-a240-49310c1d13b4"
      },
      "outputs": [
        {
          "output_type": "execute_result",
          "data": {
            "text/plain": [
              "2.718281828459045"
            ]
          },
          "metadata": {},
          "execution_count": 21
        }
      ],
      "source": [
        "exp(1) # e = e^1 = exp(1)"
      ]
    },
    {
      "cell_type": "markdown",
      "metadata": {
        "id": "TK25jGKJBgnd"
      },
      "source": [
        "Просто константу `e` можно также получить, вызвав `e`:"
      ]
    },
    {
      "cell_type": "code",
      "execution_count": null,
      "metadata": {
        "id": "By5iAOBPBgne",
        "colab": {
          "base_uri": "https://localhost:8080/"
        },
        "outputId": "2d64fa74-fcc9-4d9b-9a8a-a21a9ad63a4f"
      },
      "outputs": [
        {
          "output_type": "execute_result",
          "data": {
            "text/plain": [
              "2.718281828459045"
            ]
          },
          "metadata": {},
          "execution_count": 22
        }
      ],
      "source": [
        "math.e"
      ]
    },
    {
      "cell_type": "markdown",
      "metadata": {
        "id": "ImHaVFaABgng"
      },
      "source": [
        "**Примечание:** если мы знаем, что будем использовать практически все функции из модуля `math`, их можно извлечь все сразу, и тогда прописывать название библиотеки нам не понадобится нигде."
      ]
    },
    {
      "cell_type": "code",
      "execution_count": null,
      "metadata": {
        "id": "zi2ucmiQBgnh"
      },
      "outputs": [],
      "source": [
        "from math import *"
      ]
    },
    {
      "cell_type": "markdown",
      "metadata": {
        "id": "yHLKDIEOBgni"
      },
      "source": [
        "Однако в общем случае так делать нежелательно, потому что это нерационально и увеличивает время исполнения кода (Python подгружает все функции, а мы пользуемся только двумя, например)."
      ]
    },
    {
      "cell_type": "markdown",
      "metadata": {
        "id": "9644e5_YBgnk"
      },
      "source": [
        "С чем ещё можно столкнуться, выполняя вычисления в Python? С такими вещами:"
      ]
    },
    {
      "cell_type": "code",
      "execution_count": null,
      "metadata": {
        "id": "FHOKUK2DBgnl",
        "colab": {
          "base_uri": "https://localhost:8080/"
        },
        "outputId": "fb7fa641-17fc-45aa-9779-6955751e901a"
      },
      "outputs": [
        {
          "output_type": "execute_result",
          "data": {
            "text/plain": [
              "4.1513310942010236e-32"
            ]
          },
          "metadata": {},
          "execution_count": 24
        }
      ],
      "source": [
        "1 / 18 ** 25"
      ]
    },
    {
      "cell_type": "markdown",
      "metadata": {
        "id": "_WzI_7PNBgnm"
      },
      "source": [
        "Результат выше – компьютерная форма экспоненциальной записи числа. Возможно, тот, кто считал что-то на научных или инженерных калькуляторах, уже сталкивался с такой записью. Здесь `e-32` – это $10^{-32}$, а вся запись означает $4.1513310942010236 \\cdot 10^{-32}$, то есть примерно $4.15 \\cdot 10^{-32}$. Теоретически, если число было очень большим, `e` стояло бы в положительной степени. Но в Python такое не случается, обычно он выводит огромные числа, просто переходя на новую строку, если места на одной не хватает:"
      ]
    },
    {
      "cell_type": "code",
      "execution_count": null,
      "metadata": {
        "id": "paVerioMBgnn",
        "colab": {
          "base_uri": "https://localhost:8080/"
        },
        "outputId": "845c0cf2-372a-4984-e7ad-9c191de66f1c"
      },
      "outputs": [
        {
          "output_type": "execute_result",
          "data": {
            "text/plain": [
              "12899047957225248523006646539464335721979411301041340884781899303831010765027442196396594170642790934375007246578677182803636590164161819235523359334210795997877313526230138186880373768216363562984711930606834390635683889567066017501638286295454450223592921380025243612655929972891854670089005958782301313748919257409270999076443855743717129316401343809648755190213387432370099603517989905917859013302341878321325941570315088698234189444110362237214217846884135935952399097352427521852877620725021626938113437232848226058128334528859922677792198697568021708059256675191088006467069748109014817451375952598349790911535607651796493584493889427435570940502359773301622881259890983839926411232560174739455589741388073805529446667461505169110660161765843273557623843219490805708791092602475974648916336329253754550331716502327365416889998212147857020330942368277430427804385066546271943413689950822020931400593245046303758610973943882235592749794293155060009636680119916358947879472882782808870076229635495297702820410851089251120079429452529354919596272075046635023793735251154878700529432000342403111069160632592433095161936605646694694109530441088995393229754160740330575038216906404744009495445586324655891258721903641299986081018110880120922925030222636715904777957341225983442938451506259053249716900875692689602609775497863867095485915444153828849"
            ]
          },
          "metadata": {},
          "execution_count": 25
        }
      ],
      "source": [
        "23 ** 990"
      ]
    },
    {
      "cell_type": "markdown",
      "metadata": {
        "id": "bXtMsM2XBgnp"
      },
      "source": [
        "Компьютерная форма записи числа отчасти помогает понять, почему дробные числа называются числами с плавающей точкой (*float*). Возьмем число попроще, например, $12.34$. Его можно записать как $12.34$, как $1.234 \\cdot 10$, как $123.4 \\cdot 10^{-1}$, $1234 \\cdot 10^{-2}$ и так далее. Точка, отделяющая дробную часть от целой, будет «плавать», однако само число при этом меняться не будет, будут меняться только множители – разные степени десятки."
      ]
    },
    {
      "cell_type": "markdown",
      "metadata": {
        "id": "vsh2zrZRBgnq"
      },
      "source": [
        "С числами с плавающей точкой связана ещё одна сложность — округление. На первый взгляд, всё хорошо:"
      ]
    },
    {
      "cell_type": "code",
      "execution_count": null,
      "metadata": {
        "id": "r7YLvvN4Bgnr",
        "colab": {
          "base_uri": "https://localhost:8080/"
        },
        "outputId": "cbce9c51-5a20-4c14-8499-ecf6902690c8"
      },
      "outputs": [
        {
          "output_type": "execute_result",
          "data": {
            "text/plain": [
              "13"
            ]
          },
          "metadata": {},
          "execution_count": 26
        }
      ],
      "source": [
        "round(12.6) # округлим до целого - по умолчанию"
      ]
    },
    {
      "cell_type": "code",
      "execution_count": null,
      "metadata": {
        "id": "q_X-OTgpBgns",
        "colab": {
          "base_uri": "https://localhost:8080/"
        },
        "outputId": "755c2fa7-0c1c-4005-9a46-39a5868b34af"
      },
      "outputs": [
        {
          "output_type": "execute_result",
          "data": {
            "text/plain": [
              "12.5"
            ]
          },
          "metadata": {},
          "execution_count": 28
        }
      ],
      "source": [
        "round(12.53, 1) # округлим до первого знака после запятой"
      ]
    },
    {
      "cell_type": "markdown",
      "metadata": {
        "id": "AnmXChKWBgnu"
      },
      "source": [
        "С другой стороны, могут возникнуть странности:"
      ]
    },
    {
      "cell_type": "code",
      "execution_count": null,
      "metadata": {
        "id": "-ottJRm1Bgnv",
        "colab": {
          "base_uri": "https://localhost:8080/"
        },
        "outputId": "ecfc4f18-db91-460a-ecc2-b5f2aa4b6df4"
      },
      "outputs": [
        {
          "output_type": "execute_result",
          "data": {
            "text/plain": [
              "2"
            ]
          },
          "metadata": {},
          "execution_count": 32
        }
      ],
      "source": [
        "round(2.50) # не 3"
      ]
    },
    {
      "cell_type": "code",
      "execution_count": null,
      "metadata": {
        "id": "tHyHc0y9Bgnx",
        "colab": {
          "base_uri": "https://localhost:8080/"
        },
        "outputId": "01a4bc11-7819-4083-90e6-36a8e67dc640"
      },
      "outputs": [
        {
          "output_type": "execute_result",
          "data": {
            "text/plain": [
              "3.52"
            ]
          },
          "metadata": {},
          "execution_count": 30
        }
      ],
      "source": [
        "round(3.525, 2) # не 3.53"
      ]
    },
    {
      "cell_type": "markdown",
      "metadata": {
        "id": "2bGsTJwoBgny"
      },
      "source": [
        "Эти странности связаны с тем, что число, которое мы видим (например, 3.525), не совпадает с тем, которое хранится в компьютере, потому что оно при сохранении преобразовывается и превращается из точного 3.525 в такое:"
      ]
    },
    {
      "cell_type": "code",
      "execution_count": null,
      "metadata": {
        "id": "JnwCXoNdBgn0"
      },
      "outputs": [],
      "source": [
        "from decimal import Decimal\n",
        "Decimal(3.525)"
      ]
    },
    {
      "cell_type": "markdown",
      "metadata": {
        "id": "VTpdQLQrBgn2"
      },
      "source": [
        "И такое число будет законно округляться до 3.52 по правилам арифметического округления. В прикладном анализе данных такие сложности редко вызывают проблемы, но знать про нее полезно, чтобы не пугаться и не удивляться неожиданным результатам. Кроме того, полезно помнить, что числа с плавающей точкой (типа *float*) не рекомендуется использовать в финансовых вычислениях и вообще в вычислениях, требующих высокой точности, поскольку они «накапливают ошибку», то есть дают неточные результаты."
      ]
    },
    {
      "cell_type": "markdown",
      "metadata": {
        "id": "eGw1ws9DBgn5"
      },
      "source": [
        "### Переменные"
      ]
    },
    {
      "cell_type": "markdown",
      "metadata": {
        "id": "zTzqNKQ6Bgn6"
      },
      "source": [
        "Переменные в программировании похожи на переменные в математике. Кроме того, их можно рассматривать как хранилища значений – контейнеры или «коробки», в которые мы что-то кладем. Python, в отличие от некоторых языков программирования (C, C++, Java), сам распознает что мы «кладем в коробку»: число, целое число, текст, список чисел... Поэтому при создании переменной нам не нужно указывать ее тип."
      ]
    },
    {
      "cell_type": "code",
      "execution_count": null,
      "metadata": {
        "id": "Ne6zHGuUBgn7"
      },
      "outputs": [],
      "source": [
        "x = 2 # Python поймет, что это целые числа\n",
        "y = 3"
      ]
    },
    {
      "cell_type": "code",
      "execution_count": null,
      "metadata": {
        "id": "p568jdr4Bgn8",
        "colab": {
          "base_uri": "https://localhost:8080/"
        },
        "outputId": "941148a9-1c4b-43cf-9486-811c32f51ffc"
      },
      "outputs": [
        {
          "output_type": "stream",
          "name": "stdout",
          "text": [
            "2\n",
            "3\n"
          ]
        }
      ],
      "source": [
        "print(x)\n",
        "print(y)"
      ]
    },
    {
      "cell_type": "code",
      "source": [
        "print(x,'\\n',y)"
      ],
      "metadata": {
        "id": "oR6JjZoPWqLJ",
        "colab": {
          "base_uri": "https://localhost:8080/"
        },
        "outputId": "22988c12-3a57-44d2-c831-322009f49513"
      },
      "execution_count": null,
      "outputs": [
        {
          "output_type": "stream",
          "name": "stdout",
          "text": [
            "2 \n",
            " 3\n"
          ]
        }
      ]
    },
    {
      "cell_type": "code",
      "source": [
        "print(x, y, end='a')"
      ],
      "metadata": {
        "colab": {
          "base_uri": "https://localhost:8080/"
        },
        "id": "GZZzktUtDQkj",
        "outputId": "0a6948bb-209e-4203-cd49-653028f05b9c"
      },
      "execution_count": null,
      "outputs": [
        {
          "output_type": "stream",
          "name": "stdout",
          "text": [
            "2 3a"
          ]
        }
      ]
    },
    {
      "cell_type": "code",
      "source": [
        "x+2"
      ],
      "metadata": {
        "id": "QMdD0WXDXWQY",
        "colab": {
          "base_uri": "https://localhost:8080/"
        },
        "outputId": "e5163436-5e51-4713-f91c-63fb5f7694ca"
      },
      "execution_count": null,
      "outputs": [
        {
          "output_type": "execute_result",
          "data": {
            "text/plain": [
              "4"
            ]
          },
          "metadata": {},
          "execution_count": 31
        }
      ]
    },
    {
      "cell_type": "code",
      "source": [
        "x"
      ],
      "metadata": {
        "id": "SMvSaNj8XYqg",
        "colab": {
          "base_uri": "https://localhost:8080/"
        },
        "outputId": "4d1d24bf-272a-4e00-80da-2ba457025c4a"
      },
      "execution_count": null,
      "outputs": [
        {
          "output_type": "execute_result",
          "data": {
            "text/plain": [
              "2"
            ]
          },
          "metadata": {},
          "execution_count": 32
        }
      ]
    },
    {
      "cell_type": "markdown",
      "metadata": {
        "id": "fW8jbtBIBgn-"
      },
      "source": [
        "Значения переменных мы можем обновлять – изменить значение и сохранить в переменную с тем же названием."
      ]
    },
    {
      "cell_type": "code",
      "execution_count": null,
      "metadata": {
        "id": "RkXaxckLBgn_",
        "colab": {
          "base_uri": "https://localhost:8080/"
        },
        "outputId": "ce0298b6-3fb0-40d2-ad0d-ac0c3f8ed134"
      },
      "outputs": [
        {
          "output_type": "execute_result",
          "data": {
            "text/plain": [
              "3"
            ]
          },
          "metadata": {},
          "execution_count": 33
        }
      ],
      "source": [
        "x = x + 1 # возьмем значение x, увеличим на 1 и сохраним изменения в переменной x\n",
        "x"
      ]
    },
    {
      "cell_type": "code",
      "source": [
        "x"
      ],
      "metadata": {
        "id": "KpCsIjuTXlfi",
        "colab": {
          "base_uri": "https://localhost:8080/"
        },
        "outputId": "d8acc0eb-150c-47e9-a26c-c29faccf13f0"
      },
      "execution_count": null,
      "outputs": [
        {
          "output_type": "execute_result",
          "data": {
            "text/plain": [
              "3"
            ]
          },
          "metadata": {},
          "execution_count": 34
        }
      ]
    },
    {
      "cell_type": "code",
      "execution_count": null,
      "metadata": {
        "id": "7MCewJiVBgoA"
      },
      "outputs": [],
      "source": [
        "y = y * 2 # возьмем значение y, увеличим в 2 раза и сохраним изменения"
      ]
    },
    {
      "cell_type": "code",
      "execution_count": null,
      "metadata": {
        "id": "q0GXlZQbBgoB",
        "colab": {
          "base_uri": "https://localhost:8080/"
        },
        "outputId": "55d8715d-1abf-459e-9013-8b75564a9085"
      },
      "outputs": [
        {
          "output_type": "stream",
          "name": "stdout",
          "text": [
            "3 6\n"
          ]
        }
      ],
      "source": [
        "print(x, y) # одновременно два значения"
      ]
    },
    {
      "cell_type": "markdown",
      "metadata": {
        "id": "EQOWjL7iBgoC"
      },
      "source": [
        "Названия переменных в Python могут быть почти любыми. Три общих правила: название переменной не должно начинаться с цифры, в названии не должно быть пробелов, название не должно совпадать со служебными (зарезервированными) словами в Python. Список зарезервированных слов можно узнать так:"
      ]
    },
    {
      "cell_type": "code",
      "execution_count": null,
      "metadata": {
        "id": "-9gHj_SvBgoD",
        "colab": {
          "base_uri": "https://localhost:8080/"
        },
        "outputId": "20e13f37-01f4-4132-a50e-f200b13aa40c"
      },
      "outputs": [
        {
          "output_type": "stream",
          "name": "stdout",
          "text": [
            "['False', 'None', 'True', 'and', 'as', 'assert', 'async', 'await', 'break', 'class', 'continue', 'def', 'del', 'elif', 'else', 'except', 'finally', 'for', 'from', 'global', 'if', 'import', 'in', 'is', 'lambda', 'nonlocal', 'not', 'or', 'pass', 'raise', 'return', 'try', 'while', 'with', 'yield']\n"
          ]
        }
      ],
      "source": [
        "import keyword\n",
        "print(keyword.kwlist)"
      ]
    },
    {
      "cell_type": "markdown",
      "metadata": {
        "id": "rB-YW9n-BgoE"
      },
      "source": [
        "Обычно рекомендуется давать переменным осмысленные названия: если речь идёт о доходе, называть переменную не `x`, а `income`, если речь идёт о данных по преступности, сохранять таблицу в переменную `crimes`, и так далее."
      ]
    },
    {
      "cell_type": "markdown",
      "metadata": {
        "id": "uT3rSM8FBgoF"
      },
      "source": [
        "Рассмотрим такую задачу. Пришла весна и решили мы заняться бегом по такой схеме: каждый день мы пробегаем столько, сколько в сумме за два предыдущих дня. При этом первые два дня мы морально готовимся: топчемся на месте и символически проходим по одному метру (полшага назад и полшага вперед). Если мы будем записывать все пройденные нами расстояния в ряд, мы получим последовательность из [чисел Фибоначчи](https://ru.wikipedia.org/wiki/%D0%A7%D0%B8%D1%81%D0%BB%D0%B0_%D0%A4%D0%B8%D0%B1%D0%BE%D0%BD%D0%B0%D1%87%D1%87%D0%B8). Давайте напишем код, который будет считать, сколько метров мы будем пробегать в следующий день."
      ]
    },
    {
      "cell_type": "markdown",
      "metadata": {
        "id": "Na25DnJQBgoG"
      },
      "source": [
        "Сначала создадим переменные, в которые сохраним данные по первым двум дням."
      ]
    },
    {
      "cell_type": "code",
      "execution_count": null,
      "metadata": {
        "id": "MUFZ3KmQBgoH"
      },
      "outputs": [],
      "source": [
        "b = 1 # день 1 - морально готовимся бегать, «бежим» 1 метр\n",
        "i = 1 # номер дня, когда начинаем бегать\n",
        "bnext = 1 # день 2 - снова морально готовимся бегать, «бежим» 1 метр\n",
        "i = i + 1 # перешли ко второму дню, увеличили i на 1"
      ]
    },
    {
      "cell_type": "code",
      "execution_count": null,
      "metadata": {
        "id": "Eziwn_mHBgoJ",
        "colab": {
          "base_uri": "https://localhost:8080/"
        },
        "outputId": "04259b48-9e7b-4def-e244-7b7c7018e3b2"
      },
      "outputs": [
        {
          "output_type": "stream",
          "name": "stdout",
          "text": [
            "7 13\n"
          ]
        }
      ],
      "source": [
        "res = b + bnext # в следующий день пробегаем столько же, сколько за два предыдущих\n",
        "i = i + 1 # перешли к следующему дню, увеличили i на 1\n",
        "b = bnext   # значение b нам уже не нужно, сдвигаемся к следующему дню - записываем bnext\n",
        "bnext = res   # запомнили полученное значение res\n",
        "print(i, bnext) # выводим на экран номер дня и расстояние, которое нужно пробежать"
      ]
    },
    {
      "cell_type": "markdown",
      "metadata": {
        "id": "mT0So-8nBgoK"
      },
      "source": [
        "Теперь можно прогонять предыдущую ячейку много раз (через *Ctrl + Enter*) и получать результат по каждому дню. Например, на 20 день мы будем пробегать уже нормальное расстояние — 6765 метров, почти 7 километров.  Конечно, прогонять одну и ту ячейку много раз неудобно и странно, но о том, как считать числа Фибоначчи более рационально, мы поговорим, когда будем разбирать циклы.\n",
        "\n",
        "**Важно:** если бы не разбили наш код на части (на две ячейки), ничего бы при повторном запуске ячейки не произошло — переменным `b`, `bnext` и `i` заново присваивались бы значения 1, и движения вперед бы не происходило.\n",
        "\n",
        "**Примечание:** можно было последней строкой написать `print(i, res)`, ничего бы не изменилось."
      ]
    },
    {
      "cell_type": "markdown",
      "metadata": {
        "id": "kEmZVXJkBgoL"
      },
      "source": [
        "### Типы переменных и преобразование типов"
      ]
    },
    {
      "cell_type": "markdown",
      "metadata": {
        "id": "KOYzaH8GBgoL"
      },
      "source": [
        "Типы переменных:\n",
        "\n",
        "* числовой c плавающей точкой  (*float*);\n",
        "* целочисленный (*integer*);\n",
        "* строковый или текстовый (*string*);\n",
        "* логический (*boolean*): только два значения `True` и `False`."
      ]
    },
    {
      "cell_type": "markdown",
      "metadata": {
        "id": "lyi4pxnnBgoM"
      },
      "source": [
        "Посмотрим, как определить тип переменной:"
      ]
    },
    {
      "cell_type": "code",
      "execution_count": null,
      "metadata": {
        "id": "5RTqFDCrBgoN",
        "colab": {
          "base_uri": "https://localhost:8080/"
        },
        "outputId": "d16cd94f-d67c-457f-916f-5f0e1f9ff26d"
      },
      "outputs": [
        {
          "output_type": "execute_result",
          "data": {
            "text/plain": [
              "float"
            ]
          },
          "metadata": {},
          "execution_count": 46
        }
      ],
      "source": [
        "x = 2.34\n",
        "type(x)  # функция type"
      ]
    },
    {
      "cell_type": "code",
      "execution_count": null,
      "metadata": {
        "id": "2RRMxREWBgoO",
        "colab": {
          "base_uri": "https://localhost:8080/"
        },
        "outputId": "25c3b344-4660-4bda-8eff-e6e06058ada8"
      },
      "outputs": [
        {
          "output_type": "execute_result",
          "data": {
            "text/plain": [
              "int"
            ]
          },
          "metadata": {},
          "execution_count": 47
        }
      ],
      "source": [
        "y = 2\n",
        "type(y)"
      ]
    },
    {
      "cell_type": "code",
      "execution_count": null,
      "metadata": {
        "id": "YI5wehd7BgoP",
        "colab": {
          "base_uri": "https://localhost:8080/"
        },
        "outputId": "a14498cb-57b9-4395-fb54-5a8571682688"
      },
      "outputs": [
        {
          "output_type": "execute_result",
          "data": {
            "text/plain": [
              "str"
            ]
          },
          "metadata": {},
          "execution_count": 48
        }
      ],
      "source": [
        "r = 'hello'\n",
        "type(r)"
      ]
    },
    {
      "cell_type": "code",
      "execution_count": null,
      "metadata": {
        "id": "XEoDbIb9BgoQ",
        "colab": {
          "base_uri": "https://localhost:8080/"
        },
        "outputId": "b86ffe6c-c254-4de2-cad9-d8420982ad84"
      },
      "outputs": [
        {
          "output_type": "execute_result",
          "data": {
            "text/plain": [
              "bool"
            ]
          },
          "metadata": {},
          "execution_count": 49
        }
      ],
      "source": [
        "l = True\n",
        "type(l)"
      ]
    },
    {
      "cell_type": "markdown",
      "metadata": {
        "id": "ai4j3KEpBgoR"
      },
      "source": [
        "Иногда требуется преобразовать тип переменной, например, из числа с плавающей точкой сделать целое число."
      ]
    },
    {
      "cell_type": "code",
      "execution_count": null,
      "metadata": {
        "id": "lQbc5Fg8BgoR",
        "colab": {
          "base_uri": "https://localhost:8080/"
        },
        "outputId": "e57046f7-b785-4dd6-944c-b32f03d1316f"
      },
      "outputs": [
        {
          "output_type": "execute_result",
          "data": {
            "text/plain": [
              "25"
            ]
          },
          "metadata": {},
          "execution_count": 42
        }
      ],
      "source": [
        "int(25.0) # int - от integer"
      ]
    },
    {
      "cell_type": "markdown",
      "metadata": {
        "id": "Ak4PLfaYBgoS"
      },
      "source": [
        "Вообще функции для изменения типа переменных называются так же, как и сами типы или их сокращённые названия."
      ]
    },
    {
      "cell_type": "code",
      "execution_count": null,
      "metadata": {
        "id": "gi5XM1cVBgoT",
        "colab": {
          "base_uri": "https://localhost:8080/"
        },
        "outputId": "103404e7-da08-4a95-9eaa-77a35e06943b"
      },
      "outputs": [
        {
          "output_type": "execute_result",
          "data": {
            "text/plain": [
              "23.0"
            ]
          },
          "metadata": {},
          "execution_count": 51
        }
      ],
      "source": [
        "float(23)"
      ]
    },
    {
      "cell_type": "code",
      "execution_count": null,
      "metadata": {
        "id": "yRtOcOjaBgoU",
        "colab": {
          "base_uri": "https://localhost:8080/",
          "height": 36
        },
        "outputId": "6d3b2aec-2b7f-405a-a97a-0239d0cb8351"
      },
      "outputs": [
        {
          "output_type": "execute_result",
          "data": {
            "text/plain": [
              "'2'"
            ],
            "application/vnd.google.colaboratory.intrinsic+json": {
              "type": "string"
            }
          },
          "metadata": {},
          "execution_count": 52
        }
      ],
      "source": [
        "str(2) # str - от string"
      ]
    },
    {
      "cell_type": "code",
      "execution_count": null,
      "metadata": {
        "id": "3gID3HU-BgoV",
        "colab": {
          "base_uri": "https://localhost:8080/"
        },
        "outputId": "266e79dd-5f01-4fa5-d10a-993cd6e381ad"
      },
      "outputs": [
        {
          "output_type": "execute_result",
          "data": {
            "text/plain": [
              "23"
            ]
          },
          "metadata": {},
          "execution_count": 46
        }
      ],
      "source": [
        "int(\"23\")  # int - от integer"
      ]
    },
    {
      "cell_type": "markdown",
      "metadata": {
        "id": "3r_iN-VhBgoW"
      },
      "source": [
        "Однако, если преобразование невозможно, Python выдаст ошибку (а точнее, исключение `ValueError`, про исключения поговорим позже):"
      ]
    },
    {
      "cell_type": "code",
      "execution_count": null,
      "metadata": {
        "id": "GkZrLkJFBgoW",
        "colab": {
          "base_uri": "https://localhost:8080/",
          "height": 179
        },
        "outputId": "2d8e1a9b-ed29-43da-daef-e6dc25906a6d"
      },
      "outputs": [
        {
          "output_type": "error",
          "ename": "ValueError",
          "evalue": "ignored",
          "traceback": [
            "\u001b[0;31m---------------------------------------------------------------------------\u001b[0m",
            "\u001b[0;31mValueError\u001b[0m                                Traceback (most recent call last)",
            "\u001b[0;32m<ipython-input-45-b3dd92f20a26>\u001b[0m in \u001b[0;36m<cell line: 1>\u001b[0;34m()\u001b[0m\n\u001b[0;32m----> 1\u001b[0;31m \u001b[0mfloat\u001b[0m\u001b[0;34m(\u001b[0m\u001b[0;34m'23,56'\u001b[0m\u001b[0;34m)\u001b[0m\u001b[0;34m\u001b[0m\u001b[0;34m\u001b[0m\u001b[0m\n\u001b[0m",
            "\u001b[0;31mValueError\u001b[0m: could not convert string to float: '23,56'"
          ]
        }
      ],
      "source": [
        "float('23,56')"
      ]
    },
    {
      "cell_type": "markdown",
      "metadata": {
        "id": "fM_nfJSaBgoY"
      },
      "source": [
        "Так как запятая в Python не воспринимается как десятичный разделитель (в качестве разделителя используется точка), превратить строку '23,56' в число не получится, нужно будет сначала заменить запятую на точку."
      ]
    },
    {
      "cell_type": "markdown",
      "metadata": {
        "id": "82PAuxfoDVLM"
      },
      "source": [
        "### Ввод информации с клавиатуры"
      ]
    },
    {
      "cell_type": "markdown",
      "metadata": {
        "id": "vauOupe0DVLQ"
      },
      "source": [
        "Иногда возникает необходимость запросить какую-нибудь информацию у пользователя — попросить ввести её с клавиатуры. Это может быть нужно, например, когда мы пытаемся имитировать заполнение какой-нибудь формы (собрать информацию и обработать) или написать функцию, которая будет работать по-разному в зависимости от режима (\"Если хотите выгрузить данные из файла, нажмите 1, если хотите вводить данные вручную, введите 2\").\n",
        "\n",
        "Запросить данные с клавиатуры можно с помощью функции `input()`:"
      ]
    },
    {
      "cell_type": "code",
      "execution_count": null,
      "metadata": {
        "id": "SB2lyu_LDVLU",
        "colab": {
          "base_uri": "https://localhost:8080/",
          "height": 54
        },
        "outputId": "9993091e-1b0b-4609-d599-767778325fc6"
      },
      "outputs": [
        {
          "name": "stdout",
          "output_type": "stream",
          "text": [
            "Введите что-нибудь: 12345\n"
          ]
        },
        {
          "output_type": "execute_result",
          "data": {
            "text/plain": [
              "'12345'"
            ],
            "application/vnd.google.colaboratory.intrinsic+json": {
              "type": "string"
            }
          },
          "metadata": {},
          "execution_count": 47
        }
      ],
      "source": [
        "input(\"Введите что-нибудь: \")"
      ]
    },
    {
      "cell_type": "markdown",
      "metadata": {
        "id": "1f4o5BoQDVLg"
      },
      "source": [
        "Однако обычно нам нужно не просто вывести на экран то, что ввел пользователь (он и сам это видит), но и сохранить введенную информацию. Сделаем это и заодно перейдем к числам."
      ]
    },
    {
      "cell_type": "code",
      "execution_count": null,
      "metadata": {
        "id": "puvd6tNFDVLk",
        "colab": {
          "base_uri": "https://localhost:8080/"
        },
        "outputId": "24902837-30a9-4ccb-ed8a-3aca1a9d35dd"
      },
      "outputs": [
        {
          "name": "stdout",
          "output_type": "stream",
          "text": [
            "Введите какое-нибудь число: 6\n"
          ]
        }
      ],
      "source": [
        "num = input(\"Введите какое-нибудь число: \")"
      ]
    },
    {
      "cell_type": "markdown",
      "metadata": {
        "id": "XeEXBXHsDVLp"
      },
      "source": [
        "Теперь мы можем работать с переменной `num`, в которую мы сохранили результат ввода с клавиатуры."
      ]
    },
    {
      "cell_type": "code",
      "execution_count": null,
      "metadata": {
        "id": "ql3idsXRDVLs",
        "colab": {
          "base_uri": "https://localhost:8080/",
          "height": 36
        },
        "outputId": "9f2840d8-6daf-4fb7-add4-dae62694837b"
      },
      "outputs": [
        {
          "output_type": "execute_result",
          "data": {
            "text/plain": [
              "'6'"
            ],
            "application/vnd.google.colaboratory.intrinsic+json": {
              "type": "string"
            }
          },
          "metadata": {},
          "execution_count": 49
        }
      ],
      "source": [
        "num"
      ]
    },
    {
      "cell_type": "markdown",
      "metadata": {
        "id": "uHQE1sDJDVLx"
      },
      "source": [
        "Введенное нами число 5 сохранилось. Однако, если посмотреть внимательнее, это не совсем число: число пять стоит в кавычках. Это строка! То есть обычный текст. Проверим:"
      ]
    },
    {
      "cell_type": "code",
      "execution_count": null,
      "metadata": {
        "id": "x7fdaWI7DVL0",
        "colab": {
          "base_uri": "https://localhost:8080/"
        },
        "outputId": "30e39d32-fd8f-434d-a85b-7f65dbc8f6ee"
      },
      "outputs": [
        {
          "output_type": "execute_result",
          "data": {
            "text/plain": [
              "str"
            ]
          },
          "metadata": {},
          "execution_count": 50
        }
      ],
      "source": [
        "type(num) # действительно"
      ]
    },
    {
      "cell_type": "markdown",
      "metadata": {
        "id": "kaygTN2eDVL3"
      },
      "source": [
        "Тут нам как раз и пригодится преобразование типов переменных:"
      ]
    },
    {
      "cell_type": "code",
      "execution_count": null,
      "metadata": {
        "id": "SehWbtzfDVL4",
        "colab": {
          "base_uri": "https://localhost:8080/"
        },
        "outputId": "c60f8f2d-da65-482f-d102-d541eee23551"
      },
      "outputs": [
        {
          "output_type": "execute_result",
          "data": {
            "text/plain": [
              "6"
            ]
          },
          "metadata": {},
          "execution_count": 51
        }
      ],
      "source": [
        "num = int(num)\n",
        "num"
      ]
    },
    {
      "cell_type": "markdown",
      "metadata": {
        "id": "F58_y_2LDVL7"
      },
      "source": [
        "И теперь всё сразу: правильно и компактно."
      ]
    },
    {
      "cell_type": "code",
      "execution_count": null,
      "metadata": {
        "id": "NKjPLsgJDVL8",
        "colab": {
          "base_uri": "https://localhost:8080/"
        },
        "outputId": "3667665b-40f4-4192-aad7-f4ef9eff66f9"
      },
      "outputs": [
        {
          "name": "stdout",
          "output_type": "stream",
          "text": [
            "Введите какое-нибудь число: 5\n"
          ]
        },
        {
          "output_type": "execute_result",
          "data": {
            "text/plain": [
              "5"
            ]
          },
          "metadata": {},
          "execution_count": 52
        }
      ],
      "source": [
        "num = int(input(\"Введите какое-нибудь число: \"))\n",
        "num"
      ]
    },
    {
      "cell_type": "markdown",
      "metadata": {
        "id": "acnuEryRDVL-"
      },
      "source": [
        "Раз мы не предлагаем пользователю ввести именно целое число, число может быть любым, даже дробным. Учтём это – будем конвертировать введенный текст в число с плавающей точкой."
      ]
    },
    {
      "cell_type": "code",
      "execution_count": null,
      "metadata": {
        "id": "2GAKtC5jDVMA"
      },
      "outputs": [],
      "source": [
        "num = float(input(\"Введите какое-нибудь число: \"))\n",
        "num"
      ]
    },
    {
      "cell_type": "markdown",
      "metadata": {
        "id": "o2__JdHTDVMC"
      },
      "source": [
        "С клавиатуры можно вводить сколько угодно объектов:"
      ]
    },
    {
      "cell_type": "code",
      "execution_count": null,
      "metadata": {
        "id": "2mrAhRU8DVMD",
        "colab": {
          "base_uri": "https://localhost:8080/"
        },
        "outputId": "c9883793-028f-4eb3-c664-bb7598bcb765"
      },
      "outputs": [
        {
          "name": "stdout",
          "output_type": "stream",
          "text": [
            "Введите числа через пробел: fjgdfjg krgjkrj krk \n"
          ]
        }
      ],
      "source": [
        "numbers = input(\"Введите числа через пробел: \")"
      ]
    },
    {
      "cell_type": "code",
      "execution_count": null,
      "metadata": {
        "id": "RDTkztqiDVMG",
        "colab": {
          "base_uri": "https://localhost:8080/",
          "height": 36
        },
        "outputId": "856ebf7b-7cbb-411b-e499-7848e94b236d"
      },
      "outputs": [
        {
          "output_type": "execute_result",
          "data": {
            "text/plain": [
              "'fjgdfjg krgjkrj krk '"
            ],
            "application/vnd.google.colaboratory.intrinsic+json": {
              "type": "string"
            }
          },
          "metadata": {},
          "execution_count": 64
        }
      ],
      "source": [
        "numbers"
      ]
    },
    {
      "cell_type": "markdown",
      "metadata": {
        "id": "7tmExtQ4DVMI"
      },
      "source": [
        "Только тогда для работы с отдельными элементами ввода потребуется разбить строку на части по какому-нибудь символу (в нашем случае – по пробелу). О разбиении текста на части поговорим позже, когда будем обсуждать работу со строками, а пока разберём вывод информации на экран."
      ]
    },
    {
      "cell_type": "markdown",
      "metadata": {
        "id": "mK36-YwHDVMK"
      },
      "source": [
        "### Вывод информации на экран"
      ]
    },
    {
      "cell_type": "markdown",
      "metadata": {
        "id": "3G_wL_VpDVMK"
      },
      "source": [
        "Как мы уже знаем, для вывода чего-либо на экран в Python существует функция `print()`:"
      ]
    },
    {
      "cell_type": "code",
      "execution_count": null,
      "metadata": {
        "id": "ytktLpvDDVMN",
        "colab": {
          "base_uri": "https://localhost:8080/"
        },
        "outputId": "813b30ac-7c74-4177-9558-04c829d78769"
      },
      "outputs": [
        {
          "output_type": "stream",
          "name": "stdout",
          "text": [
            "5\n",
            "Hello!\n"
          ]
        }
      ],
      "source": [
        "print(5)\n",
        "print('Hello!')"
      ]
    },
    {
      "cell_type": "markdown",
      "metadata": {
        "id": "bS1HnlF8DVMO"
      },
      "source": [
        "Для того, чтобы вывести на экран сразу несколько объектов, нужно просто перечислить их через запятую в круглых скобках."
      ]
    },
    {
      "cell_type": "code",
      "execution_count": null,
      "metadata": {
        "id": "J6PQQOI-DVMQ",
        "colab": {
          "base_uri": "https://localhost:8080/"
        },
        "outputId": "2f4519ab-95d2-4d5d-f668-5b7057cc43c6"
      },
      "outputs": [
        {
          "output_type": "stream",
          "name": "stdout",
          "text": [
            "Your age is  23\n"
          ]
        }
      ],
      "source": [
        "age = 23\n",
        "print('Your age is ', age)"
      ]
    },
    {
      "cell_type": "markdown",
      "metadata": {
        "id": "VoJ1BODEDVMS"
      },
      "source": [
        "По умолчанию в качестве разделителей (отделяющих объекты друг от друга) используются пробелы. Но при желании это можно поправить, добавив аргумент `sep` (от *separator* – разделитель):"
      ]
    },
    {
      "cell_type": "code",
      "execution_count": null,
      "metadata": {
        "id": "ZxZyzTgODVMT",
        "colab": {
          "base_uri": "https://localhost:8080/"
        },
        "outputId": "4c1d5310-2788-46c0-8b2f-635198b50502"
      },
      "outputs": [
        {
          "output_type": "stream",
          "name": "stdout",
          "text": [
            "2-3\n"
          ]
        }
      ],
      "source": [
        "print(2, 3, sep='-')"
      ]
    },
    {
      "cell_type": "code",
      "execution_count": null,
      "metadata": {
        "id": "swGjt4ECDVMU",
        "colab": {
          "base_uri": "https://localhost:8080/"
        },
        "outputId": "1ecadf26-6725-4027-831c-cf6cd689aa01"
      },
      "outputs": [
        {
          "output_type": "stream",
          "name": "stdout",
          "text": [
            "2------3\n"
          ]
        }
      ],
      "source": [
        "print(2, 3, sep='------')"
      ]
    },
    {
      "cell_type": "markdown",
      "metadata": {
        "id": "MH2vDJuyDy3z"
      },
      "source": [
        "### Форматирование строк (string formatting)"
      ]
    },
    {
      "cell_type": "markdown",
      "metadata": {
        "id": "ibTwAYGMDy30"
      },
      "source": [
        "А теперь посмотрим на то, как подставлять значения в уже имеющийся текстовый шаблон, то есть форматировать строки. Чтобы понять, о чём идет речь, можно представить, что у нас есть электронная анкета, которую заполняет пользователь, и мы должны написать программу, которая выводит на экран введенные данные, чтобы пользователь мог их проверить.\n",
        "\n",
        "Пусть для начала пользователь вводит свое имя и возраст."
      ]
    },
    {
      "cell_type": "code",
      "execution_count": null,
      "metadata": {
        "id": "5y6njjjqDy32",
        "colab": {
          "base_uri": "https://localhost:8080/"
        },
        "outputId": "74bf9724-d44c-49f6-e5ed-52d60deac9b5"
      },
      "outputs": [
        {
          "name": "stdout",
          "output_type": "stream",
          "text": [
            "Введите Ваше имя: nast\n",
            "Введите Ваш возраст: 18\n"
          ]
        }
      ],
      "source": [
        "name = input(\"Введите Ваше имя: \")\n",
        "age = int(input(\"Введите Ваш возраст: \")) # возраст будет целочисленным"
      ]
    },
    {
      "cell_type": "markdown",
      "metadata": {
        "id": "mX88ovFKDy38"
      },
      "source": [
        "Теперь выведем на экран сообщение вида\n",
        "\n",
        "    Ваше имя: `имя`. Ваш возраст: `возраст`."
      ]
    },
    {
      "cell_type": "markdown",
      "metadata": {
        "id": "vBbMwO5ADy3_"
      },
      "source": [
        "Но прежде, чем это сделать, поймем, какого типа будут значения, которые мы будем подставлять в шаблон. Имя (переменная `name`) – это строка (*string*), а возраст (переменная `age`) – это целое число (*integer*)."
      ]
    },
    {
      "cell_type": "code",
      "execution_count": null,
      "metadata": {
        "id": "5vKMTknKDy4A",
        "colab": {
          "base_uri": "https://localhost:8080/"
        },
        "outputId": "8a5d631d-443f-4536-d4fb-891396bdf895"
      },
      "outputs": [
        {
          "output_type": "stream",
          "name": "stdout",
          "text": [
            "Ваше имя: nast. Ваш возраст: 18.\n"
          ]
        }
      ],
      "source": [
        "result = \"Ваше имя: %s. Ваш возраст: %i.\" % (name, age)\n",
        "print(result)"
      ]
    },
    {
      "cell_type": "markdown",
      "metadata": {
        "id": "5TGxYAa2Dy4C"
      },
      "source": [
        "Что за таинственные `%s` и `%i`? Все просто: оператор `%` в строке указывает место, на которое будет подставляться значение, а буква сразу после процента – сокращённое название типа данных (`s` – от *string* и `i` – от *integer*). Осталось только сообщить Python, что именно нужно подставлять – после кавычек поставить `%` и в скобках перечислить названия переменных, значения которых мы будем подставлять.\n",
        "\n",
        "Конечно, результат можно выводить сразу, не сохраняя полученную строку в переменную. Главное, не запутаться в скобках, и не потерять их."
      ]
    },
    {
      "cell_type": "code",
      "execution_count": null,
      "metadata": {
        "id": "YQmN6FGzDy4E",
        "colab": {
          "base_uri": "https://localhost:8080/"
        },
        "outputId": "93583039-b5a1-434d-fac5-51f96989b210"
      },
      "outputs": [
        {
          "output_type": "stream",
          "name": "stdout",
          "text": [
            "Ваше имя: nast. Ваш возраст: 18.\n"
          ]
        }
      ],
      "source": [
        "print(\"Ваше имя: %s. Ваш возраст: %i.\" % (name, age))"
      ]
    },
    {
      "cell_type": "markdown",
      "metadata": {
        "id": "MQb6GjXBDy4F"
      },
      "source": [
        "*Примечание:* не теряйте часть с переменными после самой строки. Иначе получится нечто странное:"
      ]
    },
    {
      "cell_type": "code",
      "execution_count": null,
      "metadata": {
        "id": "Y6dPfIq9Dy4G",
        "colab": {
          "base_uri": "https://localhost:8080/"
        },
        "outputId": "d7b79042-1f76-4d69-a838-8b19b268cf91"
      },
      "outputs": [
        {
          "output_type": "stream",
          "name": "stdout",
          "text": [
            "Ваше имя: %s. Ваш возраст: %i.\n"
          ]
        }
      ],
      "source": [
        "print(\"Ваше имя: %s. Ваш возраст: %i.\")"
      ]
    },
    {
      "cell_type": "markdown",
      "metadata": {
        "id": "237l1_44Dy4I"
      },
      "source": [
        "Важно помнить, что если мы забудем указать какую-то из переменных, мы получим ошибку (точнее, исключение): Python не будет знать, откуда брать нужные значения."
      ]
    },
    {
      "cell_type": "code",
      "execution_count": null,
      "metadata": {
        "id": "O8ouRTo9Dy4J",
        "colab": {
          "base_uri": "https://localhost:8080/",
          "height": 179
        },
        "outputId": "6fed24e1-6c81-40d8-8f9b-0afd9ee72931"
      },
      "outputs": [
        {
          "output_type": "error",
          "ename": "TypeError",
          "evalue": "ignored",
          "traceback": [
            "\u001b[0;31m---------------------------------------------------------------------------\u001b[0m",
            "\u001b[0;31mTypeError\u001b[0m                                 Traceback (most recent call last)",
            "\u001b[0;32m<ipython-input-56-2343aa81e176>\u001b[0m in \u001b[0;36m<cell line: 1>\u001b[0;34m()\u001b[0m\n\u001b[0;32m----> 1\u001b[0;31m \u001b[0mprint\u001b[0m\u001b[0;34m(\u001b[0m\u001b[0;34m\"Ваше имя: %s. Ваш возраст: %i.\"\u001b[0m \u001b[0;34m%\u001b[0m \u001b[0;34m(\u001b[0m\u001b[0mname\u001b[0m\u001b[0;34m)\u001b[0m\u001b[0;34m)\u001b[0m\u001b[0;34m\u001b[0m\u001b[0;34m\u001b[0m\u001b[0m\n\u001b[0m",
            "\u001b[0;31mTypeError\u001b[0m: not enough arguments for format string"
          ]
        }
      ],
      "source": [
        "print(\"Ваше имя: %s. Ваш возраст: %i.\" % (name))"
      ]
    },
    {
      "cell_type": "markdown",
      "metadata": {
        "id": "9VuimpmQDy4K"
      },
      "source": [
        "Кроме того, создавая такие текстовые шаблоны, нужно обращать внимание на типы переменных, значения которых мы подставляем."
      ]
    },
    {
      "cell_type": "code",
      "execution_count": null,
      "metadata": {
        "id": "wLrYxquRDy4L",
        "colab": {
          "base_uri": "https://localhost:8080/"
        },
        "outputId": "6dd7a953-d420-409e-9038-2067beee9c09"
      },
      "outputs": [
        {
          "output_type": "stream",
          "name": "stdout",
          "text": [
            "Ваше имя: nast. Ваш возраст: 18.\n"
          ]
        }
      ],
      "source": [
        "print(\"Ваше имя: %s. Ваш возраст: %s.\" % (name, age)) # так сработает"
      ]
    },
    {
      "cell_type": "code",
      "execution_count": null,
      "metadata": {
        "id": "9uIUsfpZDy4M",
        "colab": {
          "base_uri": "https://localhost:8080/",
          "height": 179
        },
        "outputId": "8c069f3f-a02d-4e62-857e-3d5293998e63"
      },
      "outputs": [
        {
          "output_type": "error",
          "ename": "TypeError",
          "evalue": "ignored",
          "traceback": [
            "\u001b[0;31m---------------------------------------------------------------------------\u001b[0m",
            "\u001b[0;31mTypeError\u001b[0m                                 Traceback (most recent call last)",
            "\u001b[0;32m<ipython-input-58-9c083ea32449>\u001b[0m in \u001b[0;36m<cell line: 1>\u001b[0;34m()\u001b[0m\n\u001b[0;32m----> 1\u001b[0;31m \u001b[0mprint\u001b[0m\u001b[0;34m(\u001b[0m\u001b[0;34m\"Ваше имя: %i. Ваш возраст: %s.\"\u001b[0m \u001b[0;34m%\u001b[0m \u001b[0;34m(\u001b[0m\u001b[0mname\u001b[0m\u001b[0;34m,\u001b[0m \u001b[0mage\u001b[0m\u001b[0;34m)\u001b[0m\u001b[0;34m)\u001b[0m \u001b[0;31m# а так нет\u001b[0m\u001b[0;34m\u001b[0m\u001b[0;34m\u001b[0m\u001b[0m\n\u001b[0m",
            "\u001b[0;31mTypeError\u001b[0m: %i format: a real number is required, not str"
          ]
        }
      ],
      "source": [
        "print(\"Ваше имя: %i. Ваш возраст: %s.\" % (name, age)) # а так нет"
      ]
    },
    {
      "cell_type": "markdown",
      "metadata": {
        "id": "nhJeEIXjDy4O"
      },
      "source": [
        "В первом случае код сработал: Python не очень строго относится к типам данных, и поэтому он легко может превратить целочисленный возраст в строку (два `%s` вместо `%s` и `%i` не является помехой). Во втором случае все иначе. Превратить строку, которая состоит из букв (`name`) в целое число никак не получится, поэтому Python справедливо ругается."
      ]
    },
    {
      "cell_type": "markdown",
      "metadata": {
        "id": "I_vbPOncDy4P"
      },
      "source": [
        "А что будет, если мы будем подставлять не целое число, а дробное, с плавающей точкой? Попробуем!"
      ]
    },
    {
      "cell_type": "code",
      "execution_count": null,
      "metadata": {
        "id": "htknH76-Dy4Q",
        "colab": {
          "base_uri": "https://localhost:8080/"
        },
        "outputId": "5a7a926a-d12e-49f0-a934-6de45aa2f303"
      },
      "outputs": [
        {
          "name": "stdout",
          "output_type": "stream",
          "text": [
            "Введите Ваш рост (в метрах): 1.7\n"
          ]
        },
        {
          "output_type": "execute_result",
          "data": {
            "text/plain": [
              "1.7"
            ]
          },
          "metadata": {},
          "execution_count": 77
        }
      ],
      "source": [
        "height = float(input(\"Введите Ваш рост (в метрах): \"))\n",
        "height"
      ]
    },
    {
      "cell_type": "code",
      "execution_count": null,
      "metadata": {
        "id": "ZqXeKd9DDy4R",
        "colab": {
          "base_uri": "https://localhost:8080/"
        },
        "outputId": "effed74b-8c32-4d36-92fd-9ffa21762ee1"
      },
      "outputs": [
        {
          "output_type": "stream",
          "name": "stdout",
          "text": [
            "Ваш рост: 1.700000 м.\n"
          ]
        }
      ],
      "source": [
        "print(\"Ваш рост: %f м.\" % height) # f - от float"
      ]
    },
    {
      "cell_type": "markdown",
      "metadata": {
        "id": "2f_10Q7ZDy4T"
      },
      "source": [
        "По умолчанию при подстановке значений типа *float* Python выводит число с шестью знаками после запятой. Но это можно исправить. Перед `f` нужно поставить точку и указать число знаков после запятой, которое мы хотим:"
      ]
    },
    {
      "cell_type": "code",
      "execution_count": null,
      "metadata": {
        "id": "-Qe_iqnhDy4V",
        "colab": {
          "base_uri": "https://localhost:8080/"
        },
        "outputId": "ab2b0d8c-0855-4745-9e2c-6fd9e738ff8c"
      },
      "outputs": [
        {
          "output_type": "stream",
          "name": "stdout",
          "text": [
            "Ваш рост: 1.70 м.\n"
          ]
        }
      ],
      "source": [
        "print(\"Ваш рост: %.2f м.\" % height) # например, два"
      ]
    },
    {
      "cell_type": "code",
      "execution_count": null,
      "metadata": {
        "id": "witOdFAvDy4W",
        "colab": {
          "base_uri": "https://localhost:8080/"
        },
        "outputId": "09eb5f3e-0449-4096-fc4c-1a69677a2bca"
      },
      "outputs": [
        {
          "output_type": "stream",
          "name": "stdout",
          "text": [
            "Ваш рост: 1.7 м. \n"
          ]
        }
      ],
      "source": [
        "print(\"Ваш рост: %.1f м. \" % height) # или один"
      ]
    },
    {
      "cell_type": "markdown",
      "metadata": {
        "id": "7K7uqpflDy4X"
      },
      "source": [
        "В случае, если указанное число знаков после запятой меньше, чем есть на самом деле (как в ячейке выше), происходит обычное арифметическое округление."
      ]
    },
    {
      "cell_type": "markdown",
      "metadata": {
        "id": "AuzrKhYODy4Y"
      },
      "source": [
        "Рассмотренный выше способ форматирования строк – не единственный. Он довольно стандартный, но при этом немного устаревший. В Python 3 есть другой способ ‒ форматирование с помощью метода `.format()`. Кроме того, в Python 3.6 и более поздних версиях появился еще более продвинутый способ форматирования строк ‒ *f-strings* *(formatted string literals)*.\n",
        "\n",
        "F-strings очень удобны и просты в использовании: вместо `%` и сокращённого названия типа в фигурных скобках внутри текстового шаблона нужно указать название переменной, из которой должно подставляться значение, а перед всей строкой добавить `f`, чтобы Python знал, что нам нужна именно *f-string*."
      ]
    },
    {
      "cell_type": "code",
      "execution_count": null,
      "metadata": {
        "id": "sXaB67NiDy4Z",
        "colab": {
          "base_uri": "https://localhost:8080/"
        },
        "outputId": "68c67f28-482a-494c-83c4-d6acc182a12f"
      },
      "outputs": [
        {
          "output_type": "stream",
          "name": "stdout",
          "text": [
            "Ваше имя: nast. Ваш возраст: 18\n"
          ]
        }
      ],
      "source": [
        "print(f\"Ваше имя: {name}. Ваш возраст: {age}\")"
      ]
    }
  ]
}