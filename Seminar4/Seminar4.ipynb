{
  "cells": [
    {
      "cell_type": "markdown",
      "metadata": {
        "id": "BdWj1U0LK7Qu"
      },
      "source": [
        "# Семинар №4\n",
        "\n",
        "Словари. Работа с файлами."
      ]
    },
    {
      "cell_type": "markdown",
      "metadata": {
        "id": "1-xZ7Nh_R7bA"
      },
      "source": [
        "# Словари (dictionaries)"
      ]
    },
    {
      "cell_type": "markdown",
      "metadata": {
        "id": "y_In2Ng2K2an"
      },
      "source": [
        "Обсуждая словари в Python, удобно проводить аналогию с обычными словарями (бумажными или электронными). Что такое словарь? Перечень из пар: *слово-значение* или *слово-список значений*, если значений несколько. Вот и словарь в Python – это объект, структура данных, которая позволяет хранить пары соответствий.\n"
      ]
    },
    {
      "cell_type": "code",
      "execution_count": null,
      "metadata": {
        "id": "y5QhssAZK2ar"
      },
      "outputs": [],
      "source": [
        "prog = {'Вуз' : 'МГТУ',\n",
        "        'Факультет' : 'БМТ',\n",
        "        'Кафедра': '1'}"
      ]
    },
    {
      "cell_type": "markdown",
      "metadata": {
        "id": "cP1ia7NXK2aw"
      },
      "source": [
        "Первый элемент в каждой паре (до двоеточия) назвается ключом (*key*), второй элемент в каждой паре (после двоеточия) – значением (*value*). Посмотрим на словарь:"
      ]
    },
    {
      "cell_type": "code",
      "execution_count": null,
      "metadata": {
        "colab": {
          "base_uri": "https://localhost:8080/"
        },
        "id": "9gvyNhx3K2ay",
        "outputId": "a2412c54-8faf-4318-fea3-562b8e8f3b10"
      },
      "outputs": [
        {
          "data": {
            "text/plain": [
              "{'Вуз': 'МГТУ', 'Факультет': 'БМТ', 'Кафедра': '1'}"
            ]
          },
          "execution_count": 37,
          "metadata": {},
          "output_type": "execute_result"
        }
      ],
      "source": [
        "prog"
      ]
    },
    {
      "cell_type": "markdown",
      "metadata": {
        "id": "5xsuHWGhK2a2"
      },
      "source": [
        "### Обращение к элементам словаря"
      ]
    },
    {
      "cell_type": "markdown",
      "metadata": {
        "id": "bVqJ-SD3K2a3"
      },
      "source": [
        "Как и в случае со списками или кортежами, к элементам словаря можно обращаться. Только выбор элемента производится не по индексу, а по ключу: сначала указываем название словаря, а потом в квадратных скобках – ключ, по которому мы хотим вернуть значение."
      ]
    },
    {
      "cell_type": "code",
      "execution_count": null,
      "metadata": {
        "colab": {
          "base_uri": "https://localhost:8080/",
          "height": 36
        },
        "id": "Ln-qc0stK2a5",
        "outputId": "533ba102-7d4c-40d0-fab7-c6024b655e99"
      },
      "outputs": [
        {
          "data": {
            "application/vnd.google.colaboratory.intrinsic+json": {
              "type": "string"
            },
            "text/plain": [
              "'МГТУ'"
            ]
          },
          "execution_count": 42,
          "metadata": {},
          "output_type": "execute_result"
        }
      ],
      "source": [
        "prog['Вуз']"
      ]
    },
    {
      "cell_type": "markdown",
      "metadata": {
        "id": "QLSzltF-K2a6"
      },
      "source": [
        "А что будет, если мы запросим элемент по ключу, которого нет в словаре?"
      ]
    },
    {
      "cell_type": "code",
      "execution_count": null,
      "metadata": {
        "colab": {
          "base_uri": "https://localhost:8080/",
          "height": 165
        },
        "id": "P3BW0KHEK2a8",
        "outputId": "93ea0663-615b-478f-f8ca-8575e7e0a214"
      },
      "outputs": [
        {
          "ename": "KeyError",
          "evalue": "ignored",
          "output_type": "error",
          "traceback": [
            "\u001b[0;31m---------------------------------------------------------------------------\u001b[0m",
            "\u001b[0;31mKeyError\u001b[0m                                  Traceback (most recent call last)",
            "\u001b[0;32m<ipython-input-43-96c4bdddde3b>\u001b[0m in \u001b[0;36m<module>\u001b[0;34m\u001b[0m\n\u001b[0;32m----> 1\u001b[0;31m \u001b[0mprog\u001b[0m\u001b[0;34m[\u001b[0m\u001b[0;34m'Дисциплина'\u001b[0m\u001b[0;34m]\u001b[0m\u001b[0;34m\u001b[0m\u001b[0;34m\u001b[0m\u001b[0m\n\u001b[0m",
            "\u001b[0;31mKeyError\u001b[0m: 'Дисциплина'"
          ]
        }
      ],
      "source": [
        "prog['Дисциплина']"
      ]
    },
    {
      "cell_type": "markdown",
      "metadata": {
        "id": "MvSxU1YiK2a_"
      },
      "source": [
        "Теперь представьте себе такую ситуацию: у нас есть список ключей и мы хотим в цикле вернуть по ним значения. Какого-то одного из ключей. На каком-то этапе Python выдаст ошибку, мы вывалимся из цикла и на этом наша работа остановится. Чтобы такого избежать, получать значение по ключу можно другим способом – используя метод `.get()`:"
      ]
    },
    {
      "cell_type": "code",
      "execution_count": null,
      "metadata": {
        "id": "Mm60uvRrK2bB"
      },
      "outputs": [],
      "source": [
        "prog.get('Дисциплина') # ни результата, ни ошибки"
      ]
    },
    {
      "cell_type": "markdown",
      "metadata": {
        "id": "o-fUMtUsK2bC"
      },
      "source": [
        "Если выведем результат на экран явно, с помощью `print()`, увидим, что в случае, если пары с указанным ключом в словаре нет, Python выдаст значение `None`:"
      ]
    },
    {
      "cell_type": "code",
      "execution_count": null,
      "metadata": {
        "colab": {
          "base_uri": "https://localhost:8080/"
        },
        "id": "7Xhh2N6-K2bE",
        "outputId": "dd194fb0-25b5-40de-ebc8-4d5db06dbefe"
      },
      "outputs": [
        {
          "name": "stdout",
          "output_type": "stream",
          "text": [
            "None\n"
          ]
        }
      ],
      "source": [
        "print(prog.get('Дисциплина'))"
      ]
    },
    {
      "cell_type": "markdown",
      "metadata": {
        "id": "ylVtlv-iK2bF"
      },
      "source": [
        "Удобство метода `.get()` заключается в том, что мы сами можем установить, какое значение будет возвращено, в случае, если пары с выбранным ключом нет в словаре. Так, вместо `None` мы можем вернуть строку `Not found`, и ломаться ничего не будет:"
      ]
    },
    {
      "cell_type": "code",
      "execution_count": null,
      "metadata": {
        "colab": {
          "base_uri": "https://localhost:8080/",
          "height": 36
        },
        "id": "Z1vU0Eu6K2bH",
        "outputId": "41e7d152-7663-44e1-8f10-d4206d54d876"
      },
      "outputs": [
        {
          "data": {
            "application/vnd.google.colaboratory.intrinsic+json": {
              "type": "string"
            },
            "text/plain": [
              "'Not found'"
            ]
          },
          "execution_count": 46,
          "metadata": {},
          "output_type": "execute_result"
        }
      ],
      "source": [
        "prog.get('Дисциплина', 'Not found')"
      ]
    },
    {
      "cell_type": "markdown",
      "metadata": {
        "id": "SkW0LrtYK2bI"
      },
      "source": [
        "Но недостающий элемент мы всегда можем добавить!"
      ]
    },
    {
      "cell_type": "code",
      "execution_count": null,
      "metadata": {
        "colab": {
          "base_uri": "https://localhost:8080/"
        },
        "id": "L805sX8NK2bJ",
        "outputId": "4629d177-f757-4cf2-fef0-4ef982974caf"
      },
      "outputs": [
        {
          "data": {
            "text/plain": [
              "{'Вуз': 'МГТУ',\n",
              " 'Факультет': 'БМТ',\n",
              " 'Кафедра': '1',\n",
              " 'Дисциплина': 'Основы программирования на Python'}"
            ]
          },
          "execution_count": 47,
          "metadata": {},
          "output_type": "execute_result"
        }
      ],
      "source": [
        "prog['Дисциплина'] = 'Основы программирования на Python'\n",
        "prog"
      ]
    },
    {
      "cell_type": "markdown",
      "metadata": {
        "id": "GEZU2xdpK2bL"
      },
      "source": [
        "**Внимание:** Если элемент с указанным ключом уже существует, новый с таким же ключом не добавится! Ключ – это уникальный идентификатор элемента. Если мы добавим в словарь новый элемент с уже существующим ключом, мы просто изменим старый ‒ словари являются изменяемыми объектами. Например, так (изменения в программе):"
      ]
    },
    {
      "cell_type": "code",
      "execution_count": null,
      "metadata": {
        "colab": {
          "base_uri": "https://localhost:8080/"
        },
        "id": "80vG3NaIK2bM",
        "outputId": "a85422bd-b185-4d94-91ce-c2628eb55686"
      },
      "outputs": [
        {
          "data": {
            "text/plain": [
              "{'Вуз': 'МГТУ',\n",
              " 'Факультет': 'БМТ',\n",
              " 'Кафедра': '1',\n",
              " 'Дисциплина': 'Анализ данных'}"
            ]
          },
          "execution_count": 48,
          "metadata": {},
          "output_type": "execute_result"
        }
      ],
      "source": [
        "prog['Дисциплина'] = 'Анализ данных'\n",
        "prog"
      ]
    },
    {
      "cell_type": "markdown",
      "metadata": {
        "id": "LqjPSk_-K2bO"
      },
      "source": [
        "Раз элементами словаря являются пары *ключ-значение*, наверняка есть способ выбрать из словаря ключи и значения отдельно. Действительно, для этого есть методы `.keys()` и `values()`. Вызовем сначала все ключи:"
      ]
    },
    {
      "cell_type": "code",
      "execution_count": null,
      "metadata": {
        "colab": {
          "base_uri": "https://localhost:8080/"
        },
        "id": "Gs9kIGlyK2bP",
        "outputId": "c5dd641d-00c8-4bce-9c6d-a7d01cd59d40"
      },
      "outputs": [
        {
          "data": {
            "text/plain": [
              "dict_keys(['Вуз', 'Факультет', 'Кафедра', 'Дисциплина'])"
            ]
          },
          "execution_count": 49,
          "metadata": {},
          "output_type": "execute_result"
        }
      ],
      "source": [
        "prog.keys()"
      ]
    },
    {
      "cell_type": "markdown",
      "metadata": {
        "id": "oaP3EpBoK2bR"
      },
      "source": [
        "Объект, который мы только что увидели, очень похож на список. Но обычным списком на самом деле не является. Давайте попробуем выбрать первый элемент `prog.keys()`:"
      ]
    },
    {
      "cell_type": "code",
      "execution_count": null,
      "metadata": {
        "colab": {
          "base_uri": "https://localhost:8080/",
          "height": 182
        },
        "id": "V-6737yWK2bT",
        "outputId": "36429d61-977d-4a6b-9e5a-3fd8dbc47553"
      },
      "outputs": [
        {
          "ename": "TypeError",
          "evalue": "ignored",
          "output_type": "error",
          "traceback": [
            "\u001b[0;31m---------------------------------------------------------------------------\u001b[0m",
            "\u001b[0;31mTypeError\u001b[0m                                 Traceback (most recent call last)",
            "\u001b[0;32m<ipython-input-50-5481656211fb>\u001b[0m in \u001b[0;36m<module>\u001b[0;34m\u001b[0m\n\u001b[1;32m      1\u001b[0m \u001b[0mkeys\u001b[0m \u001b[0;34m=\u001b[0m \u001b[0mprog\u001b[0m\u001b[0;34m.\u001b[0m\u001b[0mkeys\u001b[0m\u001b[0;34m(\u001b[0m\u001b[0;34m)\u001b[0m\u001b[0;34m\u001b[0m\u001b[0;34m\u001b[0m\u001b[0m\n\u001b[0;32m----> 2\u001b[0;31m \u001b[0mkeys\u001b[0m\u001b[0;34m[\u001b[0m\u001b[0;36m0\u001b[0m\u001b[0;34m]\u001b[0m\u001b[0;34m\u001b[0m\u001b[0;34m\u001b[0m\u001b[0m\n\u001b[0m",
            "\u001b[0;31mTypeError\u001b[0m: 'dict_keys' object is not subscriptable"
          ]
        }
      ],
      "source": [
        "keys = prog.keys()\n",
        "keys[0]"
      ]
    },
    {
      "cell_type": "markdown",
      "metadata": {
        "id": "mr2dcbUfK2bU"
      },
      "source": [
        "Не получается! Потому что полученный объект имеет специальный тип `dict_keys`, а не `list`. Но это всегда можно поправить, превратив объект `dict_keys` в список:"
      ]
    },
    {
      "cell_type": "code",
      "execution_count": null,
      "metadata": {
        "colab": {
          "base_uri": "https://localhost:8080/",
          "height": 36
        },
        "id": "-lHD3UumK2bW",
        "outputId": "177064b1-0425-42a8-b18f-9967ba406820"
      },
      "outputs": [
        {
          "data": {
            "application/vnd.google.colaboratory.intrinsic+json": {
              "type": "string"
            },
            "text/plain": [
              "'Вуз'"
            ]
          },
          "execution_count": 51,
          "metadata": {},
          "output_type": "execute_result"
        }
      ],
      "source": [
        "list(keys)[0]  # получается!"
      ]
    },
    {
      "cell_type": "markdown",
      "metadata": {
        "id": "9a5auc4MK2bY"
      },
      "source": [
        "Аналогичным образом можно работать и со значениями:"
      ]
    },
    {
      "cell_type": "code",
      "execution_count": null,
      "metadata": {
        "colab": {
          "base_uri": "https://localhost:8080/"
        },
        "id": "Zp63_MKjK2bZ",
        "outputId": "bfcca555-bbc3-4a04-a784-730f1bb50f8e"
      },
      "outputs": [
        {
          "data": {
            "text/plain": [
              "dict_values(['МГТУ', 'БМТ', '1', 'Анализ данных'])"
            ]
          },
          "execution_count": 52,
          "metadata": {},
          "output_type": "execute_result"
        }
      ],
      "source": [
        "prog.values()"
      ]
    },
    {
      "cell_type": "markdown",
      "metadata": {
        "id": "CiRIm4UJK2ba"
      },
      "source": [
        "Словари могут состоять не только из строк, почти любые объекты могут быть ключами и значениями списка (какие не могут ‒ обсудим позже). Например, можно создать словарь оценок, состоящий из пар *числовой id студента-его оценка*."
      ]
    },
    {
      "cell_type": "code",
      "execution_count": null,
      "metadata": {
        "id": "KnCEUB3cK2bb"
      },
      "outputs": [],
      "source": [
        "numbers = {1 : 7, 2 : 8, 3 : 9}"
      ]
    },
    {
      "cell_type": "markdown",
      "metadata": {
        "id": "IfdeYmPWK2bd"
      },
      "source": [
        "Обращаться к элементам мы будем, естественно, без кавычек, так как ключами являются числа:"
      ]
    },
    {
      "cell_type": "code",
      "execution_count": null,
      "metadata": {
        "colab": {
          "base_uri": "https://localhost:8080/"
        },
        "id": "fhGBtUIwK2be",
        "outputId": "c0aff52d-6701-4d2e-945e-1891ba50c635"
      },
      "outputs": [
        {
          "data": {
            "text/plain": [
              "7"
            ]
          },
          "execution_count": 54,
          "metadata": {},
          "output_type": "execute_result"
        }
      ],
      "source": [
        "numbers[1]  # оценка студента с id равным 1"
      ]
    },
    {
      "cell_type": "markdown",
      "metadata": {
        "id": "qDiDk_DPK2bf"
      },
      "source": [
        "Словари могут состоять из элементов смешанного типа. Например, вместо числового id можно явно записать имя студента:"
      ]
    },
    {
      "cell_type": "code",
      "execution_count": null,
      "metadata": {
        "id": "ZfKzyIiHK2bg"
      },
      "outputs": [],
      "source": [
        "marks = {\"Петя\": 6, \"Вася\": 9}"
      ]
    },
    {
      "cell_type": "code",
      "execution_count": null,
      "metadata": {
        "colab": {
          "base_uri": "https://localhost:8080/"
        },
        "id": "OfE3TYV3K2bi",
        "outputId": "f4ad94b6-e3be-4920-ebcf-e9033e6f875a"
      },
      "outputs": [
        {
          "data": {
            "text/plain": [
              "6"
            ]
          },
          "execution_count": 56,
          "metadata": {},
          "output_type": "execute_result"
        }
      ],
      "source": [
        "marks[\"Петя\"]"
      ]
    },
    {
      "cell_type": "markdown",
      "metadata": {
        "id": "8az4xaxpK2bk"
      },
      "source": [
        "Ну, и раз уж питоновские словари так похожи на обычные, давайте представим, что у нас есть словарь, где все слова многозначные. Ключом будет слово, а значением – целый список."
      ]
    },
    {
      "cell_type": "code",
      "execution_count": null,
      "metadata": {
        "id": "Bpydj0CZK2bm"
      },
      "outputs": [],
      "source": [
        "my_dict = {'swear' : ['клясться', 'ругаться'],\n",
        "           'dream' : ['спать', 'мечтать']}"
      ]
    },
    {
      "cell_type": "markdown",
      "metadata": {
        "id": "4v_WhrDkK2bn"
      },
      "source": [
        "По ключу мы получим значение в виде списка:"
      ]
    },
    {
      "cell_type": "code",
      "execution_count": null,
      "metadata": {
        "colab": {
          "base_uri": "https://localhost:8080/"
        },
        "id": "SCTXaRImK2bp",
        "outputId": "6b0c3e6e-54ff-45ad-d3de-c2c0797ea0ae"
      },
      "outputs": [
        {
          "data": {
            "text/plain": [
              "['клясться', 'ругаться']"
            ]
          },
          "execution_count": 58,
          "metadata": {},
          "output_type": "execute_result"
        }
      ],
      "source": [
        "my_dict['swear']"
      ]
    },
    {
      "cell_type": "markdown",
      "metadata": {
        "id": "9449kJvNK2br"
      },
      "source": [
        "Так как значением является список, можем отдельно обращаться к его элементам:"
      ]
    },
    {
      "cell_type": "code",
      "execution_count": null,
      "metadata": {
        "colab": {
          "base_uri": "https://localhost:8080/",
          "height": 36
        },
        "id": "1cS_SQPKK2bs",
        "outputId": "1489e475-383b-4968-c522-de3c32d3eef9"
      },
      "outputs": [
        {
          "data": {
            "application/vnd.google.colaboratory.intrinsic+json": {
              "type": "string"
            },
            "text/plain": [
              "'клясться'"
            ]
          },
          "execution_count": 59,
          "metadata": {},
          "output_type": "execute_result"
        }
      ],
      "source": [
        "my_dict['swear'][0]  # первый элемент"
      ]
    },
    {
      "cell_type": "markdown",
      "metadata": {
        "id": "hFo5ZXVEK2bt"
      },
      "source": [
        "А теперь давайте подумаем, как можно вывести на экран элементы словаря по очереди, в цикле. Первая попытка:"
      ]
    },
    {
      "cell_type": "code",
      "execution_count": null,
      "metadata": {
        "colab": {
          "base_uri": "https://localhost:8080/"
        },
        "id": "2sTrqcqFK2bu",
        "outputId": "0e86b8f5-c3e8-4bb4-ff26-dc02a433cb29"
      },
      "outputs": [
        {
          "name": "stdout",
          "output_type": "stream",
          "text": [
            "Вуз\n",
            "Факультет\n",
            "Кафедра\n",
            "Дисциплина\n"
          ]
        }
      ],
      "source": [
        "for k in prog:\n",
        "    print(k)"
      ]
    },
    {
      "cell_type": "markdown",
      "metadata": {
        "id": "akTz8owEK2bw"
      },
      "source": [
        "Попытка не совсем удалась: на экран были выведены только ключи. А как вывести пары?\n"
      ]
    },
    {
      "cell_type": "code",
      "execution_count": null,
      "metadata": {
        "colab": {
          "base_uri": "https://localhost:8080/"
        },
        "id": "W_VZjcJ1K2by",
        "outputId": "872e1000-230c-454d-dcb7-6c9e429940fa"
      },
      "outputs": [
        {
          "name": "stdout",
          "output_type": "stream",
          "text": [
            "МГТУ это Вуз\n",
            "БМТ это Факультет\n",
            "1 это Кафедра\n",
            "Анализ данных это Дисциплина\n"
          ]
        }
      ],
      "source": [
        "for k in prog:\n",
        "    print(prog[k], \"это\", k)"
      ]
    },
    {
      "cell_type": "markdown",
      "metadata": {
        "id": "8qedfwS8K2b0"
      },
      "source": [
        "Существует специальный метод `.items()`, который позволяет обращаться сразу к парам элементов:"
      ]
    },
    {
      "cell_type": "code",
      "execution_count": null,
      "metadata": {
        "colab": {
          "base_uri": "https://localhost:8080/"
        },
        "id": "Dhm-dZEiK2b2",
        "outputId": "08fbd949-9790-44aa-ced5-b98ef10788a9"
      },
      "outputs": [
        {
          "name": "stdout",
          "output_type": "stream",
          "text": [
            "Вуз МГТУ\n",
            "Факультет БМТ\n",
            "Кафедра 1\n",
            "Дисциплина Анализ данных\n"
          ]
        }
      ],
      "source": [
        "for k, v in prog.items():\n",
        "    print(k, v)"
      ]
    },
    {
      "cell_type": "markdown",
      "metadata": {
        "id": "LgKTqgzOK2b4"
      },
      "source": [
        "Для того, чтобы вывести и ключ, и значение, нужно в цикле `for` перечислить две переменные через запятую. И совсем не обязательно называть их `k` и `v` или `key` и `value`; Python сам поймет, что первая переменная соответствует ключу, а вторая ‒ значению. Для примера решим поставленную выше задачу с помощью `items()`."
      ]
    },
    {
      "cell_type": "code",
      "execution_count": null,
      "metadata": {
        "colab": {
          "base_uri": "https://localhost:8080/"
        },
        "id": "Qmpq8WjkK2b5",
        "outputId": "4eaf7cdc-c58f-4de6-cb58-26d0eed52f49"
      },
      "outputs": [
        {
          "name": "stdout",
          "output_type": "stream",
          "text": [
            "Вуз это МГТУ\n",
            "Факультет это БМТ\n",
            "Кафедра это 1\n",
            "Дисциплина это Анализ данных\n"
          ]
        }
      ],
      "source": [
        "for name, value in prog.items():\n",
        "    print(name, \"это\", value)"
      ]
    },
    {
      "cell_type": "markdown",
      "metadata": {
        "id": "tmO65gDEK2b8"
      },
      "source": [
        "Если посмотрим на `prog.items()`, мы увидим, что этот объект очень похож на список, состоящий из кортежей:"
      ]
    },
    {
      "cell_type": "code",
      "execution_count": null,
      "metadata": {
        "colab": {
          "base_uri": "https://localhost:8080/"
        },
        "id": "8e6GqlqdK2b-",
        "outputId": "a910ba59-8ecd-4fa5-989a-b2567709b424"
      },
      "outputs": [
        {
          "data": {
            "text/plain": [
              "dict_items([('Вуз', 'МГТУ'), ('Факультет', 'БМТ'), ('Кафедра', '1'), ('Дисциплина', 'Анализ данных')])"
            ]
          },
          "execution_count": 65,
          "metadata": {},
          "output_type": "execute_result"
        }
      ],
      "source": [
        "prog.items()"
      ]
    },
    {
      "cell_type": "markdown",
      "metadata": {
        "id": "Apz5X1W_K2cA"
      },
      "source": [
        "Как и случае с методами `.keys()` и `.values()`, полученный объект не является \"обычным\" списком. Поэтому при необходимости его нужно будет превратить в список:"
      ]
    },
    {
      "cell_type": "code",
      "execution_count": null,
      "metadata": {
        "colab": {
          "base_uri": "https://localhost:8080/"
        },
        "id": "suXH3rMPK2cC",
        "outputId": "b28559f3-4f44-4dab-ac55-2f1b3297013f"
      },
      "outputs": [
        {
          "data": {
            "text/plain": [
              "[('Вуз', 'МГТУ'),\n",
              " ('Факультет', 'БМТ'),\n",
              " ('Кафедра', '1'),\n",
              " ('Дисциплина', 'Анализ данных')]"
            ]
          },
          "execution_count": 66,
          "metadata": {},
          "output_type": "execute_result"
        }
      ],
      "source": [
        "list(prog.items())"
      ]
    },
    {
      "cell_type": "markdown",
      "metadata": {
        "id": "mzT5aEgBK2cE"
      },
      "source": [
        "Метод `.items()` полезен, когда мы хотим выбирать из словаря значения, удовлетворяющие определенным условиям. Для разнообразия возьмем другой словарь ‒ словарь с парами *студент-оценка*:"
      ]
    },
    {
      "cell_type": "code",
      "execution_count": null,
      "metadata": {
        "id": "LxgeEUSsK2cF"
      },
      "outputs": [],
      "source": [
        "grades = {\"Вася\": 7, \"Петя\" : 9, \"Коля\" : 8, \"Лена\" : 8,\n",
        "          \"Василиса\" : 10}"
      ]
    },
    {
      "cell_type": "markdown",
      "metadata": {
        "id": "LJiwnXb4K2cI"
      },
      "source": [
        "И выведем на экран имена тех студентов, у которых оценка равна 8:"
      ]
    },
    {
      "cell_type": "code",
      "execution_count": null,
      "metadata": {
        "colab": {
          "base_uri": "https://localhost:8080/"
        },
        "id": "PXxihcVMK2cJ",
        "outputId": "0000c57f-eabf-4c89-970b-7aa36e0c0a23"
      },
      "outputs": [
        {
          "name": "stdout",
          "output_type": "stream",
          "text": [
            "Коля\n",
            "Лена\n"
          ]
        }
      ],
      "source": [
        "for name, grade in grades.items():\n",
        "    if grade == 8:\n",
        "        print(name)"
      ]
    },
    {
      "cell_type": "markdown",
      "metadata": {
        "id": "sj9QR0zzK2cK"
      },
      "source": [
        "Только два человека: Коля и Лена. А как проверить, есть ли в словаре элемент с определенным ключом? Воспользоваться уже знакомым оператором `in`:"
      ]
    },
    {
      "cell_type": "code",
      "execution_count": null,
      "metadata": {
        "colab": {
          "base_uri": "https://localhost:8080/"
        },
        "id": "L5J9j56qK2cL",
        "outputId": "2742d6fd-4e76-44ce-b665-546ae257e45a"
      },
      "outputs": [
        {
          "data": {
            "text/plain": [
              "True"
            ]
          },
          "execution_count": 69,
          "metadata": {},
          "output_type": "execute_result"
        }
      ],
      "source": [
        "\"Коля\" in grades.keys()"
      ]
    },
    {
      "cell_type": "code",
      "execution_count": null,
      "metadata": {
        "colab": {
          "base_uri": "https://localhost:8080/"
        },
        "id": "2yRmKz4-K2cM",
        "outputId": "53bb1961-dc5e-4962-df34-b5f42da01eee"
      },
      "outputs": [
        {
          "data": {
            "text/plain": [
              "False"
            ]
          },
          "execution_count": 70,
          "metadata": {},
          "output_type": "execute_result"
        }
      ],
      "source": [
        "\"Ваня\" in grades.keys()"
      ]
    },
    {
      "cell_type": "markdown",
      "metadata": {
        "id": "FmiBHjY_K2cO"
      },
      "source": [
        "### Создание словарей"
      ]
    },
    {
      "cell_type": "markdown",
      "metadata": {
        "id": "zPFqHgR8K2cP"
      },
      "source": [
        "Как создать словарь с нуля? Можно сначала создать пустой словарь, а затем добавлять в него элементы, то есть пары *ключ-значение*."
      ]
    },
    {
      "cell_type": "code",
      "execution_count": null,
      "metadata": {
        "id": "5DfUkFZqK2cQ"
      },
      "outputs": [],
      "source": [
        "my_dict = {} # пустой словарь"
      ]
    },
    {
      "cell_type": "code",
      "execution_count": null,
      "metadata": {
        "id": "KNgTj43yK2cR"
      },
      "outputs": [],
      "source": [
        "my_dict[1] = 1\n",
        "my_dict['hello'] = 'world'"
      ]
    },
    {
      "cell_type": "code",
      "execution_count": null,
      "metadata": {
        "id": "5XbYUmGjK2cS",
        "outputId": "083ad8f1-68b5-475f-deed-1c67b65b3b3d"
      },
      "outputs": [
        {
          "data": {
            "text/plain": [
              "{1: 1, 'hello': 'world'}"
            ]
          },
          "execution_count": 41,
          "metadata": {},
          "output_type": "execute_result"
        }
      ],
      "source": [
        "my_dict # уже не пустой"
      ]
    },
    {
      "cell_type": "markdown",
      "metadata": {
        "id": "by4ldQbsK2cT"
      },
      "source": [
        "Чтобы понять, каким образом еще можно получить словарь, полезно вспомнить, какие объекты лежат в `dict_items()`."
      ]
    },
    {
      "cell_type": "code",
      "execution_count": null,
      "metadata": {
        "id": "2PFC1fsEK2cU",
        "outputId": "6586bed5-a524-48bd-b2fe-cb0d687547bb"
      },
      "outputs": [
        {
          "data": {
            "text/plain": [
              "dict_items([(1, 1), ('hello', 'world')])"
            ]
          },
          "execution_count": 42,
          "metadata": {},
          "output_type": "execute_result"
        }
      ],
      "source": [
        "my_dict.items()"
      ]
    },
    {
      "cell_type": "markdown",
      "metadata": {
        "id": "DTb0mpggK2cV"
      },
      "source": [
        "Как мы уже обсуждали, `dict_items()` ‒ это список кортежей. Значит, из списка кортежей можно, в свою очередь, получить словарь!"
      ]
    },
    {
      "cell_type": "code",
      "execution_count": null,
      "metadata": {
        "id": "-5zbhMGTK2cW"
      },
      "outputs": [],
      "source": [
        "my_new_dict = dict([(1, 2), (\"Hello\", \"World\"),(11,'tttt')])"
      ]
    },
    {
      "cell_type": "code",
      "execution_count": null,
      "metadata": {
        "colab": {
          "base_uri": "https://localhost:8080/"
        },
        "id": "3-7yl-2fK2cX",
        "outputId": "31018a6a-1280-4c64-9c00-f149cb80baaf"
      },
      "outputs": [
        {
          "data": {
            "text/plain": [
              "{1: 2, 'Hello': 'World', 11: 'tttt'}"
            ]
          },
          "execution_count": 5,
          "metadata": {},
          "output_type": "execute_result"
        }
      ],
      "source": [
        "my_new_dict"
      ]
    },
    {
      "cell_type": "markdown",
      "metadata": {
        "id": "wA4w2G8oK2cY"
      },
      "source": [
        "А можно ли получить словарь на основе списков? Да, но для начала давайте посмотрим, как из элементов разных списков составить пары значений. Пусть у нас есть два списка: список имен и список оценок."
      ]
    },
    {
      "cell_type": "code",
      "execution_count": 1,
      "metadata": {
        "id": "Ti0ZYF57K2cZ"
      },
      "outputs": [],
      "source": [
        "students = [\"Веня\", \"Сеня\", \"Каролина\", \"Сабрина\"]\n",
        "grades = [6, 7, 8, 9]"
      ]
    },
    {
      "cell_type": "markdown",
      "metadata": {
        "id": "AxNNqv6rK2ca"
      },
      "source": [
        "Воспользуемся функцией `zip()`."
      ]
    },
    {
      "cell_type": "code",
      "execution_count": null,
      "metadata": {
        "id": "8iARg32wK2cb",
        "outputId": "86861487-234f-4192-b503-0d53512e53e3"
      },
      "outputs": [
        {
          "data": {
            "text/plain": [
              "[('Веня', 6), ('Сеня', 7), ('Каролина', 8), ('Сабрина', 9)]"
            ]
          },
          "execution_count": 47,
          "metadata": {},
          "output_type": "execute_result"
        }
      ],
      "source": [
        "list(zip(students, grades))"
      ]
    },
    {
      "cell_type": "markdown",
      "metadata": {
        "id": "iqm6AugPK2cc"
      },
      "source": [
        "Как следует из названия, функция `zip()` действует как \"молния\": соединяет две части, то есть два списка, делая из пары списков список пар. Удобно то, что эта функция может соединять не только два списка, но и больше."
      ]
    },
    {
      "cell_type": "code",
      "execution_count": null,
      "metadata": {
        "id": "BHol2Fm1K2cd"
      },
      "outputs": [],
      "source": [
        "rating = [3, 2, 4, 1] # место в рейтинге"
      ]
    },
    {
      "cell_type": "code",
      "execution_count": null,
      "metadata": {
        "colab": {
          "base_uri": "https://localhost:8080/",
          "height": 166
        },
        "id": "H3bXo97kK2cf",
        "outputId": "2b023d01-7a94-4fe2-cde3-62a236d86f10"
      },
      "outputs": [
        {
          "ename": "ValueError",
          "evalue": "ignored",
          "output_type": "error",
          "traceback": [
            "\u001b[0;31m---------------------------------------------------------------------------\u001b[0m",
            "\u001b[0;31mValueError\u001b[0m                                Traceback (most recent call last)",
            "\u001b[0;32m<ipython-input-11-9ee5c8f3853d>\u001b[0m in \u001b[0;36m<module>\u001b[0;34m\u001b[0m\n\u001b[0;32m----> 1\u001b[0;31m \u001b[0mdict\u001b[0m\u001b[0;34m(\u001b[0m\u001b[0mlist\u001b[0m\u001b[0;34m(\u001b[0m\u001b[0mzip\u001b[0m\u001b[0;34m(\u001b[0m\u001b[0mstudents\u001b[0m\u001b[0;34m,\u001b[0m \u001b[0mgrades\u001b[0m\u001b[0;34m,\u001b[0m \u001b[0mrating\u001b[0m\u001b[0;34m)\u001b[0m\u001b[0;34m)\u001b[0m\u001b[0;34m)\u001b[0m\u001b[0;34m\u001b[0m\u001b[0;34m\u001b[0m\u001b[0m\n\u001b[0m",
            "\u001b[0;31mValueError\u001b[0m: dictionary update sequence element #0 has length 3; 2 is required"
          ]
        }
      ],
      "source": [
        "dict(list(zip(students, grades, rating)))"
      ]
    },
    {
      "cell_type": "markdown",
      "metadata": {
        "id": "XFf1fpTnK2ch"
      },
      "source": [
        "Кроме того, функция `zip()` полезна тем, что помогает создавать словари:"
      ]
    },
    {
      "cell_type": "code",
      "execution_count": 4,
      "metadata": {
        "colab": {
          "base_uri": "https://localhost:8080/"
        },
        "id": "RV0Bh16GK2ci",
        "outputId": "cb9766de-f49e-4063-a0c4-433534cb4586"
      },
      "outputs": [
        {
          "output_type": "execute_result",
          "data": {
            "text/plain": [
              "{'Веня': 6, 'Сеня': 7, 'Каролина': 8, 'Сабрина': 9}"
            ]
          },
          "metadata": {},
          "execution_count": 4
        }
      ],
      "source": [
        "gradebook = dict(list(zip(students, grades)))\n",
        "gradebook"
      ]
    },
    {
      "cell_type": "code",
      "execution_count": null,
      "metadata": {
        "id": "_E2vZt54XjOp"
      },
      "outputs": [],
      "source": [
        "gradebook.update({'Nastya': 10})"
      ]
    },
    {
      "cell_type": "code",
      "execution_count": null,
      "metadata": {
        "colab": {
          "base_uri": "https://localhost:8080/"
        },
        "id": "e63h4ozPYIhe",
        "outputId": "5ade3372-bddf-4181-daef-6f3d2d20f5ca"
      },
      "outputs": [
        {
          "data": {
            "text/plain": [
              "{'Веня': 6, 'Сеня': 7, 'Каролина': 8, 'Сабрина': 9, 'Nastya': 10}"
            ]
          },
          "execution_count": 14,
          "metadata": {},
          "output_type": "execute_result"
        }
      ],
      "source": [
        "gradebook"
      ]
    },
    {
      "cell_type": "code",
      "execution_count": null,
      "metadata": {
        "colab": {
          "base_uri": "https://localhost:8080/"
        },
        "id": "ubIlmmmJYNpA",
        "outputId": "9009607f-37fb-4e8b-a147-d26983ebc62f"
      },
      "outputs": [
        {
          "data": {
            "text/plain": [
              "{'Веня': 6,\n",
              " 'Сеня': 7,\n",
              " 'Каролина': 8,\n",
              " 'Сабрина': 9,\n",
              " 'Nastya': 10,\n",
              " 'katya': {2: 3}}"
            ]
          },
          "execution_count": 18,
          "metadata": {},
          "output_type": "execute_result"
        }
      ],
      "source": [
        "gradebook.update({'katya':{2: 3}})\n",
        "gradebook"
      ]
    },
    {
      "cell_type": "markdown",
      "metadata": {
        "id": "d5-1CFYuSo7k"
      },
      "source": [
        "# Работа с файлами в Colab и локально"
      ]
    },
    {
      "cell_type": "markdown",
      "metadata": {
        "id": "jf22sJq2gs2Y"
      },
      "source": [
        "## Colab"
      ]
    },
    {
      "cell_type": "code",
      "execution_count": null,
      "metadata": {
        "colab": {
          "base_uri": "https://localhost:8080/"
        },
        "id": "Q41LdzLwgIRs",
        "outputId": "8cc656ff-5ad9-40fd-db94-f3d4976af675"
      },
      "outputs": [
        {
          "output_type": "stream",
          "name": "stdout",
          "text": [
            "Mounted at /content/drive\n"
          ]
        }
      ],
      "source": [
        "from google.colab import drive\n",
        "drive.mount('/content/drive')"
      ]
    },
    {
      "cell_type": "code",
      "execution_count": null,
      "metadata": {
        "colab": {
          "base_uri": "https://localhost:8080/"
        },
        "id": "ngr8gLh1g8Yv",
        "outputId": "da6c5a48-b2f4-48c4-96de-4cd24a357842"
      },
      "outputs": [
        {
          "name": "stdout",
          "output_type": "stream",
          "text": [
            "/content/drive/My Drive\n"
          ]
        }
      ],
      "source": [
        "cd 'drive/My Drive/'"
      ]
    },
    {
      "cell_type": "code",
      "execution_count": null,
      "metadata": {
        "colab": {
          "base_uri": "https://localhost:8080/"
        },
        "id": "elwy2W3EhCc0",
        "outputId": "d9d6cab3-6899-4119-c9d3-54fbb5ef7f58"
      },
      "outputs": [
        {
          "name": "stdout",
          "output_type": "stream",
          "text": [
            " test.txt   'Новая таблица.gsheet'  'Семинар 1.pptx'\n",
            " Test.xlsx  'Семинар №1,2.ipynb'    'Семинар №3.ipynb'\n"
          ]
        }
      ],
      "source": [
        "ls 'Python/Курс по Python'"
      ]
    },
    {
      "cell_type": "code",
      "execution_count": null,
      "metadata": {
        "colab": {
          "base_uri": "https://localhost:8080/",
          "height": 35
        },
        "id": "iaYIuU7-hxDp",
        "outputId": "50de2f5f-1f14-4671-96c7-808dbd31fdba"
      },
      "outputs": [
        {
          "data": {
            "application/vnd.google.colaboratory.intrinsic+json": {
              "type": "string"
            },
            "text/plain": [
              "'Дисциплина:\\nОсновы программирования на Python'"
            ]
          },
          "execution_count": 85,
          "metadata": {},
          "output_type": "execute_result"
        }
      ],
      "source": [
        "f = open('Python/Курс по Python/test.txt')\n",
        "f.read()"
      ]
    },
    {
      "cell_type": "code",
      "execution_count": null,
      "metadata": {
        "colab": {
          "base_uri": "https://localhost:8080/"
        },
        "id": "IZqXz0gbiISC",
        "outputId": "26bcbc3e-0924-49ff-d70f-a0370765b3e9"
      },
      "outputs": [
        {
          "name": "stdout",
          "output_type": "stream",
          "text": [
            "Дисциплина:\n",
            "\n",
            "Основы программирования на Python\n"
          ]
        }
      ],
      "source": [
        "f = open('Python/Курс по Python/test.txt')\n",
        "for line in f:\n",
        "    print(line)"
      ]
    },
    {
      "cell_type": "code",
      "execution_count": null,
      "metadata": {
        "id": "ls8RSg9qjBEX"
      },
      "outputs": [],
      "source": [
        "l = [str(i)+str(i-1) for i in range(20)]"
      ]
    },
    {
      "cell_type": "code",
      "execution_count": null,
      "metadata": {
        "id": "WEeEpgnujE6V"
      },
      "outputs": [],
      "source": [
        "f = open('Python/Курс по Python/test2.txt', 'w')"
      ]
    },
    {
      "cell_type": "code",
      "execution_count": null,
      "metadata": {
        "id": "FVK7MFWPjIBp"
      },
      "outputs": [],
      "source": [
        "for index in l:\n",
        "    f.write(index + '\\n')"
      ]
    },
    {
      "cell_type": "code",
      "execution_count": null,
      "metadata": {
        "id": "zJKrdREojK2V"
      },
      "outputs": [],
      "source": [
        "f.close()"
      ]
    },
    {
      "cell_type": "code",
      "execution_count": null,
      "metadata": {
        "colab": {
          "base_uri": "https://localhost:8080/"
        },
        "id": "r-KMgf7yjMkv",
        "outputId": "280339e9-6ec8-4714-b180-aa1cecb91fe7"
      },
      "outputs": [
        {
          "data": {
            "text/plain": [
              "['0-1',\n",
              " '10',\n",
              " '21',\n",
              " '32',\n",
              " '43',\n",
              " '54',\n",
              " '65',\n",
              " '76',\n",
              " '87',\n",
              " '98',\n",
              " '109',\n",
              " '1110',\n",
              " '1211',\n",
              " '1312',\n",
              " '1413',\n",
              " '1514',\n",
              " '1615',\n",
              " '1716',\n",
              " '1817',\n",
              " '1918']"
            ]
          },
          "execution_count": 96,
          "metadata": {},
          "output_type": "execute_result"
        }
      ],
      "source": [
        "f = open('Python/Курс по Python/test2.txt', 'r')\n",
        "l = [line.strip() for line in f]\n",
        "l"
      ]
    },
    {
      "cell_type": "markdown",
      "metadata": {
        "id": "L8hLx3V90q17"
      },
      "source": [
        "## Работа с файлами локально (.txt)"
      ]
    },
    {
      "cell_type": "markdown",
      "metadata": {
        "id": "_EFsQWHP0q17"
      },
      "source": [
        "Импортируем модуль `os` (от *operating system*), который позволяет работать с локальными (т.е. находящимися на компьютере) файлами и папками."
      ]
    },
    {
      "cell_type": "code",
      "execution_count": null,
      "metadata": {
        "id": "SAdJP_Ta0q17"
      },
      "outputs": [],
      "source": [
        "import os"
      ]
    },
    {
      "cell_type": "markdown",
      "metadata": {
        "id": "oQQuP4z90q17"
      },
      "source": [
        "Для начала определим рабочую папку – папку, которая используется по умолчанию (из неё по умолчанию запускается Jupyter, в неё сохраняются файлы и прочее, именно она отображается во вкладке *Home*)."
      ]
    },
    {
      "cell_type": "code",
      "execution_count": null,
      "metadata": {
        "id": "j9yJw4sV0q17",
        "outputId": "c1681e50-3aef-462d-90d9-ac36a5c15e9c"
      },
      "outputs": [
        {
          "data": {
            "text/plain": [
              "'/Users/allat/Desktop'"
            ]
          },
          "execution_count": 2,
          "metadata": {},
          "output_type": "execute_result"
        }
      ],
      "source": [
        "os.getcwd()  # от get current working directory"
      ]
    },
    {
      "cell_type": "markdown",
      "metadata": {
        "id": "g2Tr-Frf0q18"
      },
      "source": [
        "На Windows в начале строки будет название диска (`C:` или `D:`), плюс, слэши могут быть обратными (`\\` или `\\\\`). В дальнейшем при создании папки или при указании пути к папке/файлу нужно помнить, что Python распознаёт только прямые слэши `/` (на Windows ещё двойные `\\\\`, но иногда бывают сбои)."
      ]
    },
    {
      "cell_type": "markdown",
      "metadata": {
        "id": "FTaZGYFM0q18"
      },
      "source": [
        "Добавим пустую папку на рабочий стол (`Desktop`) и назовём её `to-test`:"
      ]
    },
    {
      "cell_type": "code",
      "execution_count": null,
      "metadata": {
        "id": "POOXOlaL0q18"
      },
      "outputs": [],
      "source": [
        "os.mkdir('/Users/allat/Desktop/to-test')"
      ]
    },
    {
      "cell_type": "markdown",
      "metadata": {
        "id": "iwD9Ynzg0q18"
      },
      "source": [
        "Сделаем только что созданную папку рабочей:"
      ]
    },
    {
      "cell_type": "code",
      "execution_count": null,
      "metadata": {
        "id": "oboHrzZU0q18"
      },
      "outputs": [],
      "source": [
        "os.chdir('/Users/allat/Desktop/to-test')  # chdir - от change directory"
      ]
    },
    {
      "cell_type": "markdown",
      "metadata": {
        "id": "_jB8IX8E0q18"
      },
      "source": [
        "Посмотрим на содержимое этой папки:"
      ]
    },
    {
      "cell_type": "code",
      "execution_count": null,
      "metadata": {
        "id": "3TCvzm8p0q18",
        "outputId": "a3acca7c-b7c7-462a-89c9-0fc31f191d6d"
      },
      "outputs": [
        {
          "data": {
            "text/plain": [
              "[]"
            ]
          },
          "execution_count": 5,
          "metadata": {},
          "output_type": "execute_result"
        }
      ],
      "source": [
        "os.listdir()"
      ]
    },
    {
      "cell_type": "markdown",
      "metadata": {
        "id": "jSt5sTdm0q18"
      },
      "source": [
        "Пока пусто. Это ожидаемо. Исправим: создадим два пустых txt-файла:"
      ]
    },
    {
      "cell_type": "code",
      "execution_count": null,
      "metadata": {
        "id": "nYZQh5dh0q19"
      },
      "outputs": [],
      "source": [
        "f1 = open('file1.txt', 'w')\n",
        "f1.close()\n",
        "f2 = open('file2.txt', 'w')\n",
        "f2.close()"
      ]
    },
    {
      "cell_type": "markdown",
      "metadata": {
        "id": "uPnvKeZ80q19"
      },
      "source": [
        "Проверим теперь:"
      ]
    },
    {
      "cell_type": "code",
      "execution_count": null,
      "metadata": {
        "id": "DkvHcpFH0q19",
        "outputId": "212e49c5-2e38-4360-baa4-2171a75e1685"
      },
      "outputs": [
        {
          "data": {
            "text/plain": [
              "['file2.txt', 'file1.txt']"
            ]
          },
          "execution_count": 7,
          "metadata": {},
          "output_type": "execute_result"
        }
      ],
      "source": [
        "os.listdir()  #  появились!"
      ]
    },
    {
      "cell_type": "markdown",
      "metadata": {
        "id": "EwOvChKi0q19"
      },
      "source": [
        "Функция `listdir()` возвращает список файлов/папок. По умолчанию, если ничего не указано в круглых скобках,\n",
        "возвращается содержимое текущей рабочей папки. Но в скобках можно указать путь к любой папке:"
      ]
    },
    {
      "cell_type": "markdown",
      "metadata": {
        "id": "B6fl3K5E0q19"
      },
      "source": [
        "Вернёмся к нашей папке и сохраним её содержимое одним списком:"
      ]
    },
    {
      "cell_type": "code",
      "execution_count": null,
      "metadata": {
        "id": "8o0lGihG0q19"
      },
      "outputs": [],
      "source": [
        "files = os.listdir()"
      ]
    },
    {
      "cell_type": "code",
      "execution_count": null,
      "metadata": {
        "id": "O5VkX9YB0q19",
        "outputId": "58f462b2-52d8-419a-d2ee-2bbb0b228244"
      },
      "outputs": [
        {
          "data": {
            "text/plain": [
              "['file2.txt', 'file1.txt']"
            ]
          },
          "execution_count": 10,
          "metadata": {},
          "output_type": "execute_result"
        }
      ],
      "source": [
        "files"
      ]
    },
    {
      "cell_type": "markdown",
      "metadata": {
        "id": "jGrf1V4Y0q19"
      },
      "source": [
        "Теперь проделаем следующее: будем открывать все файлы в списке `files`, записывать туда строку `\"hello\"` и закрывать. Понятно, что это игрушечный пример, но точно таким же образом можно будет сделать что-то посерьёзнее, например, открывать текстовые файлы, нормализовывать текст в них (приводить к нижнему регистру, убирать пунктуацию и лишние слова) и сохранять изменённый файл в другую папку. Нам понадобится цикл:"
      ]
    },
    {
      "cell_type": "code",
      "execution_count": null,
      "metadata": {
        "id": "bfclUFSP0q19"
      },
      "outputs": [],
      "source": [
        "for f in files:\n",
        "    F = open(f, 'a')\n",
        "    print('hello', file = F)\n",
        "    F.close()"
      ]
    },
    {
      "cell_type": "markdown",
      "metadata": {
        "id": "fn-3gcm70q1-"
      },
      "source": [
        "Проверим, что содержимое файлов изменилось:"
      ]
    },
    {
      "cell_type": "code",
      "execution_count": null,
      "metadata": {
        "id": "t5HEyEmn0q1-",
        "outputId": "8d394760-7330-478e-bcbd-60a79e787553"
      },
      "outputs": [
        {
          "data": {
            "text/plain": [
              "['hello\\n']"
            ]
          },
          "execution_count": 12,
          "metadata": {},
          "output_type": "execute_result"
        }
      ],
      "source": [
        "f = open('file1.txt', 'r')  # и у файла file2.txt будет то же самое\n",
        "f.readlines()"
      ]
    },
    {
      "cell_type": "markdown",
      "source": [
        "## Работа с файлами локально (.json)"
      ],
      "metadata": {
        "id": "7FrPu1QXh1xi"
      }
    },
    {
      "cell_type": "code",
      "source": [
        "import json"
      ],
      "metadata": {
        "id": "sf3xhjYmyA66"
      },
      "execution_count": null,
      "outputs": []
    },
    {
      "cell_type": "code",
      "source": [
        "dictionary = {\n",
        "    \"name\": \"Ann\",\n",
        "    \"age\": 20,\n",
        "    \"phonenumber\": \"9976770500\"\n",
        "}\n",
        "\n",
        "json_object = json.dumps(dictionary)\n",
        "\n",
        "with open(\"sample.json\", \"w\") as outfile:\n",
        "    outfile.write(json_object)"
      ],
      "metadata": {
        "id": "ltTxtCFUySm4"
      },
      "execution_count": null,
      "outputs": []
    },
    {
      "cell_type": "code",
      "source": [
        "with open('sample.json', 'r') as openfile:\n",
        "    json_object = json.load(openfile)\n",
        "\n",
        "print(json_object)\n",
        "print(type(json_object))"
      ],
      "metadata": {
        "id": "ZfHLR25eyiJs"
      },
      "execution_count": null,
      "outputs": []
    },
    {
      "cell_type": "markdown",
      "metadata": {
        "id": "DTrVvHsvSjh2"
      },
      "source": [
        "## Еще библиотеки для работы с файлами"
      ]
    },
    {
      "cell_type": "code",
      "execution_count": null,
      "metadata": {
        "colab": {
          "base_uri": "https://localhost:8080/"
        },
        "id": "iLaYH7TZj2uW",
        "outputId": "f8f20e5f-d78f-425e-b737-37b4cb7ef832"
      },
      "outputs": [
        {
          "name": "stdout",
          "output_type": "stream",
          "text": [
            "Looking in indexes: https://pypi.org/simple, https://us-python.pkg.dev/colab-wheels/public/simple/\n",
            "Requirement already satisfied: openpyxl in /usr/local/lib/python3.7/dist-packages (3.0.10)\n",
            "Collecting xlsxwriter\n",
            "  Downloading XlsxWriter-3.0.3-py3-none-any.whl (149 kB)\n",
            "\u001b[K     |████████████████████████████████| 149 kB 5.3 MB/s \n",
            "\u001b[?25hRequirement already satisfied: xlrd in /usr/local/lib/python3.7/dist-packages (1.1.0)\n",
            "Requirement already satisfied: et-xmlfile in /usr/local/lib/python3.7/dist-packages (from openpyxl) (1.1.0)\n",
            "Installing collected packages: xlsxwriter\n",
            "Successfully installed xlsxwriter-3.0.3\n"
          ]
        }
      ],
      "source": [
        "!pip install openpyxl xlsxwriter xlrd  # или pip3"
      ]
    },
    {
      "cell_type": "markdown",
      "metadata": {
        "id": "AjyuCK1zkIl1"
      },
      "source": [
        "1. Получение названий листов из файла Excel"
      ]
    },
    {
      "cell_type": "code",
      "execution_count": null,
      "metadata": {
        "colab": {
          "base_uri": "https://localhost:8080/"
        },
        "id": "isq1aO8cj4t9",
        "outputId": "0e1cd6c3-1533-413a-fd2e-b8df73a2436c"
      },
      "outputs": [
        {
          "name": "stdout",
          "output_type": "stream",
          "text": [
            "['Лист1']\n"
          ]
        }
      ],
      "source": [
        "import openpyxl\n",
        "\n",
        "excel_file = openpyxl.load_workbook('Python/Курс по Python/Test.xlsx')\n",
        "\n",
        "# sheet names\n",
        "print(excel_file.sheetnames)"
      ]
    },
    {
      "cell_type": "markdown",
      "metadata": {
        "id": "4wqx7j_wkJUd"
      },
      "source": [
        "2. Получение специфического листа из файла Excel"
      ]
    },
    {
      "cell_type": "code",
      "execution_count": null,
      "metadata": {
        "colab": {
          "base_uri": "https://localhost:8080/"
        },
        "id": "XVKvh6pVkL4D",
        "outputId": "1f6fdb9f-d48b-4de5-adb7-7b8cd0ebc420"
      },
      "outputs": [
        {
          "name": "stdout",
          "output_type": "stream",
          "text": [
            "<class 'openpyxl.workbook.workbook.Workbook'>\n",
            "<class 'openpyxl.worksheet.worksheet.Worksheet'>\n"
          ]
        }
      ],
      "source": [
        "employees_sheet = excel_file['Лист1']\n",
        "\n",
        "print(type(excel_file))\n",
        "print(type(employees_sheet))\n",
        "\n",
        "currently_active_sheet = excel_file.active"
      ]
    },
    {
      "cell_type": "markdown",
      "metadata": {
        "id": "mdse8VgFkWxz"
      },
      "source": [
        "3. Чтение значения ячейки из листа Excel"
      ]
    },
    {
      "cell_type": "code",
      "execution_count": null,
      "metadata": {
        "colab": {
          "base_uri": "https://localhost:8080/"
        },
        "id": "XuKA_0IukVop",
        "outputId": "5c7aca2b-3f8c-43e5-878c-65068113ed30"
      },
      "outputs": [
        {
          "name": "stdout",
          "output_type": "stream",
          "text": [
            "<class 'openpyxl.cell.cell.Cell'>\n",
            "[A1]=Список группы\n",
            "[A1]=Список группы\n"
          ]
        }
      ],
      "source": [
        "cell_obj = employees_sheet.cell(row=1, column=1)\n",
        "print(type(cell_obj))\n",
        "print(f'[A1]={cell_obj.value}')\n",
        "\n",
        "# second way\n",
        "print(f'[A1]={employees_sheet[\"A1\"].value}')"
      ]
    },
    {
      "cell_type": "markdown",
      "metadata": {
        "id": "eQ8GOLPmkkcX"
      },
      "source": [
        "4. Общее количество рядов и столбцов в листе Excel"
      ]
    },
    {
      "cell_type": "markdown",
      "metadata": {
        "id": "YAjo78WWkoBx"
      },
      "source": [
        "Мы можем получить общее количество строк и столбцов, используя max_row и max_column свойства рабочего листа."
      ]
    },
    {
      "cell_type": "code",
      "execution_count": null,
      "metadata": {
        "colab": {
          "base_uri": "https://localhost:8080/"
        },
        "id": "Z8Hcixx6kmSf",
        "outputId": "d25081e8-8744-4f27-8e05-3cc04d5bc6a7"
      },
      "outputs": [
        {
          "name": "stdout",
          "output_type": "stream",
          "text": [
            "Total Rows = 7 and Total Columns = 2\n"
          ]
        }
      ],
      "source": [
        "print(f'Total Rows = {employees_sheet.max_row} and Total Columns = {employees_sheet.max_column}')"
      ]
    },
    {
      "cell_type": "markdown",
      "metadata": {
        "id": "nh50ZqjBkpv3"
      },
      "source": [
        "5. Строка печати заголовка листа Excel"
      ]
    },
    {
      "cell_type": "code",
      "execution_count": null,
      "metadata": {
        "colab": {
          "base_uri": "https://localhost:8080/"
        },
        "id": "pmd7vjVcksne",
        "outputId": "93299de6-4649-4c10-81aa-40bd8f1d9f8d"
      },
      "outputs": [
        {
          "name": "stdout",
          "output_type": "stream",
          "text": [
            "Список группы\n",
            "None\n"
          ]
        }
      ],
      "source": [
        "header_cells_generator = employees_sheet.iter_rows(max_row=1)\n",
        "\n",
        "for header_cells_tuple in header_cells_generator:\n",
        "    for i in range(len(header_cells_tuple)):\n",
        "        print(header_cells_tuple[i].value)"
      ]
    },
    {
      "cell_type": "markdown",
      "metadata": {
        "id": "IvPTs_jukxUF"
      },
      "source": [
        "Функция iter_rows() генерирует ячейки из рабочего листа по строке. Мы можем использовать его, чтобы получить клетки из определенного ряда"
      ]
    },
    {
      "cell_type": "markdown",
      "metadata": {
        "id": "sywwBtgfkxm6"
      },
      "source": [
        "6. Печать всех значений из столбца"
      ]
    },
    {
      "cell_type": "code",
      "execution_count": null,
      "metadata": {
        "colab": {
          "base_uri": "https://localhost:8080/"
        },
        "id": "ljugKqT7kyl0",
        "outputId": "8d8179ca-92e6-4098-dec3-ad4ec440225e"
      },
      "outputs": [
        {
          "name": "stdout",
          "output_type": "stream",
          "text": [
            "Список группы\n",
            "1\n",
            "2\n",
            "3\n",
            "4\n",
            "5\n",
            "6\n"
          ]
        }
      ],
      "source": [
        "for x in range(1, employees_sheet.max_row+1):\n",
        "    print(employees_sheet.cell(row=x, column=1).value)"
      ]
    },
    {
      "cell_type": "markdown",
      "metadata": {
        "id": "CzON6QIqk1Qk"
      },
      "source": [
        "7. Печать всех значений из строки"
      ]
    },
    {
      "cell_type": "code",
      "execution_count": null,
      "metadata": {
        "colab": {
          "base_uri": "https://localhost:8080/"
        },
        "id": "O-oD_qSjk1tu",
        "outputId": "c9d143c2-b612-4b64-8c0a-aac82d34b964"
      },
      "outputs": [
        {
          "name": "stdout",
          "output_type": "stream",
          "text": [
            "1\n",
            "Иван\n"
          ]
        }
      ],
      "source": [
        "for x in range(1, employees_sheet.max_column+1):\n",
        "    print(employees_sheet.cell(row=2, column=x).value)"
      ]
    },
    {
      "cell_type": "markdown",
      "metadata": {
        "id": "tKzlp_ubk5BF"
      },
      "source": [
        "8. Чтение клеток из заданного диапазона"
      ]
    },
    {
      "cell_type": "code",
      "execution_count": null,
      "metadata": {
        "colab": {
          "base_uri": "https://localhost:8080/"
        },
        "id": "0CGE3j94k5Zc",
        "outputId": "4cfa1828-5dd7-48f8-b1d7-430e3b6169a7"
      },
      "outputs": [
        {
          "name": "stdout",
          "output_type": "stream",
          "text": [
            "[1, Иван, None]\n",
            "[2, Анна, None]\n"
          ]
        }
      ],
      "source": [
        "cells = employees_sheet['A2':'C3']\n",
        "\n",
        "for id, name, role in cells:\n",
        "    print(f'[{id.value}, {name.value}, {role.value}]')"
      ]
    },
    {
      "cell_type": "markdown",
      "metadata": {
        "id": "Fs9dFhkMlAB0"
      },
      "source": [
        "9. Итерация по строкам"
      ]
    },
    {
      "cell_type": "code",
      "execution_count": null,
      "metadata": {
        "colab": {
          "base_uri": "https://localhost:8080/"
        },
        "id": "_phIaOJVk_k7",
        "outputId": "ce5bc266-e643-4a36-9bd5-a325acacdfe7"
      },
      "outputs": [
        {
          "name": "stdout",
          "output_type": "stream",
          "text": [
            "1|Иван|None|\n",
            "2|Анна|None|\n",
            "3|Петр|None|\n"
          ]
        }
      ],
      "source": [
        "for row in employees_sheet.iter_rows(min_row=2, min_col=1, max_row=4, max_col=3):\n",
        "    for cell in row:\n",
        "        print(cell.value, end=\"|\")\n",
        "    print(\"\")"
      ]
    },
    {
      "cell_type": "markdown",
      "metadata": {
        "id": "pUhKnPunlDoL"
      },
      "source": [
        "Аргументы, переданные функции iter_rows(), создают двумерную таблицу, из которой значения читаются по строкам. В этом примере значения читаются между A2 и C4."
      ]
    },
    {
      "cell_type": "markdown",
      "metadata": {
        "id": "UKp1TamXlCnL"
      },
      "source": [
        "10. Итерация по столбцам"
      ]
    },
    {
      "cell_type": "code",
      "execution_count": null,
      "metadata": {
        "colab": {
          "base_uri": "https://localhost:8080/"
        },
        "id": "R7dvGmSTlFEV",
        "outputId": "cef6dfff-29d3-404e-c8cb-a31d5d442004"
      },
      "outputs": [
        {
          "name": "stdout",
          "output_type": "stream",
          "text": [
            "1|2|3|\n",
            "Иван|Анна|Петр|\n",
            "None|None|None|\n"
          ]
        }
      ],
      "source": [
        "for col in employees_sheet.iter_cols(min_row=2, min_col=1, max_row=4, max_col=3):\n",
        "    for cell in col:\n",
        "        print(cell.value, end=\"|\")\n",
        "    print(\"\")"
      ]
    },
    {
      "cell_type": "markdown",
      "source": [
        "# Задача на семинар \"Парсер папок\" (выполняется локально)"
      ],
      "metadata": {
        "id": "sZkQ-Nich7a4"
      }
    },
    {
      "cell_type": "markdown",
      "source": [
        "Представим, что вы провели множестов экспериментов.\n",
        "Программное обеспечение, которым вы пользовались, записывает результаты измерений в json файл и сохраняет в папке с номером эксперимента. Внутри одного эксперимента может быть несколько измерений, т.е. несколько json файлов.\n",
        "\n",
        "Каждый json файл содержит словарь с результатами измерений и результатами расчета метрик по ним (структура словаря определена в функции генерации папок).\n",
        "\n",
        "Вам необходимо найти среди всех измерений по всем экспериментам результаты с наилучшим confidence для определенного типа клеток и вывести путь к этому файлу."
      ],
      "metadata": {
        "id": "zoOF5_kaiFbS"
      }
    },
    {
      "cell_type": "code",
      "source": [
        "import shutil\n",
        "import random\n",
        "import json\n",
        "\n",
        "path = 'path_to_folder_for_generation'\n",
        "\n",
        "def create_experiments(path, folder, create_random_number_folders=10, create_random_number_files=10):\n",
        "    if os.path.exists(os.path.join(path, folder)):\n",
        "        print('exist, delete folder')\n",
        "        shutil.rmtree(os.path.join(path, folder))\n",
        "    os.mkdir(os.path.join(path, folder))\n",
        "\n",
        "    folders_number = random.randint(1, create_random_number_folders)\n",
        "    for i in range(folders_number):\n",
        "        os.mkdir(os.path.join(path, folder, 'my_experiment_' + str(i)))\n",
        "        files_number = random.randint(1, create_random_number_files)\n",
        "        for j in range(files_number):\n",
        "            dict_for_json = {\n",
        "                'measurement_number': j,\n",
        "                'cell': random.choice(['erythrocytes', 'lymphocytes', 'monocytes', 'basophils', 'neutrophils', 'eosinophils']),\n",
        "                'parameters': {\n",
        "                    'square': random.randint(0, 100),\n",
        "                    'perimeter': random.randint(0, 100),\n",
        "                },\n",
        "                'metric':\n",
        "                {\n",
        "                    'confidence': random.randint(0, 100)\n",
        "                }\n",
        "            }\n",
        "\n",
        "            with open(os.path.join(path, folder, 'my_experiment_' + str(i), 'measurement_number_' + str(j) + '.json'), 'w') as f:\n",
        "                json.dump(dict_for_json, f)\n",
        "\n",
        "\n",
        "# функция создает папки с экспериментами\n",
        "create_experiments(path, \"my_folder\", create_random_number_folders=10, create_random_number_files=10)"
      ],
      "metadata": {
        "id": "IraX98m4abw4"
      },
      "execution_count": null,
      "outputs": []
    }
  ],
  "metadata": {
    "colab": {
      "provenance": []
    },
    "kernelspec": {
      "display_name": "Python 3",
      "name": "python3"
    },
    "language_info": {
      "name": "python"
    }
  },
  "nbformat": 4,
  "nbformat_minor": 0
}