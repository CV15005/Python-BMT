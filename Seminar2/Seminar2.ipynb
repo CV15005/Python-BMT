{
 "cells": [
  {
   "cell_type": "markdown",
   "metadata": {
    "id": "gjXwZaUIFvbE"
   },
   "source": [
    "# Семинар №2"
   ]
  },
  {
   "cell_type": "markdown",
   "metadata": {
    "id": "q6Q7YzCJG9iD"
   },
   "source": [
    "## Введение в списки и цикл `for`"
   ]
  },
  {
   "cell_type": "markdown",
   "metadata": {
    "id": "5DSBtmF8G9iH"
   },
   "source": [
    "### Знакомство со списками"
   ]
  },
  {
   "cell_type": "markdown",
   "metadata": {
    "id": "ZRkKqjDqG9iI"
   },
   "source": [
    "Создадим список значений возраста респондентов, список `age`:"
   ]
  },
  {
   "cell_type": "code",
   "execution_count": null,
   "metadata": {
    "colab": {
     "base_uri": "https://localhost:8080/"
    },
    "id": "JcgHQ1SUG9iK",
    "outputId": "5f5ac4e7-248a-40e3-8776-08c74efab539"
   },
   "outputs": [
    {
     "data": {
      "text/plain": [
       "[23, 25, 32, 48, 19]"
      ]
     },
     "execution_count": 1,
     "metadata": {},
     "output_type": "execute_result"
    }
   ],
   "source": [
    "age = [23, 25, 32, 48, 19]  # возраст\n",
    "age"
   ]
  },
  {
   "cell_type": "code",
   "execution_count": null,
   "metadata": {
    "id": "j1gCSm9rx-dC"
   },
   "outputs": [],
   "source": [
    "list()"
   ]
  },
  {
   "cell_type": "markdown",
   "metadata": {
    "id": "xi1SXJoCG9iQ"
   },
   "source": [
    "Элементы списка перечисляются в квадратных скобках через запятую.\n",
    "\n",
    "Можем создать список имен `name`, полностью состоящий из строк:"
   ]
  },
  {
   "cell_type": "code",
   "execution_count": null,
   "metadata": {
    "colab": {
     "base_uri": "https://localhost:8080/"
    },
    "id": "_b6aBSLVG9iS",
    "outputId": "acb4abe5-f191-44fb-8c4b-f7700124994f"
   },
   "outputs": [
    {
     "data": {
      "text/plain": [
       "['Анна', 'Виктор', 'Дмитрий', 'Алёна', 'Павел']"
      ]
     },
     "execution_count": 2,
     "metadata": {},
     "output_type": "execute_result"
    }
   ],
   "source": [
    "name = [\"Анна\", \"Виктор\", \"Дмитрий\", \"Алёна\", \"Павел\"] # имена\n",
    "name"
   ]
  },
  {
   "cell_type": "markdown",
   "metadata": {
    "id": "yBI24zDLG9iT"
   },
   "source": [
    "А можем создать смешанный список – список, состоящий из элементов разных типов. Представим, что не очень сознательный исследователь закодировал пропущенные значения в списке текстом, написал \"нет ответа\":"
   ]
  },
  {
   "cell_type": "code",
   "execution_count": null,
   "metadata": {
    "id": "032JPCKUG9iV"
   },
   "outputs": [],
   "source": [
    "mix = [23, 25, \"нет ответа\", 32, \"нет ответа\"] # все вместе"
   ]
  },
  {
   "cell_type": "markdown",
   "metadata": {
    "id": "gVOYYWFRG9iW"
   },
   "source": [
    "Элементы разных типов спокойно уживаются в списке: Python не меняет тип элементов. Все элементы, которые являются строками, останутся строками, числа – числами, а сам список будет обычным списком:"
   ]
  },
  {
   "cell_type": "code",
   "execution_count": null,
   "metadata": {
    "colab": {
     "base_uri": "https://localhost:8080/"
    },
    "id": "r0ZWY2uuG9iY",
    "outputId": "a19f6e7d-4c3c-4409-f607-d473aec2063b"
   },
   "outputs": [
    {
     "data": {
      "text/plain": [
       "list"
      ]
     },
     "execution_count": 3,
     "metadata": {},
     "output_type": "execute_result"
    }
   ],
   "source": [
    "type(mix)"
   ]
  },
  {
   "cell_type": "markdown",
   "metadata": {
    "id": "kDNwAPv9G9ib"
   },
   "source": [
    "У списка всегда есть длина – количество элементов в нем. Длина определяется с помощью функции `len()`."
   ]
  },
  {
   "cell_type": "code",
   "execution_count": null,
   "metadata": {
    "colab": {
     "base_uri": "https://localhost:8080/"
    },
    "id": "KtktuN0sG9ic",
    "outputId": "e1bbfd80-b78d-4069-a07d-9e73195924ff"
   },
   "outputs": [
    {
     "data": {
      "text/plain": [
       "5"
      ]
     },
     "execution_count": 3,
     "metadata": {},
     "output_type": "execute_result"
    }
   ],
   "source": [
    "len(mix)  # пять элементов"
   ]
  },
  {
   "cell_type": "markdown",
   "metadata": {
    "id": "l8tWrMn_G9ie"
   },
   "source": [
    "Если список пустой, то, как несложно догадаться,  его длина равна нулю:"
   ]
  },
  {
   "cell_type": "code",
   "execution_count": null,
   "metadata": {
    "colab": {
     "base_uri": "https://localhost:8080/"
    },
    "id": "JOWpkdMyG9ig",
    "outputId": "67e93512-cbb3-425a-c160-dca7abe527bf"
   },
   "outputs": [
    {
     "data": {
      "text/plain": [
       "0"
      ]
     },
     "execution_count": 5,
     "metadata": {},
     "output_type": "execute_result"
    }
   ],
   "source": [
    "empty = list()\n",
    "len(empty)"
   ]
  },
  {
   "cell_type": "markdown",
   "metadata": {
    "id": "JeiWArX0G9ii"
   },
   "source": [
    "Раз список состоит из элементов, к ним можно обратиться по отдельности. Главное, нужно помнить, что нумерация в Python начинается с нуля, а не с единицы. Существует несколько обоснований, почему это так, с одним из них мы познакомимся чуть позже, когда будем обсуждать срезы (*slices)*."
   ]
  },
  {
   "cell_type": "code",
   "execution_count": null,
   "metadata": {
    "colab": {
     "base_uri": "https://localhost:8080/"
    },
    "id": "C5bp8cHUG9ik",
    "outputId": "9d259974-b6f6-41ca-a349-9bbef6a87816"
   },
   "outputs": [
    {
     "data": {
      "text/plain": [
       "25"
      ]
     },
     "execution_count": 6,
     "metadata": {},
     "output_type": "execute_result"
    }
   ],
   "source": [
    "age[1]  # первый элемент age"
   ]
  },
  {
   "cell_type": "markdown",
   "metadata": {
    "id": "jUmNusjBG9im"
   },
   "source": [
    "Порядковый номер элемента в списке называется индексом. Далее, чтобы не путаться, будем разделять термины: порядковые числительные останутся для обозначения номера элемента в нашем обычном понимании, а индексы – для обозначения номера элемента в Python. Например, если нас будет интересовать элемент 25 из списка `age`, мы можем сказать, что нас интересует второй элемент или элемент с индексом 1:"
   ]
  },
  {
   "cell_type": "code",
   "execution_count": null,
   "metadata": {
    "colab": {
     "base_uri": "https://localhost:8080/"
    },
    "id": "0DUteg2LG9ip",
    "outputId": "e8e854d6-db1b-4cd7-f771-368989176eeb"
   },
   "outputs": [
    {
     "name": "stdout",
     "output_type": "stream",
     "text": [
      "[23, 25, 32, 48, 19]\n",
      "25\n"
     ]
    }
   ],
   "source": [
    "print(age)\n",
    "print(age[1])"
   ]
  },
  {
   "cell_type": "markdown",
   "metadata": {
    "id": "tz1P8I8KG9is"
   },
   "source": [
    "Если элемента с интересующим нас индексом в списке нет, Python выдаст ошибку, а точнее, исключение, `IndexError`."
   ]
  },
  {
   "cell_type": "code",
   "execution_count": null,
   "metadata": {
    "colab": {
     "base_uri": "https://localhost:8080/",
     "height": 179
    },
    "id": "MU1ujl2CG9it",
    "outputId": "539486f6-b7d4-4d73-8db1-d0304f92b6db"
   },
   "outputs": [
    {
     "ename": "IndexError",
     "evalue": "ignored",
     "output_type": "error",
     "traceback": [
      "\u001b[0;31m---------------------------------------------------------------------------\u001b[0m",
      "\u001b[0;31mIndexError\u001b[0m                                Traceback (most recent call last)",
      "\u001b[0;32m<ipython-input-11-979e3832d406>\u001b[0m in \u001b[0;36m<cell line: 1>\u001b[0;34m()\u001b[0m\n\u001b[0;32m----> 1\u001b[0;31m \u001b[0mage\u001b[0m\u001b[0;34m[\u001b[0m\u001b[0;36m7\u001b[0m\u001b[0;34m]\u001b[0m\u001b[0;34m\u001b[0m\u001b[0;34m\u001b[0m\u001b[0m\n\u001b[0m",
      "\u001b[0;31mIndexError\u001b[0m: list index out of range"
     ]
    }
   ],
   "source": [
    "age[7]"
   ]
  },
  {
   "cell_type": "markdown",
   "metadata": {
    "id": "oXJE9SHTG9iv"
   },
   "source": [
    "А как обратиться к последнему элементу списка, да так, чтобы код работал и в случае, когда мы изменим длину списка? Давайте подумаем. Длина списка `age`, как мы уже убедились, равна 5, но нумерация самих элементов начинается с нуля. Поэтому:"
   ]
  },
  {
   "cell_type": "code",
   "execution_count": null,
   "metadata": {
    "colab": {
     "base_uri": "https://localhost:8080/"
    },
    "id": "AM2To8d9G9ix",
    "outputId": "00ee309f-ac02-43fd-c776-42d9fff15141"
   },
   "outputs": [
    {
     "data": {
      "text/plain": [
       "19"
      ]
     },
     "execution_count": 7,
     "metadata": {},
     "output_type": "execute_result"
    }
   ],
   "source": [
    "age[len(age) - 1]  # последний элемент - 19"
   ]
  },
  {
   "cell_type": "markdown",
   "metadata": {
    "id": "L4j-9Kd7G9iy"
   },
   "source": [
    "Конечно, в том, что нумерация элементов в списке начинается с нуля, есть некоторое неудобство – индекс последнего элемента не совпадает с длиной списка. Но, на самом деле, обращаться к последнему элементу списка можно и по-другому: считать элементы с конца!"
   ]
  },
  {
   "cell_type": "code",
   "execution_count": null,
   "metadata": {
    "colab": {
     "base_uri": "https://localhost:8080/"
    },
    "id": "X5ToVWh7G9iz",
    "outputId": "b80eebfa-b8e2-4fec-c047-0905d0ee7a64"
   },
   "outputs": [
    {
     "data": {
      "text/plain": [
       "19"
      ]
     },
     "execution_count": 8,
     "metadata": {},
     "output_type": "execute_result"
    }
   ],
   "source": [
    "age[-1] # последний элемент - он же первый с конца"
   ]
  },
  {
   "cell_type": "markdown",
   "metadata": {
    "id": "MUTrRUSpG9i1"
   },
   "source": [
    "Отрицательные индексы элементов в Python – абсолютно нормальная вещь. Можем так же получить второй элемент с конца:"
   ]
  },
  {
   "cell_type": "code",
   "execution_count": null,
   "metadata": {
    "colab": {
     "base_uri": "https://localhost:8080/"
    },
    "id": "zKl9leC2G9i2",
    "outputId": "db953a40-1ad2-4f64-df8c-ca375c2d8e18"
   },
   "outputs": [
    {
     "data": {
      "text/plain": [
       "48"
      ]
     },
     "execution_count": 9,
     "metadata": {},
     "output_type": "execute_result"
    }
   ],
   "source": [
    "age[-2]"
   ]
  },
  {
   "cell_type": "code",
   "execution_count": null,
   "metadata": {
    "colab": {
     "base_uri": "https://localhost:8080/"
    },
    "id": "oS2d7rd2MGpP",
    "outputId": "26ed9182-2f9a-4e0b-faf7-cd995a3834de"
   },
   "outputs": [
    {
     "data": {
      "text/plain": [
       "2"
      ]
     },
     "execution_count": 10,
     "metadata": {},
     "output_type": "execute_result"
    }
   ],
   "source": [
    "a = [1, 4.0, 'Hello', [1, 2, 3]]\n",
    "a[3][1]"
   ]
  },
  {
   "cell_type": "markdown",
   "metadata": {
    "id": "Ihir3AY3G9i3"
   },
   "source": [
    "### Цикл for\n",
    "\n",
    "Раз есть списки, хочется научиться «пробегаться» по их элементам. Например, выводить на экран не весь список `age` сразу, а постепенно, каждый элемент с новой строчки. Для этого есть циклы. Рассмотрим цикл *for*."
   ]
  },
  {
   "cell_type": "code",
   "execution_count": null,
   "metadata": {
    "colab": {
     "base_uri": "https://localhost:8080/"
    },
    "id": "Lw5bptrSG9i5",
    "outputId": "590ccdf3-a36b-4a8f-f095-103c4ae83266"
   },
   "outputs": [
    {
     "name": "stdout",
     "output_type": "stream",
     "text": [
      "23 25 32 48 19 "
     ]
    }
   ],
   "source": [
    "for i in age:\n",
    "    print(i, end = ' ')"
   ]
  },
  {
   "cell_type": "markdown",
   "metadata": {
    "id": "c-GcvyVQG9i7"
   },
   "source": [
    "Как устроен цикл выше? Кодом выше мы доносим до Python мысль:\n",
    "\n",
    "* пробегайся по всем элементам списка `age` (`for i in age`);\n",
    "* выводи каждый элемент на экран (`print(i)`).\n",
    "\n",
    "Вообще любой цикл *for* имеет такую структуру: сначала указывается, по каким значениям нужно итерировать «пробегаться», а потом, что нужно делать. Действия, которые нужно выполнить в цикле, указываются после двоеточия в *for* – эта часть назвается *телом* цикла.  \n",
    "\n",
    "Буквы в конструкции *for* могут быть любые, совсем необязательно брать букву `i`. Python сам поймет, что мы имеем в виду, запуская цикл.\n",
    "\n",
    "В качестве еще одного примера давайте для каждого элемента списка выведем на экран сообщение вида:\n",
    "\n",
    "    x^2 – квадрат числа x."
   ]
  },
  {
   "cell_type": "code",
   "execution_count": null,
   "metadata": {
    "colab": {
     "base_uri": "https://localhost:8080/"
    },
    "id": "UyJt56dYG9i8",
    "outputId": "db24bb7e-f6cf-47e2-9384-27876e56cf3d"
   },
   "outputs": [
    {
     "name": "stdout",
     "output_type": "stream",
     "text": [
      "529 – квадрат числа 23\n",
      "625 – квадрат числа 25\n",
      "1024 – квадрат числа 32\n",
      "2304 – квадрат числа 48\n",
      "361 – квадрат числа 19\n"
     ]
    }
   ],
   "source": [
    "# вместо i напишем a\n",
    "for a in age:\n",
    "    print(a ** 2, \"– квадрат числа\", a)"
   ]
  },
  {
   "cell_type": "markdown",
   "metadata": {
    "id": "lWg-vfXXG9i-"
   },
   "source": [
    "Теперь, используя цикл и специальный метод `.append()`, создадим новый список на основе старого – дополним пустой список преобразованными элементами старого списка. Метод `.append()` работает просто: он приписывает элемент в конец списка. Например, так:"
   ]
  },
  {
   "cell_type": "code",
   "execution_count": null,
   "metadata": {
    "colab": {
     "base_uri": "https://localhost:8080/"
    },
    "id": "5Al0Ip1EG9i_",
    "outputId": "8c061230-76dc-4e32-9387-c9ad76ba7579"
   },
   "outputs": [
    {
     "name": "stdout",
     "output_type": "stream",
     "text": [
      "[23, 25, 32, 48, 19]\n",
      "[23, 25, 32, 48, 19, 76]\n"
     ]
    }
   ],
   "source": [
    "print(age)  # до\n",
    "age.append(76)\n",
    "print(age)  # после"
   ]
  },
  {
   "cell_type": "markdown",
   "metadata": {
    "id": "x6jxGfi3G9jA"
   },
   "source": [
    "Теперь создадим на основе старого списка `age` список `age2` с квадратами значений возраста:"
   ]
  },
  {
   "cell_type": "code",
   "execution_count": null,
   "metadata": {
    "id": "jW0jXY3-G9jC",
    "outputId": "b8b280ee-72b8-4f91-bdea-ce22aee85b0a"
   },
   "outputs": [
    {
     "data": {
      "text/plain": [
       "[529, 625, 1024, 2304, 361, 5776]"
      ]
     },
     "execution_count": 17,
     "metadata": {},
     "output_type": "execute_result"
    }
   ],
   "source": [
    "age2 = []  # пока пустой список\n",
    "for a in age:\n",
    "    age2.append(a ** 2)\n",
    "age2  # сработало!"
   ]
  },
  {
   "cell_type": "markdown",
   "metadata": {
    "id": "7vIjmwzOG9jD"
   },
   "source": [
    "Конечно, циклы нужны не только для того, чтобы работать со списками. С помощью циклов можно решить любую задачу, которая требует повторения одинаковых действий."
   ]
  },
  {
   "cell_type": "code",
   "execution_count": null,
   "metadata": {
    "colab": {
     "base_uri": "https://localhost:8080/"
    },
    "id": "ZXEpf9RLG9jF",
    "outputId": "9d6d1921-6366-482c-d500-13fe8c97aaf7"
   },
   "outputs": [
    {
     "name": "stdout",
     "output_type": "stream",
     "text": [
      "1 1\n",
      "2 4\n",
      "3 7\n",
      "4 10\n",
      "5 13\n",
      "6 16\n",
      "7 19\n",
      "8 22\n",
      "9 25\n",
      "10 28\n"
     ]
    }
   ],
   "source": [
    "# создадим список с номерами дней\n",
    "\n",
    "days = [2, 3, 4, 5, 6, 7, 8, 9 , 10]\n",
    "\n",
    "# начальное значение времени\n",
    "time = 1\n",
    "\n",
    "print(1, time)\n",
    "\n",
    "# теперь будем изменять значение time в цикле\n",
    "# и выводить на экран номер дня и время\n",
    "\n",
    "for d in days:\n",
    "  time = time + 3\n",
    "  print(d, time)"
   ]
  },
  {
   "cell_type": "markdown",
   "metadata": {
    "id": "GXFWtWEMHXSR"
   },
   "source": [
    "## Списки в Python и функция `range()`\n",
    "\n",
    "Список – это структура данных, которая может включать в себя элементы разных типов:"
   ]
  },
  {
   "cell_type": "code",
   "execution_count": null,
   "metadata": {
    "id": "HuU1OG1LHXSW",
    "outputId": "4cea5628-e4d2-46b3-f2fd-6121cd706035"
   },
   "outputs": [
    {
     "data": {
      "text/plain": [
       "[5, 6, 8, 1]"
      ]
     },
     "execution_count": 1,
     "metadata": {},
     "output_type": "execute_result"
    }
   ],
   "source": [
    "nums = [5, 6, 8, 1]\n",
    "nums"
   ]
  },
  {
   "cell_type": "code",
   "execution_count": null,
   "metadata": {
    "id": "6H9kXmkgHXSj",
    "outputId": "fd974b17-718c-479f-f0ef-7e379ea62cd2"
   },
   "outputs": [
    {
     "data": {
      "text/plain": [
       "['Anna', 'Fred', 'Tina']"
      ]
     },
     "execution_count": 2,
     "metadata": {},
     "output_type": "execute_result"
    }
   ],
   "source": [
    "names = [\"Anna\", \"Fred\", \"Tina\"]\n",
    "names"
   ]
  },
  {
   "cell_type": "code",
   "execution_count": null,
   "metadata": {
    "id": "u5RzBKzqHXSm",
    "outputId": "a37bd8f1-ffe2-4074-b5ad-3b792c87ed3d"
   },
   "outputs": [
    {
     "data": {
      "text/plain": [
       "['Anna', 10, 'Fred', 7]"
      ]
     },
     "execution_count": 3,
     "metadata": {},
     "output_type": "execute_result"
    }
   ],
   "source": [
    "mixed = [\"Anna\", 10, \"Fred\", 7]\n",
    "mixed"
   ]
  },
  {
   "cell_type": "markdown",
   "metadata": {
    "id": "SB_N4q2AHXSt"
   },
   "source": [
    "### Изменяемость и неизменяемость + метод `.append()`"
   ]
  },
  {
   "cell_type": "markdown",
   "metadata": {
    "id": "BVK2WtySHXSu"
   },
   "source": [
    "Важная особенность списков заключается в том, что они являются изменяемой (*mutable*) структурой данных. Это означает, что список можно изменять, не переопределяя переменную, в которой этот список сохранен. Чтобы понять, о чём речь, давайте посмотрим сначала на примеры неизменяемых (*immutable*) объектов в Python. Начнём с целых чисел. Если у нас есть переменная `a`, и в ней сохранено целое число, мы сможем изменить её значение только создав новую переменную с таким же названием:"
   ]
  },
  {
   "cell_type": "code",
   "execution_count": null,
   "metadata": {
    "colab": {
     "base_uri": "https://localhost:8080/"
    },
    "id": "wDZ3FToRHXSx",
    "outputId": "149dfbc4-87d1-41af-b691-25b70b5ada56"
   },
   "outputs": [
    {
     "name": "stdout",
     "output_type": "stream",
     "text": [
      "133444690166064\n",
      "133444690166096\n"
     ]
    }
   ],
   "source": [
    "a = 3\n",
    "print(id(a))\n",
    "a = a + 1  # новое значение\n",
    "print(id(a))"
   ]
  },
  {
   "cell_type": "markdown",
   "metadata": {
    "id": "eTVN2vvdHXTA"
   },
   "source": [
    "Другими словами, у нас нет никакого иного способа, который можно было бы применить, чтобы, например, увеличить значение `a`, не переопределяя её через оператор `=`. То же будет и со строками."
   ]
  },
  {
   "cell_type": "code",
   "execution_count": null,
   "metadata": {
    "id": "wyvfo_4NHXTJ"
   },
   "outputs": [],
   "source": [
    "s = \"питон\""
   ]
  },
  {
   "cell_type": "markdown",
   "metadata": {
    "id": "BlsBhbT2HXTL"
   },
   "source": [
    "Теперь попробуем сделать первую букву заглавной:"
   ]
  },
  {
   "cell_type": "code",
   "execution_count": null,
   "metadata": {
    "id": "jCRzcDbqHXTN"
   },
   "outputs": [],
   "source": [
    "s_new = s.capitalize()"
   ]
  },
  {
   "cell_type": "code",
   "execution_count": null,
   "metadata": {
    "colab": {
     "base_uri": "https://localhost:8080/",
     "height": 35
    },
    "id": "aKFbpPtd0Tud",
    "outputId": "551ffdbb-bd3a-46a6-be1b-7e3b2657608f"
   },
   "outputs": [
    {
     "data": {
      "application/vnd.google.colaboratory.intrinsic+json": {
       "type": "string"
      },
      "text/plain": [
       "'Питон'"
      ]
     },
     "execution_count": 16,
     "metadata": {},
     "output_type": "execute_result"
    }
   ],
   "source": [
    "s_new"
   ]
  },
  {
   "cell_type": "code",
   "execution_count": null,
   "metadata": {
    "colab": {
     "base_uri": "https://localhost:8080/",
     "height": 35
    },
    "id": "pfqrUQ-e0LE5",
    "outputId": "d215ff2a-8ac2-4de5-a61b-dabb69286e99"
   },
   "outputs": [
    {
     "data": {
      "application/vnd.google.colaboratory.intrinsic+json": {
       "type": "string"
      },
      "text/plain": [
       "'питон'"
      ]
     },
     "execution_count": 17,
     "metadata": {},
     "output_type": "execute_result"
    }
   ],
   "source": [
    "s"
   ]
  },
  {
   "cell_type": "markdown",
   "metadata": {
    "id": "OWqv_jbBHXTR"
   },
   "source": [
    "Но сама строка пока не изменилась – всё потому, что строка является объектом неизменяемого типа:"
   ]
  },
  {
   "cell_type": "code",
   "execution_count": null,
   "metadata": {
    "colab": {
     "base_uri": "https://localhost:8080/",
     "height": 36
    },
    "id": "kdp2AFkmHXTU",
    "outputId": "9ae69fed-1626-4540-f563-8667a06af7ac"
   },
   "outputs": [
    {
     "data": {
      "application/vnd.google.colaboratory.intrinsic+json": {
       "type": "string"
      },
      "text/plain": [
       "'питон'"
      ]
     },
     "execution_count": 29,
     "metadata": {},
     "output_type": "execute_result"
    }
   ],
   "source": [
    "s"
   ]
  },
  {
   "cell_type": "code",
   "execution_count": null,
   "metadata": {
    "colab": {
     "base_uri": "https://localhost:8080/",
     "height": 36
    },
    "id": "2d8pZSgXN_Y9",
    "outputId": "25aa048b-7ab1-415a-a4df-10d13f04bb20"
   },
   "outputs": [
    {
     "data": {
      "application/vnd.google.colaboratory.intrinsic+json": {
       "type": "string"
      },
      "text/plain": [
       "'п'"
      ]
     },
     "execution_count": 30,
     "metadata": {},
     "output_type": "execute_result"
    }
   ],
   "source": [
    "s[0]"
   ]
  },
  {
   "cell_type": "markdown",
   "metadata": {
    "id": "LTZ4-6_gHXTW"
   },
   "source": [
    "Чтобы сохранить изменения, нужно переопределить переменную `s`:"
   ]
  },
  {
   "cell_type": "code",
   "execution_count": null,
   "metadata": {
    "colab": {
     "base_uri": "https://localhost:8080/",
     "height": 35
    },
    "id": "pytszX8AHXTX",
    "outputId": "32d6a735-0c53-4964-f8f8-b09d10431b22"
   },
   "outputs": [
    {
     "data": {
      "application/vnd.google.colaboratory.intrinsic+json": {
       "type": "string"
      },
      "text/plain": [
       "'Питон'"
      ]
     },
     "execution_count": 82,
     "metadata": {},
     "output_type": "execute_result"
    }
   ],
   "source": [
    "s = s.capitalize()\n",
    "s"
   ]
  },
  {
   "cell_type": "markdown",
   "metadata": {
    "id": "Ka0Z4faAHXTZ"
   },
   "source": [
    "К неизменяемым объектам в Python относятся:\n",
    "    \n",
    "* целые числа (*int*);\n",
    "* числа с плавающей точкой (*float*);\n",
    "* строки (*str*);\n",
    "* логические значения (*bool*);\n",
    "* кортежи (*tuples*).\n",
    "\n",
    "Теперь посмотрим на изменяемые объекты. К изменяемым объектам относятся:\n",
    "\n",
    "* списки (*list*);\n",
    "* словари (*dictionary*);\n",
    "* множества (*set*)."
   ]
  },
  {
   "cell_type": "markdown",
   "metadata": {
    "id": "LBWqlMmIHXTb"
   },
   "source": [
    "Есть список `M`:"
   ]
  },
  {
   "cell_type": "code",
   "execution_count": null,
   "metadata": {
    "id": "HyisKc6aHXTc"
   },
   "outputs": [],
   "source": [
    "M = [1, 9, 4]\n",
    "print(id(M))\n",
    "M.append(1)\n",
    "print(id(M))"
   ]
  },
  {
   "cell_type": "markdown",
   "metadata": {
    "id": "h5yFfWkAHXTe"
   },
   "source": [
    "Заменим первый элемент на 100:"
   ]
  },
  {
   "cell_type": "code",
   "execution_count": null,
   "metadata": {
    "colab": {
     "background_save": true,
     "base_uri": "https://localhost:8080/"
    },
    "id": "pIiaFVahHXTf",
    "outputId": "32b048e3-7f87-4512-e8d5-49a4a216fa4c"
   },
   "outputs": [
    {
     "data": {
      "text/plain": [
       "[100, 9, 4, 1]"
      ]
     },
     "execution_count": 19,
     "metadata": {},
     "output_type": "execute_result"
    }
   ],
   "source": [
    "M[0] = 100\n",
    "M"
   ]
  },
  {
   "cell_type": "markdown",
   "metadata": {
    "id": "SBLTYbrcHXTi"
   },
   "source": [
    "Изменения сохранились, но при этом значение переменной `M` не пришлось переопределять заново. Теперь припишем в конец списка `M` ещё один элемент – для это применим метод `.append()` :"
   ]
  },
  {
   "cell_type": "code",
   "execution_count": null,
   "metadata": {
    "colab": {
     "base_uri": "https://localhost:8080/"
    },
    "id": "ShSvN4_LHXTj",
    "outputId": "9fb34296-c7ef-4320-ffac-5a65bd062639"
   },
   "outputs": [
    {
     "data": {
      "text/plain": [
       "[100, 9, 4, 200]"
      ]
     },
     "execution_count": 33,
     "metadata": {},
     "output_type": "execute_result"
    }
   ],
   "source": [
    "M.append(200)\n",
    "M"
   ]
  },
  {
   "cell_type": "markdown",
   "metadata": {
    "id": "ZNkSkjCKHXTm"
   },
   "source": [
    "Список `M` изменился, но присваивание с `=` мы нигде не использовали, мы изменили список «как есть». Более того, если мы исполним что-то такое `M = M.append(200)`, мы получим неожиданный результат:"
   ]
  },
  {
   "cell_type": "code",
   "execution_count": null,
   "metadata": {
    "colab": {
     "base_uri": "https://localhost:8080/"
    },
    "id": "nh4e5RDmHXTo",
    "outputId": "70914ace-0519-4ab5-ae44-957cfabf0df9"
   },
   "outputs": [
    {
     "name": "stdout",
     "output_type": "stream",
     "text": [
      "None\n"
     ]
    }
   ],
   "source": [
    "M = M.append(200)\n",
    "print(M)"
   ]
  },
  {
   "cell_type": "markdown",
   "metadata": {
    "id": "rWdVlf8xHXTr"
   },
   "source": [
    "Результат `None`. Почему? Потому что метод `.append()` сам по себе не возвращает никакого результата (результат пуст, имеет тип `None`), он «молча» записывает элемент в конец списка."
   ]
  },
  {
   "cell_type": "markdown",
   "metadata": {
    "id": "jwxFuW-5HXTt"
   },
   "source": [
    "При работе с изменяемыми объектами нужно быть осторожными при создании копии. Если мы работаем с неизменяемыми объектами, можно просто присвоить новой переменной значение старой с помощью `=`:"
   ]
  },
  {
   "cell_type": "code",
   "execution_count": null,
   "metadata": {
    "colab": {
     "base_uri": "https://localhost:8080/"
    },
    "id": "QRYnmT5FHXTu",
    "outputId": "fd34acc5-fbb5-4d7b-cd53-98d9ff68f997"
   },
   "outputs": [
    {
     "name": "stdout",
     "output_type": "stream",
     "text": [
      "3 4\n"
     ]
    }
   ],
   "source": [
    "a = 3\n",
    "b = a\n",
    "b = b + 1\n",
    "print(a, b)"
   ]
  },
  {
   "cell_type": "markdown",
   "metadata": {
    "id": "v-2HwzqRHXTw"
   },
   "source": [
    "В примере выше мы скопировали значение `a` в переменную `b`, значение `b` изменили, а значение `a` изменений не претерпело."
   ]
  },
  {
   "cell_type": "markdown",
   "metadata": {
    "id": "g0PuUQlOHXTx"
   },
   "source": [
    "С изменяемыми объектами это бы не сработало. Вернемся к спискам."
   ]
  },
  {
   "cell_type": "code",
   "execution_count": null,
   "metadata": {
    "colab": {
     "base_uri": "https://localhost:8080/"
    },
    "id": "z7ioGCJfHXTy",
    "outputId": "4cd7ef26-d070-49a0-ee6f-dfc43907ba1f"
   },
   "outputs": [
    {
     "name": "stdout",
     "output_type": "stream",
     "text": [
      "[1, 6, 7, 10] [1, 6, 7, 10]\n"
     ]
    }
   ],
   "source": [
    "L = [1, 6, 7]\n",
    "L2 = L\n",
    "L2.append(10)\n",
    "print(L, L2)"
   ]
  },
  {
   "cell_type": "markdown",
   "metadata": {
    "id": "kG6V3JkKHXT0"
   },
   "source": [
    "Несмотря на то, что список `L` мы не трогали, он изменился точно так же, как и список `L2`! Что произошло? На самом деле, когда мы записали `L2 = L`, мы скопировали не сам список, а ссылку на него. Другими словами, проводя аналогию с папкой и ярлыком, вместо того, чтобы создать новую папку `L2` с элементами, такими же, как в `L`, мы создали ярлык `L2`, который сам по себе ничего не содержит, а просто ссылается на папку `L`.\n",
    "\n",
    "Так как же тогда копировать списки? Во-первых, у списков есть метод `.copy()`."
   ]
  },
  {
   "cell_type": "code",
   "execution_count": null,
   "metadata": {
    "id": "aVans-0BHXT2",
    "outputId": "7b32d533-1fa8-4e26-81f2-cbb31ec3a227"
   },
   "outputs": [
    {
     "name": "stdout",
     "output_type": "stream",
     "text": [
      "[1, 6, 7] [1, 6, 7, 10]\n"
     ]
    }
   ],
   "source": [
    "L = [1, 6, 7]\n",
    "L2 = L.copy()\n",
    "L2.append(10)\n",
    "print(L, L2)"
   ]
  },
  {
   "cell_type": "markdown",
   "metadata": {
    "id": "5t-X4mvWHXT7"
   },
   "source": [
    "Во-вторых, можно сделать полный срез срез и «срезать» весь список:"
   ]
  },
  {
   "cell_type": "code",
   "execution_count": null,
   "metadata": {
    "id": "uzrGTGXSHXT8",
    "outputId": "2e96af82-b5d8-43ba-e69f-90844c399564"
   },
   "outputs": [
    {
     "name": "stdout",
     "output_type": "stream",
     "text": [
      "[1, 6, 7] [1, 6, 7, 10]\n"
     ]
    }
   ],
   "source": [
    "L = [1, 6, 7]\n",
    "L2 = L[:]\n",
    "L2.append(10)\n",
    "print(L, L2)"
   ]
  },
  {
   "cell_type": "code",
   "execution_count": null,
   "metadata": {
    "colab": {
     "base_uri": "https://localhost:8080/"
    },
    "id": "VRXJTC14i4V8",
    "outputId": "3b9a1935-4cab-45a8-d039-434d51943495"
   },
   "outputs": [
    {
     "name": "stdout",
     "output_type": "stream",
     "text": [
      "[1, 6, 7, 9] [6, 7, 10]\n"
     ]
    }
   ],
   "source": [
    "L = [1, 6, 7, 9]\n",
    "L2 = L[1:3]\n",
    "L2.append(10)\n",
    "print(L, L2)"
   ]
  },
  {
   "cell_type": "code",
   "execution_count": null,
   "metadata": {
    "colab": {
     "base_uri": "https://localhost:8080/"
    },
    "id": "Kia4cUvCrFpd",
    "outputId": "c57176fa-cb66-4941-a0e3-ade947da6ebc"
   },
   "outputs": [
    {
     "name": "stdout",
     "output_type": "stream",
     "text": [
      "[1, 100, 100, 9]\n"
     ]
    }
   ],
   "source": [
    "L = [1, 6, 7, 9]\n",
    "L[1:3] = [100, 100]\n",
    "\n",
    "print(L)"
   ]
  },
  {
   "cell_type": "code",
   "execution_count": null,
   "metadata": {
    "colab": {
     "base_uri": "https://localhost:8080/"
    },
    "id": "o9ebkjpujPcz",
    "outputId": "dada1c1e-c43b-4708-fd6c-fd78da8e8356"
   },
   "outputs": [
    {
     "data": {
      "text/plain": [
       "[6]"
      ]
     },
     "execution_count": 92,
     "metadata": {},
     "output_type": "execute_result"
    }
   ],
   "source": [
    "L[1:2]"
   ]
  },
  {
   "cell_type": "code",
   "execution_count": null,
   "metadata": {
    "colab": {
     "base_uri": "https://localhost:8080/"
    },
    "id": "BQAIVRthSfzT",
    "outputId": "775f28bd-5bff-431e-83bd-ce6dc4948a8c"
   },
   "outputs": [
    {
     "data": {
      "text/plain": [
       "[7]"
      ]
     },
     "execution_count": 70,
     "metadata": {},
     "output_type": "execute_result"
    }
   ],
   "source": [
    "a = [1, 2, 4, 7, 10]\n",
    "b = a[2:5]\n",
    "b[1:2]"
   ]
  },
  {
   "cell_type": "code",
   "execution_count": 1,
   "metadata": {},
   "outputs": [
    {
     "name": "stdout",
     "output_type": "stream",
     "text": [
      "[1, 2, 3, [1, 4, 5, 10]] [1, 2, 3, [1, 4, 5, 10]]\n"
     ]
    }
   ],
   "source": [
    "# особенности копирования вложенных списков (позже рассмотрим подробнее)\n",
    "a = [1, 2, 3, [1, 4, 5]]\n",
    "b = a.copy()\n",
    "b[3].append(10)\n",
    "print(a, b)"
   ]
  },
  {
   "cell_type": "code",
   "execution_count": null,
   "metadata": {
    "colab": {
     "base_uri": "https://localhost:8080/"
    },
    "id": "hj_YqdvfQapz",
    "outputId": "07cca384-4a56-43f4-be9d-652b2a633ce4"
   },
   "outputs": [
    {
     "name": "stdout",
     "output_type": "stream",
     "text": [
      "[1, 2, 3, [1, 4, 5, [1, 2, 3, 10]]] [1, 2, 3, [1, 4, 5, [1, 2, 3, 10]]]\n"
     ]
    }
   ],
   "source": [
    "a = [1, 2, 3, [1, 4 ,5, [1, 2, 3]]]\n",
    "b = a.copy()\n",
    "b[3][3].append(10)\n",
    "print(a, b)"
   ]
  },
  {
   "cell_type": "code",
   "execution_count": null,
   "metadata": {
    "colab": {
     "base_uri": "https://localhost:8080/"
    },
    "id": "ULyJ1DJKRIwk",
    "outputId": "837f8189-e58e-405a-8460-2c02214de09c"
   },
   "outputs": [
    {
     "name": "stdout",
     "output_type": "stream",
     "text": [
      "[1, 2, 3, [1, 4, 5, [1, 2, 3]]] [1, 2, 3, [1, 4, 5, [1, 2, 3, 10]]]\n"
     ]
    }
   ],
   "source": [
    "import copy\n",
    "a = [1, 2, 3, [1, 4 ,5, [1, 2, 3]]]\n",
    "b = copy.deepcopy(a)\n",
    "b[3][3].append(10)\n",
    "print(a, b)"
   ]
  },
  {
   "cell_type": "markdown",
   "metadata": {
    "id": "HsY0kYClHXUA"
   },
   "source": [
    "### Метод `.extend()` vs метод `.append()`\n",
    "\n",
    "Метод `.append()` используется, если в конец списка нужно приписать один элемент. А что, если нужно добавить сразу несколько элементов? Метод `.append()` уже не подойдёт:"
   ]
  },
  {
   "cell_type": "code",
   "execution_count": null,
   "metadata": {
    "id": "uWJqH_UsHXUB",
    "outputId": "665e8335-1a97-4176-8299-09c4de2bf033"
   },
   "outputs": [
    {
     "ename": "TypeError",
     "evalue": "append() takes exactly one argument (2 given)",
     "output_type": "error",
     "traceback": [
      "\u001b[0;31m---------------------------------------------------------------------------\u001b[0m",
      "\u001b[0;31mTypeError\u001b[0m                                 Traceback (most recent call last)",
      "\u001b[0;32m<ipython-input-17-20f19072f5fc>\u001b[0m in \u001b[0;36m<module>\u001b[0;34m\u001b[0m\n\u001b[1;32m      1\u001b[0m \u001b[0ma\u001b[0m \u001b[0;34m=\u001b[0m \u001b[0;34m[\u001b[0m\u001b[0;36m7\u001b[0m\u001b[0;34m,\u001b[0m \u001b[0;36m2\u001b[0m\u001b[0;34m,\u001b[0m \u001b[0;36m1\u001b[0m\u001b[0;34m,\u001b[0m \u001b[0;36m8\u001b[0m\u001b[0;34m]\u001b[0m\u001b[0;34m\u001b[0m\u001b[0;34m\u001b[0m\u001b[0m\n\u001b[0;32m----> 2\u001b[0;31m \u001b[0ma\u001b[0m\u001b[0;34m.\u001b[0m\u001b[0mappend\u001b[0m\u001b[0;34m(\u001b[0m\u001b[0;36m3\u001b[0m\u001b[0;34m,\u001b[0m \u001b[0;36m4\u001b[0m\u001b[0;34m)\u001b[0m\u001b[0;34m\u001b[0m\u001b[0;34m\u001b[0m\u001b[0m\n\u001b[0m",
      "\u001b[0;31mTypeError\u001b[0m: append() takes exactly one argument (2 given)"
     ]
    }
   ],
   "source": [
    "a = [7, 2, 1, 8]\n",
    "a.append(3, 4)"
   ]
  },
  {
   "cell_type": "markdown",
   "metadata": {
    "id": "tsTxsepSHXUD"
   },
   "source": [
    "А если объединить элементы в список, метод `.append()` сработает, но результат будет отличаться от ожидаемого:"
   ]
  },
  {
   "cell_type": "code",
   "execution_count": null,
   "metadata": {
    "id": "ckk5y_VnHXUE",
    "outputId": "966bf11d-7608-44cf-a385-c9bcf29b8aaa"
   },
   "outputs": [
    {
     "data": {
      "text/plain": [
       "[7, 2, 1, 8, [3, 4]]"
      ]
     },
     "execution_count": 18,
     "metadata": {},
     "output_type": "execute_result"
    }
   ],
   "source": [
    "a.append([3, 4])  # список [3, 4] как отдельный элемент\n",
    "a"
   ]
  },
  {
   "cell_type": "code",
   "execution_count": null,
   "metadata": {
    "colab": {
     "base_uri": "https://localhost:8080/"
    },
    "id": "bdWPfX2-Tc18",
    "outputId": "8a9c96d3-c00d-432e-8f22-183f647fd568"
   },
   "outputs": [
    {
     "data": {
      "text/plain": [
       "[1, 2, 3, [1, 3, 4]]"
      ]
     },
     "execution_count": 79,
     "metadata": {},
     "output_type": "execute_result"
    }
   ],
   "source": [
    "a = [1, 2, 3]\n",
    "a.append([1, 3, 4])\n",
    "a"
   ]
  },
  {
   "cell_type": "markdown",
   "metadata": {
    "id": "f8QOOsqOHXUG"
   },
   "source": [
    "Поэтому в таком случае нужно использовать особый метод, метод `.extend()`:"
   ]
  },
  {
   "cell_type": "code",
   "execution_count": null,
   "metadata": {
    "colab": {
     "base_uri": "https://localhost:8080/"
    },
    "id": "AYXCim_HHXUH",
    "outputId": "b88adcb7-0a8f-4e66-e9a7-22c485da7681"
   },
   "outputs": [
    {
     "data": {
      "text/plain": [
       "[7, 2, 1, 8, 3, 4]"
      ]
     },
     "execution_count": 83,
     "metadata": {},
     "output_type": "execute_result"
    }
   ],
   "source": [
    "a = [7, 2, 1, 8]\n",
    "a.extend([3, 4])\n",
    "a"
   ]
  },
  {
   "cell_type": "markdown",
   "metadata": {
    "id": "eStlUBHLHXUJ"
   },
   "source": [
    "Результат выше совпадает с тем, что мы бы получили, «склеивая» два списка через `+`:"
   ]
  },
  {
   "cell_type": "code",
   "execution_count": null,
   "metadata": {
    "colab": {
     "base_uri": "https://localhost:8080/"
    },
    "id": "bevT2DAlHXUL",
    "outputId": "2da7146d-c142-4a3a-dd1e-5d0586bc4c76"
   },
   "outputs": [
    {
     "data": {
      "text/plain": [
       "[7, 2, 1, 8, 3, 4]"
      ]
     },
     "execution_count": 84,
     "metadata": {},
     "output_type": "execute_result"
    }
   ],
   "source": [
    "a = [7, 2, 1, 8]\n",
    "a + [3, 4]"
   ]
  },
  {
   "cell_type": "markdown",
   "metadata": {
    "id": "xDJC5E0vHXUM"
   },
   "source": [
    "### Функция `range()`"
   ]
  },
  {
   "cell_type": "markdown",
   "metadata": {
    "id": "SrtRgRCTHXUO"
   },
   "source": [
    "В Python есть функция `range()`, которая позволяет перебирать целые числа на заданном промежутке, не создавая при этом сам список чисел."
   ]
  },
  {
   "cell_type": "code",
   "execution_count": null,
   "metadata": {
    "colab": {
     "base_uri": "https://localhost:8080/"
    },
    "id": "qRrAuEJVHXUP",
    "outputId": "873fc17a-1fb2-4743-cede-ceab871c7972"
   },
   "outputs": [
    {
     "name": "stdout",
     "output_type": "stream",
     "text": [
      "0\n",
      "1\n",
      "2\n",
      "3\n",
      "4\n",
      "5\n"
     ]
    }
   ],
   "source": [
    "# пример\n",
    "for j in range(0, 6):\n",
    "    print(j)"
   ]
  },
  {
   "cell_type": "markdown",
   "metadata": {
    "id": "7C4wRifdHXUZ"
   },
   "source": [
    "Правый конец заданного в `range()` промежутка **не включается**. В примере выше на экран были выведены числа от 0 до 5, число 6 включено не было."
   ]
  },
  {
   "cell_type": "markdown",
   "metadata": {
    "id": "hcjalt-QHXUa"
   },
   "source": [
    "Если мы хотим посмотреть на то, какие значения будут в `range()`, придется превратить его в список:"
   ]
  },
  {
   "cell_type": "code",
   "execution_count": null,
   "metadata": {
    "colab": {
     "base_uri": "https://localhost:8080/"
    },
    "id": "JhIM7WaNHXUd",
    "outputId": "8f329e4f-9509-4eca-e5f4-9b5b60625aae"
   },
   "outputs": [
    {
     "data": {
      "text/plain": [
       "range(0, 3)"
      ]
     },
     "execution_count": 91,
     "metadata": {},
     "output_type": "execute_result"
    }
   ],
   "source": [
    "range(0, 3) # не поспоришь, но бесполезно"
   ]
  },
  {
   "cell_type": "code",
   "execution_count": null,
   "metadata": {
    "colab": {
     "base_uri": "https://localhost:8080/"
    },
    "id": "1KW6mheSHXUg",
    "outputId": "30170f23-f35b-4068-e176-2f133b5b2730"
   },
   "outputs": [
    {
     "data": {
      "text/plain": [
       "[0, 1, 2]"
      ]
     },
     "execution_count": 92,
     "metadata": {},
     "output_type": "execute_result"
    }
   ],
   "source": [
    "list(range(0, 3)) # значения внутри range"
   ]
  },
  {
   "cell_type": "markdown",
   "metadata": {
    "id": "tdhO6w-fHXUj"
   },
   "source": [
    "Полезный факт: если нас интересуют числа на промежутке, начиная с нуля, в `range()` левый конец можно не указывать, 0 будет выбран по умолчанию."
   ]
  },
  {
   "cell_type": "code",
   "execution_count": null,
   "metadata": {
    "colab": {
     "base_uri": "https://localhost:8080/"
    },
    "id": "lT2uxPwsHXUk",
    "outputId": "270df8ff-e2f5-46fc-9864-15a3a7b49b92"
   },
   "outputs": [
    {
     "data": {
      "text/plain": [
       "[1, 2, 3, 4]"
      ]
     },
     "execution_count": 94,
     "metadata": {},
     "output_type": "execute_result"
    }
   ],
   "source": [
    "list(range(1, 5))"
   ]
  },
  {
   "cell_type": "markdown",
   "metadata": {
    "id": "_F7yFSUTHXUm"
   },
   "source": [
    "Еще один полезный факт: шаг (разность между последующими элементами) для последовательности целых чисел можно выставить самостоятельно. Для этого достаточно дописать третье число – значение шага – внутри функции `range()`:"
   ]
  },
  {
   "cell_type": "code",
   "execution_count": null,
   "metadata": {
    "colab": {
     "background_save": true
    },
    "id": "qsDMFMiKHXUn",
    "outputId": "0e8443d5-3b47-41c9-ce96-6086504b5326"
   },
   "outputs": [
    {
     "data": {
      "text/plain": [
       "[0, 2, 4, 6, 8, 10, 12, 14, 16]"
      ]
     },
     "execution_count": 30,
     "metadata": {},
     "output_type": "execute_result"
    }
   ],
   "source": [
    "list(range(0, 18, 2))  # шаг 2"
   ]
  },
  {
   "cell_type": "code",
   "execution_count": null,
   "metadata": {
    "id": "XlcsnGA_HXUp",
    "outputId": "bc0e70a6-78a9-4440-f754-534a27da102f"
   },
   "outputs": [
    {
     "data": {
      "text/plain": [
       "[0, 3, 6, 9, 12, 15]"
      ]
     },
     "execution_count": 26,
     "metadata": {},
     "output_type": "execute_result"
    }
   ],
   "source": [
    "list(range(0, 18, 3))  # шаг 3"
   ]
  },
  {
   "cell_type": "code",
   "execution_count": null,
   "metadata": {
    "colab": {
     "base_uri": "https://localhost:8080/"
    },
    "id": "XFQv1n66kbaV",
    "outputId": "0ca8793f-56f5-48ba-a4a7-bb2a06e0e7df"
   },
   "outputs": [
    {
     "name": "stdout",
     "output_type": "stream",
     "text": [
      "i - 0 a[i] - 1\n",
      "i - 1 a[i] - 3\n",
      "i - 2 a[i] - 5\n",
      "i - 3 a[i] - 6\n"
     ]
    }
   ],
   "source": [
    "a=[1, 3, 5, 6, 8]\n",
    "for i in range(0, 4):\n",
    "  print('i -', i,'a[i] -',a[i])"
   ]
  },
  {
   "cell_type": "markdown",
   "metadata": {
    "id": "B9XueVesIB9p"
   },
   "source": [
    "### Метод `.split()`"
   ]
  },
  {
   "cell_type": "code",
   "execution_count": null,
   "metadata": {
    "colab": {
     "base_uri": "https://localhost:8080/"
    },
    "id": "zmpLzNcCVKXF",
    "outputId": "26b3ce85-6bc4-4e82-d18e-a19303484abf"
   },
   "outputs": [
    {
     "data": {
      "text/plain": [
       "['Hello', 'world', 'by', 'BMT']"
      ]
     },
     "execution_count": 105,
     "metadata": {},
     "output_type": "execute_result"
    }
   ],
   "source": [
    "a = 'Hello world by BMT'\n",
    "a.split()"
   ]
  },
  {
   "cell_type": "markdown",
   "metadata": {
    "id": "cesaWnF3IB9t"
   },
   "source": [
    "Мы уже достаточно хорошо знакомы с вводом какой-то информации с клавиатуры с помощью `input()`. Однако раньше мы всегда вводили с клавиатуры только один объект: одно число или одно слово... А можно ли вводить сразу несколько слов или чисел?"
   ]
  },
  {
   "cell_type": "code",
   "execution_count": null,
   "metadata": {
    "colab": {
     "base_uri": "https://localhost:8080/"
    },
    "id": "eNgOT8IYIB9w",
    "outputId": "5cadece1-3fb6-4599-d64e-16f40c768c9d"
   },
   "outputs": [
    {
     "name": "stdout",
     "output_type": "stream",
     "text": [
      "Введите имена героев мюзикла Notre Dame de Paris: Гренгуар Фролло Эсмеральда\n"
     ]
    }
   ],
   "source": [
    "heroes = input(\"Введите имена героев мюзикла Notre Dame de Paris: \")"
   ]
  },
  {
   "cell_type": "markdown",
   "metadata": {
    "id": "LhlOCDFxIB94"
   },
   "source": [
    "Выше мы ввели довольно длинную строку: перечислили имена четырёх героев через пробел. Посмотрим на неё."
   ]
  },
  {
   "cell_type": "code",
   "execution_count": null,
   "metadata": {
    "colab": {
     "base_uri": "https://localhost:8080/",
     "height": 35
    },
    "id": "ExpC-wSeIB97",
    "outputId": "42d16e11-e1fb-4094-eb25-fd509a70acc6"
   },
   "outputs": [
    {
     "data": {
      "application/vnd.google.colaboratory.intrinsic+json": {
       "type": "string"
      },
      "text/plain": [
       "'Гренгуар Фролло Эсмеральда'"
      ]
     },
     "execution_count": 6,
     "metadata": {},
     "output_type": "execute_result"
    }
   ],
   "source": [
    "heroes"
   ]
  },
  {
   "cell_type": "markdown",
   "metadata": {
    "id": "3ciNbxMJIB9_"
   },
   "source": [
    "А теперь разобьем эту строку по пробелу, чтобы получить четыре отдельных имени – воспользуемся методом `.split()`."
   ]
  },
  {
   "cell_type": "code",
   "execution_count": null,
   "metadata": {
    "colab": {
     "base_uri": "https://localhost:8080/"
    },
    "id": "C27W-KKPIB-D",
    "outputId": "06970c81-3d69-40d4-ed19-4aa0a4613f9a"
   },
   "outputs": [
    {
     "data": {
      "text/plain": [
       "['Гренгуар', 'Фролло', 'Эсмеральда']"
      ]
     },
     "execution_count": 7,
     "metadata": {},
     "output_type": "execute_result"
    }
   ],
   "source": [
    "heroes_list = heroes.split() # по умолчанию деление по пробелу\n",
    "heroes_list"
   ]
  },
  {
   "cell_type": "markdown",
   "metadata": {
    "id": "WG_qaeGVIB-G"
   },
   "source": [
    "Получили самый обычный список. Можем обращаться к его элементам и даже изменять их при желании:"
   ]
  },
  {
   "cell_type": "code",
   "execution_count": null,
   "metadata": {
    "colab": {
     "base_uri": "https://localhost:8080/",
     "height": 35
    },
    "id": "Fj_GtgXWIB-K",
    "outputId": "c228b828-abe6-4a09-938f-53ae7da5fb3b"
   },
   "outputs": [
    {
     "data": {
      "application/vnd.google.colaboratory.intrinsic+json": {
       "type": "string"
      },
      "text/plain": [
       "'Фролло'"
      ]
     },
     "execution_count": 8,
     "metadata": {},
     "output_type": "execute_result"
    }
   ],
   "source": [
    "heroes_list[1]"
   ]
  },
  {
   "cell_type": "markdown",
   "metadata": {
    "id": "QZjbrg9FIB-O"
   },
   "source": [
    "Разбивать строку на части можно по любому символу, достаточно указать нужный символ в скобках в `.split()`."
   ]
  },
  {
   "cell_type": "code",
   "execution_count": null,
   "metadata": {
    "id": "BoBndErpIB-Q",
    "outputId": "04f7d132-495a-4c19-c39c-785b9869ddb1"
   },
   "outputs": [
    {
     "name": "stdout",
     "output_type": "stream",
     "text": [
      "Введите имена любимых героев NDDP через запятую: Фролло,Гренгуар\n"
     ]
    }
   ],
   "source": [
    "fheroes = input(\"Введите имена любимых героев NDDP через запятую: \")"
   ]
  },
  {
   "cell_type": "code",
   "execution_count": null,
   "metadata": {
    "id": "6S0vAByYIB-T",
    "outputId": "12122805-4682-498a-84ca-4b4846933d73"
   },
   "outputs": [
    {
     "data": {
      "text/plain": [
       "'Фролло,Гренгуар'"
      ]
     },
     "execution_count": 6,
     "metadata": {},
     "output_type": "execute_result"
    }
   ],
   "source": [
    "fheroes"
   ]
  },
  {
   "cell_type": "code",
   "execution_count": null,
   "metadata": {
    "id": "MMME-fHIIB-V",
    "outputId": "0ea83451-8ad4-46ab-a50b-aef41d5eca12"
   },
   "outputs": [
    {
     "data": {
      "text/plain": [
       "['Фролло', 'Гренгуар']"
      ]
     },
     "execution_count": 7,
     "metadata": {},
     "output_type": "execute_result"
    }
   ],
   "source": [
    "fheroes.split(\",\")"
   ]
  },
  {
   "cell_type": "markdown",
   "metadata": {
    "id": "vV0QALLWIB-X"
   },
   "source": [
    "Попробуем проделать то же самое, но для чисел."
   ]
  },
  {
   "cell_type": "code",
   "execution_count": null,
   "metadata": {
    "colab": {
     "base_uri": "https://localhost:8080/"
    },
    "id": "J9dAhzg4IB-Y",
    "outputId": "6684bb4f-a21e-4d9b-db38-7b65f7a7b2fb"
   },
   "outputs": [
    {
     "name": "stdout",
     "output_type": "stream",
     "text": [
      "Введите два числа: 2 3\n"
     ]
    }
   ],
   "source": [
    "nums = input(\"Введите два числа: \")\n",
    "nums_list = nums.split()"
   ]
  },
  {
   "cell_type": "markdown",
   "metadata": {
    "id": "Bsg8zLZhIB-a"
   },
   "source": [
    "Список получили, но он пока состоит из строк, не из чисел."
   ]
  },
  {
   "cell_type": "code",
   "execution_count": null,
   "metadata": {
    "colab": {
     "base_uri": "https://localhost:8080/"
    },
    "id": "JY9eMnNeIB-c",
    "outputId": "67fdcb1a-d02e-4548-ad54-42dad7f12731"
   },
   "outputs": [
    {
     "data": {
      "text/plain": [
       "['2', '3']"
      ]
     },
     "execution_count": 103,
     "metadata": {},
     "output_type": "execute_result"
    }
   ],
   "source": [
    "nums_list"
   ]
  },
  {
   "cell_type": "markdown",
   "metadata": {
    "id": "n_m4m4xPIB-e"
   },
   "source": [
    "Поправим: превратим все элементы списка в целые числа с помощью цикла и сохраним их в новый список."
   ]
  },
  {
   "cell_type": "code",
   "execution_count": null,
   "metadata": {
    "colab": {
     "base_uri": "https://localhost:8080/"
    },
    "id": "69KYi2jJIB-g",
    "outputId": "7f551cee-6b60-4020-dc8d-bd4bd9a38cc1"
   },
   "outputs": [
    {
     "data": {
      "text/plain": [
       "[2, 3]"
      ]
     },
     "execution_count": 104,
     "metadata": {},
     "output_type": "execute_result"
    }
   ],
   "source": [
    "final = []\n",
    "\n",
    "for n in nums_list:\n",
    "    final.append(int(n))\n",
    "final"
   ]
  },
  {
   "cell_type": "markdown",
   "metadata": {
    "id": "xg7qmA4MIB-i"
   },
   "source": [
    "Чуть позже мы узнаем, как более удобно (и что приятно, более быстро) сделать то же самое, но без цикла.\n",
    "\n",
    "А пока узнаем, можно ли разбить строку по пустоте? То есть просто разделить её на отдельные символы. Попробуем."
   ]
  },
  {
   "cell_type": "code",
   "execution_count": null,
   "metadata": {
    "colab": {
     "base_uri": "https://localhost:8080/",
     "height": 166
    },
    "id": "rURCjbhLIB-l",
    "outputId": "97d86912-779b-4804-8c59-e2d238d4339b"
   },
   "outputs": [
    {
     "ename": "ValueError",
     "evalue": "ignored",
     "output_type": "error",
     "traceback": [
      "\u001b[0;31m---------------------------------------------------------------------------\u001b[0m",
      "\u001b[0;31mValueError\u001b[0m                                Traceback (most recent call last)",
      "\u001b[0;32m<ipython-input-105-ab6b88668550>\u001b[0m in \u001b[0;36m<module>\u001b[0;34m\u001b[0m\n\u001b[0;32m----> 1\u001b[0;31m \u001b[0;34m\"1234\"\u001b[0m\u001b[0;34m.\u001b[0m\u001b[0msplit\u001b[0m\u001b[0;34m(\u001b[0m\u001b[0;34m\"\"\u001b[0m\u001b[0;34m)\u001b[0m \u001b[0;31m# нельзя\u001b[0m\u001b[0;34m\u001b[0m\u001b[0;34m\u001b[0m\u001b[0m\n\u001b[0m",
      "\u001b[0;31mValueError\u001b[0m: empty separator"
     ]
    }
   ],
   "source": [
    "\"1234\".split(\"\") # нельзя"
   ]
  },
  {
   "cell_type": "markdown",
   "metadata": {
    "id": "8cvu6A1GIB-n"
   },
   "source": [
    "Python сообщает нам, что разделитель пустой, и делить строку на части не хочет. Однако это возможно с помощью функции `list()`, при применении к строке она возвращает список символов в строке:"
   ]
  },
  {
   "cell_type": "code",
   "execution_count": null,
   "metadata": {
    "colab": {
     "base_uri": "https://localhost:8080/"
    },
    "id": "tWvmlmXbIB-p",
    "outputId": "cdacbaa5-5dee-41a2-8324-4f4ed6dc575c"
   },
   "outputs": [
    {
     "data": {
      "text/plain": [
       "['1', '2', '3', '4']"
      ]
     },
     "execution_count": 106,
     "metadata": {},
     "output_type": "execute_result"
    }
   ],
   "source": [
    "list(\"1234\")"
   ]
  },
  {
   "cell_type": "code",
   "execution_count": null,
   "metadata": {
    "colab": {
     "base_uri": "https://localhost:8080/"
    },
    "id": "bcfi2S9Xls_H",
    "outputId": "3b842d4d-6e39-4650-de5e-7784faf04542"
   },
   "outputs": [
    {
     "data": {
      "text/plain": [
       "['H', 'e', 'l', 'l', 'o']"
      ]
     },
     "execution_count": 107,
     "metadata": {},
     "output_type": "execute_result"
    }
   ],
   "source": [
    "list(\"Hello\")"
   ]
  },
  {
   "cell_type": "code",
   "execution_count": null,
   "metadata": {
    "colab": {
     "base_uri": "https://localhost:8080/",
     "height": 35
    },
    "id": "A31Bf_GClw5T",
    "outputId": "0ce4f071-fe2c-425a-f8b3-c5eb53e6467e"
   },
   "outputs": [
    {
     "data": {
      "application/vnd.google.colaboratory.intrinsic+json": {
       "type": "string"
      },
      "text/plain": [
       "'H'"
      ]
     },
     "execution_count": 108,
     "metadata": {},
     "output_type": "execute_result"
    }
   ],
   "source": [
    "s='Hello'\n",
    "s[0]"
   ]
  },
  {
   "cell_type": "markdown",
   "metadata": {
    "id": "MGDrQ4dpIB-q"
   },
   "source": [
    "Раз есть метод для разбиения строки на список строк, должна быть и обратная операция – для склеивания списка строк в одну большую строку. И такой метод действительно есть!"
   ]
  },
  {
   "cell_type": "markdown",
   "metadata": {
    "id": "X_jRptSGIB-r"
   },
   "source": [
    "### Метод `.join()`"
   ]
  },
  {
   "cell_type": "markdown",
   "metadata": {
    "id": "6IviEP9TIB-s"
   },
   "source": [
    "Пусть у нас есть список, состоящий из имени и фамилии."
   ]
  },
  {
   "cell_type": "code",
   "execution_count": null,
   "metadata": {
    "id": "xDv6I_cWIB-t"
   },
   "outputs": [],
   "source": [
    "l = ['Daniel', 'Lavoie']"
   ]
  },
  {
   "cell_type": "markdown",
   "metadata": {
    "id": "rLJxT8rkIB-u"
   },
   "source": [
    "И мы хотим элементы списка склеить в одну строку так, чтобы между именем и фамилией был пробел."
   ]
  },
  {
   "cell_type": "code",
   "execution_count": null,
   "metadata": {
    "colab": {
     "base_uri": "https://localhost:8080/",
     "height": 35
    },
    "id": "PY4LSUDnIB-v",
    "outputId": "4c478617-d290-4f0e-9d94-93ea4f20d8f8"
   },
   "outputs": [
    {
     "data": {
      "application/vnd.google.colaboratory.intrinsic+json": {
       "type": "string"
      },
      "text/plain": [
       "'Daniel Lavoie'"
      ]
     },
     "execution_count": 10,
     "metadata": {},
     "output_type": "execute_result"
    }
   ],
   "source": [
    "\" \".join(l) # вуаля"
   ]
  },
  {
   "cell_type": "markdown",
   "metadata": {
    "id": "UkEh_h4yIB-w"
   },
   "source": [
    "Могли бы вместо пробела в кавычках поставить любой символ, например, нижнее подчеркивание."
   ]
  },
  {
   "cell_type": "code",
   "execution_count": null,
   "metadata": {
    "colab": {
     "base_uri": "https://localhost:8080/",
     "height": 35
    },
    "id": "VOfE4N1YIB-x",
    "outputId": "db6072ca-cb7f-4118-8a46-5aa6665eb520"
   },
   "outputs": [
    {
     "data": {
      "application/vnd.google.colaboratory.intrinsic+json": {
       "type": "string"
      },
      "text/plain": [
       "'Daniel_Lavoie'"
      ]
     },
     "execution_count": 112,
     "metadata": {},
     "output_type": "execute_result"
    }
   ],
   "source": [
    "\"_\".join(l)"
   ]
  },
  {
   "cell_type": "markdown",
   "metadata": {
    "id": "1DAjjheWIB-y"
   },
   "source": [
    "**Важно:** метод `.join()` берет в качестве аргумента именно список, не просто перечисленные элементы через запятую."
   ]
  },
  {
   "cell_type": "code",
   "execution_count": null,
   "metadata": {
    "colab": {
     "base_uri": "https://localhost:8080/",
     "height": 201
    },
    "id": "OroU38OCIB-z",
    "outputId": "1f794ee4-9a22-41d6-c2ed-3f6591f83593"
   },
   "outputs": [
    {
     "ename": "TypeError",
     "evalue": "ignored",
     "output_type": "error",
     "traceback": [
      "\u001b[0;31m---------------------------------------------------------------------------\u001b[0m",
      "\u001b[0;31mTypeError\u001b[0m                                 Traceback (most recent call last)",
      "\u001b[0;32m<ipython-input-113-e664b268447f>\u001b[0m in \u001b[0;36m<module>\u001b[0;34m\u001b[0m\n\u001b[1;32m      2\u001b[0m \u001b[0mb\u001b[0m \u001b[0;34m=\u001b[0m \u001b[0;34m'8'\u001b[0m\u001b[0;34m\u001b[0m\u001b[0;34m\u001b[0m\u001b[0m\n\u001b[1;32m      3\u001b[0m \u001b[0;34m\u001b[0m\u001b[0m\n\u001b[0;32m----> 4\u001b[0;31m \u001b[0;34m\" \"\u001b[0m\u001b[0;34m.\u001b[0m\u001b[0mjoin\u001b[0m\u001b[0;34m(\u001b[0m\u001b[0ma\u001b[0m\u001b[0;34m,\u001b[0m\u001b[0mb\u001b[0m\u001b[0;34m)\u001b[0m \u001b[0;31m# не работает\u001b[0m\u001b[0;34m\u001b[0m\u001b[0;34m\u001b[0m\u001b[0m\n\u001b[0m",
      "\u001b[0;31mTypeError\u001b[0m: join() takes exactly one argument (2 given)"
     ]
    }
   ],
   "source": [
    "a = '7'\n",
    "b = '8'\n",
    "\n",
    "\" \".join(a,b) # не работает"
   ]
  },
  {
   "cell_type": "code",
   "execution_count": null,
   "metadata": {
    "colab": {
     "base_uri": "https://localhost:8080/",
     "height": 35
    },
    "id": "gvaT7Qg5IB-0",
    "outputId": "95462225-fee8-4b51-eb52-7bb257263e1f"
   },
   "outputs": [
    {
     "data": {
      "application/vnd.google.colaboratory.intrinsic+json": {
       "type": "string"
      },
      "text/plain": [
       "'7 8'"
      ]
     },
     "execution_count": 114,
     "metadata": {},
     "output_type": "execute_result"
    }
   ],
   "source": [
    "\" \".join([a, b]) # работает"
   ]
  },
  {
   "cell_type": "markdown",
   "metadata": {
    "id": "sbxwT2vuIB-2"
   },
   "source": [
    "Иногда удобно сочетать методы `.split()` и `.join()`. Например, перед нами стоит такая задача. Пользователь вводит дату в формате день-месяц-год через точку, а мы хотим выводить на экран дату в том же формате, но через дефис. Чтобы решить эту задачу, можно взять введенную пользователем строку с датой, разбить её по точке, а затем склеить части, но уже используя дефис."
   ]
  },
  {
   "cell_type": "code",
   "execution_count": null,
   "metadata": {
    "colab": {
     "base_uri": "https://localhost:8080/",
     "height": 52
    },
    "id": "0MtcazhBIB-3",
    "outputId": "eeeff3b3-38fa-47bd-a6fb-969edfcdd67c"
   },
   "outputs": [
    {
     "name": "stdout",
     "output_type": "stream",
     "text": [
      "Введите дату: 20.04.2018\n"
     ]
    },
    {
     "data": {
      "application/vnd.google.colaboratory.intrinsic+json": {
       "type": "string"
      },
      "text/plain": [
       "'20.04.2018'"
      ]
     },
     "execution_count": 115,
     "metadata": {},
     "output_type": "execute_result"
    }
   ],
   "source": [
    "date = input(\"Введите дату: \")\n",
    "date"
   ]
  },
  {
   "cell_type": "code",
   "execution_count": null,
   "metadata": {
    "colab": {
     "base_uri": "https://localhost:8080/"
    },
    "id": "9k2XoXLYIB-5",
    "outputId": "e12c53c6-63eb-4c7f-9528-877d8cb71350"
   },
   "outputs": [
    {
     "name": "stdout",
     "output_type": "stream",
     "text": [
      "20-04-2018\n"
     ]
    }
   ],
   "source": [
    "parts = date.split(\".\")\n",
    "result = \"-\".join(parts)\n",
    "print(result)"
   ]
  },
  {
   "cell_type": "markdown",
   "metadata": {
    "id": "TktdltbKELv4"
   },
   "source": [
    "## Условные конструкции и цикл `while`"
   ]
  },
  {
   "cell_type": "markdown",
   "metadata": {
    "id": "60IbCt70ELv8"
   },
   "source": [
    "### Проверка условий"
   ]
  },
  {
   "cell_type": "markdown",
   "metadata": {
    "id": "whqZXUuZELv_"
   },
   "source": [
    "Начнем с известных всем операторов. Проверим,\n",
    "\n",
    "* правда ли, что 8 меньше 9;\n",
    "* правда ли, что 9 больше 10."
   ]
  },
  {
   "cell_type": "code",
   "execution_count": null,
   "metadata": {
    "colab": {
     "base_uri": "https://localhost:8080/"
    },
    "id": "86za4X7EELwD",
    "outputId": "0a120bc6-f954-487d-f022-7309bef2304c"
   },
   "outputs": [
    {
     "data": {
      "text/plain": [
       "True"
      ]
     },
     "execution_count": 118,
     "metadata": {},
     "output_type": "execute_result"
    }
   ],
   "source": [
    "8 < 9 # правда"
   ]
  },
  {
   "cell_type": "code",
   "execution_count": null,
   "metadata": {
    "colab": {
     "base_uri": "https://localhost:8080/"
    },
    "id": "n-B5SdqGELwO",
    "outputId": "1ddeca92-0bff-46df-c468-75a71d657bc7"
   },
   "outputs": [
    {
     "data": {
      "text/plain": [
       "False"
      ]
     },
     "execution_count": 119,
     "metadata": {},
     "output_type": "execute_result"
    }
   ],
   "source": [
    "9 > 10 # неправда"
   ]
  },
  {
   "cell_type": "markdown",
   "metadata": {
    "id": "Ypv6Fy0LELwS"
   },
   "source": [
    "Результат такой проверки имеет логический тип (*boolean*)."
   ]
  },
  {
   "cell_type": "code",
   "execution_count": null,
   "metadata": {
    "colab": {
     "base_uri": "https://localhost:8080/"
    },
    "id": "ZD4lS20PELwW",
    "outputId": "1028aa5f-f4ee-4f21-cfe3-2ac9cee67d53"
   },
   "outputs": [
    {
     "data": {
      "text/plain": [
       "True"
      ]
     },
     "execution_count": 120,
     "metadata": {},
     "output_type": "execute_result"
    }
   ],
   "source": [
    "res = 8 < 9\n",
    "res"
   ]
  },
  {
   "cell_type": "markdown",
   "metadata": {
    "id": "N5spGKDMELwb"
   },
   "source": [
    "Как мы уже обсуждали, переменные такого типа могут принимать два значения `True` или `False`. Обратите внимание, что `True` и `False` не заключены в кавычки – добавив кавычки, мы получим строки \"True\" и \"False\" (тип *string*)."
   ]
  },
  {
   "cell_type": "code",
   "execution_count": null,
   "metadata": {
    "colab": {
     "base_uri": "https://localhost:8080/"
    },
    "id": "Q0wlFWkhELwg",
    "outputId": "063d64f4-19c9-481e-da6c-eecce4ea2433"
   },
   "outputs": [
    {
     "data": {
      "text/plain": [
       "False"
      ]
     },
     "execution_count": 121,
     "metadata": {},
     "output_type": "execute_result"
    }
   ],
   "source": [
    "\"True\" == True"
   ]
  },
  {
   "cell_type": "markdown",
   "metadata": {
    "id": "8dobuH-XELwl"
   },
   "source": [
    "При проверке равенства двух частей (переменных, списков и так далее) используется двойной знак равенства."
   ]
  },
  {
   "cell_type": "code",
   "execution_count": null,
   "metadata": {
    "colab": {
     "base_uri": "https://localhost:8080/"
    },
    "id": "dkW1SBwgELwo",
    "outputId": "228b508b-9bf6-4986-f1df-92cf882592e5"
   },
   "outputs": [
    {
     "data": {
      "text/plain": [
       "True"
      ]
     },
     "execution_count": 122,
     "metadata": {},
     "output_type": "execute_result"
    }
   ],
   "source": [
    "6.0 == 6"
   ]
  },
  {
   "cell_type": "markdown",
   "metadata": {
    "id": "HvH-Tv_IELwr"
   },
   "source": [
    "Одинарный знак «равно» используется для присваивания значений. Так ничего не сравним, но сохраним в переменную `a` число 6:"
   ]
  },
  {
   "cell_type": "code",
   "execution_count": null,
   "metadata": {
    "colab": {
     "base_uri": "https://localhost:8080/"
    },
    "id": "iCi0QedWELwt",
    "outputId": "50a547fd-b5c4-42b0-e246-5687cbd7d3f9"
   },
   "outputs": [
    {
     "data": {
      "text/plain": [
       "6"
      ]
     },
     "execution_count": 119,
     "metadata": {},
     "output_type": "execute_result"
    }
   ],
   "source": [
    "a = 6\n",
    "a"
   ]
  },
  {
   "cell_type": "markdown",
   "metadata": {
    "id": "2-K5C6e2ELww"
   },
   "source": [
    "А так уже проверим условия:"
   ]
  },
  {
   "cell_type": "code",
   "execution_count": null,
   "metadata": {
    "colab": {
     "base_uri": "https://localhost:8080/"
    },
    "id": "POFmA_5mELwx",
    "outputId": "0e9ff3f9-7ab7-4091-8d35-e24bd0dc2b64"
   },
   "outputs": [
    {
     "name": "stdout",
     "output_type": "stream",
     "text": [
      "True\n",
      "False\n"
     ]
    }
   ],
   "source": [
    "print(a == 6)\n",
    "print(a == 9)"
   ]
  },
  {
   "cell_type": "markdown",
   "metadata": {
    "id": "2CDJVGZDELw1"
   },
   "source": [
    "Отрицание равенства в Python обозначается с помощью оператора `!=` (вообще `!` в программировании используется для отрицания)."
   ]
  },
  {
   "cell_type": "code",
   "execution_count": null,
   "metadata": {
    "id": "idiSf_rUELw2",
    "outputId": "0a54fcc3-8a14-4efa-e74e-39af33d6c38f"
   },
   "outputs": [
    {
     "data": {
      "text/plain": [
       "True"
      ]
     },
     "execution_count": 8,
     "metadata": {},
     "output_type": "execute_result"
    }
   ],
   "source": [
    "6 != 7"
   ]
  },
  {
   "cell_type": "markdown",
   "metadata": {
    "id": "Wgwy6N3pELw4"
   },
   "source": [
    "Стоит отметить, что Python достаточно лояльно относится к разделению между типам данных. Например, если мы сравним целое число и то же число, но с плавающей точкой (с дробной частью равной 0), Python сообщит, что эти числа совпадают."
   ]
  },
  {
   "cell_type": "code",
   "execution_count": null,
   "metadata": {
    "colab": {
     "base_uri": "https://localhost:8080/"
    },
    "id": "azAfORybELw6",
    "outputId": "f0aee109-f069-47c2-a29d-b8a072e479b1"
   },
   "outputs": [
    {
     "data": {
      "text/plain": [
       "True"
      ]
     },
     "execution_count": 123,
     "metadata": {},
     "output_type": "execute_result"
    }
   ],
   "source": [
    "6 == 6.0 # верно"
   ]
  },
  {
   "cell_type": "markdown",
   "metadata": {
    "id": "6y-4uFStELxA"
   },
   "source": [
    "### Сложные условия"
   ]
  },
  {
   "cell_type": "markdown",
   "metadata": {
    "id": "5giN7BeUELxD"
   },
   "source": [
    "Пусть у нас есть три целочисленные переменные `a`, `b` и `c`, и мы планируем составлять сложные, составные уcловия, касающиеся этих переменных."
   ]
  },
  {
   "cell_type": "code",
   "execution_count": null,
   "metadata": {
    "id": "pwn_eh8mELxE"
   },
   "outputs": [],
   "source": [
    "a = 3\n",
    "b = 7\n",
    "c = 1"
   ]
  },
  {
   "cell_type": "markdown",
   "metadata": {
    "id": "9ogroZxDELxI"
   },
   "source": [
    "Помогут операторы `and` и `or`. Оператор `and` соответствует одновременному выполнению условий, оператор `or` соответствует ситуации, когда хотя бы одно из условий выполняется. Оператор `or` в Python – обычное «или», не исключающее: либо верно первое условие, либо второе, либо оба."
   ]
  },
  {
   "cell_type": "code",
   "execution_count": null,
   "metadata": {
    "colab": {
     "base_uri": "https://localhost:8080/"
    },
    "id": "Mo-3lyZHELxK",
    "outputId": "7d4b4b79-7a65-449d-d463-f302e2ffd3b5"
   },
   "outputs": [
    {
     "data": {
      "text/plain": [
       "True"
      ]
     },
     "execution_count": 123,
     "metadata": {},
     "output_type": "execute_result"
    }
   ],
   "source": [
    "(a < b) and (b > c) # оба верны"
   ]
  },
  {
   "cell_type": "code",
   "execution_count": null,
   "metadata": {
    "id": "RKlN2SH1ELxL",
    "outputId": "be59d00e-58e2-4767-d1c3-5af28d0ad5c2"
   },
   "outputs": [
    {
     "data": {
      "text/plain": [
       "False"
      ]
     },
     "execution_count": 12,
     "metadata": {},
     "output_type": "execute_result"
    }
   ],
   "source": [
    "(a < b) and (c > b) # второе неверно -> все неверно"
   ]
  },
  {
   "cell_type": "markdown",
   "metadata": {
    "id": "tMo3lAHhELxM"
   },
   "source": [
    "Вместо `and` можно использовать оператор `&`, он нам потом ещё пригодится при работе с датафреймами `pandas`:"
   ]
  },
  {
   "cell_type": "code",
   "execution_count": null,
   "metadata": {
    "id": "FNPHrMzsELxN",
    "outputId": "a2c43d13-84c0-4723-ce14-38b888d73cef"
   },
   "outputs": [
    {
     "data": {
      "text/plain": [
       "False"
      ]
     },
     "execution_count": 13,
     "metadata": {},
     "output_type": "execute_result"
    }
   ],
   "source": [
    "(a < b) & (c > b)"
   ]
  },
  {
   "cell_type": "code",
   "execution_count": null,
   "metadata": {
    "id": "uoZUbdeDELxP",
    "outputId": "1ab7915d-054f-4927-b0b8-927c1b6c94cf"
   },
   "outputs": [
    {
     "data": {
      "text/plain": [
       "True"
      ]
     },
     "execution_count": 14,
     "metadata": {},
     "output_type": "execute_result"
    }
   ],
   "source": [
    "(a < b) or (a > c) # первое верное -> хотя бы одно верно"
   ]
  },
  {
   "cell_type": "markdown",
   "metadata": {
    "id": "6Vyr0I1UELxQ"
   },
   "source": [
    "Вместо `or` можно использовать оператор `|`:"
   ]
  },
  {
   "cell_type": "code",
   "execution_count": null,
   "metadata": {
    "id": "MbFVbAq4ELxR",
    "outputId": "c4bd6950-939e-48ef-9235-e9bccd882f06"
   },
   "outputs": [
    {
     "data": {
      "text/plain": [
       "True"
      ]
     },
     "execution_count": 15,
     "metadata": {},
     "output_type": "execute_result"
    }
   ],
   "source": [
    "(a < b) | (a > c)"
   ]
  },
  {
   "cell_type": "markdown",
   "metadata": {
    "id": "hxHYzoHUELxS"
   },
   "source": [
    "Кроме `and` и `or` в Python есть еще полезные операторы: оператор принадлежности `in` и оператор отрицания `not`."
   ]
  },
  {
   "cell_type": "markdown",
   "metadata": {
    "id": "Lj4CvnmSELxS"
   },
   "source": [
    "Пусть у нас есть списки отличных, хороших, удовлетворительных и плохих оценок."
   ]
  },
  {
   "cell_type": "code",
   "execution_count": null,
   "metadata": {
    "id": "CNmE3PdeELxT"
   },
   "outputs": [],
   "source": [
    "excel = [8, 9, 10]\n",
    "good = [6, 7]\n",
    "sat = [4, 5]\n",
    "bad = [1, 2, 3]"
   ]
  },
  {
   "cell_type": "markdown",
   "metadata": {
    "id": "fh13zdcIELxV"
   },
   "source": [
    "Проверим, лежит ли оценка 8 в плохих:"
   ]
  },
  {
   "cell_type": "code",
   "execution_count": null,
   "metadata": {
    "colab": {
     "base_uri": "https://localhost:8080/"
    },
    "id": "D1pZJhAyELxW",
    "outputId": "dae251c8-a01b-4969-ce6e-bc0e4f00a084"
   },
   "outputs": [
    {
     "data": {
      "text/plain": [
       "False"
      ]
     },
     "execution_count": 125,
     "metadata": {},
     "output_type": "execute_result"
    }
   ],
   "source": [
    "8 in bad"
   ]
  },
  {
   "cell_type": "code",
   "execution_count": null,
   "metadata": {
    "colab": {
     "base_uri": "https://localhost:8080/"
    },
    "id": "bYO57C1pnrWt",
    "outputId": "a0a3e8f2-59e4-4467-cd3f-c911f777336f"
   },
   "outputs": [
    {
     "data": {
      "text/plain": [
       "True"
      ]
     },
     "execution_count": 126,
     "metadata": {},
     "output_type": "execute_result"
    }
   ],
   "source": [
    "8 in excel"
   ]
  },
  {
   "cell_type": "markdown",
   "metadata": {
    "id": "9F-5tUHXELxX"
   },
   "source": [
    "Применим отрицание:"
   ]
  },
  {
   "cell_type": "code",
   "execution_count": null,
   "metadata": {
    "id": "pBDP9Od0ELxY",
    "outputId": "fdd1e08b-55e5-40c6-f683-fae93f5d85da"
   },
   "outputs": [
    {
     "data": {
      "text/plain": [
       "True"
      ]
     },
     "execution_count": 18,
     "metadata": {},
     "output_type": "execute_result"
    }
   ],
   "source": [
    "8 not in bad # верно!"
   ]
  },
  {
   "cell_type": "code",
   "execution_count": null,
   "metadata": {
    "colab": {
     "base_uri": "https://localhost:8080/"
    },
    "id": "-rVnwYT3n1OZ",
    "outputId": "88beaee3-bcca-4963-ddc2-e1c43240ce4b"
   },
   "outputs": [
    {
     "name": "stdout",
     "output_type": "stream",
     "text": [
      "133444690166160 133444690166128\n",
      "False\n",
      "False\n",
      "133443418995712 133443418982208\n",
      "False\n",
      "False\n",
      "True\n"
     ]
    }
   ],
   "source": [
    "a=6\n",
    "b=5\n",
    "l=[1,2]\n",
    "l2=l[:]\n",
    "print(id(a),id(b))\n",
    "print(a is b)\n",
    "print(a == b)\n",
    "\n",
    "print(id(l),id(l2))\n",
    "print(l in l2)\n",
    "print(l is l2)\n",
    "print(l == l2)"
   ]
  },
  {
   "cell_type": "code",
   "execution_count": null,
   "metadata": {
    "colab": {
     "base_uri": "https://localhost:8080/"
    },
    "id": "bcfUm7nSX7Cw",
    "outputId": "3db8f3f1-44ba-4df9-8bb3-166a2be8f332"
   },
   "outputs": [
    {
     "data": {
      "text/plain": [
       "True"
      ]
     },
     "execution_count": 133,
     "metadata": {},
     "output_type": "execute_result"
    }
   ],
   "source": [
    "a = [1, 2]\n",
    "b = a[:]\n",
    "b == a"
   ]
  },
  {
   "cell_type": "markdown",
   "metadata": {
    "id": "7hTPAWwBELxZ"
   },
   "source": [
    "### Условные конструкции"
   ]
  },
  {
   "cell_type": "markdown",
   "metadata": {
    "id": "bWLdCsAzELxa"
   },
   "source": [
    "Условные конструкции – конструкции с операторами условия. Условная конструкция обычно предполагает «развилку»: если условие выполняется, то должен выполняться один набор действий, если нет – другой набор действий. Давайте напишем программу, которая будет проверять, какое число сохранено в `x`, и если это число менее 10, на экран будет выводиться сообщение \"Мало\", иначе – \"Много\". И заодно познакомимся с конструкцией *if-else*."
   ]
  },
  {
   "cell_type": "code",
   "execution_count": null,
   "metadata": {
    "id": "Poago_nuELxb"
   },
   "outputs": [],
   "source": [
    "x = 10"
   ]
  },
  {
   "cell_type": "code",
   "execution_count": null,
   "metadata": {
    "colab": {
     "base_uri": "https://localhost:8080/"
    },
    "id": "-qwh2vQTELxc",
    "outputId": "46561f87-2455-47da-8fd6-e900d6bc0819"
   },
   "outputs": [
    {
     "name": "stdout",
     "output_type": "stream",
     "text": [
      "Много\n"
     ]
    }
   ],
   "source": [
    "if x < 10:\n",
    "    print(\"Мало\")\n",
    "else:\n",
    "    print(\"Много\")"
   ]
  },
  {
   "cell_type": "markdown",
   "metadata": {
    "id": "RRoANw1cELxd"
   },
   "source": [
    "В части с `if` мы прописываем условие, в зависимости от которого Python будет делать выбор, что выводить на экран, а после двоеточия перечисляем действия, которые будут выполняться в случае, если `x` удовлетворяет условию. В части с `else` мы уже не пишем никакого условия – оператор `else` сам по себе означает «в случае, если условие в выражении с `if` не выполнено».\n",
    "\n",
    "Часть с `else` является необязательной: программа может существовать только с условием `if`. Тогда в случае невыполнения условия ничего происходить не будет, Python просто перейдет к следующим строкам кода."
   ]
  },
  {
   "cell_type": "code",
   "execution_count": null,
   "metadata": {
    "id": "4z2UFhqbELxf"
   },
   "outputs": [],
   "source": [
    "if x < 10:\n",
    "    print(\"Мало\")"
   ]
  },
  {
   "cell_type": "markdown",
   "metadata": {
    "id": "FZXVXtQhELxg"
   },
   "source": [
    "Как быть, если условий несколько? Например, мы просим пользователя ввести число, и если число больше 10, на экране должно быть сообщение \"Много\", если ровно 10 – \"В самый раз\", если меньше – \"Мало\". Условные конструкции можно вкладывать друг друга, главное не забывать при этом про отступы:"
   ]
  },
  {
   "cell_type": "code",
   "execution_count": null,
   "metadata": {
    "colab": {
     "base_uri": "https://localhost:8080/"
    },
    "id": "5ENNeasKELxj",
    "outputId": "998311c2-eab2-4e68-b24d-9a2815409eca"
   },
   "outputs": [
    {
     "name": "stdout",
     "output_type": "stream",
     "text": [
      "В самый раз\n"
     ]
    }
   ],
   "source": [
    "if x < 10:\n",
    "    print(\"Мало\")\n",
    "else:\n",
    "    if x == 10:\n",
    "        print(\"В самый раз\")\n",
    "    else:\n",
    "        print(\"Много\")"
   ]
  },
  {
   "cell_type": "markdown",
   "metadata": {
    "id": "FjbRClhCELxl"
   },
   "source": [
    "Можно воспользоваться оператором `elif`, который по смыслу является сочетанием `else + if`: если предыдущее условие невыполнено, то, нужно проверить следующее условие, и если оно тоже не выполнено, то уже перейти к ветке с `else`."
   ]
  },
  {
   "cell_type": "code",
   "execution_count": null,
   "metadata": {
    "id": "98gEtFC9ELxm",
    "outputId": "77a04dcc-22f3-4091-9e44-f6c5bfbdd7c7"
   },
   "outputs": [
    {
     "name": "stdout",
     "output_type": "stream",
     "text": [
      "В самый раз\n"
     ]
    }
   ],
   "source": [
    "if x < 10:\n",
    "    print(\"Мало\")\n",
    "elif x == 10:\n",
    "    print(\"В самый раз\")\n",
    "else:\n",
    "    print(\"Много\")"
   ]
  },
  {
   "cell_type": "markdown",
   "metadata": {
    "id": "G5soDtUhELxo"
   },
   "source": [
    "Ответвлений с `elif` может быть несколько: сколько условий, столько и выражений с `elif`."
   ]
  },
  {
   "cell_type": "markdown",
   "metadata": {
    "id": "SQOywCPmELxq"
   },
   "source": [
    "Законный вопрос: а можно ли обойтись совсем без `elif`, просто записав несколько выражений с `if`? Тут все зависит от ситуации. Иногда решения использовать `elif` и `if` будут равнозначными, иногда – нет.\n",
    "\n",
    "Рассмотрим такую задачу: в переменной `mark` хранится оценка в 10-балльной шкале, и нам нужно вывести по ней текстовый комментарий (\"Excellent\", \"Good\", \"Satisfactory\" или \"Bad\"). Решим эту задачу с помощью `elif`:"
   ]
  },
  {
   "cell_type": "code",
   "execution_count": null,
   "metadata": {
    "colab": {
     "base_uri": "https://localhost:8080/"
    },
    "id": "G9dRYwqFELxs",
    "outputId": "60e9be9a-20f0-4e59-dd1d-7875bfb958de"
   },
   "outputs": [
    {
     "name": "stdout",
     "output_type": "stream",
     "text": [
      "Good\n"
     ]
    }
   ],
   "source": [
    "mark = 6\n",
    "if mark >= 8:\n",
    "    print(\"Excellent\")\n",
    "elif mark >= 6:\n",
    "    print(\"Good\")\n",
    "elif mark >= 4:\n",
    "    print(\"Satisfactory\")\n",
    "else:\n",
    "    print(\"Bad\")"
   ]
  },
  {
   "cell_type": "markdown",
   "metadata": {
    "id": "VGZv4pUQELxu"
   },
   "source": [
    "Почему мы можем сделать так? Потому что на каждом шаге, при проверке нового условия мы сужаем круг интересующих нас исходов: если оценка не больше или равна 8, то она точно меньше 8 и сравнивать ее нужно только со следующей «пограничной» оценкой 6, далее, если оценка оказалась меньше 6, остается сравнить ее только с 4 и все.\n"
   ]
  },
  {
   "cell_type": "markdown",
   "metadata": {
    "id": "usjIsKbsELxv"
   },
   "source": [
    "Могли бы решить эту задачу без `elif`, а с помощью сложных условий:"
   ]
  },
  {
   "cell_type": "code",
   "execution_count": null,
   "metadata": {
    "colab": {
     "base_uri": "https://localhost:8080/"
    },
    "id": "42aAPRRRELxw",
    "outputId": "a6f7dbc0-c949-4ace-a79c-e3d3ca447bfb"
   },
   "outputs": [
    {
     "name": "stdout",
     "output_type": "stream",
     "text": [
      "Good\n"
     ]
    }
   ],
   "source": [
    "mark = 6\n",
    "if mark >= 8:\n",
    "    print(\"Excellent\")\n",
    "if (mark < 8) and (mark >= 6):\n",
    "    print(\"Good\")\n",
    "if (mark < 6) and (mark >= 4):\n",
    "    print(\"Satisfactory\")\n",
    "if (mark < 4):\n",
    "    print(\"Bad\")"
   ]
  },
  {
   "cell_type": "markdown",
   "metadata": {
    "id": "13jMY4seELxy"
   },
   "source": [
    "Если бы в конце вместо последнего `if` мы написали конструкцию с `else`, результат был бы другим:"
   ]
  },
  {
   "cell_type": "code",
   "execution_count": null,
   "metadata": {
    "colab": {
     "base_uri": "https://localhost:8080/"
    },
    "id": "XLHYVkdPELxz",
    "outputId": "c738fcb9-6f0e-4ba2-c6a3-6a5c57ea7e31"
   },
   "outputs": [
    {
     "name": "stdout",
     "output_type": "stream",
     "text": [
      "Good\n",
      "Bad\n"
     ]
    }
   ],
   "source": [
    "mark = 6\n",
    "if mark >= 8:\n",
    "    print(\"Excellent\")\n",
    "if (mark < 8) and (mark >= 6):\n",
    "    print(\"Good\")\n",
    "if (mark < 6) and (mark >= 4):\n",
    "    print(\"Satisfactory\")\n",
    "else:\n",
    "    print(\"Bad\")"
   ]
  },
  {
   "cell_type": "markdown",
   "metadata": {
    "id": "sBjxGRBjELx0"
   },
   "source": [
    "Почему? Потому что в этом случае часть с `else` относится не ко всем частям с `if` выше, а только к последней, где проверяется принадлежность `mark` промежутку от 6 до 8."
   ]
  },
  {
   "cell_type": "markdown",
   "metadata": {
    "id": "g_abtCSKELx1"
   },
   "source": [
    "### Цикл `while`"
   ]
  },
  {
   "cell_type": "markdown",
   "metadata": {
    "id": "fO188Pg_ELx2"
   },
   "source": [
    "С циклом `for` мы уже знакомы. Сейчас мы познакомимся с циклом `while`, логика которого отличается от `for`. Конструкции с циклом `while` устроены следующим образом: действия, которые указаны в теле цикла, должны выполняться до тех пор, пока верно условие, прописанное после `while` (отсюда и название). Если в цикле `for` мы указывали некоторый промежуток, по которому в ходе цикла мы будем «пробегаться», то в случае с циклом `while` мы просто фиксируем стартовую точку, а конечную точку никак не указываем: программа сама остановится, когда условие в цикле перестанет выполняться."
   ]
  },
  {
   "cell_type": "markdown",
   "metadata": {
    "id": "_wa0GszeELx3"
   },
   "source": [
    "Давайте, используя цикл `while`, будем выводить на экран элементы списка `turnout` до тех пор, пока не столкнемся со странным значением явки (больше 100)."
   ]
  },
  {
   "cell_type": "code",
   "execution_count": null,
   "metadata": {
    "id": "PLRE-5VvELx4"
   },
   "outputs": [],
   "source": [
    "turnout = [68, 45, 98, 56, 70, 146, 56, 67]"
   ]
  },
  {
   "cell_type": "code",
   "execution_count": null,
   "metadata": {
    "colab": {
     "base_uri": "https://localhost:8080/"
    },
    "id": "rYZ3f3MyELx5",
    "outputId": "59386ad9-dfa8-43b5-cf03-ff01ce3a0b99"
   },
   "outputs": [
    {
     "name": "stdout",
     "output_type": "stream",
     "text": [
      "68\n",
      "45\n",
      "98\n",
      "56\n",
      "70\n"
     ]
    }
   ],
   "source": [
    "i = 0 # начинаем с индекса i=0\n",
    "\n",
    "while turnout[i] < 100: # пока элемент nums[i] >= 0\n",
    "    print(turnout[i]) # выводим элемент на экран\n",
    "    i = i + 1 # переходим к следующему элементу"
   ]
  },
  {
   "cell_type": "markdown",
   "metadata": {
    "id": "0NjbdJ4yELx6"
   },
   "source": [
    "На значении 70 мы остановились: за ним идет значение 146, для которого условие `turnout[i] < 100` не выполняется. Python не ожидал такого подвоха и перестал с нами разговаривать :)\n",
    "\n",
    "Давайте теперь попробуем переписать код так, чтобы он работал точно так же, но только чтобы в нем использовался цикл `for`, а не `while`. Вообще почти любой код с `while` можно переписать через `for`, и иногда это полезно: код с циклом `while` обычно более медленный, плюс, склонен к зацикливанию."
   ]
  },
  {
   "cell_type": "code",
   "execution_count": null,
   "metadata": {
    "colab": {
     "base_uri": "https://localhost:8080/"
    },
    "id": "rAazFvLkELx8",
    "outputId": "d607e6a6-9182-4c25-c63a-d77ed6f4d073"
   },
   "outputs": [
    {
     "name": "stdout",
     "output_type": "stream",
     "text": [
      "68\n",
      "45\n",
      "98\n",
      "56\n",
      "70\n"
     ]
    }
   ],
   "source": [
    "for t in turnout:\n",
    "    if t < 100:\n",
    "        print(t)\n",
    "    else:\n",
    "        break # выходим из цикла"
   ]
  },
  {
   "cell_type": "markdown",
   "metadata": {
    "id": "6sS4PVHkELx9"
   },
   "source": [
    "В коде выше мы использовали оператор `break`, который позволяет выйти из цикла, то есть закончить исполнение строк кода в теле цикла и перейти к коду дальше.  "
   ]
  },
  {
   "cell_type": "markdown",
   "metadata": {
    "id": "k5lHWkFvELx_"
   },
   "source": [
    "Если бы мы хотели модифицировать код таким образом, чтобы он пропускал странное значение, ничего не делал, можно было бы добавить оператор `pass` вместо `break` (отвечает за отсутствие действия):"
   ]
  },
  {
   "cell_type": "code",
   "execution_count": null,
   "metadata": {
    "colab": {
     "base_uri": "https://localhost:8080/"
    },
    "id": "j3E9P9epELx_",
    "outputId": "99583d57-fb7c-4794-cf37-89d181faa7da"
   },
   "outputs": [
    {
     "name": "stdout",
     "output_type": "stream",
     "text": [
      "68\n",
      "45\n",
      "98\n",
      "56\n",
      "70\n",
      "56\n",
      "67\n"
     ]
    }
   ],
   "source": [
    "for t in turnout:\n",
    "  if t < 100:\n",
    "      print(t)\n",
    "  else:\n",
    "      pass"
   ]
  },
  {
   "cell_type": "code",
   "execution_count": null,
   "metadata": {
    "colab": {
     "base_uri": "https://localhost:8080/"
    },
    "id": "UFT39Ku9agJA",
    "outputId": "8e26bb23-e95e-46d4-b2b2-9c1a1d57bd71"
   },
   "outputs": [
    {
     "name": "stdout",
     "output_type": "stream",
     "text": [
      "68\n",
      "45\n",
      "98\n",
      "56\n",
      "70\n",
      "into\n",
      "56\n",
      "67\n",
      "finish\n"
     ]
    }
   ],
   "source": [
    "for t in turnout:\n",
    "  if t < 100:\n",
    "      print(t)\n",
    "  else:\n",
    "      continue\n",
    "      print('into')\n",
    "else:\n",
    "  print('finish')\n"
   ]
  },
  {
   "cell_type": "markdown",
   "metadata": {
    "id": "n_0y8eogELyF"
   },
   "source": [
    "конструкция `while True` – своеобразная альтернатива «бесконечному» циклу `for`."
   ]
  },
  {
   "cell_type": "markdown",
   "metadata": {
    "id": "A5E53hxvVCim"
   },
   "source": [
    "#Задачи для решения на семинаре"
   ]
  },
  {
   "cell_type": "markdown",
   "metadata": {
    "id": "aAPhkTE3VFs4"
   },
   "source": [
    "1. Дана строка произвольной длины. Посчитайте количество слов в ней.\n",
    "\n",
    "2. Проверить четность числа.\n",
    "\n",
    "3. Проверить есть ли в списке заданное число, если есть вывести его индекс.\n",
    "\n",
    "4. Дано 10-значное число, поменяйте порядок последних 4 цифр на обратный.\n",
    "\n",
    "5. Дан список произвольной длины, необходимо напечатать все числа из этого списка соответствующие заданному диапазону."
   ]
  }
 ],
 "metadata": {
  "colab": {
   "provenance": []
  },
  "kernelspec": {
   "display_name": "Python 3 (ipykernel)",
   "language": "python",
   "name": "python3"
  },
  "language_info": {
   "codemirror_mode": {
    "name": "ipython",
    "version": 3
   },
   "file_extension": ".py",
   "mimetype": "text/x-python",
   "name": "python",
   "nbconvert_exporter": "python",
   "pygments_lexer": "ipython3",
   "version": "3.13.7"
  }
 },
 "nbformat": 4,
 "nbformat_minor": 4
}
