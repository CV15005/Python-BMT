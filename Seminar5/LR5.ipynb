{
 "cells": [
  {
   "cell_type": "markdown",
   "metadata": {
    "id": "lhLob9zN-iVt"
   },
   "source": [
    "# ЛР №5\n",
    "\n",
    "Исключения. Функциональный стиль в Python (на примере map()). Lambda. Итераторы и генераторы. Обзор стандартной библиотеки Python 3 и часто используемых сторонних модулей. Регулярные выражения."
   ]
  },
  {
   "cell_type": "markdown",
   "metadata": {
    "id": "PCgUvqQWgI2Z"
   },
   "source": [
    "# Задача №1 (try except)\n",
    "\n",
    "Написать функцию подсчета суммы числовых элементов списка. Элементы списка могут быть любым типом данных. Если в списке встретиться элемент не числового типа, то необходимо вычесть из накопленной суммы 1.\n",
    "\n",
    "В функции использовать try except блок."
   ]
  },
  {
   "cell_type": "markdown",
   "metadata": {
    "id": "PyAYZaBty1Yu"
   },
   "source": [
    "Задание со звездочкой*\n",
    "\n",
    "Если все элементы списка не числовые, то выбросить исключение с тектом 'Элементы списка нельзя суммировать'."
   ]
  },
  {
   "cell_type": "markdown",
   "metadata": {
    "id": "04iiP9iDpebQ"
   },
   "source": [
    "# Задача №2 (map)\n",
    "\n",
    "Примените функцию к списку словарей"
   ]
  },
  {
   "cell_type": "code",
   "execution_count": null,
   "metadata": {
    "id": "dxF6du8_xj19"
   },
   "outputs": [],
   "source": [
    "def foo(d):\n",
    "  d.update({'new_key':'with_map'})\n",
    "  return d"
   ]
  },
  {
   "cell_type": "markdown",
   "metadata": {
    "id": "rSctr2YVqiIq"
   },
   "source": [
    "# Задача №3 (filter)\n",
    "\n",
    "Сформировать список положительных элементов списка a\n",
    "\n",
    "a = [-1, 2, -3, 4, 5]"
   ]
  },
  {
   "cell_type": "markdown",
   "metadata": {
    "id": "pWlSncGPq-eV"
   },
   "source": [
    "# Задача №4 (Lambda)\n",
    "\n",
    "Переписать функцию foo в виде lambda и применить ее к 2 произвольным спискам"
   ]
  },
  {
   "cell_type": "code",
   "execution_count": null,
   "metadata": {
    "colab": {
     "base_uri": "https://localhost:8080/"
    },
    "id": "Sa9twmKXrjLE",
    "outputId": "80d0b197-123e-4111-d922-4ed7c873ed54"
   },
   "outputs": [
    {
     "data": {
      "text/plain": [
       "[1, 0, 1]"
      ]
     },
     "execution_count": 24,
     "metadata": {},
     "output_type": "execute_result"
    }
   ],
   "source": [
    "def foo(a, b):\n",
    "  c = []\n",
    "  for i in range(len(a)):\n",
    "    if a[i] > b[i]:\n",
    "      c.append(0)\n",
    "    else:\n",
    "      c.append(1)\n",
    "  return c\n",
    "\n",
    "foo([1, 2, 3], [4, 1, 6])"
   ]
  },
  {
   "cell_type": "markdown",
   "metadata": {
    "id": "GmvaSatNva0p"
   },
   "source": [
    "## Задача №5 (генератор и итератор)\n",
    "\n",
    "Напишите бесконечный генератор чисел, убывающих в геометрической прогрессии"
   ]
  },
  {
   "cell_type": "markdown",
   "metadata": {
    "id": "THYXHisVvm2V"
   },
   "source": [
    "## Задача №6 (регулярные выражения)\n",
    "\n",
    "Найдите в строке все цифры начинающиеся с 1 \"anf 17u fkjgktjg 123 gvbnn 81 jfjgj 12\" -> 17, 123, 12\n",
    "\n"
   ]
  },
  {
   "cell_type": "markdown",
   "metadata": {
    "id": "kRQZFphhuuz8"
   },
   "source": [
    "Задание со звездочкой *\n",
    "\n",
    "Примените lambda с использованием map к произвольным спискам\n",
    "1. Отсортируйте список по сумме 1 и 3 элемента списка в кортеже\n",
    "2. по разности первого элемента кортежа и первого элемента списка в кортеже"
   ]
  },
  {
   "cell_type": "code",
   "execution_count": null,
   "metadata": {
    "id": "_ovhgYGXw_15"
   },
   "outputs": [],
   "source": [
    "a = [(1, [3, 10, 5]), (3, [1, 4, 6]), (6, [15, 4, 7])]"
   ]
  },
  {
   "cell_type": "markdown",
   "metadata": {
    "id": "wL9s1Eo_yRnn"
   },
   "source": [
    "# Задача ** \"Парсер логов\""
   ]
  },
  {
   "cell_type": "markdown",
   "metadata": {
    "id": "eqoXZkBSyade"
   },
   "source": [
    "https://drive.google.com/drive/folders/1NUsq5VdGyIKsWKfAiagAhtr-ZFu2hMPa?usp=sharing"
   ]
  }
 ],
 "metadata": {
  "colab": {
   "provenance": []
  },
  "kernelspec": {
   "display_name": "Python 3 (ipykernel)",
   "language": "python",
   "name": "python3"
  },
  "language_info": {
   "codemirror_mode": {
    "name": "ipython",
    "version": 3
   },
   "file_extension": ".py",
   "mimetype": "text/x-python",
   "name": "python",
   "nbconvert_exporter": "python",
   "pygments_lexer": "ipython3",
   "version": "3.13.7"
  }
 },
 "nbformat": 4,
 "nbformat_minor": 4
}
