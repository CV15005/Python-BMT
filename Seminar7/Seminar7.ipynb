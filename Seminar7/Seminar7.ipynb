{
 "cells": [
  {
   "cell_type": "markdown",
   "metadata": {
    "id": "lhLob9zN-iVt"
   },
   "source": [
    "# Семинар №7\n",
    "\n",
    "Основные понятия ООП. Наследование. Полиморфизм."
   ]
  },
  {
   "cell_type": "markdown",
   "metadata": {
    "id": "5NYj8ZPKcroa"
   },
   "source": [
    "## Наследование и полиморфизм"
   ]
  },
  {
   "cell_type": "markdown",
   "metadata": {
    "id": "4L02SxG5kTW_"
   },
   "source": [
    "* Наследование\n",
    "\n",
    "Под наследованием понимается возможность создания нового класса на базе существующего. Наследование предполагает наличие отношения “является” между классом наследником и классом родителем. При этом класс потомок будет содержать те же атрибуты и методы, что и базовый класс, но при этом его можно (и нужно) расширять через добавление новых методов и атрибутов.\n",
    "\n",
    "Примером базового класса, демонстрирующего наследование, можно определить класс “автомобиль”, имеющий атрибуты: масса, мощность двигателя, объем топливного бака и методы: завести и заглушить. У такого класса может быть потомок – “грузовой автомобиль”, он будет содержать те же атрибуты и методы, что и класс “автомобиль”, и дополнительные свойства: количество осей, мощность компрессора и т.п..\n",
    "\n",
    "\n",
    "* Полиморфизм\n",
    "\n",
    "Полиморфизм позволяет одинаково обращаться с объектами, имеющими однотипный интерфейс, независимо от внутренней реализации объекта. Например, с объектом класса “грузовой автомобиль” можно производить те же операции, что и с объектом класса “автомобиль”, т.к. первый является наследником второго, при этом обратное утверждение неверно (во всяком случае не всегда). Другими словами полиморфизм предполагает разную реализацию методов с одинаковыми именами. Это очень полезно при наследовании, когда в классе наследнике можно переопределить методы класса родителя."
   ]
  },
  {
   "cell_type": "markdown",
   "metadata": {
    "id": "FUVKTME24GVh"
   },
   "source": [
    "Ключевыми понятиями наследования являются подкласс и суперкласс. Подкласс наследует от суперкласса все публичные атрибуты и методы. Суперкласс еще называется базовым (base class) или родительским (parent class), а подкласс - производным (derived class) или дочерним (child class)."
   ]
  },
  {
   "cell_type": "code",
   "execution_count": null,
   "metadata": {
    "id": "Hjly5bXv4J4-"
   },
   "outputs": [],
   "source": [
    "class подкласс (суперкласс):\n",
    "    методы_подкласса"
   ]
  },
  {
   "cell_type": "code",
   "execution_count": null,
   "metadata": {
    "id": "4nKiJwetCdL2"
   },
   "outputs": [],
   "source": [
    "class Person:\n",
    "    def __init__(self, name):\n",
    "        self.name = name   # имя человека\n",
    "\n",
    "    def display_info(self):\n",
    "        print(f\"Name: {self.name} \")"
   ]
  },
  {
   "cell_type": "code",
   "execution_count": null,
   "metadata": {
    "id": "W4slm4EvD1t5"
   },
   "outputs": [],
   "source": [
    "class Employee:\n",
    "\n",
    "    def __init__(self, name):\n",
    "        self.name = name  # имя работника\n",
    "\n",
    "    def display_info(self):\n",
    "        print(f\"Name: {self.name} \")\n",
    "\n",
    "    def work(self):\n",
    "        print(f\"{self.name} works\")\n",
    "\n"
   ]
  },
  {
   "cell_type": "code",
   "execution_count": null,
   "metadata": {
    "id": "SgfJNP6-D9h9"
   },
   "outputs": [],
   "source": [
    "class Employee(Person):\n",
    "\n",
    "    def work(self):\n",
    "        print(f\"{self.name} works\")"
   ]
  },
  {
   "cell_type": "code",
   "execution_count": null,
   "metadata": {
    "colab": {
     "base_uri": "https://localhost:8080/"
    },
    "id": "kWZbUQyH__hM",
    "outputId": "c3ff0347-f97e-4ea5-f482-bf8cf31357cc"
   },
   "outputs": [
    {
     "data": {
      "text/plain": [
       "mappingproxy({'__module__': '__main__',\n",
       "              'work': <function __main__.Employee.work(self)>,\n",
       "              '__doc__': None})"
      ]
     },
     "execution_count": 15,
     "metadata": {},
     "output_type": "execute_result"
    }
   ],
   "source": [
    "Employee.__dict__"
   ]
  },
  {
   "cell_type": "code",
   "execution_count": null,
   "metadata": {
    "colab": {
     "base_uri": "https://localhost:8080/"
    },
    "id": "IX7jnNtlD_yl",
    "outputId": "154b8f81-3c58-4eac-e4d4-704b2643a4b8"
   },
   "outputs": [
    {
     "name": "stdout",
     "output_type": "stream",
     "text": [
      "Tom\n"
     ]
    }
   ],
   "source": [
    "tom = Employee(\"Tom\")\n",
    "print(tom.name)"
   ]
  },
  {
   "cell_type": "code",
   "execution_count": null,
   "metadata": {
    "colab": {
     "base_uri": "https://localhost:8080/"
    },
    "id": "aCTTlEAIE1fR",
    "outputId": "dde9e8af-91fe-4715-9bcc-52bda4cf6d9a"
   },
   "outputs": [
    {
     "name": "stdout",
     "output_type": "stream",
     "text": [
      "Name: Tom \n"
     ]
    }
   ],
   "source": [
    "tom.display_info()  # Name: Tom"
   ]
  },
  {
   "cell_type": "code",
   "execution_count": null,
   "metadata": {
    "colab": {
     "base_uri": "https://localhost:8080/"
    },
    "id": "aP7CL3WuEQJM",
    "outputId": "486942c4-01c3-4153-9bac-d1697cb98560"
   },
   "outputs": [
    {
     "name": "stdout",
     "output_type": "stream",
     "text": [
      "Tom works\n"
     ]
    }
   ],
   "source": [
    "tom.work()"
   ]
  },
  {
   "cell_type": "markdown",
   "metadata": {
    "id": "gOShmBKsFHuu"
   },
   "source": [
    "### Переопределение функционала базового класса"
   ]
  },
  {
   "cell_type": "markdown",
   "metadata": {
    "id": "6u1WIgJ4FK6U"
   },
   "source": [
    "Но что, если мы хотим что-то изменить из этого функционала? Например, добавить работнику через конструктор, новый атрибут, который будет хранить компанию, где он работает или изменить реализацию метода display_info. Python позволяет переопределить функционал базового класса."
   ]
  },
  {
   "cell_type": "code",
   "execution_count": null,
   "metadata": {
    "colab": {
     "base_uri": "https://localhost:8080/"
    },
    "id": "Hs0Djl0fFTbu",
    "outputId": "0b895dc7-b5ff-4d8e-a411-574a89b00def"
   },
   "outputs": [
    {
     "name": "stdout",
     "output_type": "stream",
     "text": [
      "Name: Tom \n",
      "Company: Microsoft\n"
     ]
    }
   ],
   "source": [
    "class Employee(Person):\n",
    "\n",
    "    def __init__(self, name, company):\n",
    "        super().__init__(name)\n",
    "        self.company = company\n",
    "\n",
    "    def display_info(self):\n",
    "        super().display_info()\n",
    "        print(f\"Company: {self.company}\")\n",
    "\n",
    "    def work(self):\n",
    "        print(f\"{self.name} works\")\n",
    "\n",
    "\n",
    "tom = Employee(\"Tom\", \"Microsoft\")\n",
    "tom.display_info()  # Name: Tom\n",
    "                    # Company: Microsoft"
   ]
  },
  {
   "cell_type": "code",
   "execution_count": null,
   "metadata": {
    "id": "sjVMa9YiDINf"
   },
   "outputs": [],
   "source": [
    "super().__init__(name)\n",
    "\n",
    "Person.__init__(self, name)"
   ]
  },
  {
   "cell_type": "markdown",
   "metadata": {
    "id": "4-KKJiRHFbXd"
   },
   "source": [
    "Здесь в классе Employee добавляется новый атрибут - self.company, который хранит компанию работника. Соответственно метод `__init__()` принимает три параметра: второй для установки имени и третий для установки компании. Но если в базовом классе определен конструктор с помощью метода `__init__`, и мы хотим в производном классе изменить логику конструктора, то в конструкторе производного класса мы должны вызвать конструктор базового класса. То есть в конструкторе Employee надо вызвать конструктор класса Person."
   ]
  },
  {
   "cell_type": "markdown",
   "metadata": {
    "id": "c5hA8yFxFc1N"
   },
   "source": [
    "Для обращения к базовому классу используется выражение super(). Так, в конструкторе Employee выполняется вызов:"
   ]
  },
  {
   "cell_type": "code",
   "execution_count": null,
   "metadata": {
    "id": "iPegF60mFeEr"
   },
   "outputs": [],
   "source": [
    "super().__init__(name)"
   ]
  },
  {
   "cell_type": "markdown",
   "metadata": {
    "id": "C_OgAxH1Fk-o"
   },
   "source": [
    "Это выражение будет представлять вызов конструктора класса Person, в который передается имя работника. И это логично. Ведь имя работника устанавливается именно в конструкторе класса Person. В самом конструкторе Employee лишь устанавливаем свойство company."
   ]
  },
  {
   "cell_type": "markdown",
   "metadata": {
    "id": "e-ZvJpFjB5id"
   },
   "source": [
    "## Абстрактный класс"
   ]
  },
  {
   "cell_type": "markdown",
   "metadata": {
    "id": "dcgKhF1xB7ot"
   },
   "source": [
    "Абстрактным называется класс, который содержит один и более абстрактных методов. Абстрактным называется объявленный, но не реализованный метод. Абстрактные классы не могут быть инстанциированы, от них нужно унаследовать, реализовать все их абстрактные методы и только тогда можно создать экземпляр такого класса. В Python отсутствует встроенная поддержка абстрактных классов, для этой цели используется модуль abc (Abstract Base Class)\n",
    "\n",
    "Возьмем для примера, шахматы. У всех шахматных фигур есть общий функционал, например - возможность фигуры ходить и быть отображенной на доске. Исходя из этого, мы можем создать абстрактный класс Фигура, определить в нем абстрактный метод (в нашем случае - ход, поскольку каждая фигура ходит по-своему) и реализовать общий функционал (отрисовка на доске)."
   ]
  },
  {
   "cell_type": "code",
   "execution_count": null,
   "metadata": {
    "id": "lgPZFk7KCAZb"
   },
   "outputs": [],
   "source": [
    "from abc import ABC, abstractmethod\n",
    "\n",
    "class ChessPiece(ABC):\n",
    "    # общий метод, который будут использовать все наследники этого класса\n",
    "    def draw(self):\n",
    "        print(\"Drew a chess piece\")\n",
    "\n",
    "    # абстрактный метод, который будет необходимо переопределять для каждого подкласса\n",
    "    @abstractmethod\n",
    "    def move(self):\n",
    "        pass"
   ]
  },
  {
   "cell_type": "code",
   "execution_count": null,
   "metadata": {
    "colab": {
     "base_uri": "https://localhost:8080/",
     "height": 141
    },
    "id": "IYUmmiWhCBqj",
    "outputId": "19db7ed4-9426-45f8-9985-7ef8e81aa9bf"
   },
   "outputs": [
    {
     "ename": "TypeError",
     "evalue": "Can't instantiate abstract class ChessPiece with abstract method move",
     "output_type": "error",
     "traceback": [
      "\u001b[0;31m---------------------------------------------------------------------------\u001b[0m",
      "\u001b[0;31mTypeError\u001b[0m                                 Traceback (most recent call last)",
      "\u001b[0;32m<ipython-input-8-4a11223d2cd6>\u001b[0m in \u001b[0;36m<cell line: 1>\u001b[0;34m()\u001b[0m\n\u001b[0;32m----> 1\u001b[0;31m \u001b[0ma\u001b[0m \u001b[0;34m=\u001b[0m \u001b[0mChessPiece\u001b[0m\u001b[0;34m(\u001b[0m\u001b[0;34m)\u001b[0m\u001b[0;34m\u001b[0m\u001b[0;34m\u001b[0m\u001b[0m\n\u001b[0m",
      "\u001b[0;31mTypeError\u001b[0m: Can't instantiate abstract class ChessPiece with abstract method move"
     ]
    }
   ],
   "source": [
    "a = ChessPiece()"
   ]
  },
  {
   "cell_type": "markdown",
   "metadata": {
    "id": "bxOymJCqCGuD"
   },
   "source": [
    "Как видите, система не дает нам создать экземпляр данного класса. Теперь нам необходимо создать конкретный класс, например, класс ферзя, в котором мы реализуем метод move."
   ]
  },
  {
   "cell_type": "code",
   "execution_count": null,
   "metadata": {
    "colab": {
     "base_uri": "https://localhost:8080/"
    },
    "id": "7zjFc1wfCH0-",
    "outputId": "1a922c3b-faef-4a01-989f-51ba01814229"
   },
   "outputs": [
    {
     "name": "stdout",
     "output_type": "stream",
     "text": [
      "Drew a chess piece\n",
      "Moved Queen to e2e4\n"
     ]
    }
   ],
   "source": [
    "class Queen(ChessPiece):\n",
    "    def move(self):\n",
    "        print(\"Moved Queen to e2e4\")\n",
    "\n",
    "# Мы можем создать экземпляр класса\n",
    "q = Queen()\n",
    "# И нам доступны все методы класса\n",
    "q.draw()\n",
    "q.move()"
   ]
  },
  {
   "cell_type": "markdown",
   "metadata": {
    "id": "ly5pL2N0CPXq"
   },
   "source": [
    "Обратите внимание, абстрактный метод может быть реализован сразу в абстрактном классе, однако, декоратор abstractmethod, обяжет программистов, реализующих подкласс либо реализовать собственную версию абстрактного метода, либо дополнить существующую. В таком случае, мы можем переопределять метод как в обычном наследовании, а вызывать родительский метод при помощи super()."
   ]
  },
  {
   "cell_type": "code",
   "execution_count": null,
   "metadata": {
    "colab": {
     "base_uri": "https://localhost:8080/"
    },
    "id": "bkgyYVlzCP_q",
    "outputId": "f48122f3-b75d-4821-8244-bc6655f74916"
   },
   "outputs": [
    {
     "name": "stdout",
     "output_type": "stream",
     "text": [
      "Hello from Basic class\n",
      "Enriched functionality\n"
     ]
    }
   ],
   "source": [
    "from abc import ABC, abstractmethod\n",
    "\n",
    "\n",
    "class Basic(ABC):\n",
    "    @abstractmethod\n",
    "    def hello(self):\n",
    "        print(\"Hello from Basic class\")\n",
    "\n",
    "\n",
    "class Advanced(Basic):\n",
    "    def hello(self):\n",
    "        super().hello()\n",
    "        print(\"Enriched functionality\")\n",
    "\n",
    "a = Advanced()\n",
    "a.hello()"
   ]
  },
  {
   "cell_type": "code",
   "execution_count": null,
   "metadata": {
    "colab": {
     "base_uri": "https://localhost:8080/",
     "height": 165
    },
    "id": "ESqvNOHGCaqb",
    "outputId": "80bd3d28-c130-4e3e-9b82-1f4ff2f84880"
   },
   "outputs": [
    {
     "ename": "TypeError",
     "evalue": "ignored",
     "output_type": "error",
     "traceback": [
      "\u001b[0;31m---------------------------------------------------------------------------\u001b[0m",
      "\u001b[0;31mTypeError\u001b[0m                                 Traceback (most recent call last)",
      "\u001b[0;32m<ipython-input-5-a26cb7c3ce39>\u001b[0m in \u001b[0;36m<module>\u001b[0;34m\u001b[0m\n\u001b[0;32m----> 1\u001b[0;31m \u001b[0ma\u001b[0m \u001b[0;34m=\u001b[0m \u001b[0mBasic\u001b[0m\u001b[0;34m(\u001b[0m\u001b[0;34m)\u001b[0m\u001b[0;34m\u001b[0m\u001b[0;34m\u001b[0m\u001b[0m\n\u001b[0m",
      "\u001b[0;31mTypeError\u001b[0m: Can't instantiate abstract class Basic with abstract methods hello"
     ]
    }
   ],
   "source": [
    "a = Basic()"
   ]
  },
  {
   "cell_type": "markdown",
   "metadata": {
    "id": "H4ZweDItDvMz"
   },
   "source": [
    "## Множественное наследование"
   ]
  },
  {
   "cell_type": "code",
   "execution_count": null,
   "metadata": {
    "id": "TufuREN4D0rB"
   },
   "outputs": [],
   "source": [
    "class Auto:\n",
    "    def ride(self):\n",
    "        print(\"Riding on a ground\")"
   ]
  },
  {
   "cell_type": "code",
   "execution_count": null,
   "metadata": {
    "id": "EJUqOEOJD11N"
   },
   "outputs": [],
   "source": [
    "class Boat:\n",
    "    def swim(self):\n",
    "        print(\"Sailing in the ocean\")"
   ]
  },
  {
   "cell_type": "code",
   "execution_count": null,
   "metadata": {
    "colab": {
     "base_uri": "https://localhost:8080/"
    },
    "id": "DXYI3sYbD2Mz",
    "outputId": "3d7314dd-d984-4df3-9281-8f5ccf46dd45"
   },
   "outputs": [
    {
     "name": "stdout",
     "output_type": "stream",
     "text": [
      "Riding on a ground\n",
      "Sailing in the ocean\n"
     ]
    }
   ],
   "source": [
    "class Amphibian(Auto, Boat):\n",
    "    pass\n",
    "\n",
    "a = Amphibian()\n",
    "a.ride()\n",
    "a.swim()"
   ]
  },
  {
   "cell_type": "markdown",
   "metadata": {
    "id": "h3iIhqnKEB57"
   },
   "source": [
    "Порядок разрешения методов"
   ]
  },
  {
   "cell_type": "code",
   "execution_count": null,
   "metadata": {
    "colab": {
     "base_uri": "https://localhost:8080/"
    },
    "id": "ALHM1_LcEEJz",
    "outputId": "c962dceb-bb62-4716-c04b-72f157768d1e"
   },
   "outputs": [
    {
     "name": "stdout",
     "output_type": "stream",
     "text": [
      "B\n"
     ]
    }
   ],
   "source": [
    "class A:\n",
    "    def hi(self):\n",
    "        print(\"A\")\n",
    "\n",
    "class B(A):\n",
    "    def hi(self):\n",
    "        print(\"B\")\n",
    "\n",
    "class C(A):\n",
    "    def hi(self):\n",
    "        print(\"C\")\n",
    "\n",
    "class D(B, C):\n",
    "    pass\n",
    "\n",
    "d = D()\n",
    "d.hi()"
   ]
  },
  {
   "cell_type": "markdown",
   "metadata": {
    "id": "iMVBojpeEHxr"
   },
   "source": [
    "Эта ситуация, так называемое ромбовидное наследование (diamond problem) решается в Python путем установления порядка разрешения методов. В Python3 для определения порядка используется алгоритм поиска в ширину, то есть сначала интерпретатор будет искать метод hi в классе B, если его там нету - в классе С, потом A. В Python второй версии используется алгоритм поиска в глубину, то есть в данном случае - сначала B, потом - А, потом С. В Python3 можно посмотреть в каком порядке будут проинспектированы родительские классы при помощи метода класса mro():"
   ]
  },
  {
   "cell_type": "code",
   "execution_count": null,
   "metadata": {
    "colab": {
     "base_uri": "https://localhost:8080/"
    },
    "id": "09Y6ZKWPEJib",
    "outputId": "a20b6dce-9f7a-48de-e4d7-240a7fbeac90"
   },
   "outputs": [
    {
     "data": {
      "text/plain": [
       "[__main__.D, __main__.B, __main__.C, __main__.A, object]"
      ]
     },
     "execution_count": 10,
     "metadata": {},
     "output_type": "execute_result"
    }
   ],
   "source": [
    "D.mro()"
   ]
  },
  {
   "cell_type": "markdown",
   "metadata": {
    "id": "TAD0fEioEMpD"
   },
   "source": [
    "Если вам необходимо использовать метод конкретного родителя, например hi() класса С, нужно напрямую вызвать его по имени класса, передав self в качестве аргумента:"
   ]
  },
  {
   "cell_type": "code",
   "execution_count": null,
   "metadata": {
    "colab": {
     "base_uri": "https://localhost:8080/"
    },
    "id": "yXlfJ0_LENhT",
    "outputId": "4296241f-5d40-4570-cc15-8c74631fb2d3"
   },
   "outputs": [
    {
     "name": "stdout",
     "output_type": "stream",
     "text": [
      "C\n"
     ]
    }
   ],
   "source": [
    "class D(B, C):\n",
    "    def call_hi(self):\n",
    "        C.hi(self)\n",
    "\n",
    "d = D()\n",
    "d.call_hi()"
   ]
  },
  {
   "cell_type": "code",
   "execution_count": null,
   "metadata": {
    "id": "DlxVkiFGG-ad"
   },
   "outputs": [],
   "source": [
    "from abc import ABC, abstractmethod\n",
    "\n",
    "class Vehicle(ABC):\n",
    "\n",
    "    @abstractmethod\n",
    "    def start_engine(self):\n",
    "        pass\n",
    "\n",
    "    @abstractmethod\n",
    "    def stop_engine(self):\n",
    "        pass\n",
    "\n",
    "\n",
    "class Car(Vehicle):\n",
    "\n",
    "    def start_engine(self):\n",
    "        print('start car')\n",
    "\n",
    "    def stop_engine(self):\n",
    "        print('stop car')\n",
    "\n",
    "\n",
    "class Motorcicle(Vehicle):\n",
    "\n",
    "    def start_engine(self):\n",
    "        print('start motorcicle')\n",
    "\n",
    "    def stop_engine(self):\n",
    "        print('stop motorcicle')\n"
   ]
  },
  {
   "cell_type": "code",
   "execution_count": null,
   "metadata": {
    "id": "dHtT9qzGJpZC"
   },
   "outputs": [],
   "source": [
    "c = Car()\n",
    "m = Motorcicle()"
   ]
  },
  {
   "cell_type": "code",
   "execution_count": null,
   "metadata": {
    "colab": {
     "base_uri": "https://localhost:8080/"
    },
    "id": "gejQWPbeJusH",
    "outputId": "0b7df99d-1c65-4d39-c24f-cff10caa83a0"
   },
   "outputs": [
    {
     "name": "stdout",
     "output_type": "stream",
     "text": [
      "start car\n",
      "stop car\n",
      "start motorcicle\n",
      "stop motorcicle\n"
     ]
    }
   ],
   "source": [
    "def process_vehicle(vehicle):\n",
    "    vehicle.start_engine()\n",
    "    vehicle.stop_engine()\n",
    "\n",
    "process_vehicle(c)\n",
    "process_vehicle(m)"
   ]
  }
 ],
 "metadata": {
  "colab": {
   "provenance": []
  },
  "kernelspec": {
   "display_name": "Python 3 (ipykernel)",
   "language": "python",
   "name": "python3"
  },
  "language_info": {
   "codemirror_mode": {
    "name": "ipython",
    "version": 3
   },
   "file_extension": ".py",
   "mimetype": "text/x-python",
   "name": "python",
   "nbconvert_exporter": "python",
   "pygments_lexer": "ipython3",
   "version": "3.13.7"
  }
 },
 "nbformat": 4,
 "nbformat_minor": 4
}
