{
  "cells": [
    {
      "cell_type": "markdown",
      "metadata": {
        "id": "BdWj1U0LK7Qu"
      },
      "source": [
        "#Семинар №3\n",
        "\n",
        "Функции. Локальные и глобальные переменные. Передача аргументов. Строки. Списки. Кортежи. Множества."
      ]
    },
    {
      "cell_type": "markdown",
      "source": [
        "#Функции"
      ],
      "metadata": {
        "id": "wcnNOAcagP1W"
      }
    },
    {
      "cell_type": "markdown",
      "source": [
        "Напишем программу для вычисления факториала какого-нибудь числа. Она будет выглядеть так:"
      ],
      "metadata": {
        "id": "FMo36gGbga7f"
      }
    },
    {
      "cell_type": "code",
      "source": [
        "n = 5\n",
        "\n",
        "f = 1\n",
        "for i in range(2, n+1):\n",
        "    f = f * i\n",
        "    # эквивалентный синтаксис: f *= i\n",
        "print(f)"
      ],
      "metadata": {
        "id": "V36O5gpXgTCF",
        "colab": {
          "base_uri": "https://localhost:8080/"
        },
        "outputId": "b9848940-cac3-43e7-d1a7-f48ae2a8ebfa"
      },
      "execution_count": null,
      "outputs": [
        {
          "output_type": "stream",
          "name": "stdout",
          "text": [
            "120\n"
          ]
        }
      ]
    },
    {
      "cell_type": "markdown",
      "source": [
        "В данном случае нам нужно написать функцию, вычисляющую факториал. Она выглядит так:"
      ],
      "metadata": {
        "id": "SV4i_6cugn1M"
      }
    },
    {
      "cell_type": "code",
      "source": [
        "def factorial(n):\n",
        "    f = 1\n",
        "    for i in range(2, n+1):\n",
        "        f = f * i\n",
        "    return f"
      ],
      "metadata": {
        "id": "3Rg3Uft7goe7"
      },
      "execution_count": null,
      "outputs": []
    },
    {
      "cell_type": "markdown",
      "source": [
        "Теперь мы можем вызывать функцию factorial, передавая ей параметр."
      ],
      "metadata": {
        "id": "3332x8mlgw8n"
      }
    },
    {
      "cell_type": "code",
      "source": [
        "a=factorial(5)"
      ],
      "metadata": {
        "id": "LpJ7Wu3AguOk"
      },
      "execution_count": null,
      "outputs": []
    },
    {
      "cell_type": "code",
      "source": [
        "a"
      ],
      "metadata": {
        "id": "5FE73y8X7rw_",
        "colab": {
          "base_uri": "https://localhost:8080/"
        },
        "outputId": "cad92200-d872-46f9-9de7-deff1ffc27de"
      },
      "execution_count": null,
      "outputs": [
        {
          "output_type": "execute_result",
          "data": {
            "text/plain": [
              "120"
            ]
          },
          "metadata": {},
          "execution_count": 4
        }
      ]
    },
    {
      "cell_type": "markdown",
      "source": [
        "И даже использовать её в более сложных выражениях:"
      ],
      "metadata": {
        "id": "Et8Rsur4g0xN"
      }
    },
    {
      "cell_type": "code",
      "source": [
        "factorial(5)+factorial(6)"
      ],
      "metadata": {
        "id": "yDT6rc36g21M",
        "colab": {
          "base_uri": "https://localhost:8080/"
        },
        "outputId": "1537ddcd-e781-4670-d7cd-6075a1b3f777"
      },
      "execution_count": null,
      "outputs": [
        {
          "output_type": "execute_result",
          "data": {
            "text/plain": [
              "840"
            ]
          },
          "metadata": {},
          "execution_count": 5
        }
      ]
    },
    {
      "cell_type": "markdown",
      "source": [
        "Посмотрим более внимательно на то, что происходит, когда Python вычисляет значение выражения factorial(6). В первую очередь он открывает свою записную книжку и ищет там функцию factorial. Находит (поскольку раньше мы её туда записали). Дальше он смотрит на первую строчку определения функции (это так называемая сигнатура):\n",
        "\n",
        "def factorial(n):\n",
        "\n",
        "Здесь он видит, что функция factorial() имеет аргумент, который называется n. Python помнит, что мы вызвали factorial(6), то есть значение аргумента должно быть равно 6. Таким образом, дальше он выполняет строчку (которую мы не писали)\n",
        "\n",
        "n = 6\n",
        "\n",
        "После чего выполняет остальные строчки из тела функции:\n",
        "\n",
        "\n",
        "f = 1\n",
        "for i in range(2, n+1):\n",
        "    f = f * i\n",
        "\n",
        "Наконец он доходит до строчки\n",
        "\n",
        "return f\n",
        "\n",
        "В этот момент переменная f имеет значение 24. Слово return означает, что Python должен вернуться к строчке, в которой был вызов factorial(6), и заменить там factorial(6) на 24 (то, что написано после return). На этом вызов функции завершён.\n"
      ],
      "metadata": {
        "id": "BiffSQqng-vY"
      }
    },
    {
      "cell_type": "code",
      "source": [
        "def hello(name):\n",
        "  #a = \"Hello, \"+name+\"!\"\n",
        "  return \"Hello, \"+name+\"!\""
      ],
      "metadata": {
        "id": "a5yENrTviazw"
      },
      "execution_count": null,
      "outputs": []
    },
    {
      "cell_type": "code",
      "source": [
        "name = \"Nastya\"\n",
        "\"Hello, \"+name+\"!\""
      ],
      "metadata": {
        "colab": {
          "base_uri": "https://localhost:8080/",
          "height": 36
        },
        "id": "7cInIRqe8RUr",
        "outputId": "f5e52725-b140-4a55-bfb4-e7725ccfb6d3"
      },
      "execution_count": null,
      "outputs": [
        {
          "output_type": "execute_result",
          "data": {
            "text/plain": [
              "'Hello, Nastya!'"
            ],
            "application/vnd.google.colaboratory.intrinsic+json": {
              "type": "string"
            }
          },
          "metadata": {},
          "execution_count": 6
        }
      ]
    },
    {
      "cell_type": "code",
      "source": [
        "s = hello(\"World\")"
      ],
      "metadata": {
        "id": "3PZXbGzdicuN"
      },
      "execution_count": null,
      "outputs": []
    },
    {
      "cell_type": "markdown",
      "source": [
        "А теперь давайте напишем другую функцию, которая не возвращает строчку, а печатает её."
      ],
      "metadata": {
        "id": "mkAPVKK8ihUA"
      }
    },
    {
      "cell_type": "code",
      "source": [
        "def say_hello(name):\n",
        "    print(\"Hello, \"+name+\"!\")"
      ],
      "metadata": {
        "id": "1NRg62cEij5K"
      },
      "execution_count": null,
      "outputs": []
    },
    {
      "cell_type": "markdown",
      "source": [
        "В этой функции вообще нет команды return, но Python поймёт, что из функции надо возвращаться в основную программу в тот момент, когда строчки в функции закончились. В данном случае в функции только одна строка."
      ],
      "metadata": {
        "id": "VNTeAKxPi0et"
      }
    },
    {
      "cell_type": "code",
      "source": [
        "s = say_hello(\"Harry\")"
      ],
      "metadata": {
        "id": "titzcSr6izWP",
        "colab": {
          "base_uri": "https://localhost:8080/"
        },
        "outputId": "1d6cb821-a917-4b16-cc4f-b4bad79124e9"
      },
      "execution_count": null,
      "outputs": [
        {
          "output_type": "stream",
          "name": "stdout",
          "text": [
            "Hello, Harry!\n"
          ]
        }
      ]
    },
    {
      "cell_type": "code",
      "source": [
        "s"
      ],
      "metadata": {
        "id": "EvTqOOWS2-am"
      },
      "execution_count": null,
      "outputs": []
    },
    {
      "cell_type": "markdown",
      "source": [
        "Функции могут вызывать другие функции. Например, вместо того, чтобы копировать строчку \"Hello, \"+name+\"!\" из функции hello() в функцию say_hello(), просто вызовем hello() из say_hello()."
      ],
      "metadata": {
        "id": "Zxo34JOTjFDU"
      }
    },
    {
      "cell_type": "code",
      "source": [
        "def new_say_hello(name):\n",
        "    print(hello(name))\n",
        "    return hello(name)"
      ],
      "metadata": {
        "id": "rcW4VaqCjGwe"
      },
      "execution_count": null,
      "outputs": []
    },
    {
      "cell_type": "code",
      "source": [
        "new_say_hello(\"Harry\")"
      ],
      "metadata": {
        "id": "OsgRbdArjIIg",
        "colab": {
          "base_uri": "https://localhost:8080/",
          "height": 53
        },
        "outputId": "a8ce9466-75d3-4f0a-f8d7-9c7af44800af"
      },
      "execution_count": null,
      "outputs": [
        {
          "output_type": "stream",
          "name": "stdout",
          "text": [
            "Hello, Harry!\n"
          ]
        },
        {
          "output_type": "execute_result",
          "data": {
            "text/plain": [
              "'Hello, Harry!'"
            ],
            "application/vnd.google.colaboratory.intrinsic+json": {
              "type": "string"
            }
          },
          "metadata": {},
          "execution_count": 14
        }
      ]
    },
    {
      "cell_type": "markdown",
      "source": [
        "После выполнения строчки return выполнение функции прекращается. Давайте рассмотрим ещё один пример: вычислим модуль некоторого числа. Код для этой функции может иметь такой вид (функция названа my_abs(), потому что в Python есть встроенная функция abs, которая решает ту же задачу):"
      ],
      "metadata": {
        "id": "Sy6OpTzZjLuB"
      }
    },
    {
      "cell_type": "code",
      "source": [
        "def my_abs(x):\n",
        "    if x > 0:\n",
        "        return x\n",
        "    else:\n",
        "        return -x"
      ],
      "metadata": {
        "id": "1KqQdZ4AjNtI"
      },
      "execution_count": null,
      "outputs": []
    },
    {
      "cell_type": "code",
      "source": [
        "my_abs(-5)"
      ],
      "metadata": {
        "id": "SOfM1iMTjPkb",
        "colab": {
          "base_uri": "https://localhost:8080/"
        },
        "outputId": "7ce99896-9c51-4f67-f89e-4c86c01d30fb"
      },
      "execution_count": null,
      "outputs": [
        {
          "output_type": "execute_result",
          "data": {
            "text/plain": [
              "5"
            ]
          },
          "metadata": {},
          "execution_count": 16
        }
      ]
    },
    {
      "cell_type": "markdown",
      "source": [
        "Это самое простое решение: если число положительное, то возвращается оно само, а если отрицательное, то возвращается оно с обратным знаком (-x)."
      ],
      "metadata": {
        "id": "-vbWPu1jjVbp"
      }
    },
    {
      "cell_type": "code",
      "source": [
        "def my_abs(x):\n",
        "    print(\"New my_abs\")\n",
        "    # если функция с таким названием уже была, то Python про неё забудет и запишет вместо этого новую функция\n",
        "    # чтобы убедиться в этом, здесь поставлен этот print\n",
        "    if x > 0:\n",
        "        return x\n",
        "    return -x"
      ],
      "metadata": {
        "id": "LVwvLx5ojTwc"
      },
      "execution_count": null,
      "outputs": []
    },
    {
      "cell_type": "code",
      "source": [
        "my_abs(-6)"
      ],
      "metadata": {
        "id": "qo_bQJUEjb2t",
        "colab": {
          "base_uri": "https://localhost:8080/"
        },
        "outputId": "5293644c-d706-4c0c-b515-b24fdc3e1d4d"
      },
      "execution_count": null,
      "outputs": [
        {
          "output_type": "stream",
          "name": "stdout",
          "text": [
            "New my_abs\n"
          ]
        },
        {
          "output_type": "execute_result",
          "data": {
            "text/plain": [
              "6"
            ]
          },
          "metadata": {},
          "execution_count": 18
        }
      ]
    },
    {
      "cell_type": "markdown",
      "source": [
        "#Локальные и глобальные переменные"
      ],
      "metadata": {
        "id": "l9vswDg7jjxG"
      }
    },
    {
      "cell_type": "markdown",
      "source": [
        "Внутри функции могут создаваться и использоваться различные переменные. Чтобы это не создавало проблем, переменные, определенные внутри функции, не видны извне. Давайте рассмотрим пример:"
      ],
      "metadata": {
        "id": "cJoglDFLjo0P"
      }
    },
    {
      "cell_type": "code",
      "source": [
        "a=5\n",
        "def foo(a):\n",
        "  a = a+1\n",
        "  return a\n",
        "\n",
        "print(foo(1), a)\n",
        "\n"
      ],
      "metadata": {
        "colab": {
          "base_uri": "https://localhost:8080/"
        },
        "id": "0fuiKwUx84rJ",
        "outputId": "5c26dc7b-afdc-4ec2-b52d-f8bbc68f0c17"
      },
      "execution_count": null,
      "outputs": [
        {
          "output_type": "stream",
          "name": "stdout",
          "text": [
            "2 5\n"
          ]
        }
      ]
    },
    {
      "cell_type": "code",
      "source": [
        "f = 10\n",
        "\n",
        "def factorial(n):\n",
        "    f = 1\n",
        "    for i in range(2, n+1):\n",
        "        f = f * i\n",
        "    print(\"In the function, f =\", f)\n",
        "    return f\n",
        "\n",
        "f = 10\n",
        "print(f)\n",
        "print(factorial(8))\n",
        "print(\"Out of function\")\n",
        "print(f)"
      ],
      "metadata": {
        "id": "2rsbOUj6jmPx",
        "colab": {
          "base_uri": "https://localhost:8080/"
        },
        "outputId": "6a9bb7f1-0529-4967-a3ee-2c29d31358c7"
      },
      "execution_count": null,
      "outputs": [
        {
          "output_type": "stream",
          "name": "stdout",
          "text": [
            "10\n",
            "In the function, f = 40320\n",
            "40320\n",
            "Out of function\n",
            "10\n"
          ]
        }
      ]
    },
    {
      "cell_type": "markdown",
      "source": [
        "Как видно из результата выполнения этого кода, переменная f в основной программе и переменная f внутри функции — это совсем разные переменные."
      ],
      "metadata": {
        "id": "gdBg6Sr0kBBv"
      }
    },
    {
      "cell_type": "markdown",
      "source": [
        "Тем не менее, иногда нам всё-таки хочется, чтобы функция имела доступ к какой-то внешней переменной. Допустим, мы хотим написать функцию, которая будет приветствовать пользователя, используя язык, указанный им в настройках. Она могла бы выглядеть таким образом:"
      ],
      "metadata": {
        "id": "bzBAt8aQkCEd"
      }
    },
    {
      "cell_type": "code",
      "source": [
        "def hello_i18n(name, lang):\n",
        "    if lang == 'ru':\n",
        "        print(\"Привет,\",name)\n",
        "    else:\n",
        "        print(\"Hello,\",name)"
      ],
      "metadata": {
        "id": "m06YzpmikNay"
      },
      "execution_count": null,
      "outputs": []
    },
    {
      "cell_type": "code",
      "source": [
        "hello_i18n(\"Ivan\", 'ru')"
      ],
      "metadata": {
        "id": "6NwGRiLvkRRy",
        "colab": {
          "base_uri": "https://localhost:8080/"
        },
        "outputId": "aa7bf782-a18f-4ab2-a4c2-329c8a8e39de"
      },
      "execution_count": null,
      "outputs": [
        {
          "output_type": "stream",
          "name": "stdout",
          "text": [
            "Привет, Ivan\n"
          ]
        }
      ]
    },
    {
      "cell_type": "code",
      "source": [
        "hello_i18n(\"Ivan\", 'en')"
      ],
      "metadata": {
        "id": "mwTcEaW2kThQ",
        "colab": {
          "base_uri": "https://localhost:8080/"
        },
        "outputId": "19bb8cd7-5a5c-4147-d48a-95635806a6aa"
      },
      "execution_count": null,
      "outputs": [
        {
          "output_type": "stream",
          "name": "stdout",
          "text": [
            "Hello, Ivan\n"
          ]
        }
      ]
    },
    {
      "cell_type": "markdown",
      "source": [
        "Проблема в том, что функций, которым нужно знать, какой язык выбран, может быть очень много, и каждый раз передавать им вручную значение переменной lang отдельным параметром довольно мучительно. Оказывается, можно этого избежать:"
      ],
      "metadata": {
        "id": "rUb9KGmPka8M"
      }
    },
    {
      "cell_type": "code",
      "source": [
        "def hello_i18n(name):\n",
        "    if lang == 'ru':\n",
        "        print(\"Привет,\",name)\n",
        "    else:\n",
        "        print(\"Hello,\",name)\n",
        "\n",
        "lang = 'ru'\n",
        "\n",
        "hello_i18n('Ivan')\n",
        "\n",
        "lang = 'en'\n",
        "hello_i18n('John')"
      ],
      "metadata": {
        "id": "5kvw6UYykc14",
        "colab": {
          "base_uri": "https://localhost:8080/"
        },
        "outputId": "26bb9abe-ff7d-43de-fcba-1f7e0c21fa2b"
      },
      "execution_count": null,
      "outputs": [
        {
          "output_type": "stream",
          "name": "stdout",
          "text": [
            "Привет, Ivan\n",
            "Hello, John\n"
          ]
        }
      ]
    },
    {
      "cell_type": "markdown",
      "source": [
        "Как видите, сейчас поведение функции зависит от того, чему равняется переменная lang, определенная вне функции. Может быть и в функции factorial() можно было обратиться к переменной f до того момента, как мы положили в неё число 1? Давайте попробуем:"
      ],
      "metadata": {
        "id": "yZ84K7NMkh2t"
      }
    },
    {
      "cell_type": "code",
      "source": [
        "f=2"
      ],
      "metadata": {
        "id": "BiaB8z9mlG-8"
      },
      "execution_count": null,
      "outputs": []
    },
    {
      "cell_type": "code",
      "source": [
        "def factorial(n):\n",
        "    print(\"In the function, before assignment, f =\", f)\n",
        "    f = 1\n",
        "    for i in range(2, n+1):\n",
        "        f = f * i\n",
        "    print(\"In the function, f =\", f)\n",
        "    return f"
      ],
      "metadata": {
        "id": "GYEPulDllDG6"
      },
      "execution_count": null,
      "outputs": []
    },
    {
      "cell_type": "code",
      "source": [
        "factorial(2)"
      ],
      "metadata": {
        "colab": {
          "base_uri": "https://localhost:8080/",
          "height": 263
        },
        "id": "T6N5vvVOkhDd",
        "outputId": "37a5d356-9e3f-4dfc-cb97-08eb3fccc8b3"
      },
      "execution_count": null,
      "outputs": [
        {
          "output_type": "error",
          "ename": "UnboundLocalError",
          "evalue": "local variable 'f' referenced before assignment",
          "traceback": [
            "\u001b[0;31m---------------------------------------------------------------------------\u001b[0m",
            "\u001b[0;31mUnboundLocalError\u001b[0m                         Traceback (most recent call last)",
            "\u001b[0;32m<ipython-input-23-26972ebb8a51>\u001b[0m in \u001b[0;36m<cell line: 1>\u001b[0;34m()\u001b[0m\n\u001b[0;32m----> 1\u001b[0;31m \u001b[0mfactorial\u001b[0m\u001b[0;34m(\u001b[0m\u001b[0;36m2\u001b[0m\u001b[0;34m)\u001b[0m\u001b[0;34m\u001b[0m\u001b[0;34m\u001b[0m\u001b[0m\n\u001b[0m",
            "\u001b[0;32m<ipython-input-22-9edfcfd8c667>\u001b[0m in \u001b[0;36mfactorial\u001b[0;34m(n)\u001b[0m\n\u001b[1;32m      1\u001b[0m \u001b[0;32mdef\u001b[0m \u001b[0mfactorial\u001b[0m\u001b[0;34m(\u001b[0m\u001b[0mn\u001b[0m\u001b[0;34m)\u001b[0m\u001b[0;34m:\u001b[0m\u001b[0;34m\u001b[0m\u001b[0;34m\u001b[0m\u001b[0m\n\u001b[0;32m----> 2\u001b[0;31m     \u001b[0mprint\u001b[0m\u001b[0;34m(\u001b[0m\u001b[0;34m\"In the function, before assignment, f =\"\u001b[0m\u001b[0;34m,\u001b[0m \u001b[0mf\u001b[0m\u001b[0;34m)\u001b[0m\u001b[0;34m\u001b[0m\u001b[0;34m\u001b[0m\u001b[0m\n\u001b[0m\u001b[1;32m      3\u001b[0m     \u001b[0mf\u001b[0m \u001b[0;34m=\u001b[0m \u001b[0;36m1\u001b[0m\u001b[0;34m\u001b[0m\u001b[0;34m\u001b[0m\u001b[0m\n\u001b[1;32m      4\u001b[0m     \u001b[0;32mfor\u001b[0m \u001b[0mi\u001b[0m \u001b[0;32min\u001b[0m \u001b[0mrange\u001b[0m\u001b[0;34m(\u001b[0m\u001b[0;36m2\u001b[0m\u001b[0;34m,\u001b[0m \u001b[0mn\u001b[0m\u001b[0;34m+\u001b[0m\u001b[0;36m1\u001b[0m\u001b[0;34m)\u001b[0m\u001b[0;34m:\u001b[0m\u001b[0;34m\u001b[0m\u001b[0;34m\u001b[0m\u001b[0m\n\u001b[1;32m      5\u001b[0m         \u001b[0mf\u001b[0m \u001b[0;34m=\u001b[0m \u001b[0mf\u001b[0m \u001b[0;34m*\u001b[0m \u001b[0mi\u001b[0m\u001b[0;34m\u001b[0m\u001b[0;34m\u001b[0m\u001b[0m\n",
            "\u001b[0;31mUnboundLocalError\u001b[0m: local variable 'f' referenced before assignment"
          ]
        }
      ]
    },
    {
      "cell_type": "markdown",
      "source": [
        "В этом случае Python выдаёт ошибку: локальная переменная f использовалась до присвоения значения. В чём разница между этим кодом и предыдущим?\n",
        "\n",
        "Оказывается, Python очень умный: прежде, чем выполнить функцию, он анализирует её код и определяет, какая из переменных является локальной, а какая глобальной. В качестве глобальных переменных по умолчанию используются те, которые не меняются в теле функции (то есть такие, к которым не применяются операторы типа приравнивания или +=). Иными словами, по умолчанию глобальные переменные доступны только для чтения, но не для модификации изнутри функции.\n",
        "\n",
        "Ситуация, при которой функция модифицирует глобальную переменную, обычно не очень желательна: функции должны быть изолированы от кода, который из запускает, иначе вы быстро перестанете понимать, что делает ваша программа. Тем не менее, иногда модификация глобальных переменных необходима. Например, мы хотим написать функцию, которая будет устанавливать значение языка пользователя. Она может выглядеть примерно так:"
      ],
      "metadata": {
        "id": "z16KHgthlWs1"
      }
    },
    {
      "cell_type": "code",
      "source": [
        "def set_lang():\n",
        "    useRussian = input(\"Would you like to speak Russian (Y/N): \")\n",
        "    if useRussian == 'Y':\n",
        "        lang = 'ru'\n",
        "    else:\n",
        "        lang = 'en'"
      ],
      "metadata": {
        "id": "_Il4Md6RlqIY"
      },
      "execution_count": null,
      "outputs": []
    },
    {
      "cell_type": "code",
      "source": [
        "lang = 'en'\n",
        "print(lang)\n",
        "set_lang()\n",
        "print(lang)"
      ],
      "metadata": {
        "id": "3ePrqkN3lt_p",
        "colab": {
          "base_uri": "https://localhost:8080/"
        },
        "outputId": "0f4a1f54-5656-4994-c53a-48d2de4f937a"
      },
      "execution_count": null,
      "outputs": [
        {
          "output_type": "stream",
          "name": "stdout",
          "text": [
            "en\n",
            "Would you like to speak Russian (Y/N): Y\n",
            "en\n"
          ]
        }
      ]
    },
    {
      "cell_type": "code",
      "source": [],
      "metadata": {
        "id": "lJIjtp2q5wKI"
      },
      "execution_count": null,
      "outputs": []
    },
    {
      "cell_type": "markdown",
      "source": [
        "Как видим, эта функция не работает — собственно, и не должна. Чтобы функция set_lang смогла менять значение переменной lang, её необходимо явно объявить как глобальную с помощью ключевого слова global."
      ],
      "metadata": {
        "id": "u6cgN2Lblw6q"
      }
    },
    {
      "cell_type": "code",
      "source": [
        "def set_lang():\n",
        "    global lang\n",
        "    useRussian = input(\"Would you like to speak Russian (Y/N): \")\n",
        "    if useRussian == 'Y':\n",
        "        lang = 'ru'\n",
        "    else:\n",
        "        lang = 'en'"
      ],
      "metadata": {
        "id": "9EtAkxtfl0a5"
      },
      "execution_count": null,
      "outputs": []
    },
    {
      "cell_type": "code",
      "source": [
        "lang = 'en'\n",
        "print(lang)\n",
        "set_lang()\n",
        "print(lang)"
      ],
      "metadata": {
        "id": "sKgFHVzdl2LL",
        "colab": {
          "base_uri": "https://localhost:8080/"
        },
        "outputId": "c7cc1adb-57f1-4d3b-d5ae-3b66f1d99e3a"
      },
      "execution_count": null,
      "outputs": [
        {
          "output_type": "stream",
          "name": "stdout",
          "text": [
            "en\n",
            "Would you like to speak Russian (Y/N): Y\n",
            "ru\n"
          ]
        }
      ]
    },
    {
      "cell_type": "markdown",
      "source": [
        "#Передача аргументов"
      ],
      "metadata": {
        "id": "opHm8cz0l6yx"
      }
    },
    {
      "cell_type": "code",
      "source": [
        "def hello(name, title):\n",
        "    print(\"Hello\", title, name)"
      ],
      "metadata": {
        "id": "G0yujXyll8Vw"
      },
      "execution_count": null,
      "outputs": []
    },
    {
      "cell_type": "markdown",
      "source": [
        "В некоторым случаях мы хотим, чтобы какие-то аргументы можно было не указывать. Скажем, мы хотим иметь возможность вызвать функцию hello(), определённую выше, не указывая title. В этом случае сейчас нам выдадут ошибку:"
      ],
      "metadata": {
        "id": "B94Y0y0umC5N"
      }
    },
    {
      "cell_type": "code",
      "source": [
        "hello(\"Harry\")"
      ],
      "metadata": {
        "id": "xy9186axmGgU",
        "colab": {
          "base_uri": "https://localhost:8080/",
          "height": 141
        },
        "outputId": "dd371d6e-4233-4822-ab07-f44e93297c45"
      },
      "execution_count": null,
      "outputs": [
        {
          "output_type": "error",
          "ename": "TypeError",
          "evalue": "hello() missing 1 required positional argument: 'title'",
          "traceback": [
            "\u001b[0;31m---------------------------------------------------------------------------\u001b[0m",
            "\u001b[0;31mTypeError\u001b[0m                                 Traceback (most recent call last)",
            "\u001b[0;32m<ipython-input-30-4266b7e1b9aa>\u001b[0m in \u001b[0;36m<cell line: 1>\u001b[0;34m()\u001b[0m\n\u001b[0;32m----> 1\u001b[0;31m \u001b[0mhello\u001b[0m\u001b[0;34m(\u001b[0m\u001b[0;34m\"Harry\"\u001b[0m\u001b[0;34m)\u001b[0m\u001b[0;34m\u001b[0m\u001b[0;34m\u001b[0m\u001b[0m\n\u001b[0m",
            "\u001b[0;31mTypeError\u001b[0m: hello() missing 1 required positional argument: 'title'"
          ]
        }
      ]
    },
    {
      "cell_type": "markdown",
      "source": [
        "Это неудивительно: мы сказали, что функция hello() должна использовать аргумент title, но не передали его — какое же значение тогда использовать? Для преодоления этой трудности используютя значения по умолчанию (default values)."
      ],
      "metadata": {
        "id": "foI1PyALmKlZ"
      }
    },
    {
      "cell_type": "code",
      "source": [
        "def hello(name=\"\", title=\"\"):\n",
        "    print(\"Hello\", title, name)\n",
        "hello(title='Harry')"
      ],
      "metadata": {
        "id": "_f8beU0LmPSH",
        "colab": {
          "base_uri": "https://localhost:8080/"
        },
        "outputId": "598b56e1-244e-43d9-b524-27e35ef4d696"
      },
      "execution_count": null,
      "outputs": [
        {
          "output_type": "stream",
          "name": "stdout",
          "text": [
            "Hello Harry \n"
          ]
        }
      ]
    },
    {
      "cell_type": "code",
      "source": [
        "hello(\"Smith\", \"Mrs.\")"
      ],
      "metadata": {
        "id": "8azBXzlamQcW",
        "colab": {
          "base_uri": "https://localhost:8080/"
        },
        "outputId": "5ebec6e7-3093-4aea-8d9d-40c0ee1417b3"
      },
      "execution_count": null,
      "outputs": [
        {
          "output_type": "stream",
          "name": "stdout",
          "text": [
            "Hello Mrs. Smith\n"
          ]
        }
      ]
    },
    {
      "cell_type": "markdown",
      "source": [
        "Аргументы можно передавать, указывая их имена."
      ],
      "metadata": {
        "id": "Km5KDJRimXFU"
      }
    },
    {
      "cell_type": "code",
      "source": [
        "hello(\"Smith\", title = \"Mr.\")"
      ],
      "metadata": {
        "id": "i9GhddkzmY1M",
        "colab": {
          "base_uri": "https://localhost:8080/"
        },
        "outputId": "6c73f21d-e02a-4491-b249-4c07e0721a36"
      },
      "execution_count": null,
      "outputs": [
        {
          "output_type": "stream",
          "name": "stdout",
          "text": [
            "Hello Mr. Smith\n"
          ]
        }
      ]
    },
    {
      "cell_type": "code",
      "source": [
        "hello(name = \"Smith\", title= \"Mr.\")"
      ],
      "metadata": {
        "id": "LIc_IYESmapP",
        "colab": {
          "base_uri": "https://localhost:8080/"
        },
        "outputId": "11dc4ad5-d356-4c3b-ea33-6d65c3a53161"
      },
      "execution_count": null,
      "outputs": [
        {
          "output_type": "stream",
          "name": "stdout",
          "text": [
            "Hello Mr. Smith\n"
          ]
        }
      ]
    },
    {
      "cell_type": "markdown",
      "source": [
        "Ещё бывают функции, которые принимают неограниченное число аргументов. Например, так ведёт себя функция print()."
      ],
      "metadata": {
        "id": "YNPeuNRTmeZV"
      }
    },
    {
      "cell_type": "code",
      "source": [
        "print(8, 7, 5, 'hello', 8, \"hello\")"
      ],
      "metadata": {
        "id": "e86tfjVTmgcv",
        "colab": {
          "base_uri": "https://localhost:8080/"
        },
        "outputId": "6bc940f7-6827-4844-d8e2-56f2997ebf39"
      },
      "execution_count": null,
      "outputs": [
        {
          "output_type": "stream",
          "name": "stdout",
          "text": [
            "8 7 5 hello 8 hello\n"
          ]
        }
      ]
    },
    {
      "cell_type": "code",
      "source": [
        "def my_print(*args, name = \"arg\"):\n",
        "  print(args)\n",
        "  for x in args:\n",
        "      print(x, name)"
      ],
      "metadata": {
        "id": "qZe-pHXlmj2g"
      },
      "execution_count": null,
      "outputs": []
    },
    {
      "cell_type": "code",
      "source": [
        "# def my_print(aa, ddd, *args):\n",
        "#   print(args)\n",
        "#   for x in args:\n",
        "#       print(x)"
      ],
      "metadata": {
        "id": "pvujFJg661d-"
      },
      "execution_count": null,
      "outputs": []
    },
    {
      "cell_type": "code",
      "source": [
        "my_print(6, 8, 9, 'hello', 88, 55, 5, 5, 55, 555)"
      ],
      "metadata": {
        "id": "a5GbnjxJmlx-",
        "colab": {
          "base_uri": "https://localhost:8080/"
        },
        "outputId": "e97e6fbb-e0bf-4b50-9202-3bce6a4f5045"
      },
      "execution_count": null,
      "outputs": [
        {
          "output_type": "stream",
          "name": "stdout",
          "text": [
            "(6, 8, 9, 'hello', 88, 55, 5, 5, 55, 555)\n",
            "6 arg\n",
            "8 arg\n",
            "9 arg\n",
            "hello arg\n",
            "88 arg\n",
            "55 arg\n",
            "5 arg\n",
            "5 arg\n",
            "55 arg\n",
            "555 arg\n"
          ]
        }
      ]
    },
    {
      "cell_type": "code",
      "source": [
        "lst = [1, 2, 4]\n",
        "my_print(*lst, lst, 1, name = \"arg2\")"
      ],
      "metadata": {
        "colab": {
          "base_uri": "https://localhost:8080/"
        },
        "id": "Y0AbNp3v-Ta9",
        "outputId": "f788ef0e-1691-456c-d91a-bf6e22cffe6d"
      },
      "execution_count": null,
      "outputs": [
        {
          "output_type": "stream",
          "name": "stdout",
          "text": [
            "(1, 2, 4, [1, 2, 4], 1)\n",
            "1 arg2\n",
            "2 arg2\n",
            "4 arg2\n",
            "[1, 2, 4] arg2\n",
            "1 arg2\n"
          ]
        }
      ]
    },
    {
      "cell_type": "code",
      "source": [
        "def formula1(a):\n",
        "  a = a+1\n",
        "  b = a+1\n",
        "  return a, b\n",
        "\n",
        "(a, b)\n",
        "\n",
        "\n",
        "def formula2(b):\n",
        "  b = b+2\n",
        "  return b\n",
        "a =1\n",
        "b=1\n",
        "print('res1',formula1(a), 'res2', formula2(b))\n",
        "\n",
        "tututu = formula1(a)\n",
        "\n",
        "# c = formula1(a)\n",
        "\n",
        "# m, n = (4, 6)\n",
        "\n",
        "\n",
        "\n",
        "# print(c)"
      ],
      "metadata": {
        "colab": {
          "base_uri": "https://localhost:8080/"
        },
        "id": "X8fUM8C9_Pjg",
        "outputId": "e9c75e8a-63f2-4aea-c432-ddb613601e7d"
      },
      "execution_count": null,
      "outputs": [
        {
          "output_type": "stream",
          "name": "stdout",
          "text": [
            "res1 (2, 3) res2 3\n"
          ]
        }
      ]
    },
    {
      "cell_type": "code",
      "source": [
        "tututu"
      ],
      "metadata": {
        "colab": {
          "base_uri": "https://localhost:8080/"
        },
        "id": "SF3G_eCB8yse",
        "outputId": "029b3b71-9fca-4c02-fccb-3c0e643b0a67"
      },
      "execution_count": null,
      "outputs": [
        {
          "output_type": "execute_result",
          "data": {
            "text/plain": [
              "(2, 3)"
            ]
          },
          "metadata": {},
          "execution_count": 50
        }
      ]
    },
    {
      "cell_type": "code",
      "source": [
        "c"
      ],
      "metadata": {
        "colab": {
          "base_uri": "https://localhost:8080/"
        },
        "id": "0a7c9a6R8tiG",
        "outputId": "a9cb8803-2092-4117-97c8-b20639ffa502"
      },
      "execution_count": null,
      "outputs": [
        {
          "output_type": "execute_result",
          "data": {
            "text/plain": [
              "2"
            ]
          },
          "metadata": {},
          "execution_count": 47
        }
      ]
    },
    {
      "cell_type": "code",
      "source": [
        "_"
      ],
      "metadata": {
        "colab": {
          "base_uri": "https://localhost:8080/"
        },
        "id": "9w_p-f-V8ptS",
        "outputId": "ec6cde91-f924-41f8-a8af-c44ba4a8c68f"
      },
      "execution_count": null,
      "outputs": [
        {
          "output_type": "execute_result",
          "data": {
            "text/plain": [
              "3"
            ]
          },
          "metadata": {},
          "execution_count": 48
        }
      ]
    },
    {
      "cell_type": "markdown",
      "metadata": {
        "id": "jPyWUWqTR1ll"
      },
      "source": [
        "#Строки"
      ]
    },
    {
      "cell_type": "code",
      "execution_count": null,
      "metadata": {
        "colab": {
          "base_uri": "https://localhost:8080/"
        },
        "id": "ynbJkz64ZO2D",
        "outputId": "8b898d46-aee4-42a2-b8c8-ac4a2b43ec54"
      },
      "outputs": [
        {
          "output_type": "stream",
          "name": "stdout",
          "text": [
            "This is a python tutorial\n"
          ]
        }
      ],
      "source": [
        "string = \"This is a python tutorial\"\n",
        "print(string)"
      ]
    },
    {
      "cell_type": "code",
      "execution_count": null,
      "metadata": {
        "colab": {
          "base_uri": "https://localhost:8080/"
        },
        "id": "09K1ST9eZRZG",
        "outputId": "877cd29a-c3c9-49a2-9789-8b308526686a"
      },
      "outputs": [
        {
          "output_type": "stream",
          "name": "stdout",
          "text": [
            "<class 'str'>\n"
          ]
        }
      ],
      "source": [
        "print(type(string))"
      ]
    },
    {
      "cell_type": "code",
      "execution_count": null,
      "metadata": {
        "colab": {
          "base_uri": "https://localhost:8080/",
          "height": 36
        },
        "id": "D0a9MMBqchxP",
        "outputId": "869f8279-8098-4551-fd31-987e969de3b3"
      },
      "outputs": [
        {
          "output_type": "execute_result",
          "data": {
            "text/plain": [
              "'Hello World'"
            ],
            "application/vnd.google.colaboratory.intrinsic+json": {
              "type": "string"
            }
          },
          "metadata": {},
          "execution_count": 53
        }
      ],
      "source": [
        "#сложение строк\n",
        "str1='Hello'\n",
        "str2='World'\n",
        "str1+' '+str2"
      ]
    },
    {
      "cell_type": "code",
      "execution_count": null,
      "metadata": {
        "colab": {
          "base_uri": "https://localhost:8080/",
          "height": 36
        },
        "id": "mnrKylOFcoHY",
        "outputId": "71468e0a-3873-4014-f383-879cb09c65d9"
      },
      "outputs": [
        {
          "output_type": "execute_result",
          "data": {
            "text/plain": [
              "'HelloHello'"
            ],
            "application/vnd.google.colaboratory.intrinsic+json": {
              "type": "string"
            }
          },
          "metadata": {},
          "execution_count": 54
        }
      ],
      "source": [
        "#умножение строк\n",
        "2*str1"
      ]
    },
    {
      "cell_type": "code",
      "execution_count": null,
      "metadata": {
        "colab": {
          "base_uri": "https://localhost:8080/"
        },
        "id": "BSNYVp6_dBRc",
        "outputId": "29cf8fc6-d265-4d0d-a393-11f71edf24ef"
      },
      "outputs": [
        {
          "output_type": "execute_result",
          "data": {
            "text/plain": [
              "5"
            ]
          },
          "metadata": {},
          "execution_count": 55
        }
      ],
      "source": [
        "#длина строки\n",
        "len(str1)"
      ]
    },
    {
      "cell_type": "markdown",
      "metadata": {
        "id": "NurKQpUvdPeD"
      },
      "source": [
        "Пробежимся циклом по символам в строке"
      ]
    },
    {
      "cell_type": "code",
      "execution_count": null,
      "metadata": {
        "colab": {
          "base_uri": "https://localhost:8080/"
        },
        "id": "lfMRPejPcvp-",
        "outputId": "672d2399-ad14-4711-cb7c-8adae4760ff9"
      },
      "outputs": [
        {
          "output_type": "stream",
          "name": "stdout",
          "text": [
            "H\n",
            "e\n",
            "l\n",
            "l\n",
            "o\n"
          ]
        }
      ],
      "source": [
        "for i in range(len(str1)):\n",
        "  print(str1[i])"
      ]
    },
    {
      "cell_type": "code",
      "execution_count": null,
      "metadata": {
        "colab": {
          "base_uri": "https://localhost:8080/"
        },
        "id": "Xqo0v7xoc2K_",
        "outputId": "bf9fd98c-c265-49ab-8504-687a53f310fd"
      },
      "outputs": [
        {
          "output_type": "stream",
          "name": "stdout",
          "text": [
            "H\n",
            "e\n",
            "l\n",
            "l\n",
            "o\n"
          ]
        }
      ],
      "source": [
        "for s in str1:\n",
        "  print(s)"
      ]
    },
    {
      "cell_type": "markdown",
      "metadata": {
        "id": "qULmQxXLdUTu"
      },
      "source": [
        "Изменение строчной буквы строки на заглавную"
      ]
    },
    {
      "cell_type": "code",
      "execution_count": null,
      "metadata": {
        "colab": {
          "base_uri": "https://localhost:8080/"
        },
        "id": "tZF9tZa3SEwZ",
        "outputId": "fbf9626e-1d72-4d42-8bea-d627cf76035a"
      },
      "outputs": [
        {
          "output_type": "execute_result",
          "data": {
            "text/plain": [
              "['Peter', 'Paul', 'Mary', 'Guido']"
            ]
          },
          "metadata": {},
          "execution_count": 60
        }
      ],
      "source": [
        "data = ['peter', 'Paul', 'MARY', 'gUIDO']\n",
        "\n",
        "\n",
        "\n",
        "\n",
        "[s.capitalize() for s in data]"
      ]
    },
    {
      "cell_type": "code",
      "source": [
        "string = \"iython\"\n",
        "\n",
        "string.capitalize()\n"
      ],
      "metadata": {
        "colab": {
          "base_uri": "https://localhost:8080/",
          "height": 36
        },
        "id": "3Fk0Rk0A9ODv",
        "outputId": "33e200ce-70b4-40a9-d68d-7a44a832f420"
      },
      "execution_count": null,
      "outputs": [
        {
          "output_type": "execute_result",
          "data": {
            "text/plain": [
              "'Iython'"
            ],
            "application/vnd.google.colaboratory.intrinsic+json": {
              "type": "string"
            }
          },
          "metadata": {},
          "execution_count": 59
        }
      ]
    },
    {
      "cell_type": "markdown",
      "metadata": {
        "id": "JtdUSzUqdYh_"
      },
      "source": [
        "Обратимся к символу строки по индексу"
      ]
    },
    {
      "cell_type": "code",
      "execution_count": null,
      "metadata": {
        "colab": {
          "base_uri": "https://localhost:8080/"
        },
        "id": "SzLiOTF4ZUAN",
        "outputId": "fbd9b922-0edc-48b1-c01a-757e7473de83"
      },
      "outputs": [
        {
          "output_type": "stream",
          "name": "stdout",
          "text": [
            "t\n"
          ]
        }
      ],
      "source": [
        "string = \"Python\"\n",
        "print(string[2])"
      ]
    },
    {
      "cell_type": "code",
      "execution_count": null,
      "metadata": {
        "colab": {
          "base_uri": "https://localhost:8080/"
        },
        "id": "LRz75tinZeV_",
        "outputId": "b6339c4c-1615-42c1-ac1a-acf74c4796b0"
      },
      "outputs": [
        {
          "output_type": "stream",
          "name": "stdout",
          "text": [
            "programming\n"
          ]
        }
      ],
      "source": [
        "string = \"programming\"\n",
        "print(string)\n"
      ]
    },
    {
      "cell_type": "code",
      "execution_count": null,
      "metadata": {
        "colab": {
          "base_uri": "https://localhost:8080/"
        },
        "id": "QDELB2EsZ8gJ",
        "outputId": "c3f079db-bb80-45c7-b51c-5b16414af77c"
      },
      "outputs": [
        {
          "output_type": "stream",
          "name": "stdout",
          "text": [
            "Pyth\n"
          ]
        }
      ],
      "source": [
        "print(string[0:4])"
      ]
    },
    {
      "cell_type": "code",
      "execution_count": null,
      "metadata": {
        "colab": {
          "base_uri": "https://localhost:8080/"
        },
        "id": "4K6gjJ-fZ8oY",
        "outputId": "ee7e7140-e042-4c8f-fc8d-291ec9703ea8"
      },
      "outputs": [
        {
          "name": "stdout",
          "output_type": "stream",
          "text": [
            "pro\n"
          ]
        }
      ],
      "source": [
        "print(string[:3])"
      ]
    },
    {
      "cell_type": "code",
      "execution_count": null,
      "metadata": {
        "colab": {
          "base_uri": "https://localhost:8080/"
        },
        "id": "XG-W8cyNZ7DG",
        "outputId": "7269d7d9-5784-46c7-a885-0e3a5a1e3b47"
      },
      "outputs": [
        {
          "name": "stdout",
          "output_type": "stream",
          "text": [
            "ing\n"
          ]
        }
      ],
      "source": [
        "print(string[-3:])"
      ]
    },
    {
      "cell_type": "code",
      "execution_count": null,
      "metadata": {
        "colab": {
          "base_uri": "https://localhost:8080/"
        },
        "id": "AZ-4DsCSZ2ve",
        "outputId": "e6c4863b-b882-4a13-cbb7-52fc1dd005de"
      },
      "outputs": [
        {
          "name": "stdout",
          "output_type": "stream",
          "text": [
            "gramming\n"
          ]
        }
      ],
      "source": [
        "print(string[3:])"
      ]
    },
    {
      "cell_type": "code",
      "execution_count": null,
      "metadata": {
        "colab": {
          "base_uri": "https://localhost:8080/"
        },
        "id": "HM_wlxFVZmkd",
        "outputId": "0e76a290-91dd-4dd4-db3e-617dec89088f"
      },
      "outputs": [
        {
          "name": "stdout",
          "output_type": "stream",
          "text": [
            "programm\n"
          ]
        }
      ],
      "source": [
        "print(string[:-3])"
      ]
    },
    {
      "cell_type": "markdown",
      "metadata": {
        "id": "_S3B_sb7aSIj"
      },
      "source": [
        "Обратный порядок символов"
      ]
    },
    {
      "cell_type": "code",
      "execution_count": null,
      "metadata": {
        "colab": {
          "base_uri": "https://localhost:8080/"
        },
        "id": "irFcNFNJaPim",
        "outputId": "f52796e1-d4d7-49f5-c62e-f10cbc41ca28"
      },
      "outputs": [
        {
          "name": "stdout",
          "output_type": "stream",
          "text": [
            "gnimmargorp\n"
          ]
        }
      ],
      "source": [
        "print(string[::-1])"
      ]
    },
    {
      "cell_type": "markdown",
      "metadata": {
        "id": "IwQ9c6cZarYu"
      },
      "source": [
        "Разделение строки Split()"
      ]
    },
    {
      "cell_type": "code",
      "execution_count": null,
      "metadata": {
        "colab": {
          "base_uri": "https://localhost:8080/"
        },
        "id": "IXOGmze7aeW3",
        "outputId": "a34223f2-8e9a-4867-a1e7-db3034953ac7"
      },
      "outputs": [
        {
          "data": {
            "text/plain": [
              "['Computer', 'Programming']"
            ]
          },
          "execution_count": 15,
          "metadata": {},
          "output_type": "execute_result"
        }
      ],
      "source": [
        "String = \"Computer Programming\"\n",
        "listString = String.split()\n",
        "listString"
      ]
    },
    {
      "cell_type": "markdown",
      "metadata": {
        "id": "i-JYNfNna-l2"
      },
      "source": [
        "Join()"
      ]
    },
    {
      "cell_type": "code",
      "execution_count": null,
      "metadata": {
        "colab": {
          "base_uri": "https://localhost:8080/",
          "height": 179
        },
        "id": "IPxh2vcrbFbj",
        "outputId": "b34d1294-af9f-4019-e1fc-b8abfc16eaf7"
      },
      "outputs": [
        {
          "output_type": "error",
          "ename": "NameError",
          "evalue": "ignored",
          "traceback": [
            "\u001b[0;31m---------------------------------------------------------------------------\u001b[0m",
            "\u001b[0;31mNameError\u001b[0m                                 Traceback (most recent call last)",
            "\u001b[0;32m<ipython-input-18-ab9acaa958cc>\u001b[0m in \u001b[0;36m<cell line: 1>\u001b[0;34m()\u001b[0m\n\u001b[0;32m----> 1\u001b[0;31m \u001b[0;34m\" \"\u001b[0m\u001b[0;34m.\u001b[0m\u001b[0mjoin\u001b[0m\u001b[0;34m(\u001b[0m\u001b[0mlistString\u001b[0m\u001b[0;34m)\u001b[0m\u001b[0;34m\u001b[0m\u001b[0;34m\u001b[0m\u001b[0m\n\u001b[0m",
            "\u001b[0;31mNameError\u001b[0m: name 'listString' is not defined"
          ]
        }
      ],
      "source": [
        "\" \".join(listString)"
      ]
    },
    {
      "cell_type": "code",
      "execution_count": null,
      "metadata": {
        "colab": {
          "base_uri": "https://localhost:8080/",
          "height": 36
        },
        "id": "Yd-eCTE1a_s5",
        "outputId": "ca10939d-066b-4c27-883b-03e4f9cff89f"
      },
      "outputs": [
        {
          "output_type": "execute_result",
          "data": {
            "text/plain": [
              "'dd qqq'"
            ],
            "application/vnd.google.colaboratory.intrinsic+json": {
              "type": "string"
            }
          },
          "metadata": {},
          "execution_count": 63
        }
      ],
      "source": [
        "String = \"Python Programming is fun\"\n",
        "\n",
        "lst = ['dd', 'qqq']\n",
        "String = \" \".join(lst)\n",
        "String"
      ]
    },
    {
      "cell_type": "markdown",
      "metadata": {
        "id": "Qfx09jmBavbX"
      },
      "source": [
        "Замена символа"
      ]
    },
    {
      "cell_type": "code",
      "execution_count": null,
      "metadata": {
        "id": "YP1_bZ1qaudl"
      },
      "outputs": [],
      "source": [
        "Money = '$113,678'"
      ]
    },
    {
      "cell_type": "code",
      "execution_count": null,
      "metadata": {
        "colab": {
          "base_uri": "https://localhost:8080/",
          "height": 35
        },
        "id": "fsK018P2cjJ3",
        "outputId": "f8bc3015-ecec-4f3a-a93e-ca4f63eb0e0c"
      },
      "outputs": [
        {
          "data": {
            "text/plain": [
              "'113,678'"
            ]
          },
          "execution_count": 20,
          "metadata": {
            "tags": []
          },
          "output_type": "execute_result"
        }
      ],
      "source": [
        "Money = Money.replace('$', '')\n",
        "Money"
      ]
    },
    {
      "cell_type": "code",
      "execution_count": null,
      "metadata": {
        "colab": {
          "base_uri": "https://localhost:8080/",
          "height": 35
        },
        "id": "ZQO19dD_cknA",
        "outputId": "f3a71c90-1e6a-4b85-e5e5-b380e76019ac"
      },
      "outputs": [
        {
          "data": {
            "text/plain": [
              "'113678'"
            ]
          },
          "execution_count": 21,
          "metadata": {
            "tags": []
          },
          "output_type": "execute_result"
        }
      ],
      "source": [
        "Money = Money.replace(',', '')\n",
        "Money"
      ]
    },
    {
      "cell_type": "markdown",
      "metadata": {
        "id": "H4uTP8eobQhK"
      },
      "source": [
        "Поиск в строке"
      ]
    },
    {
      "cell_type": "code",
      "execution_count": null,
      "metadata": {
        "colab": {
          "base_uri": "https://localhost:8080/",
          "height": 35
        },
        "id": "YoNlax-LdOGs",
        "outputId": "596d8477-28fa-42e1-fb94-098173685fa9"
      },
      "outputs": [
        {
          "data": {
            "application/vnd.google.colaboratory.intrinsic+json": {
              "type": "string"
            },
            "text/plain": [
              "'programming'"
            ]
          },
          "execution_count": 1,
          "metadata": {},
          "output_type": "execute_result"
        }
      ],
      "source": [
        "string = \"programming\"\n",
        "string"
      ]
    },
    {
      "cell_type": "code",
      "execution_count": null,
      "metadata": {
        "colab": {
          "base_uri": "https://localhost:8080/",
          "height": 35
        },
        "id": "UF1zGdSfdPl4",
        "outputId": "039e43d5-a38a-42af-8893-21503d58f89e"
      },
      "outputs": [
        {
          "name": "stdout",
          "output_type": "stream",
          "text": [
            "0\n"
          ]
        }
      ],
      "source": [
        "print(string.find('p'))"
      ]
    },
    {
      "cell_type": "code",
      "execution_count": null,
      "metadata": {
        "colab": {
          "base_uri": "https://localhost:8080/"
        },
        "id": "YndJcTeDdQ4J",
        "outputId": "46fa1447-2b91-4146-f91d-6aa64f7dbd9d"
      },
      "outputs": [
        {
          "name": "stdout",
          "output_type": "stream",
          "text": [
            "-1\n"
          ]
        }
      ],
      "source": [
        "print(string.find('t'))"
      ]
    },
    {
      "cell_type": "markdown",
      "metadata": {
        "id": "okMphhbmbYJG"
      },
      "source": [
        "Функция strip удаляет пробелы как в начале, так и в конце строки."
      ]
    },
    {
      "cell_type": "code",
      "execution_count": null,
      "metadata": {
        "colab": {
          "base_uri": "https://localhost:8080/",
          "height": 35
        },
        "id": "iK6st3AXdV8R",
        "outputId": "bbc0a546-9deb-4d29-ab3b-0b92cb78624b"
      },
      "outputs": [
        {
          "data": {
            "text/plain": [
              "'     programming is easy    '"
            ]
          },
          "execution_count": 32,
          "metadata": {
            "tags": []
          },
          "output_type": "execute_result"
        }
      ],
      "source": [
        "string = \"     programming is easy    \"\n",
        "string"
      ]
    },
    {
      "cell_type": "code",
      "execution_count": null,
      "metadata": {
        "colab": {
          "base_uri": "https://localhost:8080/",
          "height": 35
        },
        "id": "w6iyIxh2dYJr",
        "outputId": "6e39c256-e1c7-4d54-84ff-cbaef4e13e23"
      },
      "outputs": [
        {
          "name": "stdout",
          "output_type": "stream",
          "text": [
            "programming is easy\n"
          ]
        }
      ],
      "source": [
        "print(string.strip())"
      ]
    },
    {
      "cell_type": "markdown",
      "metadata": {
        "id": "N0JDmDo3JdMZ"
      },
      "source": [
        "Поиск в строке"
      ]
    },
    {
      "cell_type": "code",
      "execution_count": null,
      "metadata": {
        "colab": {
          "base_uri": "https://localhost:8080/"
        },
        "id": "ofuwtkz8Jce9",
        "outputId": "ab41e2b5-b164-431d-ec7f-a49e4d543476"
      },
      "outputs": [
        {
          "output_type": "stream",
          "name": "stdout",
          "text": [
            "True\n"
          ]
        }
      ],
      "source": [
        "message = \"I like cats and dogs.\"\n",
        "dog_present = 'dog' in message\n",
        "print(dog_present)"
      ]
    },
    {
      "cell_type": "markdown",
      "metadata": {
        "id": "BAK9vFucJlVJ"
      },
      "source": [
        "Змена символов в строке"
      ]
    },
    {
      "cell_type": "code",
      "execution_count": null,
      "metadata": {
        "colab": {
          "base_uri": "https://localhost:8080/"
        },
        "id": "4nkaHNi3Jn8M",
        "outputId": "91eec9d4-025b-4be8-8de9-e499ed6f5d82"
      },
      "outputs": [
        {
          "name": "stdout",
          "output_type": "stream",
          "text": [
            "I like cats and snakes, but I'd much rather own a snake.\n"
          ]
        }
      ],
      "source": [
        "message = \"I like cats and dogs, but I'd much rather own a dog.\"\n",
        "message = message.replace('dog', 'snake')\n",
        "print(message)"
      ]
    },
    {
      "cell_type": "markdown",
      "metadata": {
        "id": "EqC0REFCJsJP"
      },
      "source": [
        "Подсчет символов в строке"
      ]
    },
    {
      "cell_type": "code",
      "execution_count": null,
      "metadata": {
        "colab": {
          "base_uri": "https://localhost:8080/"
        },
        "id": "xD7xu2DUJq_w",
        "outputId": "0b8b6b7b-19ab-475d-c47f-68dbcd999b28"
      },
      "outputs": [
        {
          "name": "stdout",
          "output_type": "stream",
          "text": [
            "2\n"
          ]
        }
      ],
      "source": [
        "message = \"I like cats and dogs, but I'd much rather own a dog.\"\n",
        "number_dogs = message.count('dog')\n",
        "print(number_dogs)"
      ]
    },
    {
      "cell_type": "markdown",
      "metadata": {
        "id": "auuL2tkOR5Qj"
      },
      "source": [
        "#Списки"
      ]
    },
    {
      "cell_type": "code",
      "execution_count": null,
      "metadata": {
        "colab": {
          "base_uri": "https://localhost:8080/"
        },
        "id": "PR3UUZH2_rgX",
        "outputId": "bccde38e-dd50-4132-da51-47c03c1e52a0"
      },
      "outputs": [
        {
          "name": "stdout",
          "output_type": "stream",
          "text": [
            "[2, 5, 7, 4, 5, 1, 11]\n"
          ]
        }
      ],
      "source": [
        "data=[2,5,7,4,5,1,11]\n",
        "print(data)"
      ]
    },
    {
      "cell_type": "code",
      "execution_count": null,
      "metadata": {
        "colab": {
          "base_uri": "https://localhost:8080/"
        },
        "id": "DFev8Ixu_sCx",
        "outputId": "fd04ba2d-9ab6-4995-dec1-9401eefe851f"
      },
      "outputs": [
        {
          "name": "stdout",
          "output_type": "stream",
          "text": [
            "5\n"
          ]
        }
      ],
      "source": [
        "print(data[1])"
      ]
    },
    {
      "cell_type": "code",
      "execution_count": null,
      "metadata": {
        "colab": {
          "base_uri": "https://localhost:8080/"
        },
        "id": "gx0s2xKp_3XV",
        "outputId": "1bc10d84-d9e7-490b-f583-341db6a864d8"
      },
      "outputs": [
        {
          "data": {
            "text/plain": [
              "7"
            ]
          },
          "execution_count": 5,
          "metadata": {},
          "output_type": "execute_result"
        }
      ],
      "source": [
        "n=len(data)\n",
        "n"
      ]
    },
    {
      "cell_type": "code",
      "execution_count": null,
      "metadata": {
        "colab": {
          "base_uri": "https://localhost:8080/"
        },
        "id": "d5E5k9rD_9tM",
        "outputId": "ea3b25d5-d62c-451d-fd84-760b85fb0bf0"
      },
      "outputs": [
        {
          "name": "stdout",
          "output_type": "stream",
          "text": [
            "Это число больше 10: 11\n"
          ]
        }
      ],
      "source": [
        "for i in range(n):\n",
        "  if (data[i]>10):\n",
        "    print (\"Это число больше 10:\",data[i])"
      ]
    },
    {
      "cell_type": "code",
      "execution_count": null,
      "metadata": {
        "colab": {
          "base_uri": "https://localhost:8080/"
        },
        "id": "NRqkLe8DAyc6",
        "outputId": "888099c8-04d8-4a2e-e092-6fc9dfe6e54a"
      },
      "outputs": [
        {
          "name": "stdout",
          "output_type": "stream",
          "text": [
            "I like border collies.\n",
            "I like australian cattle dogs.\n",
            "I like labrador retrievers.\n"
          ]
        }
      ],
      "source": [
        "dogs = ['border collie', 'australian cattle dog', 'labrador retriever']\n",
        "\n",
        "for dog in dogs:\n",
        "    print('I like ' + dog + 's.')"
      ]
    },
    {
      "cell_type": "markdown",
      "metadata": {
        "id": "DwBnSiLRBIBL"
      },
      "source": [
        "Получем номер индекса элемента"
      ]
    },
    {
      "cell_type": "code",
      "source": [
        "a = [1, 2, 3, 2]\n",
        "a.index(2)"
      ],
      "metadata": {
        "colab": {
          "base_uri": "https://localhost:8080/"
        },
        "id": "ZoESrXujoimq",
        "outputId": "16ebdabe-0503-4fb1-8c53-9c6087bb2936"
      },
      "execution_count": null,
      "outputs": [
        {
          "output_type": "execute_result",
          "data": {
            "text/plain": [
              "1"
            ]
          },
          "metadata": {},
          "execution_count": 21
        }
      ]
    },
    {
      "cell_type": "code",
      "execution_count": null,
      "metadata": {
        "colab": {
          "base_uri": "https://localhost:8080/"
        },
        "id": "X0sHZ4JlA1xH",
        "outputId": "eac3327a-2dd5-43bd-c137-c8ab84d2bcd4"
      },
      "outputs": [
        {
          "name": "stdout",
          "output_type": "stream",
          "text": [
            "1\n"
          ]
        }
      ],
      "source": [
        "print(dogs.index('australian cattle dog'))"
      ]
    },
    {
      "cell_type": "code",
      "execution_count": null,
      "metadata": {
        "colab": {
          "base_uri": "https://localhost:8080/",
          "height": 165
        },
        "id": "m8VjAOigA9Zn",
        "outputId": "9554f1d2-936e-4008-df1a-6d52a33ecea6"
      },
      "outputs": [
        {
          "ename": "ValueError",
          "evalue": "ignored",
          "output_type": "error",
          "traceback": [
            "\u001b[0;31m---------------------------------------------------------------------------\u001b[0m",
            "\u001b[0;31mValueError\u001b[0m                                Traceback (most recent call last)",
            "\u001b[0;32m<ipython-input-10-446f43ba8aef>\u001b[0m in \u001b[0;36m<module>\u001b[0;34m\u001b[0m\n\u001b[0;32m----> 1\u001b[0;31m \u001b[0mprint\u001b[0m\u001b[0;34m(\u001b[0m\u001b[0mdogs\u001b[0m\u001b[0;34m.\u001b[0m\u001b[0mindex\u001b[0m\u001b[0;34m(\u001b[0m\u001b[0;34m'poodle'\u001b[0m\u001b[0;34m)\u001b[0m\u001b[0;34m)\u001b[0m\u001b[0;34m\u001b[0m\u001b[0;34m\u001b[0m\u001b[0m\n\u001b[0m",
            "\u001b[0;31mValueError\u001b[0m: 'poodle' is not in list"
          ]
        }
      ],
      "source": [
        "print(dogs.index('poodle'))"
      ]
    },
    {
      "cell_type": "markdown",
      "metadata": {
        "id": "KRi8W771BDgs"
      },
      "source": [
        "Проверяем наличие элемента в списке"
      ]
    },
    {
      "cell_type": "code",
      "execution_count": null,
      "metadata": {
        "colab": {
          "base_uri": "https://localhost:8080/"
        },
        "id": "jb3uHGhYBANi",
        "outputId": "a1f4e29a-e46f-4630-a7d3-b62b25e0dc69"
      },
      "outputs": [
        {
          "name": "stdout",
          "output_type": "stream",
          "text": [
            "True\n",
            "False\n"
          ]
        }
      ],
      "source": [
        "print('australian cattle dog' in dogs)\n",
        "print('poodle' in dogs)"
      ]
    },
    {
      "cell_type": "markdown",
      "metadata": {
        "id": "7n4xQ-sBBVgK"
      },
      "source": [
        "Добавляем элемент"
      ]
    },
    {
      "cell_type": "code",
      "execution_count": null,
      "metadata": {
        "colab": {
          "base_uri": "https://localhost:8080/"
        },
        "id": "qKdkRVMNBLS2",
        "outputId": "aefc1618-184d-4c94-a90a-1afb11e543a0"
      },
      "outputs": [
        {
          "data": {
            "text/plain": [
              "['border collie', 'australian cattle dog', 'labrador retriever', 'poodle']"
            ]
          },
          "execution_count": 12,
          "metadata": {},
          "output_type": "execute_result"
        }
      ],
      "source": [
        "dogs = ['border collie', 'australian cattle dog', 'labrador retriever']\n",
        "dogs.append('poodle')\n",
        "dogs"
      ]
    },
    {
      "cell_type": "markdown",
      "metadata": {
        "id": "GLRZyX1ZBe3Z"
      },
      "source": [
        "Вставляем элемент"
      ]
    },
    {
      "cell_type": "code",
      "execution_count": null,
      "metadata": {
        "colab": {
          "base_uri": "https://localhost:8080/"
        },
        "id": "TCwrfi1iBeRm",
        "outputId": "c4cb363b-47a4-4a50-bf99-cc2bc081f5e6"
      },
      "outputs": [
        {
          "name": "stdout",
          "output_type": "stream",
          "text": [
            "['border collie', 'poodle', 'australian cattle dog', 'labrador retriever']\n"
          ]
        }
      ],
      "source": [
        "dogs = ['border collie', 'australian cattle dog', 'labrador retriever']\n",
        "dogs.insert(1, 'poodle')\n",
        "print(dogs)"
      ]
    },
    {
      "cell_type": "code",
      "source": [
        "a = [1, 2, 3, 2]\n",
        "a.insert(2, 8)\n",
        "a"
      ],
      "metadata": {
        "colab": {
          "base_uri": "https://localhost:8080/"
        },
        "id": "x-x5SBn7ox9b",
        "outputId": "c72e44d6-e02f-4568-9142-df5c3447be8b"
      },
      "execution_count": null,
      "outputs": [
        {
          "output_type": "execute_result",
          "data": {
            "text/plain": [
              "[1, 2, 8, 3, 2]"
            ]
          },
          "metadata": {},
          "execution_count": 23
        }
      ]
    },
    {
      "cell_type": "markdown",
      "metadata": {
        "id": "dnbhVawlE4fO"
      },
      "source": [
        "Заполняем пустой список"
      ]
    },
    {
      "cell_type": "code",
      "execution_count": null,
      "metadata": {
        "colab": {
          "base_uri": "https://localhost:8080/"
        },
        "id": "ddCs2QLpBjKW",
        "outputId": "3c9f18fe-3d9d-4f6c-c3b6-a7227bcbf44b"
      },
      "outputs": [
        {
          "output_type": "stream",
          "name": "stdout",
          "text": [
            "Welcome, Bernice!\n",
            "Welcome, Cody!\n",
            "Welcome, Aaron!\n"
          ]
        }
      ],
      "source": [
        "usernames = []\n",
        "\n",
        "usernames.append('bernice')\n",
        "usernames.append('cody')\n",
        "usernames.append('aaron')\n",
        "\n",
        "for username in usernames:\n",
        "    print(\"Welcome, \" + username.title() + '!')"
      ]
    },
    {
      "cell_type": "code",
      "source": [
        "a = [1, 2, 3, 2]\n",
        "sorted(a)"
      ],
      "metadata": {
        "colab": {
          "base_uri": "https://localhost:8080/"
        },
        "id": "38xBhlB9o--D",
        "outputId": "8049679a-bd05-4dae-fb86-915f6bbb3c72"
      },
      "execution_count": null,
      "outputs": [
        {
          "output_type": "execute_result",
          "data": {
            "text/plain": [
              "[1, 2, 2, 3]"
            ]
          },
          "metadata": {},
          "execution_count": 29
        }
      ]
    },
    {
      "cell_type": "markdown",
      "metadata": {
        "id": "3qEDnfU1FG1y"
      },
      "source": [
        "Сортируем список"
      ]
    },
    {
      "cell_type": "code",
      "execution_count": null,
      "metadata": {
        "colab": {
          "base_uri": "https://localhost:8080/"
        },
        "id": "Tb2fuJhYE92Q",
        "outputId": "5cf7f3fc-5ea6-4d9d-cb5e-373a39cf653d"
      },
      "outputs": [
        {
          "name": "stdout",
          "output_type": "stream",
          "text": [
            "В алфавитном порядке.\n",
            "Aaron\n",
            "Bernice\n",
            "Cody\n",
            "\n",
            "В обратном порядке.\n",
            "Cody\n",
            "Bernice\n",
            "Aaron\n"
          ]
        }
      ],
      "source": [
        "students = ['bernice', 'aaron', 'cody']\n",
        "\n",
        "students.sort()\n",
        "\n",
        "print(\"В алфавитном порядке.\")\n",
        "for student in students:\n",
        "    print(student.title())\n",
        "\n",
        "students.sort(reverse=True)\n",
        "\n",
        "print(\"\\nВ обратном порядке.\")\n",
        "for student in students:\n",
        "    print(student.title())"
      ]
    },
    {
      "cell_type": "markdown",
      "metadata": {
        "id": "-U2VC9nLFcwL"
      },
      "source": [
        "sorted() vs. sort()\n",
        "\n",
        "Если вы хотите отобразить список в отсортированном порядке, но сохранить исходный порядок, вы можете использовать функцию sorted(). Функция sorted() также принимает необязательный аргумент reverse=True."
      ]
    },
    {
      "cell_type": "code",
      "execution_count": null,
      "metadata": {
        "colab": {
          "base_uri": "https://localhost:8080/"
        },
        "id": "Plq_NKzlFaQN",
        "outputId": "6105262a-e2d3-4fc6-9919-96ad110edd17"
      },
      "outputs": [
        {
          "output_type": "stream",
          "name": "stdout",
          "text": [
            "В алфавитном порядке.\n",
            "Aaron\n",
            "Bernice\n",
            "Cody\n",
            "\n",
            "В обратном порядке.\n",
            "Cody\n",
            "Bernice\n",
            "Aaron\n",
            "\n",
            "Исходный порядок.\n",
            "Bernice\n",
            "Aaron\n",
            "Cody\n"
          ]
        }
      ],
      "source": [
        "students = ['bernice', 'aaron', 'cody']\n",
        "\n",
        "print(\"В алфавитном порядке.\")\n",
        "for student in sorted(students):\n",
        "    print(student.title())\n",
        "\n",
        "print(\"\\nВ обратном порядке.\")\n",
        "for student in sorted(students, reverse=True):\n",
        "    print(student.title())\n",
        "\n",
        "print(\"\\nИсходный порядок.\")\n",
        "for student in students:\n",
        "    print(student.title())"
      ]
    },
    {
      "cell_type": "code",
      "execution_count": null,
      "metadata": {
        "colab": {
          "base_uri": "https://localhost:8080/"
        },
        "id": "vuwhD1hrGZpO",
        "outputId": "1bb8e46e-b352-4631-8291-49a9dabac430"
      },
      "outputs": [
        {
          "name": "stdout",
          "output_type": "stream",
          "text": [
            "[1, 2, 3, 4]\n",
            "[4, 3, 2, 1]\n"
          ]
        }
      ],
      "source": [
        "numbers = [1, 3, 4, 2]\n",
        "\n",
        "numbers.sort()\n",
        "print(numbers)\n",
        "\n",
        "numbers.sort(reverse=True)\n",
        "print(numbers)"
      ]
    },
    {
      "cell_type": "code",
      "execution_count": null,
      "metadata": {
        "colab": {
          "base_uri": "https://localhost:8080/"
        },
        "id": "t3AVMitRGc-9",
        "outputId": "a84431fc-7a73-4b4b-d27d-385fedeb5d66"
      },
      "outputs": [
        {
          "name": "stdout",
          "output_type": "stream",
          "text": [
            "[1, 2, 3, 4]\n",
            "[1, 3, 4, 2]\n"
          ]
        }
      ],
      "source": [
        "numbers = [1, 3, 4, 2]\n",
        "\n",
        "print(sorted(numbers))\n",
        "print(numbers)"
      ]
    },
    {
      "cell_type": "markdown",
      "metadata": {
        "id": "ebwzFklNGSOo"
      },
      "source": [
        "Разворот списка"
      ]
    },
    {
      "cell_type": "code",
      "execution_count": null,
      "metadata": {
        "colab": {
          "base_uri": "https://localhost:8080/"
        },
        "id": "Au170n2dGRrL",
        "outputId": "0f6aca96-ecfa-4710-c2d1-40744b8974a8"
      },
      "outputs": [
        {
          "output_type": "stream",
          "name": "stdout",
          "text": [
            "['cody', 'aaron', 'bernice']\n"
          ]
        }
      ],
      "source": [
        "students = ['bernice', 'aaron', 'cody']\n",
        "students.reverse()\n",
        "\n",
        "print(students)"
      ]
    },
    {
      "cell_type": "markdown",
      "metadata": {
        "id": "Ydj_T39ZG3ko"
      },
      "source": [
        "Удаление элемента\n",
        "\n",
        "Если вы знаете положение элемента в списке, вы можете удалить этот элемент с помощью команды del. Чтобы использовать этот подход, используйте команду del и имя вашего списка с индексом элемента, который вы хотите удалить, в квадратных скобках:"
      ]
    },
    {
      "cell_type": "code",
      "execution_count": null,
      "metadata": {
        "colab": {
          "base_uri": "https://localhost:8080/"
        },
        "id": "-Gp3IsRRGV47",
        "outputId": "51895cc2-d6e1-4af1-f769-1ca07b508c17"
      },
      "outputs": [
        {
          "output_type": "stream",
          "name": "stdout",
          "text": [
            "['australian cattle dog', 'labrador retriever']\n"
          ]
        }
      ],
      "source": [
        "dogs = ['border collie', 'australian cattle dog', 'labrador retriever']\n",
        "del dogs[0]\n",
        "\n",
        "print(dogs)"
      ]
    },
    {
      "cell_type": "markdown",
      "metadata": {
        "id": "wWQyDenqHLu4"
      },
      "source": [
        "Вы также можете удалить элемент из списка, если знаете его значение. Для этого мы используем функцию remove(). Укажите имя списка, за которым следует слово remove со значением элемента, который вы хотите удалить, в скобках. Python просматривает ваш список, находит первый элемент с этим значением и удаляет его."
      ]
    },
    {
      "cell_type": "code",
      "execution_count": null,
      "metadata": {
        "colab": {
          "base_uri": "https://localhost:8080/"
        },
        "id": "xl_ml4CCHNva",
        "outputId": "2c4c61c7-e533-41ba-91cd-f69217226a3a"
      },
      "outputs": [
        {
          "output_type": "stream",
          "name": "stdout",
          "text": [
            "['border collie', 'labrador retriever']\n"
          ]
        }
      ],
      "source": [
        "dogs = ['border collie', 'australian cattle dog', 'labrador retriever']\n",
        "dogs.remove('australian cattle dog')\n",
        "\n",
        "print(dogs)"
      ]
    },
    {
      "cell_type": "markdown",
      "metadata": {
        "id": "5s4vvNugHiZK"
      },
      "source": [
        "Обратите внимание, что удаляется только первый элемент с этим значением. Если у вас есть несколько элементов с одинаковым значением, в вашем списке останутся некоторые элементы с этим значением."
      ]
    },
    {
      "cell_type": "code",
      "execution_count": null,
      "metadata": {
        "colab": {
          "base_uri": "https://localhost:8080/"
        },
        "id": "cibYuhAHHjaE",
        "outputId": "85b01328-bbe5-42f7-dca3-3907bd4382fd"
      },
      "outputs": [
        {
          "output_type": "stream",
          "name": "stdout",
          "text": [
            "['b', 'c', 'a', 'b', 'c']\n"
          ]
        }
      ],
      "source": [
        "letters = ['a', 'b', 'c', 'a', 'b', 'c']\n",
        "letters.remove('a')\n",
        "\n",
        "print(letters)"
      ]
    },
    {
      "cell_type": "markdown",
      "metadata": {
        "id": "XhX5JcDpHw-L"
      },
      "source": [
        "В программировании есть классная концепция, называемая \"извлечение\" элементов из коллекции. В каждом языке программирования есть какая-то структура данных, похожая на списки Python. Все эти структуры можно использовать в качестве очередей, и существуют различные способы обработки элементов в очереди.\n",
        "\n",
        "Один простой подход — начать с пустого списка, а затем добавить элементы в этот список. Когда вы хотите работать с элементами в списке, вы всегда берете последний элемент из списка, что-то делаете с ним, а затем удаляете этот элемент. Функция pop() упрощает эту задачу. Он удаляет последний элемент из списка и отдает его нам, чтобы мы могли с ним работать."
      ]
    },
    {
      "cell_type": "code",
      "execution_count": null,
      "metadata": {
        "colab": {
          "base_uri": "https://localhost:8080/"
        },
        "id": "FGwlW74KHmIe",
        "outputId": "49e1fce1-cef6-4439-a400-76e84b8e5638"
      },
      "outputs": [
        {
          "output_type": "stream",
          "name": "stdout",
          "text": [
            "labrador retriever\n",
            "['border collie', 'australian cattle dog']\n"
          ]
        }
      ],
      "source": [
        "dogs = ['border collie', 'australian cattle dog', 'labrador retriever']\n",
        "last_dog = dogs.pop()\n",
        "\n",
        "print(last_dog)\n",
        "print(dogs)"
      ]
    },
    {
      "cell_type": "markdown",
      "metadata": {
        "id": "T9qOHIjzH9Fq"
      },
      "source": [
        "На самом деле вы можете извлечь из списка любой элемент, который хотите, указав индекс элемента, который вы хотите извлечь. Таким образом, мы могли бы использовать подход «первым пришел — первым вышел», вытащив первый элемент из списка:"
      ]
    },
    {
      "cell_type": "code",
      "execution_count": null,
      "metadata": {
        "colab": {
          "base_uri": "https://localhost:8080/"
        },
        "id": "Pdkxi7TJH024",
        "outputId": "2185d709-4514-4ac2-d2d8-f7d830552326"
      },
      "outputs": [
        {
          "output_type": "stream",
          "name": "stdout",
          "text": [
            "border collie\n",
            "['australian cattle dog', 'labrador retriever']\n"
          ]
        }
      ],
      "source": [
        "dogs = ['border collie', 'australian cattle dog', 'labrador retriever']\n",
        "first_dog = dogs.pop(0)\n",
        "\n",
        "print(first_dog)\n",
        "print(dogs)"
      ]
    },
    {
      "cell_type": "markdown",
      "metadata": {
        "id": "n9V1vDAAIMLz"
      },
      "source": [
        "Срезы"
      ]
    },
    {
      "cell_type": "code",
      "execution_count": null,
      "metadata": {
        "colab": {
          "base_uri": "https://localhost:8080/"
        },
        "id": "It8Gl1wZINF2",
        "outputId": "41aaad85-739b-4f8d-858e-6504105bdb9d"
      },
      "outputs": [
        {
          "name": "stdout",
          "output_type": "stream",
          "text": [
            "Bernice\n",
            "Cody\n",
            "Aaron\n"
          ]
        }
      ],
      "source": [
        "usernames = ['bernice', 'cody', 'aaron', 'ever', 'dalia']\n",
        "\n",
        "# Grab the first three users in the list.\n",
        "first_batch = usernames[0:3]\n",
        "\n",
        "for user in first_batch:\n",
        "    print(user.title())"
      ]
    },
    {
      "cell_type": "markdown",
      "metadata": {
        "id": "zGaa-R_EIYH6"
      },
      "source": [
        "Копирование"
      ]
    },
    {
      "cell_type": "code",
      "execution_count": null,
      "metadata": {
        "colab": {
          "base_uri": "https://localhost:8080/"
        },
        "id": "MMA1RxvUIZWU",
        "outputId": "cca2b107-a322-435f-e29a-6d514fcb7bb0"
      },
      "outputs": [
        {
          "output_type": "stream",
          "name": "stdout",
          "text": [
            "Скопированный лист:\n",
            "\t ['bernice', 'cody', 'aaron', 'ever', 'dalia']\n",
            "\n",
            "Лист после удаления элементов:\n",
            "\t ['aaron', 'ever', 'dalia']\n",
            "\n",
            "Исходный лист:\n",
            "\t ['bernice', 'cody', 'aaron', 'ever', 'dalia']\n"
          ]
        }
      ],
      "source": [
        "usernames = ['bernice', 'cody', 'aaron', 'ever', 'dalia']\n",
        "\n",
        "copied_usernames = usernames[:]\n",
        "print(\"Скопированный лист:\\n\\t\", copied_usernames)\n",
        "\n",
        "del copied_usernames[0]\n",
        "del copied_usernames[0]\n",
        "print(\"\\nЛист после удаления элементов:\\n\\t\", copied_usernames)\n",
        "\n",
        "print(\"\\nИсходный лист:\\n\\t\", usernames)"
      ]
    },
    {
      "cell_type": "markdown",
      "metadata": {
        "id": "gSYP6aShIvBL"
      },
      "source": [
        "range()"
      ]
    },
    {
      "cell_type": "code",
      "execution_count": null,
      "metadata": {
        "colab": {
          "base_uri": "https://localhost:8080/"
        },
        "id": "DiTXKCl7Ixco",
        "outputId": "c6e9cd9e-7ccc-45be-ec8d-d9a7a9391600"
      },
      "outputs": [
        {
          "name": "stdout",
          "output_type": "stream",
          "text": [
            "[1, 2, 3, 4, 5, 6, 7, 8, 9, 10]\n"
          ]
        }
      ],
      "source": [
        "numbers = list(range(1,11))\n",
        "print(numbers)"
      ]
    },
    {
      "cell_type": "markdown",
      "metadata": {
        "id": "YMxeSjyAI2YM"
      },
      "source": [
        "min(), max(), sum()"
      ]
    },
    {
      "cell_type": "code",
      "execution_count": null,
      "metadata": {
        "colab": {
          "base_uri": "https://localhost:8080/"
        },
        "id": "pW00nT5LI32k",
        "outputId": "07a6b23c-c9c9-4461-e084-eae568b025b3"
      },
      "outputs": [
        {
          "name": "stdout",
          "output_type": "stream",
          "text": [
            "Our youngest reader is 11 years old.\n",
            "Our oldest reader is 38 years old.\n",
            "Together, we have 149 years worth of life experience.\n"
          ]
        }
      ],
      "source": [
        "ages = [23, 16, 14, 28, 19, 11, 38]\n",
        "\n",
        "youngest = min(ages)\n",
        "oldest = max(ages)\n",
        "total_years = sum(ages)\n",
        "\n",
        "print(\"Our youngest reader is \" + str(youngest) + \" years old.\")\n",
        "print(\"Our oldest reader is \" + str(oldest) + \" years old.\")\n",
        "print(\"Together, we have \" + str(total_years) +\n",
        "      \" years worth of life experience.\")"
      ]
    },
    {
      "cell_type": "markdown",
      "metadata": {
        "id": "p1j5XxnRJE5u"
      },
      "source": [
        "Циклы"
      ]
    },
    {
      "cell_type": "code",
      "execution_count": null,
      "metadata": {
        "colab": {
          "base_uri": "https://localhost:8080/"
        },
        "id": "JNTUaFBWJEP_",
        "outputId": "34d42cfc-2774-40c9-a5e6-c7d09649a1af"
      },
      "outputs": [
        {
          "output_type": "stream",
          "name": "stdout",
          "text": [
            "1\n",
            "4\n",
            "9\n",
            "16\n",
            "25\n",
            "36\n",
            "49\n",
            "64\n",
            "81\n",
            "100\n"
          ]
        }
      ],
      "source": [
        "squares = []\n",
        "\n",
        "for number in range(1,11):\n",
        "    new_square = number**2\n",
        "    squares.append(new_square)\n",
        "\n",
        "for square in squares:\n",
        "    print(square)"
      ]
    },
    {
      "cell_type": "code",
      "execution_count": null,
      "metadata": {
        "colab": {
          "base_uri": "https://localhost:8080/"
        },
        "id": "DzvnxAHiJKvW",
        "outputId": "10f579a3-8733-4525-e89a-ac14fef1cdd3"
      },
      "outputs": [
        {
          "name": "stdout",
          "output_type": "stream",
          "text": [
            "1\n",
            "4\n",
            "9\n",
            "16\n",
            "25\n",
            "36\n",
            "49\n",
            "64\n",
            "81\n",
            "100\n"
          ]
        }
      ],
      "source": [
        "squares = [number**2 for number in range(1,11)]\n",
        "\n",
        "for square in squares:\n",
        "    print(square)"
      ]
    },
    {
      "cell_type": "markdown",
      "metadata": {
        "id": "2yKXq_phR951"
      },
      "source": [
        "#Кортежи"
      ]
    },
    {
      "cell_type": "markdown",
      "metadata": {
        "id": "2d_DT2rbJ5R1"
      },
      "source": [
        "Внешне кортежи несильно отличаются от списков. Единственное внешнее отличие ‒ элементы кортежа заключаются в круглые, а не в квадратные скобки."
      ]
    },
    {
      "cell_type": "code",
      "execution_count": null,
      "metadata": {
        "id": "mNNTQ4-tJ5R6"
      },
      "outputs": [],
      "source": [
        "my_tuple = (1, 2, 4, 6, 9)"
      ]
    },
    {
      "cell_type": "markdown",
      "metadata": {
        "id": "lSl6O3U5J5SB"
      },
      "source": [
        "К элементам кортежа можно обращаться точно так же, как к элементам списка:"
      ]
    },
    {
      "cell_type": "code",
      "execution_count": null,
      "metadata": {
        "id": "2rFmUsYVJ5SD",
        "outputId": "4d3cdeab-eb71-47c2-cca6-c9463376d7b6"
      },
      "outputs": [
        {
          "data": {
            "text/plain": [
              "1"
            ]
          },
          "execution_count": 2,
          "metadata": {},
          "output_type": "execute_result"
        }
      ],
      "source": [
        "my_tuple[0]"
      ]
    },
    {
      "cell_type": "markdown",
      "metadata": {
        "id": "YKFgkc7ZJ5SI"
      },
      "source": [
        "Но, несмотря на кажущееся сходство, кортежи и списки – принципиально разные объекты. Главное отличие кортежей от списков заключается в том, что кортежи – неизменяемые структуры данных. Другими словами, изменять элементы кортежа нельзя. Проверим:"
      ]
    },
    {
      "cell_type": "code",
      "execution_count": null,
      "metadata": {
        "id": "LH84ZpYvJ5SL",
        "outputId": "4b613185-cbe5-4035-d28d-6d32fdeed3a2"
      },
      "outputs": [
        {
          "ename": "TypeError",
          "evalue": "'tuple' object does not support item assignment",
          "output_type": "error",
          "traceback": [
            "\u001b[0;31m---------------------------------------------------------------------------\u001b[0m",
            "\u001b[0;31mTypeError\u001b[0m                                 Traceback (most recent call last)",
            "\u001b[0;32m<ipython-input-3-a0083389ad43>\u001b[0m in \u001b[0;36m<module>\u001b[0;34m()\u001b[0m\n\u001b[0;32m----> 1\u001b[0;31m \u001b[0mmy_tuple\u001b[0m\u001b[0;34m[\u001b[0m\u001b[0;36m2\u001b[0m\u001b[0;34m]\u001b[0m \u001b[0;34m=\u001b[0m \u001b[0;36m65\u001b[0m\u001b[0;34m\u001b[0m\u001b[0m\n\u001b[0m",
            "\u001b[0;31mTypeError\u001b[0m: 'tuple' object does not support item assignment"
          ]
        }
      ],
      "source": [
        "my_tuple[2] = 65"
      ]
    },
    {
      "cell_type": "markdown",
      "metadata": {
        "id": "UdkWsVsiJ5SQ"
      },
      "source": [
        "Иногда это свойство бывает полезным (некоторая «защита» от изменений), многие функции могут возвращать результат или, наоборот, принимать на вход только кортежи или только списки."
      ]
    },
    {
      "cell_type": "markdown",
      "metadata": {
        "id": "qKiGlbQZJ5ST"
      },
      "source": [
        "При желании кортеж можно превратить в список:"
      ]
    },
    {
      "cell_type": "code",
      "execution_count": null,
      "metadata": {
        "id": "pY72xyriJ5SX",
        "outputId": "1feeb6b9-d130-4934-f856-ad8ab5a7486a"
      },
      "outputs": [
        {
          "data": {
            "text/plain": [
              "[1, 2, 4, 6, 9]"
            ]
          },
          "execution_count": 4,
          "metadata": {},
          "output_type": "execute_result"
        }
      ],
      "source": [
        "list(my_tuple)"
      ]
    },
    {
      "cell_type": "markdown",
      "metadata": {
        "id": "exDaQ0_TJ5Sa"
      },
      "source": [
        "И наоборот:"
      ]
    },
    {
      "cell_type": "code",
      "execution_count": null,
      "metadata": {
        "id": "LjhrWuMsJ5Sc",
        "outputId": "2c6811e4-d84d-4bfc-aac2-c6765c1e4713"
      },
      "outputs": [
        {
          "data": {
            "text/plain": [
              "(1, 2, 3)"
            ]
          },
          "execution_count": 5,
          "metadata": {},
          "output_type": "execute_result"
        }
      ],
      "source": [
        "tuple([1,2,3])"
      ]
    },
    {
      "cell_type": "markdown",
      "metadata": {
        "id": "iMl8yo2zSHWx"
      },
      "source": [
        "#Множества"
      ]
    },
    {
      "cell_type": "markdown",
      "metadata": {
        "id": "Q4WBqTqCKfFe"
      },
      "source": [
        "Иногда возникает необходимость проверять разные отношения между двумя наборами элементов. Например, проверить, есть ли у двух списков общие элементы. Для этого можно воспользоваться уже известным оператором `in`:"
      ]
    },
    {
      "cell_type": "code",
      "source": [
        "a = set()\n",
        "a ={1,2,3}"
      ],
      "metadata": {
        "colab": {
          "base_uri": "https://localhost:8080/"
        },
        "id": "P3KWlxmfqmVY",
        "outputId": "3d3d57f0-c2a7-40c3-dab0-daa078cba355"
      },
      "execution_count": null,
      "outputs": [
        {
          "output_type": "execute_result",
          "data": {
            "text/plain": [
              "set()"
            ]
          },
          "metadata": {},
          "execution_count": 33
        }
      ]
    },
    {
      "cell_type": "code",
      "source": [
        "x = set([1,4])"
      ],
      "metadata": {
        "id": "F2bSOwW-BVP_"
      },
      "execution_count": null,
      "outputs": []
    },
    {
      "cell_type": "code",
      "source": [
        "b = {}"
      ],
      "metadata": {
        "id": "hQWV0f_zBR20"
      },
      "execution_count": null,
      "outputs": []
    },
    {
      "cell_type": "code",
      "source": [
        "c = set()"
      ],
      "metadata": {
        "id": "Q2CLFyIfBoxC"
      },
      "execution_count": null,
      "outputs": []
    },
    {
      "cell_type": "code",
      "source": [
        "type(b)"
      ],
      "metadata": {
        "colab": {
          "base_uri": "https://localhost:8080/"
        },
        "id": "SM0W3UoABkjA",
        "outputId": "e0bfeb03-cdb8-41be-8e69-03d4ab93ec74"
      },
      "execution_count": null,
      "outputs": [
        {
          "output_type": "execute_result",
          "data": {
            "text/plain": [
              "dict"
            ]
          },
          "metadata": {},
          "execution_count": 78
        }
      ]
    },
    {
      "cell_type": "code",
      "execution_count": null,
      "metadata": {
        "id": "wibXHTfhKfFg"
      },
      "outputs": [],
      "source": [
        "L1 = [1, 3, 4]\n",
        "L2 = [1, 4, 5, 6]"
      ]
    },
    {
      "cell_type": "code",
      "execution_count": null,
      "metadata": {
        "id": "ZMUtJmaLKfFk",
        "outputId": "84f408f7-0ba9-49ba-ba64-3e0856e2c3f3"
      },
      "outputs": [
        {
          "name": "stdout",
          "output_type": "stream",
          "text": [
            "1\n",
            "4\n"
          ]
        }
      ],
      "source": [
        "for i in L2:\n",
        "    if i in L1:\n",
        "        print(i)"
      ]
    },
    {
      "cell_type": "markdown",
      "metadata": {
        "id": "a2A4zQurKfFo"
      },
      "source": [
        "Но иногда удобно превратить списки в множества (`sets`) и выполнять операции, которые определены для множеств в математике: пересечение, объединение, разность и так далее."
      ]
    },
    {
      "cell_type": "code",
      "execution_count": null,
      "metadata": {
        "id": "YQCS9rogKfFq",
        "outputId": "6ec0bdd5-49d8-4fe2-ac36-e0df1b5386f0"
      },
      "outputs": [
        {
          "data": {
            "text/plain": [
              "set()"
            ]
          },
          "execution_count": 3,
          "metadata": {},
          "output_type": "execute_result"
        }
      ],
      "source": [
        "set()  # пустое множество"
      ]
    },
    {
      "cell_type": "code",
      "execution_count": null,
      "metadata": {
        "id": "dK2QmYhiKfFr",
        "outputId": "94ef5a23-0133-468d-b503-5ad9d4c029a2",
        "colab": {
          "base_uri": "https://localhost:8080/"
        }
      },
      "outputs": [
        {
          "output_type": "execute_result",
          "data": {
            "text/plain": [
              "{1, 2, 6}"
            ]
          },
          "metadata": {},
          "execution_count": 35
        }
      ],
      "source": [
        "set([1, 2, 6, 2])  # множество, полученное из списка"
      ]
    },
    {
      "cell_type": "markdown",
      "metadata": {
        "id": "G0wFr-6wKfFt"
      },
      "source": [
        "Важно иметь в виду, что в множествах (как в программировании, так и в математике) не может быть повторяющихся элементов. Поэтому, если в списке есть повторяющиеся значения, и они важны, превращать спискок в множество не стоит, так как можно потерять элементы."
      ]
    },
    {
      "cell_type": "code",
      "execution_count": null,
      "metadata": {
        "id": "sccGag6HKfFu",
        "outputId": "5f34baa6-e136-4c9f-85d4-c9a7a27352f1"
      },
      "outputs": [
        {
          "data": {
            "text/plain": [
              "{1, 2, 6}"
            ]
          },
          "execution_count": 5,
          "metadata": {},
          "output_type": "execute_result"
        }
      ],
      "source": [
        "set([1, 2, 6, 6, 1, 2])  # потеряли повторы"
      ]
    },
    {
      "cell_type": "markdown",
      "metadata": {
        "id": "zHCqpfc9KfFx"
      },
      "source": [
        "Но зато с помощью множеств можно получить список уникальных элементов списка:"
      ]
    },
    {
      "cell_type": "code",
      "execution_count": null,
      "metadata": {
        "id": "2GmCaIKUKfFz",
        "outputId": "486bf306-d6d8-4d2d-e81d-56de6b768f30",
        "colab": {
          "base_uri": "https://localhost:8080/"
        }
      },
      "outputs": [
        {
          "output_type": "execute_result",
          "data": {
            "text/plain": [
              "[1, 2, 6]"
            ]
          },
          "metadata": {},
          "execution_count": 36
        }
      ],
      "source": [
        "list(set([1, 2, 6, 6, 1, 2]))"
      ]
    },
    {
      "cell_type": "markdown",
      "metadata": {
        "id": "CnpzkADhKfF0"
      },
      "source": [
        "А теперь превратим два числовых списка в множества A и B и попробуем произвести некоторые операции."
      ]
    },
    {
      "cell_type": "code",
      "execution_count": null,
      "metadata": {
        "id": "tl7PH8zjKfF1"
      },
      "outputs": [],
      "source": [
        "A = set([1, 2, 4, 6])\n",
        "B = set([2, 3, 6, 8])"
      ]
    },
    {
      "cell_type": "markdown",
      "metadata": {
        "id": "RIg4iF_0KfF3"
      },
      "source": [
        "Пересечение множеств A и B – общие элементы этих двух множеств ($A \\cap B$):"
      ]
    },
    {
      "cell_type": "code",
      "execution_count": null,
      "metadata": {
        "id": "qEYfSHfeKfF3",
        "outputId": "46a0561f-2d66-4a58-ff68-9e41fe742e09",
        "colab": {
          "base_uri": "https://localhost:8080/"
        }
      },
      "outputs": [
        {
          "output_type": "execute_result",
          "data": {
            "text/plain": [
              "{2, 6}"
            ]
          },
          "metadata": {},
          "execution_count": 38
        }
      ],
      "source": [
        "A.intersection(B)"
      ]
    },
    {
      "cell_type": "markdown",
      "metadata": {
        "id": "g-Yfd55zKfF4"
      },
      "source": [
        "Объединение множеств A и B – все элементы множества A и множества B, конечно, без повторений ($A \\cup B$):"
      ]
    },
    {
      "cell_type": "code",
      "execution_count": null,
      "metadata": {
        "id": "oZ-UijoGKfF6",
        "outputId": "a1556611-c0f2-478a-8851-6397913ede45",
        "colab": {
          "base_uri": "https://localhost:8080/"
        }
      },
      "outputs": [
        {
          "output_type": "execute_result",
          "data": {
            "text/plain": [
              "{1, 2, 3, 4, 6, 8}"
            ]
          },
          "metadata": {},
          "execution_count": 39
        }
      ],
      "source": [
        "A.union(B)"
      ]
    },
    {
      "cell_type": "markdown",
      "metadata": {
        "id": "330ne2J4KfF7"
      },
      "source": [
        "Разность множеств A и B – все элементы множества A, которых нет в B ($A\\text{\\\\}B$)."
      ]
    },
    {
      "cell_type": "code",
      "execution_count": null,
      "metadata": {
        "id": "hJzO6iDYKfF9",
        "outputId": "5ef91ca1-517e-4aca-97be-905aaf421bf7"
      },
      "outputs": [
        {
          "data": {
            "text/plain": [
              "{1, 4}"
            ]
          },
          "execution_count": 10,
          "metadata": {},
          "output_type": "execute_result"
        }
      ],
      "source": [
        "A.difference(B)"
      ]
    },
    {
      "cell_type": "markdown",
      "metadata": {
        "id": "fDT3ol24KfF-"
      },
      "source": [
        "Разность множеств B и A – все элементы множества B, которых нет в A ($B\\text{\\\\}A$)."
      ]
    },
    {
      "cell_type": "code",
      "execution_count": null,
      "metadata": {
        "id": "UhIqiImPKfF_",
        "outputId": "00fca535-938f-4fb9-bc10-eeb5c6ddf623"
      },
      "outputs": [
        {
          "data": {
            "text/plain": [
              "{3, 8}"
            ]
          },
          "execution_count": 11,
          "metadata": {},
          "output_type": "execute_result"
        }
      ],
      "source": [
        "B.difference(A)"
      ]
    },
    {
      "cell_type": "markdown",
      "metadata": {
        "id": "M1D3DsSFKfGA"
      },
      "source": [
        "Симметрическая разность множеств A и B – все элементы А и B, которые не входят в пересечение этих множеств:"
      ]
    },
    {
      "cell_type": "code",
      "execution_count": null,
      "metadata": {
        "id": "5PipnQVsKfGB",
        "outputId": "db439e6a-4f06-4748-f86e-db8cc4fc0844"
      },
      "outputs": [
        {
          "data": {
            "text/plain": [
              "{1, 3, 4, 8}"
            ]
          },
          "execution_count": 12,
          "metadata": {},
          "output_type": "execute_result"
        }
      ],
      "source": [
        "A.symmetric_difference(B)"
      ]
    },
    {
      "cell_type": "markdown",
      "metadata": {
        "id": "VsCaNR9vKfGC"
      },
      "source": [
        "Обратите внимание: результат, полученный после использования методов для множеств, тоже является множеством – элементы перечислены в фигурных скобках. Но при желании результат можно превратить в список:"
      ]
    },
    {
      "cell_type": "code",
      "execution_count": null,
      "metadata": {
        "id": "itQp95O8KfGD",
        "outputId": "308d0448-cd05-43c6-a8fe-465c2277b610"
      },
      "outputs": [
        {
          "data": {
            "text/plain": [
              "[1, 3, 4, 8]"
            ]
          },
          "execution_count": 13,
          "metadata": {},
          "output_type": "execute_result"
        }
      ],
      "source": [
        "list(A.symmetric_difference(B))"
      ]
    },
    {
      "cell_type": "markdown",
      "metadata": {
        "id": "xBpb4YsnKfGD"
      },
      "source": [
        "На множествах определены особые методы, которые облегчают сравнение наборов элементов. Например, можно проверить, являются ли множества A и B непересекающимися (не имеющими общих элементов):"
      ]
    },
    {
      "cell_type": "code",
      "execution_count": null,
      "metadata": {
        "id": "BmTTk_qvKfGE",
        "outputId": "1a5c065f-6503-46e3-a2ea-9bab879794a1"
      },
      "outputs": [
        {
          "data": {
            "text/plain": [
              "False"
            ]
          },
          "execution_count": 14,
          "metadata": {},
          "output_type": "execute_result"
        }
      ],
      "source": [
        "A.isdisjoint(B)  # joint - пересекающиеся, disjoint - непересекающиеся"
      ]
    },
    {
      "cell_type": "markdown",
      "metadata": {
        "id": "V8MzeZOjKfGF"
      },
      "source": [
        "Или проверить, является ли множество A подмножеством B (все элементы A входят в B):"
      ]
    },
    {
      "cell_type": "code",
      "execution_count": null,
      "metadata": {
        "id": "wPAQiu2mKfGF",
        "outputId": "163857cd-68d0-46a7-84f8-704fd14edb4e"
      },
      "outputs": [
        {
          "data": {
            "text/plain": [
              "False"
            ]
          },
          "execution_count": 15,
          "metadata": {},
          "output_type": "execute_result"
        }
      ],
      "source": [
        "A.issubset(B)"
      ]
    },
    {
      "cell_type": "markdown",
      "metadata": {
        "id": "Ej95_FdRKfGG"
      },
      "source": [
        "Множество в Python, наверное, не такой распространенный объект как список, кортеж или словарь, но знать о них полезно, потому что в некоторых задачах использовать методы для множеств гораздо эффективнее, чем писать какие-то циклы с разными условиями."
      ]
    },
    {
      "cell_type": "code",
      "source": [
        "a = [[1,2,3], [3, 4,5], [5, 6 ,7]]\n",
        "B.difference(*a)"
      ],
      "metadata": {
        "colab": {
          "base_uri": "https://localhost:8080/"
        },
        "id": "nS3F2txxrRYd",
        "outputId": "b47974a5-20ae-438a-e408-868b7a7c28c2"
      },
      "execution_count": null,
      "outputs": [
        {
          "output_type": "execute_result",
          "data": {
            "text/plain": [
              "{8}"
            ]
          },
          "metadata": {},
          "execution_count": 41
        }
      ]
    },
    {
      "cell_type": "markdown",
      "source": [
        "#Задачи для решения на семинаре"
      ],
      "metadata": {
        "id": "j6i25-JfYftk"
      }
    },
    {
      "cell_type": "markdown",
      "source": [
        "1. Проверить является ли строка палиндромом.\n",
        "2. Записать слова строки в алфавитном порядке.\n",
        "3. Дан одномерный массив числовых значений, насчитывающий N элементов. После каждого отрицательного элемента вставить новый элемент, равный квадрату этого отрицательного элемента.\n",
        "4. Написать функцию суммирования целых чисел в заданном диапазоне. Если первое число больше чем второе, то поменять их местами.\n",
        "5. Вывести количество уникальных символов в предложении.\n",
        "6. Есть 2 множества. Вывести уникальные элементы, присущие каждому из множеств.\n"
      ],
      "metadata": {
        "id": "QCjuAaIF0G6N"
      }
    }
  ],
  "metadata": {
    "colab": {
      "provenance": []
    },
    "kernelspec": {
      "display_name": "Python 3",
      "name": "python3"
    },
    "language_info": {
      "name": "python"
    }
  },
  "nbformat": 4,
  "nbformat_minor": 0
}