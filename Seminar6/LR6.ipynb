{
 "cells": [
  {
   "cell_type": "markdown",
   "metadata": {
    "id": "lhLob9zN-iVt"
   },
   "source": [
    "# ЛР №6\n",
    "\n",
    "Основные понятия ООП. Инкапсуляция. Классы. Декораторы."
   ]
  },
  {
   "cell_type": "markdown",
   "metadata": {
    "id": "nUzRy3Tr60ju"
   },
   "source": [
    "## Основная задача \"Эксперимент\""
   ]
  },
  {
   "cell_type": "markdown",
   "metadata": {
    "id": "KVGd2E-560jw"
   },
   "source": [
    "Нужно написать класс \"Эксперимент\", который производит работу с данными.\n",
    "\n",
    "Вы получили данные в виде словаря. Словарь имеет следующую структуру {'date': '2023-01-05', 'signal': 'path_to_ecg_signal', 'parameters':{}}\n",
    "\n",
    "**Интерфейс**\n",
    "\n",
    "Нужно написать класс, где должны поддерживаться следующие методы:\n",
    "\n",
    "* _конструктор_ — принимает словарь и создает соответствующие поля (self.date, self.path_signal, self.parameters)\n",
    "* `get_datе()` — возвращает дату записи сигнала.\n",
    "* `get_signal_length()` — возвращает длину сигнала.\n",
    "* `plot_signal()` — выводит график сигнала.\n",
    "* `_signal_filtration(signal, filtration_parameters)` — производит фильтрацию сигнала.\n",
    "* `_signal_find_peaks(signal, find_peaks_parameters)` — находит точки максимума сигнала и возвращает их в виде списка.\n",
    "* `_calculate_RR_intervals()` — производит расчет длительности RR интервалов и возвращает длины RR интервалов в виде списка.\n",
    "В этом методе вызываются методы _signal_filtration и _signal_find_peak.\n",
    "* `get_RR_statistics()` — возвращает статистические характеристики RR интервалов на записи ECG - среднее, std, min, max (в виде словаря).\n",
    "В этом методе вызывается метод _calculate_RR_intervals.\n",
    "\n",
    "\n",
    "*можно добавить свои методы\n",
    "\n",
    "\n",
    "\n",
    "\n"
   ]
  },
  {
   "cell_type": "markdown",
   "metadata": {
    "id": "pO8UG9geDsxa"
   },
   "source": [
    "Файл с ЭКГ сигналом (ecg.csv)\n",
    "\n",
    "https://drive.google.com/file/d/1bJ8hsAJCubPjPQj2CiyEliBBndfIqE6V/view?usp=drive_link"
   ]
  },
  {
   "cell_type": "code",
   "execution_count": null,
   "metadata": {
    "id": "ZDljiyA7DsZ4"
   },
   "outputs": [],
   "source": [
    "# модули, которые нам понадобятся\n",
    "import matplotlib\n",
    "from matplotlib import pyplot as plt\n",
    "import numpy as np\n",
    "import pandas as pd\n",
    "# import wfdb\n",
    "# import heartpy as hp\n",
    "from scipy.signal import find_peaks"
   ]
  },
  {
   "cell_type": "code",
   "execution_count": null,
   "metadata": {
    "id": "vH1eO6Pt_oqT"
   },
   "outputs": [],
   "source": [
    "# загрузка сигнала из .csv файла с pandas\n",
    "df = pd.read_csv('path_to_ecg/ecg.csv')\n",
    "plt.plot(df['MLII'])\n",
    "plt.show()"
   ]
  },
  {
   "cell_type": "code",
   "execution_count": null,
   "metadata": {
    "id": "vjT5e1KONoTW"
   },
   "outputs": [],
   "source": []
  },
  {
   "cell_type": "code",
   "execution_count": null,
   "metadata": {
    "id": "PHvUX9Q0EPid"
   },
   "outputs": [],
   "source": [
    "# фильтрация сигнала с библиотекой heartpy\n",
    "filtered = hp.filter_signal(df['MLII'], cutoff=[0.75, 3.5], sample_rate=100, order=3, filtertype='bandpass')\n",
    "plt.plot(filtered)\n",
    "plt.show()"
   ]
  },
  {
   "cell_type": "code",
   "execution_count": null,
   "metadata": {
    "id": "PvsHswIHEj5f"
   },
   "outputs": [],
   "source": [
    "# поиск точек максимума с библиотекой scipy\n",
    "peaks, _ = find_peaks(filtered, height=20)\n",
    "plt.plot(filtered)\n",
    "plt.plot(peaks, filtered[peaks])\n",
    "plt.show()"
   ]
  },
  {
   "cell_type": "markdown",
   "metadata": {
    "id": "C4JXV33cNmra"
   },
   "source": [
    "## Задача ** \"Минигольф\"\n",
    "\n",
    "https://drive.google.com/drive/folders/1yT0TuqoQuLhPgGFZl-uUjVq8iKFAGGpX?usp=drive_link"
   ]
  },
  {
   "cell_type": "code",
   "execution_count": null,
   "metadata": {},
   "outputs": [],
   "source": []
  }
 ],
 "metadata": {
  "colab": {
   "provenance": []
  },
  "kernelspec": {
   "display_name": "Python 3 (ipykernel)",
   "language": "python",
   "name": "python3"
  },
  "language_info": {
   "codemirror_mode": {
    "name": "ipython",
    "version": 3
   },
   "file_extension": ".py",
   "mimetype": "text/x-python",
   "name": "python",
   "nbconvert_exporter": "python",
   "pygments_lexer": "ipython3",
   "version": "3.13.7"
  }
 },
 "nbformat": 4,
 "nbformat_minor": 4
}
