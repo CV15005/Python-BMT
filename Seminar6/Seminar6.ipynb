{
  "nbformat": 4,
  "nbformat_minor": 0,
  "metadata": {
    "colab": {
      "provenance": []
    },
    "kernelspec": {
      "name": "python3",
      "display_name": "Python 3"
    },
    "language_info": {
      "name": "python"
    }
  },
  "cells": [
    {
      "cell_type": "markdown",
      "source": [
        "# Семинар №6\n",
        "\n",
        "Основные понятия ООП. Инкапсуляция. Классы. Декораторы."
      ],
      "metadata": {
        "id": "8zNvlT9UeHwJ"
      }
    },
    {
      "cell_type": "markdown",
      "source": [
        "# Основные понятия объектно-ориентированного программирования"
      ],
      "metadata": {
        "id": "A5frWP3CN3SQ"
      }
    },
    {
      "cell_type": "markdown",
      "source": [
        "Объектно-ориентированное программирование (ООП) является методологией разработки программного обеспечения, в основе которой лежит понятие класса и объекта, при этом сама программа создается как некоторая совокупность объектов, которые взаимодействуют друг с другом и с внешним миром. Каждый объект является экземпляром некоторого класса. Классы образуют иерархии. Более подробно о понятии ООП можно прочитать на википедии.\n",
        "\n",
        "Выделяют три основных “столпа” ООП - это инкапсуляция, наследование и полиморфизм.\n",
        "\n",
        "**Инкапсуляция**\n",
        "\n",
        "Под инкапсуляцией понимается сокрытие деталей реализации, данных и т.п. от внешней стороны. Например, можно определить класс “холодильник”, который будет содержать следующие данные: производитель, объем, количество камер хранения, потребляемая мощность и т.п., и методы: открыть/закрыть холодильник, включить/выключить, но при этом реализация того, как происходит непосредственно включение и выключение, пользователю вашего класса не доступна, что позволяет ее менять без опасения, что это может отразиться на использующей класс «холодильник» программе. При этом класс становится новым типом данных в рамках разрабатываемой программы. Можно создавать переменные этого нового типа, такие переменные называются объекты.\n",
        "\n",
        "**Наследование**\n",
        "\n",
        "Под наследованием понимается возможность создания нового класса на базе существующего. Наследование предполагает наличие отношения “является” между классом наследником и классом родителем. При этом класс потомок будет содержать те же атрибуты и методы, что и базовый класс, но при этом его можно (и нужно) расширять через добавление новых методов и атрибутов.\n",
        "\n",
        "Примером базового класса, демонстрирующего наследование, можно определить класс “автомобиль”, имеющий атрибуты: масса, мощность двигателя, объем топливного бака и методы: завести и заглушить. У такого класса может быть потомок – “грузовой автомобиль”, он будет содержать те же атрибуты и методы, что и класс “автомобиль”, и дополнительные свойства: количество осей, мощность компрессора и т.п.\n",
        "\n",
        "**Полиморфизм**\n",
        "\n",
        "Полиморфизм позволяет одинаково обращаться с объектами, имеющими однотипный интерфейс, независимо от внутренней реализации объекта. Например, с объектом класса “грузовой автомобиль” можно производить те же операции, что и с объектом класса “автомобиль”, т.к. первый является наследником второго, при этом обратное утверждение неверно (во всяком случае не всегда). Другими словами полиморфизм предполагает разную реализацию методов с одинаковыми именами. Это очень полезно при наследовании, когда в классе наследнике можно переопределить методы класса родителя."
      ],
      "metadata": {
        "id": "35C35UGiN5SY"
      }
    },
    {
      "cell_type": "markdown",
      "source": [
        "## Создание класса"
      ],
      "metadata": {
        "id": "96tHrb-Hckjy"
      }
    },
    {
      "cell_type": "markdown",
      "source": [
        "### Классы и объекты"
      ],
      "metadata": {
        "id": "k9oqtZIPPcxh"
      }
    },
    {
      "cell_type": "markdown",
      "source": [
        "Создание класса в Python начинается с инструкции class. Вот так будет выглядеть минимальный класс."
      ],
      "metadata": {
        "id": "3WjAeK1pOYhh"
      }
    },
    {
      "cell_type": "code",
      "source": [
        "class C:\n",
        "    pass"
      ],
      "metadata": {
        "id": "7wvR5YfzOaTh"
      },
      "execution_count": null,
      "outputs": []
    },
    {
      "cell_type": "markdown",
      "source": [
        "Класс состоит из объявления (инструкция class), имени класса (нашем случае это имя C) и тела класса, которое содержит атрибуты и методы (в нашем минимальном классе есть только одна инструкция pass).\n",
        "\n",
        "Для того чтобы создать объект класса, необходимо воспользоваться следующим синтаксисом:\n",
        "\n",
        "имя_объекта = имя_класса()"
      ],
      "metadata": {
        "id": "v-cbGDm6Odx-"
      }
    },
    {
      "cell_type": "code",
      "source": [
        "class название_класса:\n",
        "    атрибуты_класса\n",
        "    методы_класса"
      ],
      "metadata": {
        "id": "ZokzA_AbPINz"
      },
      "execution_count": null,
      "outputs": []
    },
    {
      "cell_type": "code",
      "source": [
        "class Person:\n",
        "    pass\n",
        "\n",
        "tom = Person()      # определение объекта tom\n",
        "bob = Person()      # определение объекта bob"
      ],
      "metadata": {
        "id": "DO8IVAfRPLTK"
      },
      "execution_count": null,
      "outputs": []
    },
    {
      "cell_type": "markdown",
      "source": [
        "После определения класса Person создаются два объекта класса Person - tom и bob. Для создания объекта применяется специальная функция - конструктор, которая называется по имени класса и которая возвращает объект класса. То есть в данном случае вызов Person() представляет вызов конструктора. Каждый класс по умолчанию имеет конструктор без параметров:"
      ],
      "metadata": {
        "id": "4EKmm8c3PUgZ"
      }
    },
    {
      "cell_type": "code",
      "source": [
        "tom = Person()      # Person() - вызов конструктора, который возвращает объект класса Person"
      ],
      "metadata": {
        "id": "Bw6fEw3KPVWq"
      },
      "execution_count": null,
      "outputs": []
    },
    {
      "cell_type": "markdown",
      "source": [
        "### Методы классов"
      ],
      "metadata": {
        "id": "6bHKSTiAPg1p"
      }
    },
    {
      "cell_type": "markdown",
      "source": [
        "Методы класса фактически представляют функции, которые определены внутри класса и которые определяют его поведение. Например, определим класс Person с одним методом:"
      ],
      "metadata": {
        "id": "xTo-ehTtPjPx"
      }
    },
    {
      "cell_type": "code",
      "source": [
        "class Person:       # определение класса Person\n",
        "     def say_hello(self):\n",
        "        print(\"Hello\")\n",
        "\n",
        "tom = Person()\n",
        "tom.say_hello()    # Hello"
      ],
      "metadata": {
        "colab": {
          "base_uri": "https://localhost:8080/"
        },
        "id": "L7IFFQ1NPlaI",
        "outputId": "199a9bd3-1683-4941-85a1-52be33f3d8e4"
      },
      "execution_count": null,
      "outputs": [
        {
          "output_type": "stream",
          "name": "stdout",
          "text": [
            "Hello\n"
          ]
        }
      ]
    },
    {
      "cell_type": "markdown",
      "source": [
        "Здесь определен метод say_hello(), который условно выполняет приветствие - выводит строку на консоль. При определении методов любого класса следует учитывать, что все они должны принимать в качестве первого параметра ссылку на текущий объект, который согласно условностям называется **self**. Через эту ссылку внутри класса мы можем обратиться к функциональности текущего объекта. Но при самом вызове метода этот параметр не учитывается."
      ],
      "metadata": {
        "id": "yRTBjedCPr0j"
      }
    },
    {
      "cell_type": "markdown",
      "source": [
        "Если метод должен принимать другие параметры, то они определяются после параметра self, и при вызове подобного метода для них необходимо передать значения:"
      ],
      "metadata": {
        "id": "2k-W5he7QADK"
      }
    },
    {
      "cell_type": "code",
      "source": [
        "class Person:       # определение класса Person\n",
        "    def say(self, message):     # метод\n",
        "        print(message)\n",
        "\n",
        "\n",
        "tom = Person()\n",
        "tom.say(\"Hello world\")"
      ],
      "metadata": {
        "colab": {
          "base_uri": "https://localhost:8080/"
        },
        "id": "aZlJLG95QCF2",
        "outputId": "cf6073b9-5b49-4462-a4f8-c39c5423c35d"
      },
      "execution_count": null,
      "outputs": [
        {
          "output_type": "stream",
          "name": "stdout",
          "text": [
            "Hello world\n"
          ]
        }
      ]
    },
    {
      "cell_type": "markdown",
      "source": [
        "Здесь определен метод say(). Он принимает два параметра: self и message. И для второго параметра - message при вызове метода необходимо передать значение."
      ],
      "metadata": {
        "id": "PApbvhjXQPL6"
      }
    },
    {
      "cell_type": "markdown",
      "source": [
        "### Self"
      ],
      "metadata": {
        "id": "SL4OX1pcQQ0c"
      }
    },
    {
      "cell_type": "markdown",
      "source": [
        "Self-это экзепляр класса."
      ],
      "metadata": {
        "id": "18H5MoMla6Pd"
      }
    },
    {
      "cell_type": "markdown",
      "source": [
        "Через ключевое слово self можно обращаться внутри класса к функциональности текущего объекта:"
      ],
      "metadata": {
        "id": "jUp15cwsQuNK"
      }
    },
    {
      "cell_type": "code",
      "source": [
        "self.атрибут    # обращение к атрибуту\n",
        "self.метод      # обращение к методу"
      ],
      "metadata": {
        "id": "5sdFbe7-QzBJ"
      },
      "execution_count": null,
      "outputs": []
    },
    {
      "cell_type": "markdown",
      "source": [
        "Например, определим два метода в классе Person:"
      ],
      "metadata": {
        "id": "J6Ksz6eXQz6h"
      }
    },
    {
      "cell_type": "code",
      "source": [
        "class Person:\n",
        "\n",
        "    def say(self, message):\n",
        "        print(message)\n",
        "\n",
        "    def say_hello(self):\n",
        "        self.say(\"Hello world\")  # обращаемся к выше определенному методу say\n",
        "\n",
        "\n",
        "tom = Person()\n",
        "tom.say_hello()     # Hello work"
      ],
      "metadata": {
        "colab": {
          "base_uri": "https://localhost:8080/"
        },
        "id": "I_V5S2vYQ4Ew",
        "outputId": "cc0c33a5-d905-4b6c-c037-16e98c448bb4"
      },
      "execution_count": null,
      "outputs": [
        {
          "output_type": "stream",
          "name": "stdout",
          "text": [
            "Hello world\n"
          ]
        }
      ]
    },
    {
      "cell_type": "markdown",
      "source": [
        "Здесь в одном методе - say_hello() вызывается другой метод - say():"
      ],
      "metadata": {
        "id": "ZOIer-NZRE6J"
      }
    },
    {
      "cell_type": "markdown",
      "source": [
        "Причем при вызове метода объекта нам обязательно необходимо использовать слово self, если мы его не используем:"
      ],
      "metadata": {
        "id": "tP_3qOMORJWS"
      }
    },
    {
      "cell_type": "code",
      "source": [
        "class Person:\n",
        "\n",
        "    def say(message):\n",
        "        print(message)\n",
        "\n",
        "    def say_hello(self):\n",
        "        self.say(\"Hello world\")  # обращаемся к выше определенному методу say\n",
        "\n",
        "\n",
        "tom = Person()\n",
        "tom.say_hello()     # Hello work"
      ],
      "metadata": {
        "colab": {
          "base_uri": "https://localhost:8080/",
          "height": 297
        },
        "id": "RapRaKd4RNy7",
        "outputId": "91e2d630-12b2-4a8d-fe6b-14057de4f27d"
      },
      "execution_count": null,
      "outputs": [
        {
          "output_type": "error",
          "ename": "TypeError",
          "evalue": "Person.say() takes 1 positional argument but 2 were given",
          "traceback": [
            "\u001b[0;31m---------------------------------------------------------------------------\u001b[0m",
            "\u001b[0;31mTypeError\u001b[0m                                 Traceback (most recent call last)",
            "\u001b[0;32m<ipython-input-6-f80ab195fc1e>\u001b[0m in \u001b[0;36m<cell line: 11>\u001b[0;34m()\u001b[0m\n\u001b[1;32m      9\u001b[0m \u001b[0;34m\u001b[0m\u001b[0m\n\u001b[1;32m     10\u001b[0m \u001b[0mtom\u001b[0m \u001b[0;34m=\u001b[0m \u001b[0mPerson\u001b[0m\u001b[0;34m(\u001b[0m\u001b[0;34m)\u001b[0m\u001b[0;34m\u001b[0m\u001b[0;34m\u001b[0m\u001b[0m\n\u001b[0;32m---> 11\u001b[0;31m \u001b[0mtom\u001b[0m\u001b[0;34m.\u001b[0m\u001b[0msay_hello\u001b[0m\u001b[0;34m(\u001b[0m\u001b[0;34m)\u001b[0m     \u001b[0;31m# Hello work\u001b[0m\u001b[0;34m\u001b[0m\u001b[0;34m\u001b[0m\u001b[0m\n\u001b[0m",
            "\u001b[0;32m<ipython-input-6-f80ab195fc1e>\u001b[0m in \u001b[0;36msay_hello\u001b[0;34m(self)\u001b[0m\n\u001b[1;32m      5\u001b[0m \u001b[0;34m\u001b[0m\u001b[0m\n\u001b[1;32m      6\u001b[0m     \u001b[0;32mdef\u001b[0m \u001b[0msay_hello\u001b[0m\u001b[0;34m(\u001b[0m\u001b[0mself\u001b[0m\u001b[0;34m)\u001b[0m\u001b[0;34m:\u001b[0m\u001b[0;34m\u001b[0m\u001b[0;34m\u001b[0m\u001b[0m\n\u001b[0;32m----> 7\u001b[0;31m         \u001b[0mself\u001b[0m\u001b[0;34m.\u001b[0m\u001b[0msay\u001b[0m\u001b[0;34m(\u001b[0m\u001b[0;34m\"Hello world\"\u001b[0m\u001b[0;34m)\u001b[0m  \u001b[0;31m# обращаемся к выше определенному методу say\u001b[0m\u001b[0;34m\u001b[0m\u001b[0;34m\u001b[0m\u001b[0m\n\u001b[0m\u001b[1;32m      8\u001b[0m \u001b[0;34m\u001b[0m\u001b[0m\n\u001b[1;32m      9\u001b[0m \u001b[0;34m\u001b[0m\u001b[0m\n",
            "\u001b[0;31mTypeError\u001b[0m: Person.say() takes 1 positional argument but 2 were given"
          ]
        }
      ]
    },
    {
      "cell_type": "markdown",
      "source": [
        "### Конструкторы"
      ],
      "metadata": {
        "id": "9fZv56gHRxks"
      }
    },
    {
      "cell_type": "markdown",
      "source": [
        "Конструктор, инициализатор, деструктор\n"
      ],
      "metadata": {
        "id": "PRFgsZ7S77hx"
      }
    },
    {
      "cell_type": "code",
      "source": [
        "class Line:\n",
        "    # def __new__(cls):                            # Конструктор\n",
        "    #     return super(Line, cls).__new__(cls)\n",
        "\n",
        "    def __init__(self, p1, p2):                  # Инициализатор\n",
        "        self.line = (p1, p2)\n",
        "\n",
        "    def __del__(self):                           # Деструктор\n",
        "        print(\"Удаляется линия %s - %s\" % self.line)"
      ],
      "metadata": {
        "id": "wJ0zIUxl7_V_"
      },
      "execution_count": null,
      "outputs": []
    },
    {
      "cell_type": "code",
      "source": [],
      "metadata": {
        "id": "0z-M3JmtCNhc"
      },
      "execution_count": null,
      "outputs": []
    },
    {
      "cell_type": "markdown",
      "source": [
        "Для создания объекта класса используется конструктор. Так, выше когда мы создавали объекты класса Person, мы использовали конструктор по умолчанию, который не принимает параметров и который неявно имеют все классы:"
      ],
      "metadata": {
        "id": "KnzEcnIDR1YJ"
      }
    },
    {
      "cell_type": "code",
      "source": [
        "tom = Person()"
      ],
      "metadata": {
        "id": "uJ35Qng_R3rB"
      },
      "execution_count": null,
      "outputs": []
    },
    {
      "cell_type": "markdown",
      "source": [
        "Однако мы можем явным образом определить в классах конструктор с помощью специального метода, который называется `__init__()` (по два прочерка с каждой стороны). К примеру, изменим класс Person, добавив в него конструктор:"
      ],
      "metadata": {
        "id": "VZdbc-JWR39A"
      }
    },
    {
      "cell_type": "code",
      "source": [
        "class Person:\n",
        "    # конструктор\n",
        "    def __init__(self):\n",
        "        print(\"Создание объекта Person\")\n",
        "\n",
        "    def say_hello(self):\n",
        "        print(\"Hello\")\n",
        "\n",
        "\n",
        "\n",
        "tom = Person()      # Создание объекта Person\n",
        "tom.say_hello()     # Hello"
      ],
      "metadata": {
        "colab": {
          "base_uri": "https://localhost:8080/"
        },
        "id": "B3ZLjyYeR8ha",
        "outputId": "6376460a-5a4e-465b-f913-91f56368339d"
      },
      "execution_count": null,
      "outputs": [
        {
          "output_type": "stream",
          "name": "stdout",
          "text": [
            "Создание объекта Person\n",
            "Hello\n"
          ]
        }
      ]
    },
    {
      "cell_type": "code",
      "source": [
        "p=Person(a,b,c)"
      ],
      "metadata": {
        "id": "MPj8VTNna_L-"
      },
      "execution_count": null,
      "outputs": []
    },
    {
      "cell_type": "code",
      "source": [
        "p=Person()\n",
        "p.inintial(a,b,c)\n"
      ],
      "metadata": {
        "id": "KvDwhyVSav70"
      },
      "execution_count": null,
      "outputs": []
    },
    {
      "cell_type": "markdown",
      "source": [
        "Итак, здесь в коде класса Person определен конструктор и метод say_hello(). В качестве первого параметра конструктор, как и методы, также принимает ссылку на текущий объект - self. Обычно конструкторы применяются для определения действий, которые должны производиться при создании объекта."
      ],
      "metadata": {
        "id": "x4dgpPtDSWzb"
      }
    },
    {
      "cell_type": "markdown",
      "source": [
        "### Атрибуты объекта"
      ],
      "metadata": {
        "id": "1GLzfR_ySdcw"
      }
    },
    {
      "cell_type": "markdown",
      "source": [
        "Атрибуты хранят состояние объекта. Для определения и установки атрибутов внутри класса можно применять слово self. Например, определим следующий класс Person:"
      ],
      "metadata": {
        "id": "71CjpIc7Se6g"
      }
    },
    {
      "cell_type": "code",
      "source": [
        "def foo(name):\n",
        "  a=name\n",
        "  print(name)"
      ],
      "metadata": {
        "id": "Ljh6SVd_bZ2O"
      },
      "execution_count": null,
      "outputs": []
    },
    {
      "cell_type": "code",
      "source": [
        "class Person:\n",
        "\n",
        "    def __init__(self, name):\n",
        "        self.name = name    # имя человека\n",
        "        self.age = 1       # возраст человека\n",
        "\n",
        "\n",
        "tom = Person(\"Tom\")\n",
        "\n",
        "# обращение к атрибутам\n",
        "# получение значений\n",
        "print(tom.name)     # Tom\n",
        "print(tom.age)      # 1\n",
        "# изменение значения\n",
        "tom.age = 37\n",
        "print(tom.age)      # 37"
      ],
      "metadata": {
        "colab": {
          "base_uri": "https://localhost:8080/"
        },
        "id": "80oJ_98nSjB4",
        "outputId": "4eb124ce-23a2-4c8b-ee6b-c7db5303e1c9"
      },
      "execution_count": null,
      "outputs": [
        {
          "output_type": "stream",
          "name": "stdout",
          "text": [
            "Tom\n",
            "1\n",
            "37\n"
          ]
        }
      ]
    },
    {
      "cell_type": "markdown",
      "source": [
        "Теперь конструктор класса Person принимает еще один параметр - name. Через этот параметр в конструктор будет передаваться имя создаваемого человека.\n",
        "\n",
        "Внутри конструктора устанавливаются два атрибута - name и age (условно имя и возраст человека).\n",
        "\n",
        "Атрибуту self.name присваивается значение переменной name. Атрибут age получает значение 1."
      ],
      "metadata": {
        "id": "31k_5Ba7SvLQ"
      }
    },
    {
      "cell_type": "markdown",
      "source": [
        "Если мы определили в классе конструктор `__init__`, мы уже не сможем вызвать конструктор по умолчанию. Теперь нам надо вызывать наш явным образом опреледеленный конструктор `__init__`, в который необходимо передать значение для параметра name:"
      ],
      "metadata": {
        "id": "uI8Zu3IDS3V9"
      }
    },
    {
      "cell_type": "code",
      "source": [
        "tom = Person(\"Tom\")"
      ],
      "metadata": {
        "id": "NsKkrvQBS4oH"
      },
      "execution_count": null,
      "outputs": []
    },
    {
      "cell_type": "markdown",
      "source": [
        "Далее по имени объекта мы можем обращаться к атрибутам объекта - получать и изменять их значения:"
      ],
      "metadata": {
        "id": "AqlY_yXDS6Yl"
      }
    },
    {
      "cell_type": "code",
      "source": [
        "print(tom.name)     # получение значения атрибута name\n",
        "tom.age = 37        # изменение значения атрибута age"
      ],
      "metadata": {
        "id": "2f9u6t12S6xn",
        "colab": {
          "base_uri": "https://localhost:8080/"
        },
        "outputId": "cf38423b-d33a-4bcd-c491-1846c9794c49"
      },
      "execution_count": null,
      "outputs": [
        {
          "output_type": "stream",
          "name": "stdout",
          "text": [
            "Tom\n"
          ]
        }
      ]
    },
    {
      "cell_type": "markdown",
      "source": [
        "Необязательно определять атрибуты внутри класса - Python позволяет сделать это динамически вне кода:"
      ],
      "metadata": {
        "id": "wWPP6OuNS8L_"
      }
    },
    {
      "cell_type": "code",
      "source": [
        "class Person:\n",
        "\n",
        "    def __init__(self, name):\n",
        "        self.name = name    # имя человека\n",
        "        self.age = 1        # возраст человека\n",
        "\n",
        "\n",
        "tom = Person(\"Tom\")\n",
        "\n",
        "tom.company = \"Microsoft\"\n",
        "print(tom.company)  # Microsoft"
      ],
      "metadata": {
        "id": "8QKT7JKlTIVl",
        "colab": {
          "base_uri": "https://localhost:8080/"
        },
        "outputId": "da7395bd-e299-40fa-cc50-8a23f235e86d"
      },
      "execution_count": null,
      "outputs": [
        {
          "output_type": "stream",
          "name": "stdout",
          "text": [
            "Microsoft\n"
          ]
        }
      ]
    },
    {
      "cell_type": "code",
      "source": [
        "tom.__dict__"
      ],
      "metadata": {
        "colab": {
          "base_uri": "https://localhost:8080/"
        },
        "id": "nHXhvTw0cJWZ",
        "outputId": "fe03a0ec-ce24-4dd8-a1ca-3445b1db3a2b"
      },
      "execution_count": null,
      "outputs": [
        {
          "output_type": "execute_result",
          "data": {
            "text/plain": [
              "{'name': 'Tom', 'age': 1, 'company': 'Microsoft'}"
            ]
          },
          "metadata": {},
          "execution_count": 16
        }
      ]
    },
    {
      "cell_type": "code",
      "source": [
        "bob=Person('Bob')\n",
        "bob.__dict__"
      ],
      "metadata": {
        "colab": {
          "base_uri": "https://localhost:8080/"
        },
        "id": "yeOK3F-ScF1x",
        "outputId": "cdfb5883-9539-4f09-c819-31e12a6c6018"
      },
      "execution_count": null,
      "outputs": [
        {
          "output_type": "execute_result",
          "data": {
            "text/plain": [
              "{'name': 'Bob', 'age': 1}"
            ]
          },
          "metadata": {},
          "execution_count": 17
        }
      ]
    },
    {
      "cell_type": "markdown",
      "source": [
        "Здесь динамически устанавливается атрибут company, который хранит место работы человека. И после установки мы также можем получить его значение. В то же время подобное определение чревато ошибками. Например, если мы попытаемся обратиться к атрибуту до его определения, то программа сгенерирует ошибку."
      ],
      "metadata": {
        "id": "U4TBpGmPTNvt"
      }
    },
    {
      "cell_type": "markdown",
      "source": [
        "Для обращения к атрибутам объекта внутри класса в его методах также применяется слово self:"
      ],
      "metadata": {
        "id": "Ol2rCbLxTQ30"
      }
    },
    {
      "cell_type": "code",
      "source": [
        "class Person:\n",
        "\n",
        "    def __init__(self, name):\n",
        "        self.name = name    # имя человека\n",
        "        self.age = 1        # возраст человека\n",
        "\n",
        "    def display_info(self):\n",
        "        print(f\"Name: {self.name}  Age: {self.age}\")\n",
        "\n",
        "\n",
        "tom = Person(\"Tom\")\n",
        "tom.display_info()      # Name: Tom  Age: 1"
      ],
      "metadata": {
        "colab": {
          "base_uri": "https://localhost:8080/"
        },
        "id": "-3ozAlQ8TS7H",
        "outputId": "317079f5-0a4b-4cfb-de93-73a3597a9b75"
      },
      "execution_count": null,
      "outputs": [
        {
          "output_type": "stream",
          "name": "stdout",
          "text": [
            "Name: Tom  Age: 1\n"
          ]
        }
      ]
    },
    {
      "cell_type": "markdown",
      "source": [
        "Здесь определяется метод display_info(), который выводит информацию на консоль. И для обращения в методе к атрибутам объекта применяется слово self: self.name и self.age"
      ],
      "metadata": {
        "id": "hIafzwnWTVjr"
      }
    },
    {
      "cell_type": "markdown",
      "source": [
        "### Атрибуты класса"
      ],
      "metadata": {
        "id": "xjdStmPFWvz7"
      }
    },
    {
      "cell_type": "markdown",
      "source": [
        "Атрибут `__dict__`"
      ],
      "metadata": {
        "id": "BYoiVRMpLMpv"
      }
    },
    {
      "cell_type": "markdown",
      "source": [
        "Стоит прямо сейчас заглянуть \"под капот\" объектной системы Python, чтобы вы в дальнейшем могли исследовать объекты самостоятельно. Это и интересно, и полезно — как при обучении, так и при отладке объектного кода.\n",
        "\n",
        "Итак, внутри каждого объекта Python хранит… словарь! Имена атрибутов в пространствах имён выступают ключами этого словаря, а значения являются ссылками на другие объекты. Словарь этот всегда называется `__dict__` и тоже является атрибутом. Обращаясь к этому словарю, вы можете получить доступ к значениям атрибутов:"
      ],
      "metadata": {
        "id": "sl_HMKkFLNAs"
      }
    },
    {
      "cell_type": "code",
      "source": [
        "Person.__dict__['name']  # 'Noname'\n",
        "bob.__dict__['name']  # 'Bob'\n",
        "alice.__dict__['name']\n",
        "# Traceback (most recent call last):\n",
        "#   File \"<stdin>\", line 1, in <module>\n",
        "# KeyError: 'name'"
      ],
      "metadata": {
        "id": "CBG2SJeBLRm2"
      },
      "execution_count": null,
      "outputs": []
    },
    {
      "cell_type": "code",
      "source": [
        "Person.__dict__"
      ],
      "metadata": {
        "colab": {
          "base_uri": "https://localhost:8080/"
        },
        "id": "1TCDeKjacz7k",
        "outputId": "b3db71f8-a00e-41a4-d13d-b1e881b8c8bf"
      },
      "execution_count": null,
      "outputs": [
        {
          "output_type": "execute_result",
          "data": {
            "text/plain": [
              "mappingproxy({'__module__': '__main__',\n",
              "              '__init__': <function __main__.Person.__init__(self, name)>,\n",
              "              'display_info': <function __main__.Person.display_info(self)>,\n",
              "              '__dict__': <attribute '__dict__' of 'Person' objects>,\n",
              "              '__weakref__': <attribute '__weakref__' of 'Person' objects>,\n",
              "              '__doc__': None})"
            ]
          },
          "metadata": {},
          "execution_count": 21
        }
      ]
    },
    {
      "cell_type": "markdown",
      "source": [
        "Подобные атрибуты являются общими для всех объектов класса"
      ],
      "metadata": {
        "id": "wqG9BoJxW4Sp"
      }
    },
    {
      "cell_type": "code",
      "source": [
        "class Person:\n",
        "     typeObject = \"Person\"\n",
        "     def __init__(self, name):\n",
        "         self.name = name\n",
        "\n",
        "\n",
        "tom = Person(\"Tom\")\n",
        "bob = Person(\"Bob\")\n",
        "print(tom.typeObject)     # Person\n",
        "print(bob.typeObject)     # Person\n",
        "\n",
        "# изменим атрибут класса\n",
        "Person.typeObject = \"Class Person\"\n",
        "print(tom.typeObject)     # Class Person\n",
        "print(bob.typeObject)     # Class Person"
      ],
      "metadata": {
        "colab": {
          "base_uri": "https://localhost:8080/"
        },
        "id": "OI4EIlWXW_gi",
        "outputId": "56fb6afe-a461-47c5-dfa9-95feb813703d"
      },
      "execution_count": null,
      "outputs": [
        {
          "output_type": "stream",
          "name": "stdout",
          "text": [
            "Person\n",
            "Person\n",
            "Class Person\n",
            "Class Person\n"
          ]
        }
      ]
    },
    {
      "cell_type": "markdown",
      "source": [
        "Атрибуты класса могут применяться для таких ситуаций, когда нам надо определить некоторые общие данные для всех объектов. Например:"
      ],
      "metadata": {
        "id": "heJXjaepXOYN"
      }
    },
    {
      "cell_type": "code",
      "source": [
        "class Person:\n",
        "    default_name = \"Undefined\"\n",
        "\n",
        "    def __init__(self, name):\n",
        "        if name:\n",
        "            self.name = name\n",
        "        else:\n",
        "            self.name = Person.default_name\n",
        "\n",
        "\n",
        "tom = Person(\"Tom\")\n",
        "bob = Person(\"\")\n",
        "print(tom.name)  # Tom\n",
        "print(bob.name)  # Undefined"
      ],
      "metadata": {
        "colab": {
          "base_uri": "https://localhost:8080/"
        },
        "id": "Gxd71XUCXO5B",
        "outputId": "ba6b4f9d-33f2-43f8-a1bc-33b3a953d13f"
      },
      "execution_count": null,
      "outputs": [
        {
          "output_type": "stream",
          "name": "stdout",
          "text": [
            "Tom\n",
            "Undefined\n"
          ]
        }
      ]
    },
    {
      "cell_type": "code",
      "source": [
        "class Person:\n",
        "    bith_year=0\n",
        "\n",
        "    def __init__(self, name):\n",
        "        self.name = name    # имя человека\n",
        "        self.age = 20        # возраст человека\n",
        "\n",
        "    def display_info(self):\n",
        "        print(f\"Name: {self.name}  Age: {self.age}\")\n",
        "\n",
        "    def year(self):\n",
        "        self.bith_year=2023-self.age\n",
        "\n",
        "\n",
        "tom = Person(\"Tom\")\n",
        "tom.display_info()      # Name: Tom  Age: 1\n",
        "tom.bith_year"
      ],
      "metadata": {
        "colab": {
          "base_uri": "https://localhost:8080/"
        },
        "id": "Gl3oYQr0Vres",
        "outputId": "07f8ada4-a124-4f00-c688-70b7d4369871"
      },
      "execution_count": null,
      "outputs": [
        {
          "output_type": "stream",
          "name": "stdout",
          "text": [
            "Name: Tom  Age: 20\n"
          ]
        },
        {
          "output_type": "execute_result",
          "data": {
            "text/plain": [
              "0"
            ]
          },
          "metadata": {},
          "execution_count": 4
        }
      ]
    },
    {
      "cell_type": "code",
      "source": [
        "tom.year()"
      ],
      "metadata": {
        "id": "IHofn5z7e2Oq"
      },
      "execution_count": null,
      "outputs": []
    },
    {
      "cell_type": "code",
      "source": [
        "tom.bith_year"
      ],
      "metadata": {
        "colab": {
          "base_uri": "https://localhost:8080/"
        },
        "id": "5Lleio0ve4nT",
        "outputId": "5ad5e482-2ddb-4028-dfa4-45558174500c"
      },
      "execution_count": null,
      "outputs": [
        {
          "output_type": "execute_result",
          "data": {
            "text/plain": [
              "2003"
            ]
          },
          "metadata": {},
          "execution_count": 7
        }
      ]
    },
    {
      "cell_type": "code",
      "source": [
        "Person.bith_year=1\n",
        "Person.bith_year"
      ],
      "metadata": {
        "id": "Da_ieJTYe_-6",
        "colab": {
          "base_uri": "https://localhost:8080/"
        },
        "outputId": "a72f7ad2-5918-4113-8b68-e551f151517d"
      },
      "execution_count": null,
      "outputs": [
        {
          "output_type": "execute_result",
          "data": {
            "text/plain": [
              "1"
            ]
          },
          "metadata": {},
          "execution_count": 8
        }
      ]
    },
    {
      "cell_type": "code",
      "source": [
        "tom.bith_year"
      ],
      "metadata": {
        "colab": {
          "base_uri": "https://localhost:8080/"
        },
        "id": "ygWbEsCtfCuC",
        "outputId": "7acb1859-073f-4643-93b3-2ac60ef874b3"
      },
      "execution_count": null,
      "outputs": [
        {
          "output_type": "execute_result",
          "data": {
            "text/plain": [
              "2003"
            ]
          },
          "metadata": {},
          "execution_count": 9
        }
      ]
    },
    {
      "cell_type": "markdown",
      "source": [
        "Возможна ситуация, когда атрибут класса и атрибут объекта совпадает по имени. Если в коде для атрибута объекта не задано значение, то для него может применяться значение атрибута класса:"
      ],
      "metadata": {
        "id": "QvpyeXGCXXII"
      }
    },
    {
      "cell_type": "code",
      "source": [
        "class Person:\n",
        "    name = \"Undefined\"\n",
        "\n",
        "    def print_name(self):\n",
        "        print(self.name)\n",
        "\n",
        "\n",
        "tom = Person()\n",
        "bob = Person()\n",
        "tom.print_name()    # Undefined\n",
        "bob.print_name()    # Undefined\n",
        "\n",
        "bob.name = \"Bob\"\n",
        "bob.print_name()    # Bob\n",
        "tom.print_name()    # Undefined"
      ],
      "metadata": {
        "colab": {
          "base_uri": "https://localhost:8080/"
        },
        "id": "XXvqcMI6XXe7",
        "outputId": "7944ff97-82d2-445a-b442-90d5364ca93b"
      },
      "execution_count": null,
      "outputs": [
        {
          "output_type": "stream",
          "name": "stdout",
          "text": [
            "Undefined\n",
            "Undefined\n",
            "Bob\n",
            "Undefined\n"
          ]
        }
      ]
    },
    {
      "cell_type": "markdown",
      "source": [
        "### Еще про атрибуты"
      ],
      "metadata": {
        "id": "h6HfNYG3Xicq"
      }
    },
    {
      "cell_type": "code",
      "source": [
        "class Test:\n",
        "  MIN=0\n",
        "  MAX=100\n",
        "\n",
        "  def __init__(self, value):\n",
        "    self.value=value\n",
        "\n",
        "  def set_min(self, left):\n",
        "    self.MIN = left\n",
        "\n",
        "t=Test(5)"
      ],
      "metadata": {
        "id": "eiyKLgWTV-UI"
      },
      "execution_count": null,
      "outputs": []
    },
    {
      "cell_type": "markdown",
      "source": [
        "Когда мы через self (ссылку на объект) записываем имя атрибута и присваиваем ему какое-либо значение, то оператор присваивания создает этот атрибут в локальной области видимости, то есть, в самом объекте. В результате, у нас появляется новое локальное свойство в экземпляре класса:"
      ],
      "metadata": {
        "id": "0MntkHTyXD1Y"
      }
    },
    {
      "cell_type": "code",
      "source": [
        "t.set_min(1)\n",
        "print(t.__dict__)"
      ],
      "metadata": {
        "id": "LYqeyBVYWj2U",
        "colab": {
          "base_uri": "https://localhost:8080/"
        },
        "outputId": "063fa356-65fb-4a69-bae2-e2c9ba09a06f"
      },
      "execution_count": null,
      "outputs": [
        {
          "output_type": "stream",
          "name": "stdout",
          "text": [
            "{'value': 5, 'MIN': 1}\n"
          ]
        }
      ]
    },
    {
      "cell_type": "code",
      "source": [
        "print(Test.__dict__)"
      ],
      "metadata": {
        "colab": {
          "base_uri": "https://localhost:8080/"
        },
        "id": "FQgVYC_eW6dp",
        "outputId": "fdc47788-0c13-4484-8eec-13804e6df205"
      },
      "execution_count": null,
      "outputs": [
        {
          "output_type": "stream",
          "name": "stdout",
          "text": [
            "{'__module__': '__main__', 'MIN': 0, 'MAX': 100, '__init__': <function Test.__init__ at 0x7d2ea05fbd90>, 'set_min': <function Test.set_min at 0x7d2ea05fbd00>, '__dict__': <attribute '__dict__' of 'Test' objects>, '__weakref__': <attribute '__weakref__' of 'Test' objects>, '__doc__': None}\n"
          ]
        }
      ]
    },
    {
      "cell_type": "markdown",
      "source": [
        "Поэтому, правильнее было бы здесь объявить метод уровня класса и через него менять значения атрибутов MIN:"
      ],
      "metadata": {
        "id": "LiaMhynSXPgh"
      }
    },
    {
      "cell_type": "code",
      "source": [
        "@classmethod\n",
        "def set_bound(cls, left):\n",
        "    cls.MIN = left"
      ],
      "metadata": {
        "id": "No9NwfJmXRpX"
      },
      "execution_count": null,
      "outputs": []
    },
    {
      "cell_type": "code",
      "source": [
        "class Test:\n",
        "  MIN=0\n",
        "  MAX=100\n",
        "\n",
        "  def __init__(self,value):\n",
        "    self.value=value\n",
        "\n",
        "  @classmethod\n",
        "  def set_bound(cls, left):\n",
        "    cls.MIN = left\n",
        "\n",
        "t=Test(5)\n",
        "t.set_bound(1)\n",
        "Test.MIN"
      ],
      "metadata": {
        "id": "KjNeld1_XU6x",
        "colab": {
          "base_uri": "https://localhost:8080/"
        },
        "outputId": "8784aec8-ad45-416a-8663-e7d4e41e6353"
      },
      "execution_count": null,
      "outputs": [
        {
          "output_type": "execute_result",
          "data": {
            "text/plain": [
              "1"
            ]
          },
          "metadata": {},
          "execution_count": 35
        }
      ]
    },
    {
      "cell_type": "code",
      "source": [
        "m = Test(5)\n",
        "m.MIN"
      ],
      "metadata": {
        "colab": {
          "base_uri": "https://localhost:8080/"
        },
        "id": "N2oLVD4yreut",
        "outputId": "d81e4523-84a0-449a-9fd5-8c4bb10208b8"
      },
      "execution_count": null,
      "outputs": [
        {
          "output_type": "execute_result",
          "data": {
            "text/plain": [
              "1"
            ]
          },
          "metadata": {},
          "execution_count": 36
        }
      ]
    },
    {
      "cell_type": "markdown",
      "source": [
        "### Создание объектов"
      ],
      "metadata": {
        "id": "zJXrrGLiTZgU"
      }
    },
    {
      "cell_type": "markdown",
      "source": [
        "Выше создавался один объект. Но подобным образом можно создавать и другие объекты класса:"
      ],
      "metadata": {
        "id": "SjburNj5Tbsf"
      }
    },
    {
      "cell_type": "code",
      "source": [
        "class Person:\n",
        "\n",
        "    def __init__(self, name):\n",
        "        self.name = name    # имя человека\n",
        "        self.age = 1        # возраст человека\n",
        "\n",
        "    def display_info(self):\n",
        "        print(f\"Name: {self.name}  Age: {self.age}\")\n",
        "\n",
        "\n",
        "tom = Person(\"Tom\")\n",
        "tom.age = 37\n",
        "tom.display_info()      # Name: Tom  Age: 37\n",
        "\n",
        "bob = Person(\"Bob\")\n",
        "bob.age = 41\n",
        "bob.display_info()      # Name: Bob  Age: 41"
      ],
      "metadata": {
        "colab": {
          "base_uri": "https://localhost:8080/"
        },
        "id": "yyDfUXDrTdJZ",
        "outputId": "c5669df1-b56c-4e7c-c2b2-285dd1b8323d"
      },
      "execution_count": null,
      "outputs": [
        {
          "output_type": "stream",
          "name": "stdout",
          "text": [
            "Name: Tom  Age: 37\n",
            "Name: Bob  Age: 41\n"
          ]
        }
      ]
    },
    {
      "cell_type": "markdown",
      "source": [
        "Здесь создаются два объекта класса Person: tom и bob. Они соответствуют определению класса Person, имеют одинаковый набор атрибутов и методов, однако их состояние будет отличаться."
      ],
      "metadata": {
        "id": "lFZlkHWeTgx3"
      }
    },
    {
      "cell_type": "markdown",
      "source": [
        "### Удаление атрибутов и объектов"
      ],
      "metadata": {
        "id": "dtyy2Z-7TpgN"
      }
    },
    {
      "cell_type": "markdown",
      "source": [
        "Любой атрибут объекта можно в любой момент удалить. Сделать это можно с помощью оператора del. Попробуйте запустить следующую программу и проверьте, что она выводит."
      ],
      "metadata": {
        "id": "LESJRVdKTvXn"
      }
    },
    {
      "cell_type": "code",
      "source": [
        "del tom.age"
      ],
      "metadata": {
        "id": "UMP9zedpTzfE"
      },
      "execution_count": null,
      "outputs": []
    },
    {
      "cell_type": "code",
      "source": [
        "tom.age"
      ],
      "metadata": {
        "colab": {
          "base_uri": "https://localhost:8080/",
          "height": 141
        },
        "id": "vP7ZcCqJT36s",
        "outputId": "67535958-8774-4631-d181-f8a697e86189"
      },
      "execution_count": null,
      "outputs": [
        {
          "output_type": "error",
          "ename": "AttributeError",
          "evalue": "'Person' object has no attribute 'age'",
          "traceback": [
            "\u001b[0;31m---------------------------------------------------------------------------\u001b[0m",
            "\u001b[0;31mAttributeError\u001b[0m                            Traceback (most recent call last)",
            "\u001b[0;32m<ipython-input-28-33fb7419e9be>\u001b[0m in \u001b[0;36m<cell line: 1>\u001b[0;34m()\u001b[0m\n\u001b[0;32m----> 1\u001b[0;31m \u001b[0mtom\u001b[0m\u001b[0;34m.\u001b[0m\u001b[0mage\u001b[0m\u001b[0;34m\u001b[0m\u001b[0;34m\u001b[0m\u001b[0m\n\u001b[0m",
            "\u001b[0;31mAttributeError\u001b[0m: 'Person' object has no attribute 'age'"
          ]
        }
      ]
    },
    {
      "cell_type": "code",
      "source": [
        "tom.display_info()"
      ],
      "metadata": {
        "colab": {
          "base_uri": "https://localhost:8080/",
          "height": 263
        },
        "id": "5TB6M_A6T59c",
        "outputId": "17d59596-3a58-4e51-aa2d-af51d270e506"
      },
      "execution_count": null,
      "outputs": [
        {
          "output_type": "error",
          "ename": "AttributeError",
          "evalue": "'Person' object has no attribute 'age'",
          "traceback": [
            "\u001b[0;31m---------------------------------------------------------------------------\u001b[0m",
            "\u001b[0;31mAttributeError\u001b[0m                            Traceback (most recent call last)",
            "\u001b[0;32m<ipython-input-29-9f14ae03b88a>\u001b[0m in \u001b[0;36m<cell line: 1>\u001b[0;34m()\u001b[0m\n\u001b[0;32m----> 1\u001b[0;31m \u001b[0mtom\u001b[0m\u001b[0;34m.\u001b[0m\u001b[0mdisplay_info\u001b[0m\u001b[0;34m(\u001b[0m\u001b[0;34m)\u001b[0m\u001b[0;34m\u001b[0m\u001b[0;34m\u001b[0m\u001b[0m\n\u001b[0m",
            "\u001b[0;32m<ipython-input-26-c162e45445c0>\u001b[0m in \u001b[0;36mdisplay_info\u001b[0;34m(self)\u001b[0m\n\u001b[1;32m      6\u001b[0m \u001b[0;34m\u001b[0m\u001b[0m\n\u001b[1;32m      7\u001b[0m     \u001b[0;32mdef\u001b[0m \u001b[0mdisplay_info\u001b[0m\u001b[0;34m(\u001b[0m\u001b[0mself\u001b[0m\u001b[0;34m)\u001b[0m\u001b[0;34m:\u001b[0m\u001b[0;34m\u001b[0m\u001b[0;34m\u001b[0m\u001b[0m\n\u001b[0;32m----> 8\u001b[0;31m         \u001b[0mprint\u001b[0m\u001b[0;34m(\u001b[0m\u001b[0;34mf\"Name: {self.name}  Age: {self.age}\"\u001b[0m\u001b[0;34m)\u001b[0m\u001b[0;34m\u001b[0m\u001b[0;34m\u001b[0m\u001b[0m\n\u001b[0m\u001b[1;32m      9\u001b[0m \u001b[0;34m\u001b[0m\u001b[0m\n\u001b[1;32m     10\u001b[0m \u001b[0;34m\u001b[0m\u001b[0m\n",
            "\u001b[0;31mAttributeError\u001b[0m: 'Person' object has no attribute 'age'"
          ]
        }
      ]
    },
    {
      "cell_type": "code",
      "source": [
        "del tom"
      ],
      "metadata": {
        "id": "W0MpdIjbT87F"
      },
      "execution_count": null,
      "outputs": []
    },
    {
      "cell_type": "code",
      "source": [
        "tom"
      ],
      "metadata": {
        "colab": {
          "base_uri": "https://localhost:8080/",
          "height": 141
        },
        "id": "fprTpgCAT_6T",
        "outputId": "413fb389-20dd-41c5-be48-ed1f2c80bdd9"
      },
      "execution_count": null,
      "outputs": [
        {
          "output_type": "error",
          "ename": "NameError",
          "evalue": "name 'tom' is not defined",
          "traceback": [
            "\u001b[0;31m---------------------------------------------------------------------------\u001b[0m",
            "\u001b[0;31mNameError\u001b[0m                                 Traceback (most recent call last)",
            "\u001b[0;32m<ipython-input-31-f7b7c830c0c6>\u001b[0m in \u001b[0;36m<cell line: 1>\u001b[0;34m()\u001b[0m\n\u001b[0;32m----> 1\u001b[0;31m \u001b[0mtom\u001b[0m\u001b[0;34m\u001b[0m\u001b[0;34m\u001b[0m\u001b[0m\n\u001b[0m",
            "\u001b[0;31mNameError\u001b[0m: name 'tom' is not defined"
          ]
        }
      ]
    },
    {
      "cell_type": "markdown",
      "source": [
        "Создается новый экземпляр класса Person(\"Tom\"). Переменная tom является ссылкой на него. После выполнения команды del tom ссылка и имя tom удаляются из соответствующего пространства имен."
      ],
      "metadata": {
        "id": "KZRbGga8UMPW"
      }
    },
    {
      "cell_type": "markdown",
      "source": [
        "### Деструктор"
      ],
      "metadata": {
        "id": "A0eScdcAUDC2"
      }
    },
    {
      "cell_type": "markdown",
      "source": [
        "Деструктор в Python – это специальный метод, который вызывается при уничтожении объекта. Конструктор же, наоборот, используется для создания и инициализации объекта класса."
      ],
      "metadata": {
        "id": "nA-5y6E3UGJ0"
      }
    },
    {
      "cell_type": "markdown",
      "source": [
        "В объектно-ориентированном программировании деструктор вызывается при удалении или уничтожении объекта. Деструктор используется для выполнения действий по очистке перед разрушением объекта, таких как закрытие соединений с базой данных или дескриптор файла.\n",
        "\n",
        "\n",
        "В Python есть сборщик мусора, который автоматически обрабатывает управление памятью. Например, он очищает память, когда объект выходит за пределы области видимости.\n",
        "\n",
        "Однако при уничтожении объекта необходимо освобождать не только память. Мы должны освободить или закрыть другие ресурсы, которые использовались объектом, такие как открытые файлы, соединения с базой данных, очистка буфера или кеша. Для выполнения всех этих задач очистки мы используем деструктор в Python.\n",
        "\n",
        "Деструктор противоположен конструктору. Конструктор используется для инициализации объектов, а деструктор — для удаления или уничтожения объектов, в результате чего освобождается ресурс, занятый этими объектами.\n",
        "\n",
        "В Python деструктор вызывается не вручную, а полностью автоматически. Это происходит в следующих двух случаях:\n",
        "\n",
        "* когда объект выходит за пределы области видимости\n",
        "* когда счетчик ссылок на объект достигает 0.\n",
        "\n",
        "\n",
        "Для определения деструктора используется специальный метод `__del__()`. Например, когда мы выполняем del имя_объекта, деструктор вызывается автоматически, и объект собирается в мусор."
      ],
      "metadata": {
        "id": "Vu8IK3SJUrlD"
      }
    },
    {
      "cell_type": "markdown",
      "source": [
        "![3.PNG](data:image/png;base64,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)"
      ],
      "metadata": {
        "id": "8KMVtXEHh7le"
      }
    },
    {
      "cell_type": "markdown",
      "source": [
        "Магический метод `__del__()` используется как деструктор в Python. Метод `__del__()` будет неявно вызываться, когда все ссылки на объект будут удалены, то есть когда объект подходит для сборщика мусора."
      ],
      "metadata": {
        "id": "DWtzcOH6jS3U"
      }
    },
    {
      "cell_type": "code",
      "source": [
        "def __del__(self):\n",
        "    # тело деструктора"
      ],
      "metadata": {
        "id": "8XcevUy5jWvu"
      },
      "execution_count": null,
      "outputs": []
    },
    {
      "cell_type": "markdown",
      "source": [
        "Здесь:\n",
        "\n",
        "* def – ключевое слово, которое используется для определения метода.\n",
        "* `__del__()` – зарезервированный метод. Он вызывается, как только все ссылки на объект будут удалены.\n",
        "* self: первый аргумент self относится к текущему объекту."
      ],
      "metadata": {
        "id": "xW_KzKo7jZfD"
      }
    },
    {
      "cell_type": "code",
      "source": [
        "class Student:\n",
        "    # конструктор\n",
        "    def __init__(self, name):\n",
        "        print('Inside Constructor')\n",
        "        self.name = name\n",
        "        print('Object initialized')\n",
        "\n",
        "    def show(self):\n",
        "        print('Hello, my name is', self.name)\n",
        "\n",
        "    # деструктор\n",
        "    def __del__(self):\n",
        "        print('Inside destructor')\n",
        "        print('Object destroyed')\n",
        "# создать объект\n",
        "s1 = Student('Emma')\n",
        "s1.show()\n",
        "# удалить объект\n",
        "del s1"
      ],
      "metadata": {
        "colab": {
          "base_uri": "https://localhost:8080/"
        },
        "id": "ixsICAznjfVC",
        "outputId": "e5b53a43-89c7-4519-a120-1578a8063984"
      },
      "execution_count": null,
      "outputs": [
        {
          "output_type": "stream",
          "name": "stdout",
          "text": [
            "Inside Constructor\n",
            "Object initialized\n",
            "Hello, my name is Emma\n",
            "Inside destructor\n",
            "Object destroyed\n"
          ]
        }
      ]
    },
    {
      "cell_type": "markdown",
      "source": [
        "Как видно из вывода, при удалении ссылки на объект с помощью del s1 метод `__del__()` вызывается автоматически."
      ],
      "metadata": {
        "id": "_eA3yzZBjlME"
      }
    },
    {
      "cell_type": "markdown",
      "source": [
        "В приведенном выше коде мы создали один объект. s1 – это ссылочная переменная, указывающая на вновь созданный объект.\n",
        "\n",
        "Деструктор вызывается, когда ссылка на объект удалена или счетчик ссылок на объект доходит до нуля."
      ],
      "metadata": {
        "id": "6zOrjdRvjnoC"
      }
    },
    {
      "cell_type": "markdown",
      "source": [
        "* Метод `__del__()` вызывается для любого объекта, когда счетчик ссылок для этого объекта становится равным нулю.\n",
        "* Счетчик ссылок для данного объекта становится нулевым, когда работа программы завершается, или мы удаляем все ссылки вручную с помощью ключевого слова del.\n",
        "* Деструктор не будет запускаться при удалении какой-то одной ссылки на объект. Он будет вызываться только тогда, когда все ссылки на объект будут удалены."
      ],
      "metadata": {
        "id": "fWlrNtHfjtBq"
      }
    },
    {
      "cell_type": "markdown",
      "source": [
        "![4.PNG](data:image/png;base64,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)"
      ],
      "metadata": {
        "id": "CNOtLILcj1JC"
      }
    },
    {
      "cell_type": "markdown",
      "source": [
        "Пример\n",
        "\n",
        "Сначала создадим объект класса Student, используя s1 = student ('Emma').\n",
        "\n",
        "Затем давайте создадим новую ссылку на объект, присвоив переменной s2 значение s1 (т.е. s2 = s1).\n",
        "\n",
        "Теперь обе ссылочные переменные s1 и s2 указывают на один и тот же объект.\n",
        "\n",
        "Далее мы удалим ссылку s1.\n",
        "\n",
        "Затем добавим 5 секунд задержки (sleep) к основному потоку, чтобы было ясно, что деструкторы вызываются только при удалении всех ссылок на объекты."
      ],
      "metadata": {
        "id": "_g8ODVXtj2eC"
      }
    },
    {
      "cell_type": "code",
      "source": [
        "import time\n",
        "class Student:\n",
        "    # конструктор\n",
        "    def __init__(self, name):\n",
        "        print('Inside Constructor')\n",
        "        self.name = name\n",
        "    def show(self):\n",
        "        print('Hello, my name is', self.name)\n",
        "    # деструктор\n",
        "    def __del__(self):\n",
        "        print('Object destroyed')\n",
        "# создание объекта\n",
        "s1 = Student('Emma')\n",
        "# создание новой ссылки\n",
        "# обе ссылки указывают на один объект\n",
        "s2 = s1\n",
        "s1.show()\n",
        "# удаление ссылки s1\n",
        "del s1\n",
        "# добавление задержки и наблюдение за результатом\n",
        "time.sleep(5)\n",
        "print('After sleep')\n",
        "s2.show()"
      ],
      "metadata": {
        "id": "QDL4hjOdj67h",
        "colab": {
          "base_uri": "https://localhost:8080/"
        },
        "outputId": "b35c7fae-4479-4fb2-fa71-bb789c1f67dd"
      },
      "execution_count": null,
      "outputs": [
        {
          "output_type": "stream",
          "name": "stdout",
          "text": [
            "Inside Constructor\n",
            "Hello, my name is Emma\n",
            "After sleep\n",
            "Hello, my name is Emma\n"
          ]
        }
      ]
    },
    {
      "cell_type": "markdown",
      "source": [
        "Как вы можете видеть из полученного результата, деструкторы вызываются только тогда, когда удаляются все ссылки на объекты.\n",
        "\n",
        "Кроме того, деструктор выполняется, когда код (программа) заканчивается и объект становится доступным для сборщика мусора. Например, мы не удаляли ссылку на объект s2 вручную с помощью del s2. Это произошло автоматически, т.к. программа закончилась."
      ],
      "metadata": {
        "id": "C782kbuzkCna"
      }
    },
    {
      "cell_type": "markdown",
      "source": [
        "### Статические методы"
      ],
      "metadata": {
        "id": "FVGOmxIsXeWX"
      }
    },
    {
      "cell_type": "markdown",
      "source": [
        "Кроме обычных методов класс может определять статические методы. Такие методы предваряются аннотацией @staticmethod и относятся в целом к классу. Статические методы обычно определяют поведение, которое не зависит от конкретного объект."
      ],
      "metadata": {
        "id": "85WMLmp9Xhtg"
      }
    },
    {
      "cell_type": "markdown",
      "source": [
        "Статический метод - это метод, который не привязан к состоянию экземпляра или класса. Для создания статического метода используется декоратор staticmethod.\n",
        "\n",
        "Преимущества использования staticmethod:\n",
        "\n",
        "Это подсказка для тех, кто читает код, которая указывает на то, что метод не зависит от состояния экземпляра класса.\n",
        "\n",
        "Большинству методов для работы нужна ссылка на экземпляр, поэтому как первый аргумент используется self. Однако иногда бывают методы, которые никак не связаны с экземпляром и зависят только от аргументов. Как правило, в таком случае можно даже вынести метод из класса и сделать его функцией. Если же метод логически связан с работой класса, но работает одинаково независимо от состояния экземпляров, метод декорируют декоратором staticmethod, чтобы указать это явно."
      ],
      "metadata": {
        "id": "XHtCblRUhvev"
      }
    },
    {
      "cell_type": "code",
      "source": [
        "class Person:\n",
        "\n",
        "    @staticmethod #это декоратор\n",
        "    def print_hello():\n",
        "        print('Hello')\n",
        "\n",
        "\n",
        "Person.print_hello()     # Person - обращение к статическому методу через имя класса\n",
        "\n",
        "tom = Person()\n",
        "tom.print_hello()     # Person - обращение к статическому методу через имя объекта"
      ],
      "metadata": {
        "colab": {
          "base_uri": "https://localhost:8080/"
        },
        "id": "qRj9JaWdXuKH",
        "outputId": "4dd2a791-16ed-41d6-de78-0ce71bcb13e4"
      },
      "execution_count": null,
      "outputs": [
        {
          "output_type": "stream",
          "name": "stdout",
          "text": [
            "Hello\n",
            "Hello\n"
          ]
        }
      ]
    },
    {
      "cell_type": "code",
      "source": [
        "class MyClass:\n",
        "    @staticmethod\n",
        "    def mystaticmethod():\n",
        "      return 'static method called'\n",
        "\n",
        "    def method(self):\n",
        "      return 'instance method called',self\n"
      ],
      "metadata": {
        "id": "3MprMBolaJNd"
      },
      "execution_count": null,
      "outputs": []
    },
    {
      "cell_type": "markdown",
      "source": [
        "В Python статические методы класса отмечаются декоратором @staticmethod, следовательно, в приведенном выше примере, статический метод класса будет определен в функции mystaticmethod().\n",
        "\n",
        "Этот тип метода не принимает ни параметра self как метод экземпляра класса, ни параметра cls как метод класса. При этом, конечно, статический метод может принимать произвольное количество других параметров.\n",
        "\n",
        "Поэтому статический метод не может изменять ни состояние объекта, ни состояние класса. Статические методы ограничены в том, к каким данным они могут получить доступ."
      ],
      "metadata": {
        "id": "xp50dfQxbTBo"
      }
    },
    {
      "cell_type": "markdown",
      "source": [
        "self для первого аргумента для методов экземпляра.\n",
        "\n",
        "cls для первого аргумента для методов класса."
      ],
      "metadata": {
        "id": "sObDaHyKbthI"
      }
    },
    {
      "cell_type": "code",
      "source": [
        "obj = MyClass()\n",
        "obj.method()"
      ],
      "metadata": {
        "colab": {
          "base_uri": "https://localhost:8080/"
        },
        "id": "e1HwBgxKaKhf",
        "outputId": "7f4f963e-9dbd-46cd-f66f-c5b9583b8e86"
      },
      "execution_count": null,
      "outputs": [
        {
          "output_type": "execute_result",
          "data": {
            "text/plain": [
              "('instance method called', <__main__.MyClass at 0x7c93e9716fb0>)"
            ]
          },
          "metadata": {},
          "execution_count": 35
        }
      ]
    },
    {
      "cell_type": "code",
      "source": [
        "obj.mystaticmethod()"
      ],
      "metadata": {
        "colab": {
          "base_uri": "https://localhost:8080/",
          "height": 36
        },
        "id": "RUhmxXkSaugB",
        "outputId": "27586888-4ef4-4cef-d960-b0de5967aae9"
      },
      "execution_count": null,
      "outputs": [
        {
          "output_type": "execute_result",
          "data": {
            "text/plain": [
              "'static method called'"
            ],
            "application/vnd.google.colaboratory.intrinsic+json": {
              "type": "string"
            }
          },
          "metadata": {},
          "execution_count": 36
        }
      ]
    },
    {
      "cell_type": "code",
      "source": [
        "MyClass.mystaticmethod()"
      ],
      "metadata": {
        "colab": {
          "base_uri": "https://localhost:8080/",
          "height": 36
        },
        "id": "ftuphJlebMCA",
        "outputId": "2a08e5a5-8589-47b8-b3ed-6f5cf154af04"
      },
      "execution_count": null,
      "outputs": [
        {
          "output_type": "execute_result",
          "data": {
            "text/plain": [
              "'static method called'"
            ],
            "application/vnd.google.colaboratory.intrinsic+json": {
              "type": "string"
            }
          },
          "metadata": {},
          "execution_count": 37
        }
      ]
    },
    {
      "cell_type": "code",
      "source": [
        "MyClass.method()"
      ],
      "metadata": {
        "colab": {
          "base_uri": "https://localhost:8080/",
          "height": 141
        },
        "id": "q0ugATyIbM85",
        "outputId": "2c7e6c1b-44ff-48cb-b4be-f9b6584d022b"
      },
      "execution_count": null,
      "outputs": [
        {
          "output_type": "error",
          "ename": "TypeError",
          "evalue": "MyClass.method() missing 1 required positional argument: 'self'",
          "traceback": [
            "\u001b[0;31m---------------------------------------------------------------------------\u001b[0m",
            "\u001b[0;31mTypeError\u001b[0m                                 Traceback (most recent call last)",
            "\u001b[0;32m<ipython-input-38-88f17b4fa117>\u001b[0m in \u001b[0;36m<cell line: 1>\u001b[0;34m()\u001b[0m\n\u001b[0;32m----> 1\u001b[0;31m \u001b[0mMyClass\u001b[0m\u001b[0;34m.\u001b[0m\u001b[0mmethod\u001b[0m\u001b[0;34m(\u001b[0m\u001b[0;34m)\u001b[0m\u001b[0;34m\u001b[0m\u001b[0;34m\u001b[0m\u001b[0m\n\u001b[0m",
            "\u001b[0;31mTypeError\u001b[0m: MyClass.method() missing 1 required positional argument: 'self'"
          ]
        }
      ]
    },
    {
      "cell_type": "markdown",
      "source": [
        "У статического метода нет никакого доступа к тому, что такое класс - это в основном просто функция, синтаксически называемая как метод, но без доступа к объекту и его внутренним элементам (атрибутам и другим методам)."
      ],
      "metadata": {
        "id": "6-IzDMGFeH7n"
      }
    },
    {
      "cell_type": "markdown",
      "source": [
        "## Инкапсуляция"
      ],
      "metadata": {
        "id": "ZW2DD4EbcoN8"
      }
    },
    {
      "cell_type": "markdown",
      "source": [
        "Под инкапсуляцией понимается сокрытие деталей реализации, данных и т.п. от внешней стороны. Например, можно определить класс “холодильник”, который будет содержать следующие данные: производитель, объем, количество камер хранения, потребляемая мощность и т.п., и методы: открыть/закрыть холодильник, включить/выключить, но при этом реализация того, как происходит непосредственно включение и выключение пользователю вашего класса не доступна, что позволяет ее менять без опасения, что это может отразиться на использующей класс «холодильник» программе. При этом класс становится новым типом данных в рамках разрабатываемой программы. Можно создавать переменные этого нового типа, такие переменные называются объекты.\n"
      ],
      "metadata": {
        "id": "cGvDgCWLkYOm"
      }
    },
    {
      "cell_type": "markdown",
      "source": [
        "Python 3 предоставляет 3 уровня доступа к данным:\n",
        "\n",
        "\n",
        "* публичный (public, нет особого синтаксиса, publicBanana);\n",
        "* защищенный (protected, одно нижнее подчеркивание в начале названия, _protectedBanana);\n",
        "* приватный (private, два нижних подчеркивания в начала названия, __privateBanana)."
      ],
      "metadata": {
        "id": "j4Q5iUz9nzY9"
      }
    },
    {
      "cell_type": "markdown",
      "source": [
        "Если поле или метод имеют два знака подчеркивания впереди имени, то этот атрибут предусмотрен исключительно для внутреннего пользования."
      ],
      "metadata": {
        "id": "OmJEhJ6lp3ZN"
      }
    },
    {
      "cell_type": "code",
      "source": [
        "class A:\n",
        "    def _private(self):\n",
        "        print(\"Это приватный метод!\")\n",
        "a = A()\n",
        "a._private()"
      ],
      "metadata": {
        "id": "AXnW3BNYnhRa",
        "colab": {
          "base_uri": "https://localhost:8080/"
        },
        "outputId": "729b65a3-f03b-4d23-f1e0-a24202047c09"
      },
      "execution_count": null,
      "outputs": [
        {
          "output_type": "stream",
          "name": "stdout",
          "text": [
            "Это приватный метод!\n"
          ]
        }
      ]
    },
    {
      "cell_type": "markdown",
      "source": [
        "Двойное подчеркивание в начале имени атрибута даёт большую защиту: атрибут становится недоступным по этому имени."
      ],
      "metadata": {
        "id": "H0brPFGboC43"
      }
    },
    {
      "cell_type": "code",
      "source": [
        "class B:\n",
        "  def _private(self):\n",
        "    print(\"Это приватный метод!\")\n",
        "\n",
        "  def foo(self):\n",
        "    self.__private()\n",
        "\n",
        "b = B()\n",
        "b._private()\n"
      ],
      "metadata": {
        "colab": {
          "base_uri": "https://localhost:8080/"
        },
        "id": "piiIHgcGoHQu",
        "outputId": "250fb45a-9d0c-48f5-e734-0e65f1cdcc0b"
      },
      "execution_count": null,
      "outputs": [
        {
          "output_type": "stream",
          "name": "stdout",
          "text": [
            "Это приватный метод!\n"
          ]
        }
      ]
    },
    {
      "cell_type": "markdown",
      "source": [
        "То есть атрибут __private за пределами класса становится невидимым, хотя внутри класса он вполне себе видимый. Понятно, если мы не можем даже получить значение поля за пределами класса, то присвоить ему значение – тем более."
      ],
      "metadata": {
        "id": "F6WqpyNmqBda"
      }
    },
    {
      "cell_type": "code",
      "source": [
        "b._B__private()"
      ],
      "metadata": {
        "colab": {
          "base_uri": "https://localhost:8080/"
        },
        "id": "VJ7c_iy8oLSo",
        "outputId": "2f6c2a5f-7f6b-478d-96d7-d34fc54124ad"
      },
      "execution_count": null,
      "outputs": [
        {
          "output_type": "stream",
          "name": "stdout",
          "text": [
            "Это приватный метод!\n"
          ]
        }
      ]
    },
    {
      "cell_type": "code",
      "source": [
        "class Phone:\n",
        "    username = \"Kate\"                # public variable\n",
        "    _count_beep=0                     # protected variable\n",
        "    __how_many_times_turned_on = 0   # private variable\n",
        "\n",
        "    def call(self):                  # public method\n",
        "        print( \"Ring-ring!\" )\n",
        "\n",
        "    def _beep(self):                  # protected method\n",
        "        self._count_beep += 1\n",
        "        print( \"Beeps: \", self._count_beep)\n",
        "\n",
        "    def __turn_on(self):             # private method\n",
        "        self.__how_many_times_turned_on += 1\n",
        "        print( \"Times was turned on: \", self.__how_many_times_turned_on )\n",
        "\n",
        "my_phone = Phone()\n",
        "\n",
        "my_phone.call()\n",
        "print( \"The username is \", my_phone.username )\n",
        "#нарушение инкапсуляции\n",
        "my_phone._beep()\n",
        "my_phone._Phone__turn_on()\n",
        "\n",
        "my_phone._beep()\n",
        "my_phone._Phone__turn_on()"
      ],
      "metadata": {
        "colab": {
          "base_uri": "https://localhost:8080/"
        },
        "id": "g3QUAlIVoUYl",
        "outputId": "bf2743f8-2e88-4029-f19a-425613c1b569"
      },
      "execution_count": null,
      "outputs": [
        {
          "output_type": "stream",
          "name": "stdout",
          "text": [
            "Ring-ring!\n",
            "The username is  Kate\n",
            "Beeps:  1\n",
            "Times was turned on:  1\n",
            "Beeps:  2\n",
            "Times was turned on:  2\n"
          ]
        }
      ]
    },
    {
      "cell_type": "code",
      "source": [
        "class Full:\n",
        "    def __init__(self, field):\n",
        "        self.__field = field\n",
        "\n",
        "    def setField(self, field):\n",
        "        self.__field = field\n",
        "\n",
        "    def getField(self):\n",
        "        return self.__field\n",
        "\n",
        "obj = Full(8)\n",
        "obj.setField(3)\n",
        "print(obj.getField())"
      ],
      "metadata": {
        "colab": {
          "base_uri": "https://localhost:8080/"
        },
        "id": "2sLb0Q5AqiwS",
        "outputId": "4d1be9e7-b0fd-4a70-e6de-104acce164a3"
      },
      "execution_count": null,
      "outputs": [
        {
          "output_type": "stream",
          "name": "stdout",
          "text": [
            "3\n"
          ]
        }
      ]
    },
    {
      "cell_type": "code",
      "source": [
        "print(obj.__field)"
      ],
      "metadata": {
        "colab": {
          "base_uri": "https://localhost:8080/",
          "height": 141
        },
        "id": "bPbYKcEAqn3x",
        "outputId": "fbd2d386-e0b8-4be6-945c-2ab945d52a56"
      },
      "execution_count": null,
      "outputs": [
        {
          "output_type": "error",
          "ename": "AttributeError",
          "evalue": "'Full' object has no attribute '__field'",
          "traceback": [
            "\u001b[0;31m---------------------------------------------------------------------------\u001b[0m",
            "\u001b[0;31mAttributeError\u001b[0m                            Traceback (most recent call last)",
            "\u001b[0;32m<ipython-input-60-d8be9d3d061d>\u001b[0m in \u001b[0;36m<cell line: 1>\u001b[0;34m()\u001b[0m\n\u001b[0;32m----> 1\u001b[0;31m \u001b[0mprint\u001b[0m\u001b[0;34m(\u001b[0m\u001b[0mobj\u001b[0m\u001b[0;34m.\u001b[0m\u001b[0m__field\u001b[0m\u001b[0;34m)\u001b[0m\u001b[0;34m\u001b[0m\u001b[0;34m\u001b[0m\u001b[0m\n\u001b[0m",
            "\u001b[0;31mAttributeError\u001b[0m: 'Full' object has no attribute '__field'"
          ]
        }
      ]
    },
    {
      "cell_type": "code",
      "source": [
        "obj.__field = 5\n",
        "print(obj.__field)"
      ],
      "metadata": {
        "colab": {
          "base_uri": "https://localhost:8080/"
        },
        "id": "cwGS0H0IqowS",
        "outputId": "e52dddd0-f767-4654-c5c5-1514e5a43150"
      },
      "execution_count": null,
      "outputs": [
        {
          "output_type": "stream",
          "name": "stdout",
          "text": [
            "5\n"
          ]
        }
      ]
    },
    {
      "cell_type": "code",
      "source": [
        "obj._Full__field"
      ],
      "metadata": {
        "colab": {
          "base_uri": "https://localhost:8080/"
        },
        "id": "Fi8ggrwiZPIV",
        "outputId": "781e5a78-fa82-44fc-a12d-5988cdfb8f0a"
      },
      "execution_count": null,
      "outputs": [
        {
          "output_type": "execute_result",
          "data": {
            "text/plain": [
              "3"
            ]
          },
          "metadata": {},
          "execution_count": 63
        }
      ]
    },
    {
      "cell_type": "markdown",
      "source": [
        "**Методы классов** обычно вызываются через класс, реже через его экземпляры и имеют доступ только к атрибутам самого класса, в котором объявлены. Наконец, **статические методы** – это совершенно изолированные функции, которые работают только с параметрами, прописанными в ней самой и не имеют доступа к атрибутам класса или его экземпляров.\n",
        "\n",
        "Поэтому, если вам нужен метод, который работает с атрибутами объектов класса, то это **обычное определение функций внутри класса** с первым параметром self. Если метод работает только с атрибутами класса, то возможно, имеет смысл его определить как метод класса и тогда можно будет вызывать без ссылки на объект этого класса. Третий тип, статические методы часто определяют как вспомогательные, сервисные, связанные с логикой работы самого класса."
      ],
      "metadata": {
        "id": "sYhDJhltTrSP"
      }
    },
    {
      "cell_type": "markdown",
      "source": [
        "## Декораторы (Дополнительная тема)"
      ],
      "metadata": {
        "id": "TglQ1FY5aOKo"
      }
    },
    {
      "cell_type": "markdown",
      "source": [
        "Декоратор - это функция, которая добавляет новую функциональность к другой функции без изменения её кода. Он как бы оборачивает, декорирует функцию, тем самым расширяя её возможности."
      ],
      "metadata": {
        "id": "09U3uEQuaR9x"
      }
    },
    {
      "cell_type": "markdown",
      "source": [
        "Функция say_hi, которую мы «обернём» в декоратор, возвращает строку «всем привет». Обратите внимание: не печатает, а возвращает."
      ],
      "metadata": {
        "id": "m1vrd-HFafgw"
      }
    },
    {
      "cell_type": "code",
      "source": [
        "def say_hi():\n",
        "    return 'всем привет'"
      ],
      "metadata": {
        "id": "_Jml6lyYah7e"
      },
      "execution_count": null,
      "outputs": []
    },
    {
      "cell_type": "markdown",
      "source": [
        "А наш декоратор превратит символы этой строки из строчных в прописные. Этой возможности у функции say_hi раньше не было, а теперь будет.\n",
        "\n",
        "Пишем декоратор:"
      ],
      "metadata": {
        "id": "lTRo-Y8OajCx"
      }
    },
    {
      "cell_type": "code",
      "source": [
        "def uppercase_decorator(function):\n",
        "    def wrapper():\n",
        "        func = function()\n",
        "        make_uppercase = func.upper()\n",
        "        return make_uppercase\n",
        "\n",
        "    return wrapper"
      ],
      "metadata": {
        "id": "Swy519DTakN-"
      },
      "execution_count": null,
      "outputs": []
    },
    {
      "cell_type": "code",
      "source": [
        "def bar():\n",
        "    pass\n",
        "\n",
        "modified_bar = uppercase_decorator(bar)\n",
        "\n",
        "modified_bar()"
      ],
      "metadata": {
        "id": "dOUz_SntJfI0"
      },
      "execution_count": null,
      "outputs": []
    },
    {
      "cell_type": "markdown",
      "source": [
        "Что здесь происходит — разбираем код построчно:\n",
        "\n",
        "* В первой строке мы указываем имя декоратора и то, что он принимает function в качестве своей переменной.\n",
        "* Вторая строка — это объявление функции-обёртки wrapper (). Тело обёртки в блоке состоит из трёх строк ниже. Оно как раз и описывает, что именно мы будем делать с функцией, ранее принятой декоратором.\n",
        "* Третья строка: записываем входящую переменную function () в локальную переменную func. Здесь «локальная» означает, что она действует только в рамках функции wrapper ().\n",
        "* Четвёртая строка: мы применяем к func строковый метод upper и записываем результат в другую локальную переменную make_uppercase.\n",
        "* Пятая строка: функция wrapper () возвращает переменную make_uppercase, то есть строку от function (), но уже прописными буквами.\n",
        "* Последняя строка: декоратор возвращает нам уже саму функцию wrapper.\n"
      ],
      "metadata": {
        "id": "hF0Tv_8VanTu"
      }
    },
    {
      "cell_type": "markdown",
      "source": [
        "Как это запустить? Пишем символ @, за ним название декоратора, а объявление функции say_hi переносим на строку под ней:"
      ],
      "metadata": {
        "id": "74DUfz_5azLn"
      }
    },
    {
      "cell_type": "code",
      "source": [
        "@uppercase_decorator\n",
        "def say_hi():\n",
        "    return 'всем привет'"
      ],
      "metadata": {
        "id": "GyYgd8TJa0NH"
      },
      "execution_count": null,
      "outputs": []
    },
    {
      "cell_type": "code",
      "source": [
        "print(say_hi())"
      ],
      "metadata": {
        "colab": {
          "base_uri": "https://localhost:8080/"
        },
        "id": "TPlf3x1wa1TA",
        "outputId": "2c09fa39-a0cc-47fe-f0b8-16aea6e4a2f3"
      },
      "execution_count": null,
      "outputs": [
        {
          "output_type": "stream",
          "name": "stdout",
          "text": [
            "ВСЕМ ПРИВЕТ\n"
          ]
        }
      ]
    },
    {
      "cell_type": "markdown",
      "source": [
        "### * Еще Немного про декораторы"
      ],
      "metadata": {
        "id": "73qhJO5Ue610"
      }
    },
    {
      "cell_type": "markdown",
      "source": [
        "Декоратор — это паттерн проектирования (design pattern) в Python, а также функция второго уровня, то есть принимающая другие функции в качестве переменных и возвращающая их."
      ],
      "metadata": {
        "id": "-b0MlCP5bVEi"
      }
    },
    {
      "cell_type": "markdown",
      "source": [
        "@classmethod — это метод, который получает класс в качестве неявного первого аргумента, точно так же, как обычный метод экземпляра получает экземпляр. Это означает, что вы можете использовать класс и его свойства внутри этого метода, а не конкретного экземпляра.\n",
        "\n",
        "@classmethod используется, когда вам нужно получить методы, не относящиеся к какому-либо конкретному экземпляру, но тем не менее, каким-то образом привязанные к классу. Самое интересное в них то, что их можно переопределить дочерними классами."
      ],
      "metadata": {
        "id": "hzwMx66Sc6Uk"
      }
    },
    {
      "cell_type": "code",
      "source": [
        "class MyClass():\n",
        "\n",
        "    TOTAL_OBJECTS=0\n",
        "\n",
        "    def __init__(self):\n",
        "        MyClass.TOTAL_OBJECTS = MyClass.TOTAL_OBJECTS+1\n",
        "\n",
        "    @classmethod\n",
        "    def total_objects(cls):\n",
        "        print(\"Total objects: \",cls.TOTAL_OBJECTS)\n",
        "# Создаем объекты\n",
        "my_obj1 = MyClass()\n",
        "my_obj2 = MyClass()\n",
        "my_obj3 = MyClass()\n",
        "# Вызываем classmethod\n",
        "MyClass.total_objects()"
      ],
      "metadata": {
        "id": "-hgUL_dedREK",
        "colab": {
          "base_uri": "https://localhost:8080/"
        },
        "outputId": "d7aeae14-0483-48a6-8213-679a13eb66d7"
      },
      "execution_count": null,
      "outputs": [
        {
          "output_type": "stream",
          "name": "stdout",
          "text": [
            "Total objects:  3\n"
          ]
        }
      ]
    },
    {
      "cell_type": "code",
      "source": [
        "class Date(object):\n",
        "    def __init__(self, day=0, month=0, year=0):\n",
        "        self.day = day\n",
        "        self.month = month\n",
        "        self.year = year\n",
        "\n",
        "    @classmethod\n",
        "    def from_string(cls, date_as_string):\n",
        "        day, month, year = map(int, date_as_string.split('.'))\n",
        "        date1 = cls(day, month, year)\n",
        "        return date1\n",
        "\n",
        "    def string_to_db(self):\n",
        "        return f'{self.year}-{self.month}-{self.day}'\n",
        "\n",
        "\n",
        "# создадим экземпляр класса из строки с датой\n",
        "# за это отвечает метод класса `from_string()`\n",
        "date = Date.from_string('30.12.2020')\n",
        "date.string_to_db()\n",
        "# '2020-12-30'"
      ],
      "metadata": {
        "id": "h0eKQMjAfDES",
        "colab": {
          "base_uri": "https://localhost:8080/",
          "height": 35
        },
        "outputId": "3f7801a4-c877-4e75-dfc4-757b0b5f76c0"
      },
      "execution_count": null,
      "outputs": [
        {
          "output_type": "execute_result",
          "data": {
            "text/plain": [
              "'2020-12-30'"
            ],
            "application/vnd.google.colaboratory.intrinsic+json": {
              "type": "string"
            }
          },
          "metadata": {},
          "execution_count": 56
        }
      ]
    },
    {
      "cell_type": "markdown",
      "source": [
        "Начиная с 3-й версии в языке программирования Python все классы неявно имеют один общий суперкласс - object и все классы по умолчанию наследуют его методы."
      ],
      "metadata": {
        "id": "3sCRaFsM6BCH"
      }
    },
    {
      "cell_type": "markdown",
      "source": [
        "Итак, есть строка даты, которую необходимо каким-то образом проверять и эта задача логически связана с классом Date. Вот где статический метод может быть полезен."
      ],
      "metadata": {
        "id": "N3wnY3nzfP59"
      }
    },
    {
      "cell_type": "markdown",
      "source": [
        "@staticmethod — это вроде обычной функции, определенной внутри класса, которая не имеет доступа к экземпляру, поэтому ее можно вызывать без создания экземпляра класса.\n",
        "\n",
        "декоратор @staticmethod превращает метод, определенный внутри класса, в обычную функцию, которая не имеет доступа к экземпляру класса self, поэтому ее можно вызывать без создания экземпляра класса.\n",
        "\n",
        "\n"
      ],
      "metadata": {
        "id": "TGrMokC4cfOC"
      }
    },
    {
      "cell_type": "markdown",
      "source": [
        "Добавим статический метод проверки валидности строки с датой в класс Date:"
      ],
      "metadata": {
        "id": "FBC1leSffRdg"
      }
    },
    {
      "cell_type": "code",
      "source": [
        "!pip install heartpy"
      ],
      "metadata": {
        "colab": {
          "base_uri": "https://localhost:8080/"
        },
        "id": "KULQwRMKNcfI",
        "outputId": "a4651a5a-89c0-4498-b311-6f93f02638f9"
      },
      "execution_count": null,
      "outputs": [
        {
          "output_type": "stream",
          "name": "stdout",
          "text": [
            "Collecting heartpy\n",
            "  Downloading heartpy-1.2.7-py3-none-any.whl.metadata (9.5 kB)\n",
            "Requirement already satisfied: numpy>=1.17 in /usr/local/lib/python3.10/dist-packages (from heartpy) (1.26.4)\n",
            "Requirement already satisfied: scipy in /usr/local/lib/python3.10/dist-packages (from heartpy) (1.13.1)\n",
            "Requirement already satisfied: matplotlib in /usr/local/lib/python3.10/dist-packages (from heartpy) (3.7.1)\n",
            "Requirement already satisfied: contourpy>=1.0.1 in /usr/local/lib/python3.10/dist-packages (from matplotlib->heartpy) (1.3.0)\n",
            "Requirement already satisfied: cycler>=0.10 in /usr/local/lib/python3.10/dist-packages (from matplotlib->heartpy) (0.12.1)\n",
            "Requirement already satisfied: fonttools>=4.22.0 in /usr/local/lib/python3.10/dist-packages (from matplotlib->heartpy) (4.54.1)\n",
            "Requirement already satisfied: kiwisolver>=1.0.1 in /usr/local/lib/python3.10/dist-packages (from matplotlib->heartpy) (1.4.7)\n",
            "Requirement already satisfied: packaging>=20.0 in /usr/local/lib/python3.10/dist-packages (from matplotlib->heartpy) (24.1)\n",
            "Requirement already satisfied: pillow>=6.2.0 in /usr/local/lib/python3.10/dist-packages (from matplotlib->heartpy) (10.4.0)\n",
            "Requirement already satisfied: pyparsing>=2.3.1 in /usr/local/lib/python3.10/dist-packages (from matplotlib->heartpy) (3.1.4)\n",
            "Requirement already satisfied: python-dateutil>=2.7 in /usr/local/lib/python3.10/dist-packages (from matplotlib->heartpy) (2.8.2)\n",
            "Requirement already satisfied: six>=1.5 in /usr/local/lib/python3.10/dist-packages (from python-dateutil>=2.7->matplotlib->heartpy) (1.16.0)\n",
            "Downloading heartpy-1.2.7-py3-none-any.whl (1.0 MB)\n",
            "\u001b[2K   \u001b[90m━━━━━━━━━━━━━━━━━━━━━━━━━━━━━━━━━━━━━━━━\u001b[0m \u001b[32m1.0/1.0 MB\u001b[0m \u001b[31m10.5 MB/s\u001b[0m eta \u001b[36m0:00:00\u001b[0m\n",
            "\u001b[?25hInstalling collected packages: heartpy\n",
            "Successfully installed heartpy-1.2.7\n"
          ]
        }
      ]
    },
    {
      "cell_type": "code",
      "source": [
        "import heartpy"
      ],
      "metadata": {
        "id": "iwgOXqzJNhk4"
      },
      "execution_count": null,
      "outputs": []
    },
    {
      "cell_type": "code",
      "source": [
        "import numpy\n",
        "\n",
        "class Date(object):\n",
        "    def __init__(self, day=0, month=0, year=0):\n",
        "\n",
        "        self.day = day\n",
        "        self.month = month\n",
        "        self.year = year\n",
        "\n",
        "    @classmethod\n",
        "    def from_string(cls, date_as_string):\n",
        "        day, month, year = map(int, date_as_string.split('.'))\n",
        "        date1 = cls(day, month, year)\n",
        "        return date1\n",
        "\n",
        "    @staticmethod\n",
        "    def is_date_valid(date_as_string):\n",
        "        # не полный пример проверки валидности\n",
        "        # и приведен чисто в учебных целях\n",
        "        if date_as_string.count('.') == 2:\n",
        "            day, month, year = map(int, date_as_string.split('.'))\n",
        "            return day <= 31 and month <= 12 and year <= 3999\n",
        "\n",
        "    def string_to_db(self):\n",
        "        return f'{self.year}-{self.month}-{self.day}'"
      ],
      "metadata": {
        "id": "izW8eA_ufVP3"
      },
      "execution_count": null,
      "outputs": []
    },
    {
      "cell_type": "markdown",
      "source": [
        "Как видно из кода статического метода is_date_valid(), у него нет никакого доступа к тому, что такое класс - это в основном просто функция, синтаксически называемая как метод, но без доступа к объекту и его внутренним элементам (атрибутам и другим методам).\n",
        "\n",
        "Использование класса Date(), в частности, его статического метода:"
      ],
      "metadata": {
        "id": "NFpVhx7xfXwX"
      }
    },
    {
      "cell_type": "code",
      "source": [
        "# список строк с датами\n",
        "dates = [\n",
        "    '30.12.2020',\n",
        "    '30-12-2020',\n",
        "    '01.01.2021',\n",
        "    '12.31.2020'\n",
        "    ]\n",
        "\n",
        "for string_date in dates:\n",
        "    # проверяем валидность строки с датой\n",
        "    if Date.is_date_valid(string_date):\n",
        "        # если все нормально, то создаем\n",
        "        #экземпляр из этой строки\n",
        "        date = Date.from_string(string_date)\n",
        "        # далее делаем, что-то с экземпляром\n",
        "        string_to_db = date.string_to_db()\n",
        "        print(string_to_db)\n",
        "    else:\n",
        "        print(f'Неправильная дата или формат строки с датой')"
      ],
      "metadata": {
        "colab": {
          "base_uri": "https://localhost:8080/"
        },
        "id": "XR1OTW19fhPy",
        "outputId": "beef1b24-725b-4a44-9bdc-a5ee5ae1987c"
      },
      "execution_count": null,
      "outputs": [
        {
          "output_type": "stream",
          "name": "stdout",
          "text": [
            "2020-12-30\n",
            "Неправильная дата или формат строки с датой\n",
            "2021-1-1\n",
            "Неправильная дата или формат строки с датой\n"
          ]
        }
      ]
    },
    {
      "cell_type": "markdown",
      "source": [
        "https://github.com/pythonkvs/seminars/blob/main/%D0%9A%D0%BB%D0%B0%D1%81%D1%81%D1%8B_23_09.ipynb"
      ],
      "metadata": {
        "id": "wiJ8GWKfYbyV"
      }
    },
    {
      "cell_type": "markdown",
      "source": [
        "https://github.com/pythonkvs/seminars/blob/main/%D0%94%D0%B5%D0%BA%D0%BE%D1%80%D0%B0%D1%82%D0%BE%D1%80%D1%8B_16_09.ipynb"
      ],
      "metadata": {
        "id": "wdOufEHpYgSm"
      }
    }
  ]
}