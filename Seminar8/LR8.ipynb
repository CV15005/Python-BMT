{
  "cells": [
    {
      "cell_type": "markdown",
      "metadata": {
        "id": "lhLob9zN-iVt"
      },
      "source": [
        "# ЛР №8\n",
        "\n",
        "Pandas. Numpy. Визуализации."
      ]
    },
    {
      "cell_type": "markdown",
      "metadata": {
        "id": "fHDC7lLGgilL",
        "jp-MarkdownHeadingCollapsed": true
      },
      "source": [
        "# Основное задание (pandas)\n",
        "\n"
      ]
    },
    {
      "cell_type": "markdown",
      "metadata": {
        "id": "VEwCG1AKgraV"
      },
      "source": [
        "Вы проводите эксперимент по распознаванию сердечно-сосудистых заболеваний. У вас есть размеченная выборка экг-сигналов больных и здоровых людей, т.е. известен таргет `target` - к какому классу относится сигнал - 1 или 0. Ваша модель получает на вход сигнал и выдает класс 0 или 1, т.е. 1 обозначает, что алгоритм определил наличие заболевания, 0, что человек здоров - данные значения записываются в `predict`.\n",
        "Вектор признаков для каждого сигнала составлялся различными способами: с использованием статистических характеристик (STAT),  коэффициенты рассеяния на основе дискретного вейвлет-разложения (WAWELET), с использованием энкодера (ENCODER).\n",
        "Перед применением различных методов извлечения признаков сигнал сглаживался с использованием фильтра Савицкого-Голея с различными параметрами сглаживания window_length 5, 10, 50, 100.\n",
        "\n",
        "Классификация осуществлялась 2 классификаторами, результаты предсказаний которых записаны в 2 `.csv` файла.\n",
        "classifer_ecg1.csv и classifer_ecg2.csv\n",
        "\n",
        "\n",
        "**В таблицах имеются следующие сolumns**\n",
        "\n",
        "* `signal_id` — id сигнала.\n",
        "* `SG_filter` — параметр фильтра.\n",
        "* `feature_extraction` — метод извлечения признаков.\n",
        "* `predict` — результат предсказания модели.\n",
        "* `target` — разметка (правильный ответ, есть заболевание или нет - 1 или 0).\n",
        "\n",
        "\n",
        "Ваша задача:\n",
        "1. Вывести:\n",
        "\n",
        "a) количество сигналов в датасете;\n",
        "\n",
        "b) какое количество сигналов относится к классу 0 и 1;\n",
        "\n",
        "\n",
        "2. Подсчитать точность классификации (доля правильных предсказаний классов) при использовании различных параметров фильтра и методов формирования признаков (STAT, WAWELET, ENCODER). Определить при каких параметрах фильтра и при каком методе формирования признаков достигается наилучшая точность классификации 1 и 2 модели, выбрать наилучшую модель.\n",
        "\n",
        "3. Написать функцию, которая на вход принимает пути к файлам и название метода формирования признаков, а возвращает таблицу для каждого метода формирования признаков, где каждая строка - это параметры фильтра Савицкого-Голея, столбцы  - accuracy 1-ой и 2-ой модели.\n",
        "4. Вывести 3 pd.DataFrame таблицы для STAT, WAWELET, ENCODE соответственно.\n",
        "\n",
        "\n",
        "Предварительно выполните следующие действия:"
      ]
    },
    {
      "cell_type": "code",
      "execution_count": null,
      "metadata": {
        "id": "P7HEVF-tmiO1"
      },
      "outputs": [],
      "source": [
        "# Загрузите файлы с таблицами"
      ]
    },
    {
      "cell_type": "code",
      "execution_count": null,
      "metadata": {
        "id": "llVF1GYrmrym"
      },
      "outputs": [],
      "source": [
        "# Объедините таблицы используя pd.merge     # df_all = df1.merge(df2, on=['signal_id', 'SG_filter', 'feature_extraction', 'target'])"
      ]
    },
    {
      "cell_type": "code",
      "execution_count": null,
      "metadata": {
        "id": "SWSQELMGnohZ"
      },
      "outputs": [],
      "source": [
        "# Переименуйте колонки predict в pred_model1 и pred_model2"
      ]
    },
    {
      "cell_type": "markdown",
      "metadata": {
        "id": "tFZxP8Xu4YPs"
      },
      "source": [
        "# Дополнительные задачи"
      ]
    },
    {
      "cell_type": "markdown",
      "metadata": {
        "id": "u3-rBueq4cTo",
        "jp-MarkdownHeadingCollapsed": true
      },
      "source": [
        "## Перевернуть число\n"
      ]
    },
    {
      "cell_type": "markdown",
      "metadata": {
        "id": "OGfoOd2U4nJs"
      },
      "source": [
        "Example 1:\n",
        "\n",
        "Input: x = 123\n",
        "Output: 321\n",
        "\n",
        "Example 2:\n",
        "\n",
        "Input: x = -123\n",
        "Output: -321\n",
        "\n",
        "Example 3:\n",
        "\n",
        "Input: x = 120\n",
        "Output: 21\n"
      ]
    },
    {
      "cell_type": "markdown",
      "metadata": {
        "id": "8brXmpyV4sFg"
      },
      "source": [
        "## 3Sum"
      ]
    },
    {
      "cell_type": "markdown",
      "metadata": {
        "id": "9F5LIxB74kDj"
      },
      "source": [
        "Given an integer array nums, return all the triplets [nums[i], nums[j], nums[k]] such that i != j, i != k, and j != k, and nums[i] + nums[j] + nums[k] == 0.\n",
        "\n",
        "Notice that the solution set must not contain duplicate triplets.\n",
        "\n",
        "\n",
        "\n",
        "Example 1:\n",
        "\n",
        "Input: nums = [-1,0,1,2,-1,-4]\n",
        "Output: [[-1,-1,2],[-1,0,1]]\n",
        "Explanation:\n",
        "nums[0] + nums[1] + nums[2] = (-1) + 0 + 1 = 0.\n",
        "nums[1] + nums[2] + nums[4] = 0 + 1 + (-1) = 0.\n",
        "nums[0] + nums[3] + nums[4] = (-1) + 2 + (-1) = 0.\n",
        "The distinct triplets are [-1,0,1] and [-1,-1,2].\n",
        "Notice that the order of the output and the order of the triplets does not matter.\n",
        "\n",
        "Example 2:\n",
        "\n",
        "Input: nums = [0,1,1]\n",
        "Output: []\n",
        "Explanation: The only possible triplet does not sum up to 0.\n",
        "Example 3:\n",
        "\n",
        "Input: nums = [0,0,0]\n",
        "Output: [[0,0,0]]\n",
        "Explanation: The only possible triplet sums up to 0."
      ]
    }
  ],
  "metadata": {
    "colab": {
      "provenance": []
    },
    "kernelspec": {
      "display_name": "Python 3 (ipykernel)",
      "language": "python",
      "name": "python3"
    },
    "language_info": {
      "codemirror_mode": {
        "name": "ipython",
        "version": 3
      },
      "file_extension": ".py",
      "mimetype": "text/x-python",
      "name": "python",
      "nbconvert_exporter": "python",
      "pygments_lexer": "ipython3",
      "version": "3.10.11"
    }
  },
  "nbformat": 4,
  "nbformat_minor": 0
}